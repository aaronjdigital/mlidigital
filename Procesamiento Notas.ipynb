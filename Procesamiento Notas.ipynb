{
 "cells": [
  {
   "cell_type": "code",
   "execution_count": 2,
   "id": "de9999c8-2247-4f0b-b28d-0ed0c6ad82d2",
   "metadata": {},
   "outputs": [],
   "source": [
    "# To support both python 2 and python 3\n",
    "from __future__ import division, print_function, unicode_literals\n",
    "\n",
    "# Common imports\n",
    "import numpy as np\n",
    "import os\n",
    "\n",
    "\n",
    "# to make this notebook's output stable across runs\n",
    "np.random.seed(42)\n",
    "\n",
    "# To plot pretty figures\n",
    "%matplotlib inline\n",
    "import matplotlib as mpl\n",
    "import matplotlib.pyplot as plt\n",
    "mpl.rc('axes', labelsize=14)\n",
    "mpl.rc('xtick', labelsize=12)\n",
    "mpl.rc('ytick', labelsize=12)\n",
    "\n",
    "# Where to save the figures\n",
    "PROJECT_ROOT_DIR = \".\"\n",
    "CHAPTER_ID = \"end_to_end_project\"\n",
    "IMAGES_PATH = os.path.join(PROJECT_ROOT_DIR, \"images\", CHAPTER_ID)\n",
    "os.makedirs(IMAGES_PATH, exist_ok=True)\n",
    "\n",
    "def save_fig(fig_id, tight_layout=True, fig_extension=\"png\", resolution=300):\n",
    "    path = os.path.join(IMAGES_PATH, fig_id + \".\" + fig_extension)\n",
    "    print(\"Saving figure\", fig_id)\n",
    "    if tight_layout:\n",
    "        plt.tight_layout()\n",
    "    plt.savefig(path, format=fig_extension, dpi=resolution)"
   ]
  },
  {
   "cell_type": "code",
   "execution_count": 169,
   "id": "c2fdfba0-a08c-444d-b5ad-d0800133cd02",
   "metadata": {},
   "outputs": [
    {
     "name": "stderr",
     "output_type": "stream",
     "text": [
      "[nltk_data] Downloading package stopwords to C:\\Users\\Diego\n",
      "[nltk_data]     Esteva\\AppData\\Roaming\\nltk_data...\n",
      "[nltk_data]   Package stopwords is already up-to-date!\n"
     ]
    }
   ],
   "source": [
    "import requests\n",
    "import json\n",
    "from datetime import date, timedelta\n",
    "from numpy import array\n",
    "import pandas as pd\n",
    "import nltk\n",
    "from nltk.probability import FreqDist\n",
    "from datetime import date, timedelta, datetime\n",
    "\n",
    "import re, string\n",
    "from nltk.corpus import stopwords\n",
    "\n",
    "nltk.download('stopwords')\n",
    "stop_words = set(stopwords.words('spanish')) \n",
    "\n",
    "stop_add=['con','com','media','excelsior','amp','ref','mx','5etfw','data','img']\n",
    "\n",
    "for i in range(0,len(stop_add)):\n",
    "    stop_words.add(stop_add[i])\n",
    "\n",
    "\n",
    "#dfnotas = pd.read_csv('EXCELSIOR_ENERO_SEPTIEMBRE.csv')\n",
    "#dfnotas = pd.read_csv('Salud180.csv')\n",
    "dfnotas = pd.read_csv('SALUD2020.csv')\n",
    "#dfnotas = pd.read_csv('NOTAS_EXCELSIOR_ENERO.csv')\n",
    "\n",
    "#dfnotas = dfnotas.fillna(0)"
   ]
  },
  {
   "cell_type": "code",
   "execution_count": 170,
   "id": "67ddabf0-fe10-4dfd-a570-da04a6282436",
   "metadata": {},
   "outputs": [
    {
     "data": {
      "text/html": [
       "<div>\n",
       "<style scoped>\n",
       "    .dataframe tbody tr th:only-of-type {\n",
       "        vertical-align: middle;\n",
       "    }\n",
       "\n",
       "    .dataframe tbody tr th {\n",
       "        vertical-align: top;\n",
       "    }\n",
       "\n",
       "    .dataframe thead th {\n",
       "        text-align: right;\n",
       "    }\n",
       "</style>\n",
       "<table border=\"1\" class=\"dataframe\">\n",
       "  <thead>\n",
       "    <tr style=\"text-align: right;\">\n",
       "      <th></th>\n",
       "      <th>sitio</th>\n",
       "      <th>created</th>\n",
       "      <th>title</th>\n",
       "      <th>Fecha</th>\n",
       "      <th>Hora</th>\n",
       "      <th>url</th>\n",
       "      <th>editor</th>\n",
       "      <th>tags</th>\n",
       "      <th>cuerpo</th>\n",
       "      <th>Número de vistas de página</th>\n",
       "    </tr>\n",
       "  </thead>\n",
       "  <tbody>\n",
       "    <tr>\n",
       "      <th>0</th>\n",
       "      <td>salud180</td>\n",
       "      <td>28 ene 2021, 19:58:35</td>\n",
       "      <td>Descubre qué tipo de glúteos tienes y qué ejer...</td>\n",
       "      <td>2021-01-28</td>\n",
       "      <td>14:58:35</td>\n",
       "      <td>https://www.salud180.com/nutricion-y-ejercicio...</td>\n",
       "      <td>0.0</td>\n",
       "      <td>_ejercicio_ejercicios glúteos_tipos de glúteos...</td>\n",
       "      <td>&lt;p&gt;Una vez escuche: “los hombres creen que una...</td>\n",
       "      <td>1802730.0</td>\n",
       "    </tr>\n",
       "    <tr>\n",
       "      <th>1</th>\n",
       "      <td>salud180</td>\n",
       "      <td>5 ago 2020, 17:19:40</td>\n",
       "      <td>Trucos para limpiar el baño rápido y dejarlo “...</td>\n",
       "      <td>2020-08-05</td>\n",
       "      <td>12:19:40</td>\n",
       "      <td>https://www.salud180.com/salud-dia-a-dia/galer...</td>\n",
       "      <td>0.0</td>\n",
       "      <td>_Cómo limpiar rápido el baño_Trucos para limpi...</td>\n",
       "      <td>&lt;p dir=\"ltr\"&gt;&lt;span id=\"docs-internal-guid-ad0d...</td>\n",
       "      <td>1607281.0</td>\n",
       "    </tr>\n",
       "    <tr>\n",
       "      <th>2</th>\n",
       "      <td>salud180</td>\n",
       "      <td>27 ene 2021, 15:06:08</td>\n",
       "      <td>7 abdominales de pie para aplanar el abdomen b...</td>\n",
       "      <td>2021-01-27</td>\n",
       "      <td>10:06:08</td>\n",
       "      <td>https://www.salud180.com/salud-dia-a-dia/galer...</td>\n",
       "      <td>0.0</td>\n",
       "      <td>_abdomen_ejercicios abdomen_abdominales pie_ab...</td>\n",
       "      <td>&lt;p&gt;&lt;strong&gt;¡Estoy harta de la “panza”! Llevo s...</td>\n",
       "      <td>1555385.0</td>\n",
       "    </tr>\n",
       "    <tr>\n",
       "      <th>3</th>\n",
       "      <td>salud180</td>\n",
       "      <td>11 may 2020, 18:17:27</td>\n",
       "      <td>Plantas que alejan a las arañas, hormigas, mos...</td>\n",
       "      <td>2020-05-11</td>\n",
       "      <td>13:17:27</td>\n",
       "      <td>https://www.salud180.com/salud-dia-a-dia/galer...</td>\n",
       "      <td>0.0</td>\n",
       "      <td>_plantas que alejan arañas_plantas que alejan ...</td>\n",
       "      <td>&lt;p&gt;No hay peor &lt;strong&gt;pesadilla que \"sudar la...</td>\n",
       "      <td>1448039.0</td>\n",
       "    </tr>\n",
       "    <tr>\n",
       "      <th>4</th>\n",
       "      <td>salud180</td>\n",
       "      <td>4 may 2020, 15:35:55</td>\n",
       "      <td>Plantas que alejan a las cucarachas y moscas d...</td>\n",
       "      <td>2020-05-04</td>\n",
       "      <td>10:35:55</td>\n",
       "      <td>https://www.salud180.com/salud-dia-a-dia/galer...</td>\n",
       "      <td>0.0</td>\n",
       "      <td>_plantas que alejan cucarachas_plantas que ale...</td>\n",
       "      <td>&lt;p&gt;No importa si tu&lt;strong&gt; casa está relucien...</td>\n",
       "      <td>1126486.0</td>\n",
       "    </tr>\n",
       "  </tbody>\n",
       "</table>\n",
       "</div>"
      ],
      "text/plain": [
       "      sitio                created  \\\n",
       "0  salud180  28 ene 2021, 19:58:35   \n",
       "1  salud180   5 ago 2020, 17:19:40   \n",
       "2  salud180  27 ene 2021, 15:06:08   \n",
       "3  salud180  11 may 2020, 18:17:27   \n",
       "4  salud180   4 may 2020, 15:35:55   \n",
       "\n",
       "                                               title       Fecha      Hora  \\\n",
       "0  Descubre qué tipo de glúteos tienes y qué ejer...  2021-01-28  14:58:35   \n",
       "1  Trucos para limpiar el baño rápido y dejarlo “...  2020-08-05  12:19:40   \n",
       "2  7 abdominales de pie para aplanar el abdomen b...  2021-01-27  10:06:08   \n",
       "3  Plantas que alejan a las arañas, hormigas, mos...  2020-05-11  13:17:27   \n",
       "4  Plantas que alejan a las cucarachas y moscas d...  2020-05-04  10:35:55   \n",
       "\n",
       "                                                 url  editor  \\\n",
       "0  https://www.salud180.com/nutricion-y-ejercicio...     0.0   \n",
       "1  https://www.salud180.com/salud-dia-a-dia/galer...     0.0   \n",
       "2  https://www.salud180.com/salud-dia-a-dia/galer...     0.0   \n",
       "3  https://www.salud180.com/salud-dia-a-dia/galer...     0.0   \n",
       "4  https://www.salud180.com/salud-dia-a-dia/galer...     0.0   \n",
       "\n",
       "                                                tags  \\\n",
       "0  _ejercicio_ejercicios glúteos_tipos de glúteos...   \n",
       "1  _Cómo limpiar rápido el baño_Trucos para limpi...   \n",
       "2  _abdomen_ejercicios abdomen_abdominales pie_ab...   \n",
       "3  _plantas que alejan arañas_plantas que alejan ...   \n",
       "4  _plantas que alejan cucarachas_plantas que ale...   \n",
       "\n",
       "                                              cuerpo  \\\n",
       "0  <p>Una vez escuche: “los hombres creen que una...   \n",
       "1  <p dir=\"ltr\"><span id=\"docs-internal-guid-ad0d...   \n",
       "2  <p><strong>¡Estoy harta de la “panza”! Llevo s...   \n",
       "3  <p>No hay peor <strong>pesadilla que \"sudar la...   \n",
       "4  <p>No importa si tu<strong> casa está relucien...   \n",
       "\n",
       "   Número de vistas de página  \n",
       "0                   1802730.0  \n",
       "1                   1607281.0  \n",
       "2                   1555385.0  \n",
       "3                   1448039.0  \n",
       "4                   1126486.0  "
      ]
     },
     "execution_count": 170,
     "metadata": {},
     "output_type": "execute_result"
    }
   ],
   "source": [
    "#ELIMINA NOTAS SIN PVS\n",
    "nulos=[]\n",
    "\n",
    "#dfnotas['Número de vistas de página']=dfnotas['Número de vistas de página'].astype(int)\n",
    "dfnotas = dfnotas.fillna(0)\n",
    "\n",
    "for i in range(0,len(dfnotas.index)):\n",
    "    if dfnotas.iloc[i]['Número de vistas de página'] == 0:\n",
    "        nulos.append(i)\n",
    "\n",
    "for i in range(0,len(nulos)):        \n",
    "    dfnotas=dfnotas.drop(nulos[i])\n",
    "\n",
    "dfnotas.head(5)"
   ]
  },
  {
   "cell_type": "code",
   "execution_count": 5,
   "id": "830b761b-59f4-4008-a35a-92d35bc65fa8",
   "metadata": {},
   "outputs": [],
   "source": [
    "def limpiar_texto(texto):\n",
    "\n",
    "    link_eliminar=[]\n",
    "    link_ubi=[]\n",
    "    acum=[]\n",
    "    \n",
    "    for i in range (0,len(texto)):  #Busca la posicion en el texto de los \"<\" y \">\" \n",
    "        if '<' == texto[i]:\n",
    "            link_ubi.append(i)\n",
    "            \n",
    "        elif  '>' == texto[i]:\n",
    "            link_ubi.append(i)\n",
    "            \n",
    "            link_eliminar.append(link_ubi)\n",
    "            link_ubi=[]\n",
    "              \n",
    "  #  print(link_eliminar)\n",
    "    for i in range (0,len(link_eliminar)):  #recuperar lo que esta dentro de \"<\" y \">\"(indexaciones,links,codigos,etc) y mete ese texto en una lista\n",
    "        textoaux=texto[(link_eliminar[i])[0]:(link_eliminar[i])[1]+1]\n",
    "        acum.append(textoaux)\n",
    "    \n",
    "    for i in range(0,len(acum)): #elimina todas las coincidencias de la lista que creamos en el ciclo anterior\n",
    "        texto=texto.replace(acum[i],\"\")  \n",
    "    \n",
    "    return texto"
   ]
  },
  {
   "cell_type": "code",
   "execution_count": 6,
   "id": "1670e73f-34c9-4f7c-913c-3a00a16ab630",
   "metadata": {},
   "outputs": [],
   "source": [
    "def eliminar_caracteresesp(texto):\n",
    "\n",
    "#    link_eliminar=[]\n",
    "#    link_ubi=[]\n",
    "#    acum=[]\n",
    "#    \n",
    "#    for i in range (0,len(texto)):  #Busca la posicion en el texto de los \"<\" y \">\" \n",
    "#        if '<' == texto[i]:\n",
    "#            link_ubi.append(i)\n",
    "#            \n",
    "#        elif  '>' == texto[i]:\n",
    "#            link_ubi.append(i)\n",
    "#            \n",
    "#            link_eliminar.append(link_ubi)\n",
    "#            link_ubi=[]\n",
    "#              \n",
    "#  #  print(link_eliminar)\n",
    "#    for i in range (0,len(link_eliminar)):  #recuperar lo que esta dentro de \"<\" y \">\"(indexaciones,links,codigos,etc) y mete ese texto en una lista\n",
    "#        textoaux=texto[(link_eliminar[i])[0]:(link_eliminar[i])[1]+1]\n",
    "#        acum.append(textoaux)\n",
    "#    \n",
    "#    for i in range(0,len(acum)): #elimina todas las coincidencias de la lista que creamos en el ciclo anterior\n",
    "#        texto=texto.replace(acum[i],\"\")  \n",
    "    \n",
    "    \n",
    "    texto=texto.lower()    #Hace minusculas todas las letras del cuerpo\n",
    "\n",
    "    texto=re.sub('[%s]' % re.escape(string.punctuation), ' ', texto) #Elimina puntuacion\n",
    "\n",
    "    auxtexto=nltk.word_tokenize(texto)\n",
    "    auxtexto2=[]  \n",
    "\n",
    "    for w in auxtexto:  #Elimina articulos gramaticales\n",
    "        if w not in stop_words: \n",
    "            auxtexto2.append(w)\n",
    "    return auxtexto2\n",
    "\n"
   ]
  },
  {
   "cell_type": "code",
   "execution_count": 31,
   "id": "97b97fe7-49e7-45a5-9d20-c0b7c6cf605f",
   "metadata": {},
   "outputs": [],
   "source": [
    "#dfnotas.iloc[2]['cuerpo']"
   ]
  },
  {
   "cell_type": "code",
   "execution_count": 171,
   "id": "2df04813-48e7-42af-9a94-155dbb12a890",
   "metadata": {},
   "outputs": [
    {
     "data": {
      "text/html": [
       "<div>\n",
       "<style scoped>\n",
       "    .dataframe tbody tr th:only-of-type {\n",
       "        vertical-align: middle;\n",
       "    }\n",
       "\n",
       "    .dataframe tbody tr th {\n",
       "        vertical-align: top;\n",
       "    }\n",
       "\n",
       "    .dataframe thead th {\n",
       "        text-align: right;\n",
       "    }\n",
       "</style>\n",
       "<table border=\"1\" class=\"dataframe\">\n",
       "  <thead>\n",
       "    <tr style=\"text-align: right;\">\n",
       "      <th></th>\n",
       "      <th>sitio</th>\n",
       "      <th>created</th>\n",
       "      <th>title</th>\n",
       "      <th>Fecha</th>\n",
       "      <th>Hora</th>\n",
       "      <th>url</th>\n",
       "      <th>editor</th>\n",
       "      <th>tags</th>\n",
       "      <th>cuerpo</th>\n",
       "      <th>Número de vistas de página</th>\n",
       "      <th>No.Letras_Url</th>\n",
       "      <th>No.Palabras_Titulo</th>\n",
       "      <th>Mas_Frecuentes_Titulo</th>\n",
       "      <th>No.Palabras_Cuerpo</th>\n",
       "      <th>No.Parrafos</th>\n",
       "      <th>No.Links</th>\n",
       "      <th>No.Imagenes</th>\n",
       "      <th>Vocabulario_Cuerpo</th>\n",
       "      <th>Tiene_Tags</th>\n",
       "      <th>No.Tags</th>\n",
       "    </tr>\n",
       "  </thead>\n",
       "  <tbody>\n",
       "    <tr>\n",
       "      <th>0</th>\n",
       "      <td>salud180</td>\n",
       "      <td>28 ene 2021, 19:58:35</td>\n",
       "      <td>Descubre qué tipo de glúteos tienes y qué ejer...</td>\n",
       "      <td>2021-01-28</td>\n",
       "      <td>14:58:35</td>\n",
       "      <td>https://www.salud180.com/nutricion-y-ejercicio...</td>\n",
       "      <td>0.0</td>\n",
       "      <td>_ejercicio_ejercicios glúteos_tipos de glúteos...</td>\n",
       "      <td>Una vez escuche: “los hombres creen que una mu...</td>\n",
       "      <td>1802730.0</td>\n",
       "      <td>123</td>\n",
       "      <td>16</td>\n",
       "      <td>[qué, y]</td>\n",
       "      <td>247</td>\n",
       "      <td>3</td>\n",
       "      <td>3</td>\n",
       "      <td>1</td>\n",
       "      <td>{DÍA, para, Departamento, Jennifer, Ahora, hac...</td>\n",
       "      <td>Si</td>\n",
       "      <td>7</td>\n",
       "    </tr>\n",
       "    <tr>\n",
       "      <th>1</th>\n",
       "      <td>salud180</td>\n",
       "      <td>5 ago 2020, 17:19:40</td>\n",
       "      <td>Trucos para limpiar el baño rápido y dejarlo “...</td>\n",
       "      <td>2020-08-05</td>\n",
       "      <td>12:19:40</td>\n",
       "      <td>https://www.salud180.com/salud-dia-a-dia/galer...</td>\n",
       "      <td>0.0</td>\n",
       "      <td>_Cómo limpiar rápido el baño_Trucos para limpi...</td>\n",
       "      <td>¿A quién no le gustaría tener el baño de la ca...</td>\n",
       "      <td>1607281.0</td>\n",
       "      <td>114</td>\n",
       "      <td>13</td>\n",
       "      <td>[]</td>\n",
       "      <td>418</td>\n",
       "      <td>4</td>\n",
       "      <td>7</td>\n",
       "      <td>2</td>\n",
       "      <td>{respuesta, para, Sin, restos, azulejos…, cosa...</td>\n",
       "      <td>Si</td>\n",
       "      <td>13</td>\n",
       "    </tr>\n",
       "    <tr>\n",
       "      <th>2</th>\n",
       "      <td>salud180</td>\n",
       "      <td>27 ene 2021, 15:06:08</td>\n",
       "      <td>7 abdominales de pie para aplanar el abdomen b...</td>\n",
       "      <td>2021-01-27</td>\n",
       "      <td>10:06:08</td>\n",
       "      <td>https://www.salud180.com/salud-dia-a-dia/galer...</td>\n",
       "      <td>0.0</td>\n",
       "      <td>_abdomen_ejercicios abdomen_abdominales pie_ab...</td>\n",
       "      <td>¡Estoy harta de la “panza”! Llevo semanas a di...</td>\n",
       "      <td>1555385.0</td>\n",
       "      <td>85</td>\n",
       "      <td>16</td>\n",
       "      <td>[de]</td>\n",
       "      <td>270</td>\n",
       "      <td>9</td>\n",
       "      <td>5</td>\n",
       "      <td>2</td>\n",
       "      <td>{dificultad, DÍA, para, contigo, hacer, 10, pi...</td>\n",
       "      <td>Si</td>\n",
       "      <td>8</td>\n",
       "    </tr>\n",
       "    <tr>\n",
       "      <th>3</th>\n",
       "      <td>salud180</td>\n",
       "      <td>11 may 2020, 18:17:27</td>\n",
       "      <td>Plantas que alejan a las arañas, hormigas, mos...</td>\n",
       "      <td>2020-05-11</td>\n",
       "      <td>13:17:27</td>\n",
       "      <td>https://www.salud180.com/salud-dia-a-dia/galer...</td>\n",
       "      <td>0.0</td>\n",
       "      <td>_plantas que alejan arañas_plantas que alejan ...</td>\n",
       "      <td>No hay peor pesadilla que \"sudar la gota gorda...</td>\n",
       "      <td>1448039.0</td>\n",
       "      <td>117</td>\n",
       "      <td>19</td>\n",
       "      <td>[,]</td>\n",
       "      <td>442</td>\n",
       "      <td>16</td>\n",
       "      <td>11</td>\n",
       "      <td>1</td>\n",
       "      <td>{para, ``, así, restos, expulsarlos, hacer, ai...</td>\n",
       "      <td>Si</td>\n",
       "      <td>14</td>\n",
       "    </tr>\n",
       "    <tr>\n",
       "      <th>4</th>\n",
       "      <td>salud180</td>\n",
       "      <td>4 may 2020, 15:35:55</td>\n",
       "      <td>Plantas que alejan a las cucarachas y moscas d...</td>\n",
       "      <td>2020-05-04</td>\n",
       "      <td>10:35:55</td>\n",
       "      <td>https://www.salud180.com/salud-dia-a-dia/galer...</td>\n",
       "      <td>0.0</td>\n",
       "      <td>_plantas que alejan cucarachas_plantas que ale...</td>\n",
       "      <td>No importa si tu casa está reluciente de lo li...</td>\n",
       "      <td>1126486.0</td>\n",
       "      <td>104</td>\n",
       "      <td>11</td>\n",
       "      <td>[]</td>\n",
       "      <td>334</td>\n",
       "      <td>13</td>\n",
       "      <td>13</td>\n",
       "      <td>1</td>\n",
       "      <td>{para, hacer, aire, dato, basura, Plantas, ten...</td>\n",
       "      <td>Si</td>\n",
       "      <td>10</td>\n",
       "    </tr>\n",
       "  </tbody>\n",
       "</table>\n",
       "</div>"
      ],
      "text/plain": [
       "      sitio                created  \\\n",
       "0  salud180  28 ene 2021, 19:58:35   \n",
       "1  salud180   5 ago 2020, 17:19:40   \n",
       "2  salud180  27 ene 2021, 15:06:08   \n",
       "3  salud180  11 may 2020, 18:17:27   \n",
       "4  salud180   4 may 2020, 15:35:55   \n",
       "\n",
       "                                               title       Fecha      Hora  \\\n",
       "0  Descubre qué tipo de glúteos tienes y qué ejer...  2021-01-28  14:58:35   \n",
       "1  Trucos para limpiar el baño rápido y dejarlo “...  2020-08-05  12:19:40   \n",
       "2  7 abdominales de pie para aplanar el abdomen b...  2021-01-27  10:06:08   \n",
       "3  Plantas que alejan a las arañas, hormigas, mos...  2020-05-11  13:17:27   \n",
       "4  Plantas que alejan a las cucarachas y moscas d...  2020-05-04  10:35:55   \n",
       "\n",
       "                                                 url  editor  \\\n",
       "0  https://www.salud180.com/nutricion-y-ejercicio...     0.0   \n",
       "1  https://www.salud180.com/salud-dia-a-dia/galer...     0.0   \n",
       "2  https://www.salud180.com/salud-dia-a-dia/galer...     0.0   \n",
       "3  https://www.salud180.com/salud-dia-a-dia/galer...     0.0   \n",
       "4  https://www.salud180.com/salud-dia-a-dia/galer...     0.0   \n",
       "\n",
       "                                                tags  \\\n",
       "0  _ejercicio_ejercicios glúteos_tipos de glúteos...   \n",
       "1  _Cómo limpiar rápido el baño_Trucos para limpi...   \n",
       "2  _abdomen_ejercicios abdomen_abdominales pie_ab...   \n",
       "3  _plantas que alejan arañas_plantas que alejan ...   \n",
       "4  _plantas que alejan cucarachas_plantas que ale...   \n",
       "\n",
       "                                              cuerpo  \\\n",
       "0  Una vez escuche: “los hombres creen que una mu...   \n",
       "1  ¿A quién no le gustaría tener el baño de la ca...   \n",
       "2  ¡Estoy harta de la “panza”! Llevo semanas a di...   \n",
       "3  No hay peor pesadilla que \"sudar la gota gorda...   \n",
       "4  No importa si tu casa está reluciente de lo li...   \n",
       "\n",
       "   Número de vistas de página  No.Letras_Url  No.Palabras_Titulo  \\\n",
       "0                   1802730.0            123                  16   \n",
       "1                   1607281.0            114                  13   \n",
       "2                   1555385.0             85                  16   \n",
       "3                   1448039.0            117                  19   \n",
       "4                   1126486.0            104                  11   \n",
       "\n",
       "  Mas_Frecuentes_Titulo  No.Palabras_Cuerpo  No.Parrafos  No.Links  \\\n",
       "0              [qué, y]                 247            3         3   \n",
       "1                    []                 418            4         7   \n",
       "2                  [de]                 270            9         5   \n",
       "3                   [,]                 442           16        11   \n",
       "4                    []                 334           13        13   \n",
       "\n",
       "   No.Imagenes                                 Vocabulario_Cuerpo Tiene_Tags  \\\n",
       "0            1  {DÍA, para, Departamento, Jennifer, Ahora, hac...         Si   \n",
       "1            2  {respuesta, para, Sin, restos, azulejos…, cosa...         Si   \n",
       "2            2  {dificultad, DÍA, para, contigo, hacer, 10, pi...         Si   \n",
       "3            1  {para, ``, así, restos, expulsarlos, hacer, ai...         Si   \n",
       "4            1  {para, hacer, aire, dato, basura, Plantas, ten...         Si   \n",
       "\n",
       "   No.Tags  \n",
       "0        7  \n",
       "1       13  \n",
       "2        8  \n",
       "3       14  \n",
       "4       10  "
      ]
     },
     "execution_count": 171,
     "metadata": {},
     "output_type": "execute_result"
    }
   ],
   "source": [
    "no_palabras_titulo=[]\n",
    "repetidas=[]\n",
    "no_palabras_cuerpo=[]\n",
    "no_letras_url=[]\n",
    "diccionario_frecuencias = {}\n",
    "mas_repetidasaux=''\n",
    "mas_repetidas=[]\n",
    "vocabulario_cuerpo =[]\n",
    "frecuentes_cuerpo=[]\n",
    "nuevo_cuerpo=[]\n",
    "TieneKeyValue=[]\n",
    "CountTags=[]\n",
    "CountParrafos=[]\n",
    "CountLinks=[]\n",
    "CountImagenes=[]\n",
    "\n",
    "\n",
    "#Convierte los datos en tipo necesario\n",
    "dfnotas['title']=dfnotas['title'].astype(str) \n",
    "dfnotas['cuerpo']=dfnotas['cuerpo'].astype(str)\n",
    "dfnotas['tags']=dfnotas['tags'].astype(str)\n",
    "#dfnotas['Fecha'] = pd.to_datetime(dfnotas['Fecha'], format=\"%d/%m/%Y\")\n",
    "\n",
    "for i in range(0,len(dfnotas.index)):\n",
    "\n",
    "    titulo=dfnotas.iloc[i]['title'] #recorre los titulos del dt por fila\n",
    "    cuerpo=dfnotas.iloc[i]['cuerpo']\n",
    "\n",
    "    tokens_titulo = nltk.word_tokenize(titulo) #separa el titulo por palabras\n",
    "    \n",
    "    no_letras_url.append(len(dfnotas.iloc[i]['url']))\n",
    "    no_palabras_titulo.append(len(tokens_titulo))  #agrega a la lista la cantidad de palabras de cada titulo\n",
    "    \n",
    "\n",
    "    \n",
    "    CountParrafos.append(dfnotas.iloc[i]['cuerpo'].count(\"<p>\")-4)\n",
    "    CountImagenes.append(dfnotas.iloc[i]['cuerpo'].replace('Images','').count(\"Image\"))#Cuenta la cantidad de parrafos (-4 es por los parrafos que siempre estan implicitos en las notas)\n",
    "    CountLinks.append(dfnotas.iloc[i]['cuerpo'].count(\"<a\")) #Cuenta cantidad de links\n",
    "    \n",
    "    for palabra in tokens_titulo:                   #Agrega todas las palabras que se repitan mas de dos veces en el titulo\n",
    "        if palabra in diccionario_frecuencias:\n",
    "            diccionario_frecuencias[palabra] += 1\n",
    "        else:\n",
    "            diccionario_frecuencias[palabra] = 1\n",
    "\n",
    "    for palabra in diccionario_frecuencias:\n",
    "        frecuencia = diccionario_frecuencias[palabra]\n",
    "    \n",
    "        if frecuencia >= 2 : \n",
    "            mas_repetidas.append(palabra)\n",
    "            mas_repetidasaux=mas_repetidasaux+palabra+\",\"\n",
    "    \n",
    "    repetidas.append(mas_repetidas)\n",
    "    mas_repetidas=[]\n",
    "    diccionario_frecuencias = {}\n",
    "    \n",
    "    \n",
    "    \n",
    "######################################################################\n",
    "#CONTEO DE TAGS\n",
    "    \n",
    "    if (dfnotas.iloc[i]['tags']) != 0 :\n",
    "        TieneKeyValue.append('Si')\n",
    "        CountTags.append(dfnotas.iloc[i]['tags'].count(\"_\")+1) #cuantos Tags hay en la notas\n",
    "        \n",
    "    else:\n",
    "        #TagsEsp.append(\"Null\")\n",
    "        CountTags.append(0)\n",
    "        TieneKeyValue.append('No')\n",
    "    \n",
    "#####################################\n",
    "#CONTEO DE PALABRAS FRECUENTES    \n",
    "\n",
    "    cuerpo=limpiar_texto(cuerpo)\n",
    "    cuerpo=cuerpo.replace('\\n','')\n",
    " #   cuerpo=cuerpo.replace('\\xa','')\n",
    "    nuevo_cuerpo.append(cuerpo)\n",
    "    \n",
    "    tokens_cuerpo = nltk.word_tokenize(cuerpo) #separa el cuerpo por palabras\n",
    "    \n",
    "    no_palabras_cuerpo.append(len(tokens_cuerpo))\n",
    "    vocabulario_cuerpo.append(set(tokens_cuerpo))\n",
    "\n",
    "    auxcuerpo2=eliminar_caracteresesp(cuerpo)\n",
    "\n",
    "        \n",
    "    frecuentes_cuerpo.append(FreqDist(auxcuerpo2).most_common(10)) #crea una lista con las 10 palabras mas frecuente del cuerpo y su no. de repeticiones\n",
    "\n",
    "#Se añaden columnas con las nuevas metricas\n",
    "\n",
    "dfnotas['cuerpo']=nuevo_cuerpo\n",
    "dfnotas['No.Letras_Url']=no_letras_url                  #cantidad de letras en url\n",
    "dfnotas['No.Palabras_Titulo']=no_palabras_titulo        #Cantidad de palabras en el titulo\n",
    "dfnotas['Mas_Frecuentes_Titulo']=repetidas              #Palabras mas frecuentes en el titulo\n",
    "dfnotas['No.Palabras_Cuerpo']=no_palabras_cuerpo        #Cantidad de palabras en el cuerpo de la nota\n",
    "dfnotas['No.Parrafos']=CountParrafos                    #Cantidad de parrafos en el cuerpo\n",
    "dfnotas['No.Links']=CountLinks                          #Cantidad de de links en la nota\n",
    "dfnotas['No.Imagenes']=CountImagenes\n",
    "dfnotas['Vocabulario_Cuerpo']=vocabulario_cuerpo        #Vocabulario usado en el cuerpo\n",
    "#dfnotas['Mas_Frecuentes_Cuerpo ']=frecuentes_cuerpo     #Palabras mas frecuente en el cuerpo\n",
    "dfnotas['Tiene_Tags']=TieneKeyValue                     #Dice se pusieron tags o no en la nota\n",
    "dfnotas['No.Tags']=CountTags                            #Cantidad de tags en la nota\n",
    "\n",
    "dfnotas.head(5)\n"
   ]
  },
  {
   "cell_type": "code",
   "execution_count": null,
   "id": "16cd3e0d-4353-4cd7-b939-6f6352796b0f",
   "metadata": {},
   "outputs": [],
   "source": []
  },
  {
   "cell_type": "code",
   "execution_count": 22,
   "id": "3f085c5d-254c-47c2-9ef3-5d42d198c223",
   "metadata": {},
   "outputs": [],
   "source": []
  },
  {
   "cell_type": "code",
   "execution_count": null,
   "id": "7a243cd9-c042-445c-8efa-be3254362924",
   "metadata": {},
   "outputs": [],
   "source": []
  },
  {
   "cell_type": "code",
   "execution_count": 172,
   "id": "9a3dd737-a6a3-4d91-a076-cbe0435c6ed2",
   "metadata": {},
   "outputs": [
    {
     "data": {
      "text/html": [
       "<div>\n",
       "<style scoped>\n",
       "    .dataframe tbody tr th:only-of-type {\n",
       "        vertical-align: middle;\n",
       "    }\n",
       "\n",
       "    .dataframe tbody tr th {\n",
       "        vertical-align: top;\n",
       "    }\n",
       "\n",
       "    .dataframe thead th {\n",
       "        text-align: right;\n",
       "    }\n",
       "</style>\n",
       "<table border=\"1\" class=\"dataframe\">\n",
       "  <thead>\n",
       "    <tr style=\"text-align: right;\">\n",
       "      <th></th>\n",
       "      <th>sitio</th>\n",
       "      <th>created</th>\n",
       "      <th>title</th>\n",
       "      <th>Fecha</th>\n",
       "      <th>Hora</th>\n",
       "      <th>url</th>\n",
       "      <th>editor</th>\n",
       "      <th>tags</th>\n",
       "      <th>cuerpo</th>\n",
       "      <th>Número de vistas de página</th>\n",
       "      <th>...</th>\n",
       "      <th>No.Palabras_Titulo</th>\n",
       "      <th>Mas_Frecuentes_Titulo</th>\n",
       "      <th>No.Palabras_Cuerpo</th>\n",
       "      <th>No.Parrafos</th>\n",
       "      <th>No.Links</th>\n",
       "      <th>No.Imagenes</th>\n",
       "      <th>Vocabulario_Cuerpo</th>\n",
       "      <th>Tiene_Tags</th>\n",
       "      <th>No.Tags</th>\n",
       "      <th>Topic</th>\n",
       "    </tr>\n",
       "  </thead>\n",
       "  <tbody>\n",
       "    <tr>\n",
       "      <th>0</th>\n",
       "      <td>salud180</td>\n",
       "      <td>28 ene 2021, 19:58:35</td>\n",
       "      <td>Descubre qué tipo de glúteos tienes y qué ejer...</td>\n",
       "      <td>2021-01-28</td>\n",
       "      <td>14:58:35</td>\n",
       "      <td>https://www.salud180.com/nutricion-y-ejercicio...</td>\n",
       "      <td>0.0</td>\n",
       "      <td>_ejercicio_ejercicios glúteos_tipos de glúteos...</td>\n",
       "      <td>Una vez escuche: “los hombres creen que una mu...</td>\n",
       "      <td>1802730.0</td>\n",
       "      <td>...</td>\n",
       "      <td>16</td>\n",
       "      <td>[qué, y]</td>\n",
       "      <td>247</td>\n",
       "      <td>3</td>\n",
       "      <td>3</td>\n",
       "      <td>1</td>\n",
       "      <td>{DÍA, para, Departamento, Jennifer, Ahora, hac...</td>\n",
       "      <td>Si</td>\n",
       "      <td>7</td>\n",
       "      <td>null</td>\n",
       "    </tr>\n",
       "    <tr>\n",
       "      <th>1</th>\n",
       "      <td>salud180</td>\n",
       "      <td>5 ago 2020, 17:19:40</td>\n",
       "      <td>Trucos para limpiar el baño rápido y dejarlo “...</td>\n",
       "      <td>2020-08-05</td>\n",
       "      <td>12:19:40</td>\n",
       "      <td>https://www.salud180.com/salud-dia-a-dia/galer...</td>\n",
       "      <td>0.0</td>\n",
       "      <td>_Cómo limpiar rápido el baño_Trucos para limpi...</td>\n",
       "      <td>¿A quién no le gustaría tener el baño de la ca...</td>\n",
       "      <td>1607281.0</td>\n",
       "      <td>...</td>\n",
       "      <td>13</td>\n",
       "      <td>[]</td>\n",
       "      <td>418</td>\n",
       "      <td>4</td>\n",
       "      <td>7</td>\n",
       "      <td>2</td>\n",
       "      <td>{respuesta, para, Sin, restos, azulejos…, cosa...</td>\n",
       "      <td>Si</td>\n",
       "      <td>13</td>\n",
       "      <td>salud-dia-a-dia</td>\n",
       "    </tr>\n",
       "    <tr>\n",
       "      <th>2</th>\n",
       "      <td>salud180</td>\n",
       "      <td>27 ene 2021, 15:06:08</td>\n",
       "      <td>7 abdominales de pie para aplanar el abdomen b...</td>\n",
       "      <td>2021-01-27</td>\n",
       "      <td>10:06:08</td>\n",
       "      <td>https://www.salud180.com/salud-dia-a-dia/galer...</td>\n",
       "      <td>0.0</td>\n",
       "      <td>_abdomen_ejercicios abdomen_abdominales pie_ab...</td>\n",
       "      <td>¡Estoy harta de la “panza”! Llevo semanas a di...</td>\n",
       "      <td>1555385.0</td>\n",
       "      <td>...</td>\n",
       "      <td>16</td>\n",
       "      <td>[de]</td>\n",
       "      <td>270</td>\n",
       "      <td>9</td>\n",
       "      <td>5</td>\n",
       "      <td>2</td>\n",
       "      <td>{dificultad, DÍA, para, contigo, hacer, 10, pi...</td>\n",
       "      <td>Si</td>\n",
       "      <td>8</td>\n",
       "      <td>salud-dia-a-dia</td>\n",
       "    </tr>\n",
       "  </tbody>\n",
       "</table>\n",
       "<p>3 rows × 21 columns</p>\n",
       "</div>"
      ],
      "text/plain": [
       "      sitio                created  \\\n",
       "0  salud180  28 ene 2021, 19:58:35   \n",
       "1  salud180   5 ago 2020, 17:19:40   \n",
       "2  salud180  27 ene 2021, 15:06:08   \n",
       "\n",
       "                                               title       Fecha      Hora  \\\n",
       "0  Descubre qué tipo de glúteos tienes y qué ejer...  2021-01-28  14:58:35   \n",
       "1  Trucos para limpiar el baño rápido y dejarlo “...  2020-08-05  12:19:40   \n",
       "2  7 abdominales de pie para aplanar el abdomen b...  2021-01-27  10:06:08   \n",
       "\n",
       "                                                 url  editor  \\\n",
       "0  https://www.salud180.com/nutricion-y-ejercicio...     0.0   \n",
       "1  https://www.salud180.com/salud-dia-a-dia/galer...     0.0   \n",
       "2  https://www.salud180.com/salud-dia-a-dia/galer...     0.0   \n",
       "\n",
       "                                                tags  \\\n",
       "0  _ejercicio_ejercicios glúteos_tipos de glúteos...   \n",
       "1  _Cómo limpiar rápido el baño_Trucos para limpi...   \n",
       "2  _abdomen_ejercicios abdomen_abdominales pie_ab...   \n",
       "\n",
       "                                              cuerpo  \\\n",
       "0  Una vez escuche: “los hombres creen que una mu...   \n",
       "1  ¿A quién no le gustaría tener el baño de la ca...   \n",
       "2  ¡Estoy harta de la “panza”! Llevo semanas a di...   \n",
       "\n",
       "   Número de vistas de página  ...  No.Palabras_Titulo  Mas_Frecuentes_Titulo  \\\n",
       "0                   1802730.0  ...                  16               [qué, y]   \n",
       "1                   1607281.0  ...                  13                     []   \n",
       "2                   1555385.0  ...                  16                   [de]   \n",
       "\n",
       "  No.Palabras_Cuerpo  No.Parrafos  No.Links  No.Imagenes  \\\n",
       "0                247            3         3            1   \n",
       "1                418            4         7            2   \n",
       "2                270            9         5            2   \n",
       "\n",
       "                                  Vocabulario_Cuerpo Tiene_Tags No.Tags  \\\n",
       "0  {DÍA, para, Departamento, Jennifer, Ahora, hac...         Si       7   \n",
       "1  {respuesta, para, Sin, restos, azulejos…, cosa...         Si      13   \n",
       "2  {dificultad, DÍA, para, contigo, hacer, 10, pi...         Si       8   \n",
       "\n",
       "             Topic  \n",
       "0             null  \n",
       "1  salud-dia-a-dia  \n",
       "2  salud-dia-a-dia  \n",
       "\n",
       "[3 rows x 21 columns]"
      ]
     },
     "execution_count": 172,
     "metadata": {},
     "output_type": "execute_result"
    }
   ],
   "source": [
    "topic=[]\n",
    "\n",
    "for i in range(0,len(dfnotas.index)):\n",
    "    \n",
    "    link=dfnotas.iloc[i]['url']\n",
    "    topicaux=''\n",
    "    diagonal=0\n",
    "    for letra in link :\n",
    "        if letra == '/' :\n",
    "            diagonal=diagonal+1\n",
    "            continue\n",
    "        if diagonal == 3 :\n",
    "            topicaux=topicaux+letra\n",
    "            continue\n",
    "        if diagonal ==4:\n",
    "            break\n",
    "    if len(topicaux) < 20:\n",
    "        topic.append(topicaux)\n",
    "    else:\n",
    "        topic.append('null')\n",
    "\n",
    "\n",
    "#for i in range(0,len(topic)):\n",
    "#    \n",
    "#    if 'adrenalina' in topic[i] :\n",
    "#        topic[i]=1\n",
    "#    elif 'comunidad' in topic[i]:\n",
    "#        topic[i]=2\n",
    "#    elif 'funcion' in topic[i]:\n",
    "#        topic[i]=5\n",
    "#    elif 'nacional' in topic[i]:\n",
    "#        topic[i]=3\n",
    "#    elif 'global' in topic[i]:\n",
    "#        topic[i]=4\n",
    "#    elif 'trending' in topic[i]:\n",
    "#        topic[i]=6\n",
    "#    else:\n",
    "#        topic[i]=0\n",
    "        \n",
    "dfnotas['Topic']=topic\n",
    "dfnotas.head(3)"
   ]
  },
  {
   "cell_type": "code",
   "execution_count": null,
   "id": "1e2c2d6e-36af-47ed-9ad7-5c8899372974",
   "metadata": {},
   "outputs": [],
   "source": []
  },
  {
   "cell_type": "code",
   "execution_count": null,
   "id": "396b4aa4-7521-4c85-8a33-88ef512f4bab",
   "metadata": {},
   "outputs": [],
   "source": []
  },
  {
   "cell_type": "raw",
   "id": "994b1dda-ff42-4365-b03c-3d220c5c3351",
   "metadata": {},
   "source": []
  },
  {
   "cell_type": "code",
   "execution_count": 173,
   "id": "2eee4e2e-d572-46b6-8677-c0b0b7b8f751",
   "metadata": {},
   "outputs": [
    {
     "data": {
      "text/html": [
       "<div>\n",
       "<style scoped>\n",
       "    .dataframe tbody tr th:only-of-type {\n",
       "        vertical-align: middle;\n",
       "    }\n",
       "\n",
       "    .dataframe tbody tr th {\n",
       "        vertical-align: top;\n",
       "    }\n",
       "\n",
       "    .dataframe thead th {\n",
       "        text-align: right;\n",
       "    }\n",
       "</style>\n",
       "<table border=\"1\" class=\"dataframe\">\n",
       "  <thead>\n",
       "    <tr style=\"text-align: right;\">\n",
       "      <th></th>\n",
       "      <th>sitio</th>\n",
       "      <th>created</th>\n",
       "      <th>title</th>\n",
       "      <th>Fecha</th>\n",
       "      <th>Hora</th>\n",
       "      <th>url</th>\n",
       "      <th>editor</th>\n",
       "      <th>tags</th>\n",
       "      <th>cuerpo</th>\n",
       "      <th>Número de vistas de página</th>\n",
       "      <th>...</th>\n",
       "      <th>No.Palabras_Cuerpo</th>\n",
       "      <th>No.Parrafos</th>\n",
       "      <th>No.Links</th>\n",
       "      <th>No.Imagenes</th>\n",
       "      <th>Vocabulario_Cuerpo</th>\n",
       "      <th>Tiene_Tags</th>\n",
       "      <th>No.Tags</th>\n",
       "      <th>Topic</th>\n",
       "      <th>Horario_de_Publicacion</th>\n",
       "      <th>Solo_Hora</th>\n",
       "    </tr>\n",
       "  </thead>\n",
       "  <tbody>\n",
       "    <tr>\n",
       "      <th>0</th>\n",
       "      <td>salud180</td>\n",
       "      <td>28 ene 2021, 19:58:35</td>\n",
       "      <td>Descubre qué tipo de glúteos tienes y qué ejer...</td>\n",
       "      <td>2021-01-28</td>\n",
       "      <td>14:58:35</td>\n",
       "      <td>https://www.salud180.com/nutricion-y-ejercicio...</td>\n",
       "      <td>0.0</td>\n",
       "      <td>_ejercicio_ejercicios glúteos_tipos de glúteos...</td>\n",
       "      <td>Una vez escuche: “los hombres creen que una mu...</td>\n",
       "      <td>1802730.0</td>\n",
       "      <td>...</td>\n",
       "      <td>247</td>\n",
       "      <td>3</td>\n",
       "      <td>3</td>\n",
       "      <td>1</td>\n",
       "      <td>{DÍA, para, Departamento, Jennifer, Ahora, hac...</td>\n",
       "      <td>Si</td>\n",
       "      <td>7</td>\n",
       "      <td>null</td>\n",
       "      <td>Tarde</td>\n",
       "      <td>14</td>\n",
       "    </tr>\n",
       "    <tr>\n",
       "      <th>1</th>\n",
       "      <td>salud180</td>\n",
       "      <td>5 ago 2020, 17:19:40</td>\n",
       "      <td>Trucos para limpiar el baño rápido y dejarlo “...</td>\n",
       "      <td>2020-08-05</td>\n",
       "      <td>12:19:40</td>\n",
       "      <td>https://www.salud180.com/salud-dia-a-dia/galer...</td>\n",
       "      <td>0.0</td>\n",
       "      <td>_Cómo limpiar rápido el baño_Trucos para limpi...</td>\n",
       "      <td>¿A quién no le gustaría tener el baño de la ca...</td>\n",
       "      <td>1607281.0</td>\n",
       "      <td>...</td>\n",
       "      <td>418</td>\n",
       "      <td>4</td>\n",
       "      <td>7</td>\n",
       "      <td>2</td>\n",
       "      <td>{respuesta, para, Sin, restos, azulejos…, cosa...</td>\n",
       "      <td>Si</td>\n",
       "      <td>13</td>\n",
       "      <td>salud-dia-a-dia</td>\n",
       "      <td>Tarde</td>\n",
       "      <td>12</td>\n",
       "    </tr>\n",
       "    <tr>\n",
       "      <th>2</th>\n",
       "      <td>salud180</td>\n",
       "      <td>27 ene 2021, 15:06:08</td>\n",
       "      <td>7 abdominales de pie para aplanar el abdomen b...</td>\n",
       "      <td>2021-01-27</td>\n",
       "      <td>10:06:08</td>\n",
       "      <td>https://www.salud180.com/salud-dia-a-dia/galer...</td>\n",
       "      <td>0.0</td>\n",
       "      <td>_abdomen_ejercicios abdomen_abdominales pie_ab...</td>\n",
       "      <td>¡Estoy harta de la “panza”! Llevo semanas a di...</td>\n",
       "      <td>1555385.0</td>\n",
       "      <td>...</td>\n",
       "      <td>270</td>\n",
       "      <td>9</td>\n",
       "      <td>5</td>\n",
       "      <td>2</td>\n",
       "      <td>{dificultad, DÍA, para, contigo, hacer, 10, pi...</td>\n",
       "      <td>Si</td>\n",
       "      <td>8</td>\n",
       "      <td>salud-dia-a-dia</td>\n",
       "      <td>Mañana</td>\n",
       "      <td>10</td>\n",
       "    </tr>\n",
       "  </tbody>\n",
       "</table>\n",
       "<p>3 rows × 23 columns</p>\n",
       "</div>"
      ],
      "text/plain": [
       "      sitio                created  \\\n",
       "0  salud180  28 ene 2021, 19:58:35   \n",
       "1  salud180   5 ago 2020, 17:19:40   \n",
       "2  salud180  27 ene 2021, 15:06:08   \n",
       "\n",
       "                                               title       Fecha      Hora  \\\n",
       "0  Descubre qué tipo de glúteos tienes y qué ejer...  2021-01-28  14:58:35   \n",
       "1  Trucos para limpiar el baño rápido y dejarlo “...  2020-08-05  12:19:40   \n",
       "2  7 abdominales de pie para aplanar el abdomen b...  2021-01-27  10:06:08   \n",
       "\n",
       "                                                 url  editor  \\\n",
       "0  https://www.salud180.com/nutricion-y-ejercicio...     0.0   \n",
       "1  https://www.salud180.com/salud-dia-a-dia/galer...     0.0   \n",
       "2  https://www.salud180.com/salud-dia-a-dia/galer...     0.0   \n",
       "\n",
       "                                                tags  \\\n",
       "0  _ejercicio_ejercicios glúteos_tipos de glúteos...   \n",
       "1  _Cómo limpiar rápido el baño_Trucos para limpi...   \n",
       "2  _abdomen_ejercicios abdomen_abdominales pie_ab...   \n",
       "\n",
       "                                              cuerpo  \\\n",
       "0  Una vez escuche: “los hombres creen que una mu...   \n",
       "1  ¿A quién no le gustaría tener el baño de la ca...   \n",
       "2  ¡Estoy harta de la “panza”! Llevo semanas a di...   \n",
       "\n",
       "   Número de vistas de página  ...  No.Palabras_Cuerpo  No.Parrafos No.Links  \\\n",
       "0                   1802730.0  ...                 247            3        3   \n",
       "1                   1607281.0  ...                 418            4        7   \n",
       "2                   1555385.0  ...                 270            9        5   \n",
       "\n",
       "   No.Imagenes                                 Vocabulario_Cuerpo  Tiene_Tags  \\\n",
       "0            1  {DÍA, para, Departamento, Jennifer, Ahora, hac...          Si   \n",
       "1            2  {respuesta, para, Sin, restos, azulejos…, cosa...          Si   \n",
       "2            2  {dificultad, DÍA, para, contigo, hacer, 10, pi...          Si   \n",
       "\n",
       "   No.Tags            Topic Horario_de_Publicacion  Solo_Hora  \n",
       "0        7             null                  Tarde         14  \n",
       "1       13  salud-dia-a-dia                  Tarde         12  \n",
       "2        8  salud-dia-a-dia                 Mañana         10  \n",
       "\n",
       "[3 rows x 23 columns]"
      ]
     },
     "execution_count": 173,
     "metadata": {},
     "output_type": "execute_result"
    }
   ],
   "source": [
    "#CLASIFICACION DE HORARIO DE PUBLICACION\n",
    "horario_publicacion=[]\n",
    "solo_hora=[]\n",
    "\n",
    "madrugada=datetime.strptime('00:00:00', '%H:%M:%S') #Convertimos strings a formato fecha\n",
    "mañana=datetime.strptime('05:00:00', '%H:%M:%S')\n",
    "tarde=datetime.strptime('12:00:00', '%H:%M:%S')\n",
    "noche=datetime.strptime('19:00:00', '%H:%M:%S')\n",
    "\n",
    "for i in range(0,len(dfnotas.index)):\n",
    "    \n",
    "    horarioaux=dfnotas.iloc[i]['Hora'] \n",
    "    horarioaux=datetime.strptime(horarioaux, '%H:%M:%S')\n",
    "    solo_hora.append(horarioaux.hour) #Hace una lista con solo la hora de publiacion de las notas\n",
    "\n",
    "    if horarioaux >= madrugada and horarioaux < mañana : #Se clasifican las notas segundo su hora de publicacion en, madrugada, mañana, tarde y noche\n",
    "        horario_publicacion.append('Madrugada')\n",
    "    elif horarioaux >= mañana and horarioaux < tarde :\n",
    "        horario_publicacion.append('Mañana')\n",
    "    elif horarioaux >= tarde and horarioaux < noche  :\n",
    "        horario_publicacion.append('Tarde')\n",
    "    elif horarioaux >= noche :\n",
    "        horario_publicacion.append('Noche')\n",
    "    else:\n",
    "        horario_publicacion.append('0')\n",
    "            \n",
    "    \n",
    "#   if horarioaux >= madrugada and horarioaux < mañana :\n",
    "#       horario_publicacion.append(1)\n",
    "#   elif horarioaux >= mañana and horarioaux < tarde :\n",
    "#       horario_publicacion.append(2)\n",
    "#   elif horarioaux >= tarde and horarioaux < noche  :\n",
    "#       horario_publicacion.append(3)\n",
    "#   elif horarioaux >= noche :\n",
    "#       horario_publicacion.append(4)\n",
    "#   else:\n",
    "#       horario_publicacion.append(0)\n",
    "\n",
    "dfnotas['Horario_de_Publicacion']=horario_publicacion #Clasificacion en madrugada, mañana....\n",
    "dfnotas['Solo_Hora']=solo_hora #Solo la hora, no cuenta minutos y segundos\n",
    "dfnotas.head(3)\n"
   ]
  },
  {
   "cell_type": "code",
   "execution_count": 174,
   "id": "b34d8df7-76bf-4f42-85d4-f4021faae290",
   "metadata": {},
   "outputs": [
    {
     "data": {
      "text/plain": [
       "array(['null', 'salud-dia-a-dia', 'salud-a-z', 'bienestar180',\n",
       "       'enforma180', 'sexualidad', 'sexualidad180', 'adultos-mayores',\n",
       "       'coronavirus', 'salud-dia-dia', 'topico', 'galeria', 'SALUD-A-Z',\n",
       "       'abdominales', 'jovenes', 'anemia', 'SALUD-DIA-DIA', 'artritis',\n",
       "       'cancer-de-prostata', 'video', 'node', 'anorexia',\n",
       "       'cancer-de-mama', 'bulimia', 'mananera-7-mayo', 'acupuntura'],\n",
       "      dtype=object)"
      ]
     },
     "execution_count": 174,
     "metadata": {},
     "output_type": "execute_result"
    }
   ],
   "source": [
    "dfnotas['Topic'].unique()"
   ]
  },
  {
   "cell_type": "code",
   "execution_count": 175,
   "id": "65aad51e-646e-444d-92c3-038411de11cf",
   "metadata": {},
   "outputs": [
    {
     "data": {
      "text/plain": [
       "array(['null', 'salud-dia-a-dia', 'salud-a-z', 'bienestar180',\n",
       "       'enforma180', 'salud-dia-dia'], dtype=object)"
      ]
     },
     "execution_count": 175,
     "metadata": {},
     "output_type": "execute_result"
    }
   ],
   "source": [
    "topics=dfnotas['Topic'].unique() #Hace un arreglo con los valores unicos de topic\n",
    "#len(dfnotas['Topic'].unique()) #Cantidad de valores unicos\n",
    "#topics\n",
    "\n",
    "for i in range(len(topics)):\n",
    "\n",
    "    count=dfnotas['Topic'].str.contains(topics[i]).value_counts()[True] #Cuenta la cantidad de notas que hay de cada Topic\n",
    "    \n",
    "    indice=dfnotas.loc[dfnotas['Topic'] == topics[i]].index #Da el indice de las notas por topics\n",
    "    \n",
    "    if count<=50 :\n",
    "        dfnotas=dfnotas.drop(indice,axis=0)  #elimina todas las notas del topic que no supere las 50 notas\n",
    "\n",
    "\n",
    "dfnotas['Topic'].unique()\n"
   ]
  },
  {
   "cell_type": "code",
   "execution_count": 176,
   "id": "83fee03d-4d16-4819-8eee-fb76dbfcbc5a",
   "metadata": {},
   "outputs": [],
   "source": [
    "indice=dfnotas.loc[dfnotas['Número de vistas de página']> 500000].index\n",
    "\n",
    "dfnotas=dfnotas.drop(indice,axis=0)\n"
   ]
  },
  {
   "cell_type": "code",
   "execution_count": 177,
   "id": "f02bec67-263c-41ce-a04a-aa1a1f6485a5",
   "metadata": {},
   "outputs": [],
   "source": [
    "dfnotas=dfnotas.reset_index(drop=True)\n"
   ]
  },
  {
   "cell_type": "code",
   "execution_count": 178,
   "id": "f6b401f9-583c-45b3-b118-5d1a680b6f00",
   "metadata": {},
   "outputs": [
    {
     "data": {
      "text/html": [
       "<div>\n",
       "<style scoped>\n",
       "    .dataframe tbody tr th:only-of-type {\n",
       "        vertical-align: middle;\n",
       "    }\n",
       "\n",
       "    .dataframe tbody tr th {\n",
       "        vertical-align: top;\n",
       "    }\n",
       "\n",
       "    .dataframe thead th {\n",
       "        text-align: right;\n",
       "    }\n",
       "</style>\n",
       "<table border=\"1\" class=\"dataframe\">\n",
       "  <thead>\n",
       "    <tr style=\"text-align: right;\">\n",
       "      <th></th>\n",
       "      <th>sitio</th>\n",
       "      <th>created</th>\n",
       "      <th>title</th>\n",
       "      <th>Fecha</th>\n",
       "      <th>Hora</th>\n",
       "      <th>url</th>\n",
       "      <th>editor</th>\n",
       "      <th>tags</th>\n",
       "      <th>cuerpo</th>\n",
       "      <th>Número de vistas de página</th>\n",
       "      <th>...</th>\n",
       "      <th>No.Palabras_Cuerpo</th>\n",
       "      <th>No.Parrafos</th>\n",
       "      <th>No.Links</th>\n",
       "      <th>No.Imagenes</th>\n",
       "      <th>Vocabulario_Cuerpo</th>\n",
       "      <th>Tiene_Tags</th>\n",
       "      <th>No.Tags</th>\n",
       "      <th>Topic</th>\n",
       "      <th>Horario_de_Publicacion</th>\n",
       "      <th>Solo_Hora</th>\n",
       "    </tr>\n",
       "  </thead>\n",
       "  <tbody>\n",
       "    <tr>\n",
       "      <th>0</th>\n",
       "      <td>salud180</td>\n",
       "      <td>7 abr 2020, 19:04:19</td>\n",
       "      <td>Aprende a cultivar ajo en una maceta y ahorra ...</td>\n",
       "      <td>2020-04-07</td>\n",
       "      <td>14:04:19</td>\n",
       "      <td>https://www.salud180.com/salud-dia-a-dia/como-...</td>\n",
       "      <td>0.0</td>\n",
       "      <td>_qué cultivar casa_qué cultivar departamento_c...</td>\n",
       "      <td>El ajo es un ingrediente central en nuestra ga...</td>\n",
       "      <td>497286.0</td>\n",
       "      <td>...</td>\n",
       "      <td>372</td>\n",
       "      <td>9</td>\n",
       "      <td>8</td>\n",
       "      <td>2</td>\n",
       "      <td>{separación, para, utilizar, planta, Ahora, ha...</td>\n",
       "      <td>Si</td>\n",
       "      <td>24</td>\n",
       "      <td>salud-dia-a-dia</td>\n",
       "      <td>Tarde</td>\n",
       "      <td>14</td>\n",
       "    </tr>\n",
       "    <tr>\n",
       "      <th>1</th>\n",
       "      <td>salud180</td>\n",
       "      <td>26 may 2022, 18:11:38</td>\n",
       "      <td>Cómo cuidar una cuna de Moisés para que florez...</td>\n",
       "      <td>2022-05-26</td>\n",
       "      <td>13:11:38</td>\n",
       "      <td>https://www.salud180.com/bienestar180/como-cui...</td>\n",
       "      <td>0.0</td>\n",
       "      <td>_qué cultivar casa_qué cultivar departamento_c...</td>\n",
       "      <td>La cuna de moisés es una de las plantas prefe...</td>\n",
       "      <td>487104.0</td>\n",
       "      <td>...</td>\n",
       "      <td>987</td>\n",
       "      <td>36</td>\n",
       "      <td>7</td>\n",
       "      <td>0</td>\n",
       "      <td>{para, experta, sus, hacer, excelente, flor, a...</td>\n",
       "      <td>Si</td>\n",
       "      <td>15</td>\n",
       "      <td>bienestar180</td>\n",
       "      <td>Tarde</td>\n",
       "      <td>13</td>\n",
       "    </tr>\n",
       "    <tr>\n",
       "      <th>2</th>\n",
       "      <td>salud180</td>\n",
       "      <td>21 abr 2021, 19:51:12</td>\n",
       "      <td>7 ejercicios efectivos para aumentar la cadera...</td>\n",
       "      <td>2021-04-21</td>\n",
       "      <td>14:51:12</td>\n",
       "      <td>https://www.salud180.com/salud-dia-a-dia/galer...</td>\n",
       "      <td>0.0</td>\n",
       "      <td>_Ejercicios Para Aumentar Cadera_como aumentar...</td>\n",
       "      <td>No todas tuvimos la suerte de nacer con la bue...</td>\n",
       "      <td>475620.0</td>\n",
       "      <td>...</td>\n",
       "      <td>310</td>\n",
       "      <td>-4</td>\n",
       "      <td>6</td>\n",
       "      <td>0</td>\n",
       "      <td>{para, muscular, destacan, Sin, Health, ``, tu...</td>\n",
       "      <td>Si</td>\n",
       "      <td>21</td>\n",
       "      <td>salud-dia-a-dia</td>\n",
       "      <td>Tarde</td>\n",
       "      <td>14</td>\n",
       "    </tr>\n",
       "    <tr>\n",
       "      <th>3</th>\n",
       "      <td>salud180</td>\n",
       "      <td>12 may 2021, 21:03:49</td>\n",
       "      <td>4 aceites que fortalecen y alargan las pestaña...</td>\n",
       "      <td>2021-05-12</td>\n",
       "      <td>16:03:49</td>\n",
       "      <td>https://www.salud180.com/salud-dia-a-dia/galer...</td>\n",
       "      <td>0.0</td>\n",
       "      <td>_Aceites para las pestañas_pestañas naturales_...</td>\n",
       "      <td>Una mirada expresiva no siempre va acompañada ...</td>\n",
       "      <td>474655.0</td>\n",
       "      <td>...</td>\n",
       "      <td>344</td>\n",
       "      <td>-4</td>\n",
       "      <td>5</td>\n",
       "      <td>0</td>\n",
       "      <td>{para, Sin, ``, tuvimos, 4, hacer, tremendo, L...</td>\n",
       "      <td>Si</td>\n",
       "      <td>18</td>\n",
       "      <td>salud-dia-a-dia</td>\n",
       "      <td>Tarde</td>\n",
       "      <td>16</td>\n",
       "    </tr>\n",
       "    <tr>\n",
       "      <th>4</th>\n",
       "      <td>salud180</td>\n",
       "      <td>27 abr 2020, 16:17:16</td>\n",
       "      <td>Plantas que puedes tener en jarrones con agua ...</td>\n",
       "      <td>2020-04-27</td>\n",
       "      <td>11:17:16</td>\n",
       "      <td>https://www.salud180.com/bienestar180/galeria/...</td>\n",
       "      <td>0.0</td>\n",
       "      <td>_Plantas en agua_plantas en jarrones con agua_...</td>\n",
       "      <td>¿A quien no le gusta tener plantas? Pues adem...</td>\n",
       "      <td>472873.0</td>\n",
       "      <td>...</td>\n",
       "      <td>369</td>\n",
       "      <td>-2</td>\n",
       "      <td>6</td>\n",
       "      <td>0</td>\n",
       "      <td>{2Métela, para, raíz, planta, ciento, también,...</td>\n",
       "      <td>Si</td>\n",
       "      <td>15</td>\n",
       "      <td>bienestar180</td>\n",
       "      <td>Mañana</td>\n",
       "      <td>11</td>\n",
       "    </tr>\n",
       "    <tr>\n",
       "      <th>...</th>\n",
       "      <td>...</td>\n",
       "      <td>...</td>\n",
       "      <td>...</td>\n",
       "      <td>...</td>\n",
       "      <td>...</td>\n",
       "      <td>...</td>\n",
       "      <td>...</td>\n",
       "      <td>...</td>\n",
       "      <td>...</td>\n",
       "      <td>...</td>\n",
       "      <td>...</td>\n",
       "      <td>...</td>\n",
       "      <td>...</td>\n",
       "      <td>...</td>\n",
       "      <td>...</td>\n",
       "      <td>...</td>\n",
       "      <td>...</td>\n",
       "      <td>...</td>\n",
       "      <td>...</td>\n",
       "      <td>...</td>\n",
       "      <td>...</td>\n",
       "    </tr>\n",
       "    <tr>\n",
       "      <th>4988</th>\n",
       "      <td>salud180</td>\n",
       "      <td>14 jul 2022, 21:57:31</td>\n",
       "      <td>3 ejercicios para personas con hipertensión</td>\n",
       "      <td>2022-07-14</td>\n",
       "      <td>16:57:31</td>\n",
       "      <td>https://www.salud180.com/nutricion-y-ejercicio...</td>\n",
       "      <td>0.0</td>\n",
       "      <td>_baila_bicicleta_correr_ejercicio físico_hiper...</td>\n",
       "      <td>De acuerdo con la Fundación Española del Coraz...</td>\n",
       "      <td>162.0</td>\n",
       "      <td>...</td>\n",
       "      <td>384</td>\n",
       "      <td>17</td>\n",
       "      <td>34</td>\n",
       "      <td>0</td>\n",
       "      <td>{coágulos, para, destacan, sano, así, riesgo, ...</td>\n",
       "      <td>Si</td>\n",
       "      <td>6</td>\n",
       "      <td>null</td>\n",
       "      <td>Tarde</td>\n",
       "      <td>16</td>\n",
       "    </tr>\n",
       "    <tr>\n",
       "      <th>4989</th>\n",
       "      <td>salud180</td>\n",
       "      <td>9 ene 2020, 22:01:19</td>\n",
       "      <td>¿No duermes? Esta es la relación entre el inso...</td>\n",
       "      <td>2020-01-09</td>\n",
       "      <td>17:01:19</td>\n",
       "      <td>https://www.salud180.com/salud-a-z/no-duermes-...</td>\n",
       "      <td>0.0</td>\n",
       "      <td>_daños por no dormir bien_cuáles son las conse...</td>\n",
       "      <td>¿No duermes? ¿Pasas toda la noche dando vuelta...</td>\n",
       "      <td>162.0</td>\n",
       "      <td>...</td>\n",
       "      <td>407</td>\n",
       "      <td>27</td>\n",
       "      <td>5</td>\n",
       "      <td>2</td>\n",
       "      <td>{factor, para, sano, riesgo, ’, hacer, hermoso...</td>\n",
       "      <td>Si</td>\n",
       "      <td>13</td>\n",
       "      <td>salud-a-z</td>\n",
       "      <td>Tarde</td>\n",
       "      <td>17</td>\n",
       "    </tr>\n",
       "    <tr>\n",
       "      <th>4990</th>\n",
       "      <td>salud180</td>\n",
       "      <td>6 oct 2021, 20:42:21</td>\n",
       "      <td>¿El fin de la malaria se aproxima? OMS respald...</td>\n",
       "      <td>2021-10-06</td>\n",
       "      <td>15:42:21</td>\n",
       "      <td>https://www.salud180.com/salud-dia-a-dia/el-fi...</td>\n",
       "      <td>0.0</td>\n",
       "      <td>_malaria_qué es malaria_vacuna malaria_paludis...</td>\n",
       "      <td>Escalofríos, dolor muscular, diarrea.. la mala...</td>\n",
       "      <td>162.0</td>\n",
       "      <td>...</td>\n",
       "      <td>391</td>\n",
       "      <td>8</td>\n",
       "      <td>5</td>\n",
       "      <td>1</td>\n",
       "      <td>{para, muscular, recomienda, Sin, cerebro, gló...</td>\n",
       "      <td>Si</td>\n",
       "      <td>8</td>\n",
       "      <td>salud-dia-a-dia</td>\n",
       "      <td>Tarde</td>\n",
       "      <td>15</td>\n",
       "    </tr>\n",
       "    <tr>\n",
       "      <th>4991</th>\n",
       "      <td>salud180</td>\n",
       "      <td>2 ene 2020, 19:28:33</td>\n",
       "      <td>Este chip mide el riesgo de que padezcas diabetes</td>\n",
       "      <td>2020-01-02</td>\n",
       "      <td>14:28:33</td>\n",
       "      <td>https://www.salud180.com/salud-a-z/este-chip-m...</td>\n",
       "      <td>0.0</td>\n",
       "      <td>_chip determina riesgo de diabetes_hip diabete...</td>\n",
       "      <td>¿Te imaginas que pudieras saber antes de tiemp...</td>\n",
       "      <td>162.0</td>\n",
       "      <td>...</td>\n",
       "      <td>446</td>\n",
       "      <td>32</td>\n",
       "      <td>5</td>\n",
       "      <td>0</td>\n",
       "      <td>{chip, para, utilizar, sus, riesgo, así, centr...</td>\n",
       "      <td>Si</td>\n",
       "      <td>15</td>\n",
       "      <td>salud-a-z</td>\n",
       "      <td>Tarde</td>\n",
       "      <td>14</td>\n",
       "    </tr>\n",
       "    <tr>\n",
       "      <th>4992</th>\n",
       "      <td>salud180</td>\n",
       "      <td>27 sept 2021, 18:06:57</td>\n",
       "      <td>Conoce 11 de las búsquedas más populares de sa...</td>\n",
       "      <td>2021-09-27</td>\n",
       "      <td>13:06:57</td>\n",
       "      <td>https://www.salud180.com/bienestar180/conoce-1...</td>\n",
       "      <td>0.0</td>\n",
       "      <td>_salud180_preguntas salud_coronavirus_cáncer d...</td>\n",
       "      <td>Google se ha convertido en nuestro buscador po...</td>\n",
       "      <td>162.0</td>\n",
       "      <td>...</td>\n",
       "      <td>1260</td>\n",
       "      <td>54</td>\n",
       "      <td>17</td>\n",
       "      <td>0</td>\n",
       "      <td>{para, cerebro, ciento, sus, atención, después...</td>\n",
       "      <td>Si</td>\n",
       "      <td>13</td>\n",
       "      <td>bienestar180</td>\n",
       "      <td>Tarde</td>\n",
       "      <td>13</td>\n",
       "    </tr>\n",
       "  </tbody>\n",
       "</table>\n",
       "<p>4993 rows × 23 columns</p>\n",
       "</div>"
      ],
      "text/plain": [
       "         sitio                 created  \\\n",
       "0     salud180    7 abr 2020, 19:04:19   \n",
       "1     salud180   26 may 2022, 18:11:38   \n",
       "2     salud180   21 abr 2021, 19:51:12   \n",
       "3     salud180   12 may 2021, 21:03:49   \n",
       "4     salud180   27 abr 2020, 16:17:16   \n",
       "...        ...                     ...   \n",
       "4988  salud180   14 jul 2022, 21:57:31   \n",
       "4989  salud180    9 ene 2020, 22:01:19   \n",
       "4990  salud180    6 oct 2021, 20:42:21   \n",
       "4991  salud180    2 ene 2020, 19:28:33   \n",
       "4992  salud180  27 sept 2021, 18:06:57   \n",
       "\n",
       "                                                  title       Fecha      Hora  \\\n",
       "0     Aprende a cultivar ajo en una maceta y ahorra ...  2020-04-07  14:04:19   \n",
       "1     Cómo cuidar una cuna de Moisés para que florez...  2022-05-26  13:11:38   \n",
       "2     7 ejercicios efectivos para aumentar la cadera...  2021-04-21  14:51:12   \n",
       "3     4 aceites que fortalecen y alargan las pestaña...  2021-05-12  16:03:49   \n",
       "4     Plantas que puedes tener en jarrones con agua ...  2020-04-27  11:17:16   \n",
       "...                                                 ...         ...       ...   \n",
       "4988        3 ejercicios para personas con hipertensión  2022-07-14  16:57:31   \n",
       "4989  ¿No duermes? Esta es la relación entre el inso...  2020-01-09  17:01:19   \n",
       "4990  ¿El fin de la malaria se aproxima? OMS respald...  2021-10-06  15:42:21   \n",
       "4991  Este chip mide el riesgo de que padezcas diabetes  2020-01-02  14:28:33   \n",
       "4992  Conoce 11 de las búsquedas más populares de sa...  2021-09-27  13:06:57   \n",
       "\n",
       "                                                    url  editor  \\\n",
       "0     https://www.salud180.com/salud-dia-a-dia/como-...     0.0   \n",
       "1     https://www.salud180.com/bienestar180/como-cui...     0.0   \n",
       "2     https://www.salud180.com/salud-dia-a-dia/galer...     0.0   \n",
       "3     https://www.salud180.com/salud-dia-a-dia/galer...     0.0   \n",
       "4     https://www.salud180.com/bienestar180/galeria/...     0.0   \n",
       "...                                                 ...     ...   \n",
       "4988  https://www.salud180.com/nutricion-y-ejercicio...     0.0   \n",
       "4989  https://www.salud180.com/salud-a-z/no-duermes-...     0.0   \n",
       "4990  https://www.salud180.com/salud-dia-a-dia/el-fi...     0.0   \n",
       "4991  https://www.salud180.com/salud-a-z/este-chip-m...     0.0   \n",
       "4992  https://www.salud180.com/bienestar180/conoce-1...     0.0   \n",
       "\n",
       "                                                   tags  \\\n",
       "0     _qué cultivar casa_qué cultivar departamento_c...   \n",
       "1     _qué cultivar casa_qué cultivar departamento_c...   \n",
       "2     _Ejercicios Para Aumentar Cadera_como aumentar...   \n",
       "3     _Aceites para las pestañas_pestañas naturales_...   \n",
       "4     _Plantas en agua_plantas en jarrones con agua_...   \n",
       "...                                                 ...   \n",
       "4988  _baila_bicicleta_correr_ejercicio físico_hiper...   \n",
       "4989  _daños por no dormir bien_cuáles son las conse...   \n",
       "4990  _malaria_qué es malaria_vacuna malaria_paludis...   \n",
       "4991  _chip determina riesgo de diabetes_hip diabete...   \n",
       "4992  _salud180_preguntas salud_coronavirus_cáncer d...   \n",
       "\n",
       "                                                 cuerpo  \\\n",
       "0     El ajo es un ingrediente central en nuestra ga...   \n",
       "1      La cuna de moisés es una de las plantas prefe...   \n",
       "2     No todas tuvimos la suerte de nacer con la bue...   \n",
       "3     Una mirada expresiva no siempre va acompañada ...   \n",
       "4      ¿A quien no le gusta tener plantas? Pues adem...   \n",
       "...                                                 ...   \n",
       "4988  De acuerdo con la Fundación Española del Coraz...   \n",
       "4989  ¿No duermes? ¿Pasas toda la noche dando vuelta...   \n",
       "4990  Escalofríos, dolor muscular, diarrea.. la mala...   \n",
       "4991  ¿Te imaginas que pudieras saber antes de tiemp...   \n",
       "4992  Google se ha convertido en nuestro buscador po...   \n",
       "\n",
       "      Número de vistas de página  ...  No.Palabras_Cuerpo  No.Parrafos  \\\n",
       "0                       497286.0  ...                 372            9   \n",
       "1                       487104.0  ...                 987           36   \n",
       "2                       475620.0  ...                 310           -4   \n",
       "3                       474655.0  ...                 344           -4   \n",
       "4                       472873.0  ...                 369           -2   \n",
       "...                          ...  ...                 ...          ...   \n",
       "4988                       162.0  ...                 384           17   \n",
       "4989                       162.0  ...                 407           27   \n",
       "4990                       162.0  ...                 391            8   \n",
       "4991                       162.0  ...                 446           32   \n",
       "4992                       162.0  ...                1260           54   \n",
       "\n",
       "     No.Links  No.Imagenes                                 Vocabulario_Cuerpo  \\\n",
       "0           8            2  {separación, para, utilizar, planta, Ahora, ha...   \n",
       "1           7            0  {para, experta, sus, hacer, excelente, flor, a...   \n",
       "2           6            0  {para, muscular, destacan, Sin, Health, ``, tu...   \n",
       "3           5            0  {para, Sin, ``, tuvimos, 4, hacer, tremendo, L...   \n",
       "4           6            0  {2Métela, para, raíz, planta, ciento, también,...   \n",
       "...       ...          ...                                                ...   \n",
       "4988       34            0  {coágulos, para, destacan, sano, así, riesgo, ...   \n",
       "4989        5            2  {factor, para, sano, riesgo, ’, hacer, hermoso...   \n",
       "4990        5            1  {para, muscular, recomienda, Sin, cerebro, gló...   \n",
       "4991        5            0  {chip, para, utilizar, sus, riesgo, así, centr...   \n",
       "4992       17            0  {para, cerebro, ciento, sus, atención, después...   \n",
       "\n",
       "      Tiene_Tags  No.Tags            Topic Horario_de_Publicacion  Solo_Hora  \n",
       "0             Si       24  salud-dia-a-dia                  Tarde         14  \n",
       "1             Si       15     bienestar180                  Tarde         13  \n",
       "2             Si       21  salud-dia-a-dia                  Tarde         14  \n",
       "3             Si       18  salud-dia-a-dia                  Tarde         16  \n",
       "4             Si       15     bienestar180                 Mañana         11  \n",
       "...          ...      ...              ...                    ...        ...  \n",
       "4988          Si        6             null                  Tarde         16  \n",
       "4989          Si       13        salud-a-z                  Tarde         17  \n",
       "4990          Si        8  salud-dia-a-dia                  Tarde         15  \n",
       "4991          Si       15        salud-a-z                  Tarde         14  \n",
       "4992          Si       13     bienestar180                  Tarde         13  \n",
       "\n",
       "[4993 rows x 23 columns]"
      ]
     },
     "execution_count": 178,
     "metadata": {},
     "output_type": "execute_result"
    }
   ],
   "source": [
    "dfnotas"
   ]
  },
  {
   "cell_type": "code",
   "execution_count": 179,
   "id": "fe2a00a3-e1c6-4f98-86f5-96ff3c975b04",
   "metadata": {
    "scrolled": true,
    "tags": []
   },
   "outputs": [
    {
     "data": {
      "text/html": [
       "<div>\n",
       "<style scoped>\n",
       "    .dataframe tbody tr th:only-of-type {\n",
       "        vertical-align: middle;\n",
       "    }\n",
       "\n",
       "    .dataframe tbody tr th {\n",
       "        vertical-align: top;\n",
       "    }\n",
       "\n",
       "    .dataframe thead th {\n",
       "        text-align: right;\n",
       "    }\n",
       "</style>\n",
       "<table border=\"1\" class=\"dataframe\">\n",
       "  <thead>\n",
       "    <tr style=\"text-align: right;\">\n",
       "      <th></th>\n",
       "      <th>Topics</th>\n",
       "      <th>Vocabulario Global</th>\n",
       "    </tr>\n",
       "  </thead>\n",
       "  <tbody>\n",
       "    <tr>\n",
       "      <th>0</th>\n",
       "      <td>adrenalidad</td>\n",
       "      <td>[]</td>\n",
       "    </tr>\n",
       "    <tr>\n",
       "      <th>1</th>\n",
       "      <td>comunidad</td>\n",
       "      <td>[]</td>\n",
       "    </tr>\n",
       "    <tr>\n",
       "      <th>2</th>\n",
       "      <td>funcion</td>\n",
       "      <td>[]</td>\n",
       "    </tr>\n",
       "    <tr>\n",
       "      <th>3</th>\n",
       "      <td>nacional</td>\n",
       "      <td>[]</td>\n",
       "    </tr>\n",
       "    <tr>\n",
       "      <th>4</th>\n",
       "      <td>global</td>\n",
       "      <td>[]</td>\n",
       "    </tr>\n",
       "  </tbody>\n",
       "</table>\n",
       "</div>"
      ],
      "text/plain": [
       "        Topics Vocabulario Global\n",
       "0  adrenalidad                 []\n",
       "1    comunidad                 []\n",
       "2      funcion                 []\n",
       "3     nacional                 []\n",
       "4       global                 []"
      ]
     },
     "execution_count": 179,
     "metadata": {},
     "output_type": "execute_result"
    }
   ],
   "source": [
    "#VOCABULARIO POR TOPICS\n",
    "topic=''\n",
    "vocabulario_funcion=[]\n",
    "vocabulario_adrenalina=[]\n",
    "vocabulario_comunidad=[]\n",
    "vocabulario_nacional=[]\n",
    "vocabulario_global=[]\n",
    "vocabulario_trending=[]\n",
    "vocabularios=[]\n",
    "\n",
    "for i in range(0,len(dfnotas.index)):\n",
    "    \n",
    "    topic=dfnotas.iloc[i]['Topic']\n",
    "    \n",
    "    if 'adrenalina' in topic :\n",
    "        vocabulario_adrenalina=vocabulario_adrenalina+list(set(eliminar_caracteresesp(limpiar_texto(dfnotas.iloc[i]['cuerpo'])))) #la funcion set devuelve un conjunto, por lo que lo transformamos a lista(list()) para poder sumarlo\n",
    "    elif 'comunidad' in topic:\n",
    "        vocabulario_comunidad=vocabulario_comunidad+list(set(eliminar_caracteresesp(limpiar_texto(dfnotas.iloc[i]['cuerpo']))))\n",
    "    elif 'funcion' in topic:\n",
    "        vocabulario_funcion=vocabulario_funcion+list(set(eliminar_caracteresesp(limpiar_texto(dfnotas.iloc[i]['cuerpo']))))\n",
    "    elif 'nacional' in topic:\n",
    "        vocabulario_nacional=vocabulario_nacional+list(set(eliminar_caracteresesp(limpiar_texto(dfnotas.iloc[i]['cuerpo']))))\n",
    "    elif 'global' in topic:\n",
    "        vocabulario_global=vocabulario_global+list(set(eliminar_caracteresesp(limpiar_texto(dfnotas.iloc[i]['cuerpo']))))\n",
    "    elif 'trending' in topic:\n",
    "        vocabulario_trending=vocabulario_trending+list(set(eliminar_caracteresesp(limpiar_texto(dfnotas.iloc[i]['cuerpo']))))\n",
    "\n",
    "topics=['adrenalidad','comunidad','funcion','nacional','global','trending']\n",
    "        \n",
    "vocabularios.append(FreqDist(vocabulario_adrenalina).most_common(10))\n",
    "vocabularios.append(FreqDist(vocabulario_comunidad).most_common(10))\n",
    "vocabularios.append(FreqDist(vocabulario_funcion).most_common(10))\n",
    "vocabularios.append(FreqDist(vocabulario_nacional).most_common(10))\n",
    "vocabularios.append(FreqDist(vocabulario_global).most_common(10))\n",
    "vocabularios.append(FreqDist(vocabulario_trending).most_common(10))\n",
    "\n",
    "\n",
    "\n",
    "dfvocabularios=pd.DataFrame()\n",
    "\n",
    "dfvocabularios['Topics']=topics\n",
    "dfvocabularios['Vocabulario Global']=vocabularios\n",
    "\n",
    "dfvocabularios.head()\n",
    "\n",
    "\n"
   ]
  },
  {
   "cell_type": "code",
   "execution_count": 35,
   "id": "96a291e6-050c-4da9-ba37-14bfc10bcefe",
   "metadata": {},
   "outputs": [],
   "source": [
    "#dfadrenalina=pd.DataFrame()\n",
    "#\n",
    "#for i in range(0,len(dfnotas.index)):\n",
    "#    if dfnotas.iloc[i]['Topic']=='adrenalina':\n",
    "#        dfadrenalina.concat(dfnotas.loc[i])\n"
   ]
  },
  {
   "cell_type": "code",
   "execution_count": null,
   "id": "9f4257f7-c71f-4a90-a89f-d45a73acd694",
   "metadata": {},
   "outputs": [],
   "source": []
  },
  {
   "cell_type": "code",
   "execution_count": 180,
   "id": "50d7fedc-54ca-49e4-8194-1223d732508c",
   "metadata": {},
   "outputs": [
    {
     "name": "stdout",
     "output_type": "stream",
     "text": [
      "<class 'pandas.core.frame.DataFrame'>\n",
      "RangeIndex: 4993 entries, 0 to 4992\n",
      "Data columns (total 23 columns):\n",
      " #   Column                      Non-Null Count  Dtype  \n",
      "---  ------                      --------------  -----  \n",
      " 0   sitio                       4993 non-null   object \n",
      " 1   created                     4993 non-null   object \n",
      " 2   title                       4993 non-null   object \n",
      " 3   Fecha                       4993 non-null   object \n",
      " 4   Hora                        4993 non-null   object \n",
      " 5   url                         4993 non-null   object \n",
      " 6   editor                      4993 non-null   float64\n",
      " 7   tags                        4993 non-null   object \n",
      " 8   cuerpo                      4993 non-null   object \n",
      " 9   Número de vistas de página  4993 non-null   float64\n",
      " 10  No.Letras_Url               4993 non-null   int64  \n",
      " 11  No.Palabras_Titulo          4993 non-null   int64  \n",
      " 12  Mas_Frecuentes_Titulo       4993 non-null   object \n",
      " 13  No.Palabras_Cuerpo          4993 non-null   int64  \n",
      " 14  No.Parrafos                 4993 non-null   int64  \n",
      " 15  No.Links                    4993 non-null   int64  \n",
      " 16  No.Imagenes                 4993 non-null   int64  \n",
      " 17  Vocabulario_Cuerpo          4993 non-null   object \n",
      " 18  Tiene_Tags                  4993 non-null   object \n",
      " 19  No.Tags                     4993 non-null   int64  \n",
      " 20  Topic                       4993 non-null   object \n",
      " 21  Horario_de_Publicacion      4993 non-null   object \n",
      " 22  Solo_Hora                   4993 non-null   int64  \n",
      "dtypes: float64(2), int64(8), object(13)\n",
      "memory usage: 897.3+ KB\n"
     ]
    }
   ],
   "source": [
    "dfnotas.info()"
   ]
  },
  {
   "cell_type": "code",
   "execution_count": null,
   "id": "adc31675-6a45-4a9a-840c-807a7d1db3f2",
   "metadata": {},
   "outputs": [],
   "source": []
  },
  {
   "cell_type": "code",
   "execution_count": 181,
   "id": "ab263529-f242-4643-bd67-3d83b3f1fb22",
   "metadata": {},
   "outputs": [
    {
     "data": {
      "text/html": [
       "<div>\n",
       "<style scoped>\n",
       "    .dataframe tbody tr th:only-of-type {\n",
       "        vertical-align: middle;\n",
       "    }\n",
       "\n",
       "    .dataframe tbody tr th {\n",
       "        vertical-align: top;\n",
       "    }\n",
       "\n",
       "    .dataframe thead th {\n",
       "        text-align: right;\n",
       "    }\n",
       "</style>\n",
       "<table border=\"1\" class=\"dataframe\">\n",
       "  <thead>\n",
       "    <tr style=\"text-align: right;\">\n",
       "      <th></th>\n",
       "      <th>editor</th>\n",
       "      <th>Número de vistas de página</th>\n",
       "      <th>No.Letras_Url</th>\n",
       "      <th>No.Palabras_Titulo</th>\n",
       "      <th>No.Palabras_Cuerpo</th>\n",
       "      <th>No.Parrafos</th>\n",
       "      <th>No.Links</th>\n",
       "      <th>No.Imagenes</th>\n",
       "      <th>No.Tags</th>\n",
       "      <th>Solo_Hora</th>\n",
       "    </tr>\n",
       "  </thead>\n",
       "  <tbody>\n",
       "    <tr>\n",
       "      <th>count</th>\n",
       "      <td>4993.0</td>\n",
       "      <td>4993.000000</td>\n",
       "      <td>4993.000000</td>\n",
       "      <td>4993.000000</td>\n",
       "      <td>4993.000000</td>\n",
       "      <td>4993.000000</td>\n",
       "      <td>4993.000000</td>\n",
       "      <td>4993.000000</td>\n",
       "      <td>4993.000000</td>\n",
       "      <td>4993.000000</td>\n",
       "    </tr>\n",
       "    <tr>\n",
       "      <th>mean</th>\n",
       "      <td>0.0</td>\n",
       "      <td>19703.471861</td>\n",
       "      <td>105.673944</td>\n",
       "      <td>13.583217</td>\n",
       "      <td>586.138794</td>\n",
       "      <td>17.571801</td>\n",
       "      <td>5.617264</td>\n",
       "      <td>1.547366</td>\n",
       "      <td>10.756860</td>\n",
       "      <td>14.017024</td>\n",
       "    </tr>\n",
       "    <tr>\n",
       "      <th>std</th>\n",
       "      <td>0.0</td>\n",
       "      <td>52468.580556</td>\n",
       "      <td>17.721555</td>\n",
       "      <td>3.462935</td>\n",
       "      <td>288.860572</td>\n",
       "      <td>17.659294</td>\n",
       "      <td>3.352298</td>\n",
       "      <td>1.623461</td>\n",
       "      <td>5.563676</td>\n",
       "      <td>3.355044</td>\n",
       "    </tr>\n",
       "    <tr>\n",
       "      <th>min</th>\n",
       "      <td>0.0</td>\n",
       "      <td>162.000000</td>\n",
       "      <td>46.000000</td>\n",
       "      <td>2.000000</td>\n",
       "      <td>28.000000</td>\n",
       "      <td>-4.000000</td>\n",
       "      <td>0.000000</td>\n",
       "      <td>0.000000</td>\n",
       "      <td>1.000000</td>\n",
       "      <td>0.000000</td>\n",
       "    </tr>\n",
       "    <tr>\n",
       "      <th>25%</th>\n",
       "      <td>0.0</td>\n",
       "      <td>808.000000</td>\n",
       "      <td>94.000000</td>\n",
       "      <td>11.000000</td>\n",
       "      <td>374.000000</td>\n",
       "      <td>4.000000</td>\n",
       "      <td>4.000000</td>\n",
       "      <td>0.000000</td>\n",
       "      <td>7.000000</td>\n",
       "      <td>12.000000</td>\n",
       "    </tr>\n",
       "    <tr>\n",
       "      <th>50%</th>\n",
       "      <td>0.0</td>\n",
       "      <td>2589.000000</td>\n",
       "      <td>112.000000</td>\n",
       "      <td>14.000000</td>\n",
       "      <td>510.000000</td>\n",
       "      <td>13.000000</td>\n",
       "      <td>5.000000</td>\n",
       "      <td>1.000000</td>\n",
       "      <td>10.000000</td>\n",
       "      <td>14.000000</td>\n",
       "    </tr>\n",
       "    <tr>\n",
       "      <th>75%</th>\n",
       "      <td>0.0</td>\n",
       "      <td>11482.000000</td>\n",
       "      <td>120.000000</td>\n",
       "      <td>16.000000</td>\n",
       "      <td>742.000000</td>\n",
       "      <td>28.000000</td>\n",
       "      <td>7.000000</td>\n",
       "      <td>2.000000</td>\n",
       "      <td>14.000000</td>\n",
       "      <td>16.000000</td>\n",
       "    </tr>\n",
       "    <tr>\n",
       "      <th>max</th>\n",
       "      <td>0.0</td>\n",
       "      <td>497286.000000</td>\n",
       "      <td>126.000000</td>\n",
       "      <td>27.000000</td>\n",
       "      <td>2676.000000</td>\n",
       "      <td>102.000000</td>\n",
       "      <td>46.000000</td>\n",
       "      <td>11.000000</td>\n",
       "      <td>79.000000</td>\n",
       "      <td>23.000000</td>\n",
       "    </tr>\n",
       "  </tbody>\n",
       "</table>\n",
       "</div>"
      ],
      "text/plain": [
       "       editor  Número de vistas de página  No.Letras_Url  No.Palabras_Titulo  \\\n",
       "count  4993.0                 4993.000000    4993.000000         4993.000000   \n",
       "mean      0.0                19703.471861     105.673944           13.583217   \n",
       "std       0.0                52468.580556      17.721555            3.462935   \n",
       "min       0.0                  162.000000      46.000000            2.000000   \n",
       "25%       0.0                  808.000000      94.000000           11.000000   \n",
       "50%       0.0                 2589.000000     112.000000           14.000000   \n",
       "75%       0.0                11482.000000     120.000000           16.000000   \n",
       "max       0.0               497286.000000     126.000000           27.000000   \n",
       "\n",
       "       No.Palabras_Cuerpo  No.Parrafos     No.Links  No.Imagenes      No.Tags  \\\n",
       "count         4993.000000  4993.000000  4993.000000  4993.000000  4993.000000   \n",
       "mean           586.138794    17.571801     5.617264     1.547366    10.756860   \n",
       "std            288.860572    17.659294     3.352298     1.623461     5.563676   \n",
       "min             28.000000    -4.000000     0.000000     0.000000     1.000000   \n",
       "25%            374.000000     4.000000     4.000000     0.000000     7.000000   \n",
       "50%            510.000000    13.000000     5.000000     1.000000    10.000000   \n",
       "75%            742.000000    28.000000     7.000000     2.000000    14.000000   \n",
       "max           2676.000000   102.000000    46.000000    11.000000    79.000000   \n",
       "\n",
       "         Solo_Hora  \n",
       "count  4993.000000  \n",
       "mean     14.017024  \n",
       "std       3.355044  \n",
       "min       0.000000  \n",
       "25%      12.000000  \n",
       "50%      14.000000  \n",
       "75%      16.000000  \n",
       "max      23.000000  "
      ]
     },
     "execution_count": 181,
     "metadata": {},
     "output_type": "execute_result"
    }
   ],
   "source": [
    "dfnotas.describe()"
   ]
  },
  {
   "cell_type": "code",
   "execution_count": 17,
   "id": "449fcb1c-6ff1-492d-aee2-98bba603ba3f",
   "metadata": {},
   "outputs": [
    {
     "name": "stdout",
     "output_type": "stream",
     "text": [
      "Saving figure attribute_histogram_plots\n"
     ]
    },
    {
     "data": {
      "image/png": "[encoded data removed]",
      "text/plain": [
       "<Figure size 1440x1080 with 12 Axes>"
      ]
     },
     "metadata": {
      "needs_background": "light"
     },
     "output_type": "display_data"
    }
   ],
   "source": [
    "%matplotlib inline\n",
    "import matplotlib.pyplot as plt\n",
    "dfnotas.hist(bins=100, figsize=(20,15))\n",
    "save_fig(\"attribute_histogram_plots\")\n",
    "plt.show()"
   ]
  },
  {
   "cell_type": "code",
   "execution_count": 182,
   "id": "909e62b3-2059-45a5-bfb0-9d4b3e41d336",
   "metadata": {},
   "outputs": [
    {
     "data": {
      "text/plain": [
       "Número de vistas de página    1.000000\n",
       "No.Tags                       0.141190\n",
       "No.Imagenes                   0.081826\n",
       "No.Palabras_Titulo            0.053246\n",
       "No.Letras_Url                 0.034126\n",
       "Solo_Hora                     0.010086\n",
       "No.Links                      0.006943\n",
       "No.Parrafos                  -0.107332\n",
       "No.Palabras_Cuerpo           -0.120675\n",
       "editor                             NaN\n",
       "Name: Número de vistas de página, dtype: float64"
      ]
     },
     "execution_count": 182,
     "metadata": {},
     "output_type": "execute_result"
    }
   ],
   "source": [
    "dfnotas\n",
    "corr_matrix = dfnotas.corr()\n",
    "corr_matrix['Número de vistas de página'].sort_values(ascending=False)"
   ]
  },
  {
   "cell_type": "code",
   "execution_count": 19,
   "id": "959e0dbb-6353-4995-a9b5-85a343fa3d15",
   "metadata": {},
   "outputs": [
    {
     "name": "stdout",
     "output_type": "stream",
     "text": [
      "Saving figure attribute_histogram_plots\n"
     ]
    },
    {
     "data": {
      "image/png": "[encoded data removed]",
      "text/plain": [
       "<Figure size 1080x720 with 36 Axes>"
      ]
     },
     "metadata": {
      "needs_background": "light"
     },
     "output_type": "display_data"
    }
   ],
   "source": [
    "from pandas.plotting import scatter_matrix\n",
    "\n",
    "attributes = [\"Número de vistas de página\", \"No.Palabras_Titulo\",\"No.Tags\",\"No.Palabras_Cuerpo\",\"No.Imagenes\",\"No.Links\"]\n",
    "scatter_matrix(dfnotas[attributes], figsize=(15, 10))\n",
    "save_fig(\"attribute_histogram_plots\")"
   ]
  },
  {
   "cell_type": "code",
   "execution_count": 23,
   "id": "ea5e4269-d470-41d9-b7f9-401eea617364",
   "metadata": {},
   "outputs": [
    {
     "name": "stdout",
     "output_type": "stream",
     "text": [
      "Saving figure attribute_histogram_plots\n"
     ]
    },
    {
     "data": {
      "image/png": "[encoded data removed]",
      "text/plain": [
       "<Figure size 1080x720 with 4 Axes>"
      ]
     },
     "metadata": {
      "needs_background": "light"
     },
     "output_type": "display_data"
    }
   ],
   "source": [
    "from pandas.plotting import scatter_matrix\n",
    "\n",
    "attributes = [\"Número de vistas de página\", \"No.Tags\"]\n",
    "scatter_matrix(dfnotas[attributes], figsize=(15, 10),color=\"green\")\n",
    "save_fig(\"attribute_histogram_plots\")"
   ]
  },
  {
   "cell_type": "code",
   "execution_count": 20,
   "id": "e24e6905-654c-42d9-acfc-b2b64e3e9df4",
   "metadata": {},
   "outputs": [
    {
     "data": {
      "image/png": "[encoded data removed]",
      "text/plain": [
       "<Figure size 432x288 with 1 Axes>"
      ]
     },
     "metadata": {
      "needs_background": "light"
     },
     "output_type": "display_data"
    }
   ],
   "source": [
    "plt.bar( dfnotas['Horario_de_Publicacion'], dfnotas['Número de vistas de página'])\n",
    "plt.show()\n"
   ]
  },
  {
   "cell_type": "code",
   "execution_count": 21,
   "id": "fd085a41-a80f-4409-9323-095b7209c67b",
   "metadata": {},
   "outputs": [
    {
     "data": {
      "image/png": "[encoded data removed]",
      "text/plain": [
       "<Figure size 432x288 with 1 Axes>"
      ]
     },
     "metadata": {
      "needs_background": "light"
     },
     "output_type": "display_data"
    }
   ],
   "source": [
    "plt.bar( dfnotas['Solo_Hora'], dfnotas['Número de vistas de página'])\n",
    "plt.ylabel(\"Vitas\")\n",
    "plt.show()\n"
   ]
  },
  {
   "cell_type": "code",
   "execution_count": 20,
   "id": "75778e83-82bf-4983-9ed5-6dc2d0b3ef14",
   "metadata": {},
   "outputs": [
    {
     "data": {
      "image/png": "[encoded data removed]",
      "text/plain": [
       "<Figure size 432x288 with 1 Axes>"
      ]
     },
     "metadata": {
      "needs_background": "light"
     },
     "output_type": "display_data"
    }
   ],
   "source": [
    "(counts, bins, patches) = plt.hist(dfnotas[\"Solo_Hora\"])\n",
    "plt.xlabel(\"Horas\")\n",
    "plt.ylabel(\"Notas\")\n",
    "plt.show()"
   ]
  },
  {
   "cell_type": "code",
   "execution_count": 21,
   "id": "24f7cdca-9814-481f-83ae-68d4df5e97d9",
   "metadata": {},
   "outputs": [
    {
     "data": {
      "image/png": "[encoded data removed]",
      "text/plain": [
       "<Figure size 432x288 with 1 Axes>"
      ]
     },
     "metadata": {
      "needs_background": "light"
     },
     "output_type": "display_data"
    }
   ],
   "source": [
    "plt.barh( dfnotas['Topic'], dfnotas['Número de vistas de página'])\n",
    "plt.show()\n"
   ]
  },
  {
   "cell_type": "code",
   "execution_count": 22,
   "id": "76f5df22-d4e3-41aa-9f8b-96a41dde135f",
   "metadata": {},
   "outputs": [
    {
     "ename": "IndentationError",
     "evalue": "expected an indented block (16220344.py, line 3)",
     "output_type": "error",
     "traceback": [
      "\u001b[1;36m  Input \u001b[1;32mIn [22]\u001b[1;36m\u001b[0m\n\u001b[1;33m    if dfnotas.iloc[i]['Topic'] == 'acupuntura' :\u001b[0m\n\u001b[1;37m                                                 ^\u001b[0m\n\u001b[1;31mIndentationError\u001b[0m\u001b[1;31m:\u001b[0m expected an indented block\n"
     ]
    }
   ],
   "source": [
    "for i in range(0,len(dfnotas.index)):\n",
    "    \n",
    "    if dfnotas.iloc[i]['Topic'] == 'acupuntura' :"
   ]
  },
  {
   "cell_type": "code",
   "execution_count": null,
   "id": "f380e4e6-1a59-40b8-bb5e-6aeb4962f32a",
   "metadata": {},
   "outputs": [],
   "source": [
    "plt.barh( dfnotas['editor'], dfnotas['Número de vistas de página'])\n",
    "plt.show()\n"
   ]
  },
  {
   "cell_type": "code",
   "execution_count": null,
   "id": "fcf20199-ee43-433b-8f33-26a81a433fb9",
   "metadata": {},
   "outputs": [],
   "source": []
  },
  {
   "cell_type": "code",
   "execution_count": null,
   "id": "da349012-1bdb-4000-81be-241b10abf890",
   "metadata": {},
   "outputs": [],
   "source": []
  },
  {
   "cell_type": "code",
   "execution_count": null,
   "id": "bc2a12da-c7d0-4b60-9402-0a7eaf86edbf",
   "metadata": {},
   "outputs": [],
   "source": [
    "fig, ax = plt.subplots(figsize=(10, 6))\n",
    "\n",
    "x_values = dfnotas[\"Solo_Hora\"].unique()\n",
    "\n",
    "ax.scatter(x = dfnotas[\"Solo_Hora\"], y = dfnotas[\"Número de vistas de página\"])\n",
    "plt.xlabel(\"Solo_Hora\",fontsize=25)\n",
    "plt.ylabel(\"Numero de vistas de pagina\")\n",
    "\n",
    "plt.show()"
   ]
  },
  {
   "cell_type": "code",
   "execution_count": null,
   "id": "7379d4d6-e4c2-4773-80ad-65a66181a0ab",
   "metadata": {},
   "outputs": [],
   "source": [
    "plt.rcParams[\"figure.figsize\"] = (25, 5)\n",
    "plt.xticks(np.arange(0.7, 12, step=1.4))\n",
    "plt.hist( dfnotas['Topic'],rwidth=0.9)\n",
    "\n",
    "plt.show()\n"
   ]
  },
  {
   "cell_type": "markdown",
   "id": "9a3ff58f-50c1-42e7-a5de-76cd883f7f84",
   "metadata": {},
   "source": [
    "# ESTRATIFICACION DE DATOS"
   ]
  },
  {
   "cell_type": "code",
   "execution_count": 183,
   "id": "c35b30f6-3c8e-44c2-9e46-17386f491306",
   "metadata": {},
   "outputs": [],
   "source": [
    "from sklearn.model_selection import train_test_split\n",
    "\n",
    "train_set, test_set = train_test_split(dfnotas, test_size=0.2, random_state=42)"
   ]
  },
  {
   "cell_type": "code",
   "execution_count": 30,
   "id": "418de191-b8e3-4071-aaf5-968b67fc7ffa",
   "metadata": {},
   "outputs": [],
   "source": [
    "#test_set.head()"
   ]
  },
  {
   "cell_type": "code",
   "execution_count": 184,
   "id": "41737d19-437e-45b9-93ac-5cfa0722084a",
   "metadata": {},
   "outputs": [
    {
     "data": {
      "text/plain": [
       "<AxesSubplot:>"
      ]
     },
     "execution_count": 184,
     "metadata": {},
     "output_type": "execute_result"
    },
    {
     "data": {
      "image/png": "[encoded data removed]",
      "text/plain": [
       "<Figure size 432x288 with 1 Axes>"
      ]
     },
     "metadata": {
      "needs_background": "light"
     },
     "output_type": "display_data"
    }
   ],
   "source": [
    "dfnotas[\"Número de vistas de página\"].hist()"
   ]
  },
  {
   "cell_type": "code",
   "execution_count": 185,
   "id": "fa05d5c4-674a-436e-a447-c4da6335c839",
   "metadata": {},
   "outputs": [],
   "source": [
    "\n",
    "dfnotas[\"Calidad_Nota\"] = np.ceil(dfnotas[\"Número de vistas de página\"] / 1.5)\n",
    "\n",
    "dfnotas[\"Calidad_Nota\"].where(dfnotas[\"Calidad_Nota\"] < 10000, 2, inplace=True)"
   ]
  },
  {
   "cell_type": "code",
   "execution_count": 186,
   "id": "96ffbd39-8407-4d84-b277-242676c38994",
   "metadata": {},
   "outputs": [],
   "source": [
    "dfnotas[\"Calidad_Nota\"] = pd.cut(dfnotas[\"Número de vistas de página\"],  #generamos los indices para clasificar las notas\n",
    "                               bins=[0.,10000., np.inf],\n",
    "                               labels=[1, 2])"
   ]
  },
  {
   "cell_type": "code",
   "execution_count": 187,
   "id": "d491197d-104d-4a0e-8daa-31d02c96bcbd",
   "metadata": {},
   "outputs": [
    {
     "data": {
      "text/plain": [
       "1    3643\n",
       "2    1350\n",
       "Name: Calidad_Nota, dtype: int64"
      ]
     },
     "execution_count": 187,
     "metadata": {},
     "output_type": "execute_result"
    }
   ],
   "source": [
    "dfnotas[\"Calidad_Nota\"].value_counts()"
   ]
  },
  {
   "cell_type": "code",
   "execution_count": 188,
   "id": "3ab3c517-fa83-42e3-81df-0839fe00f8d2",
   "metadata": {},
   "outputs": [
    {
     "data": {
      "text/plain": [
       "<AxesSubplot:>"
      ]
     },
     "execution_count": 188,
     "metadata": {},
     "output_type": "execute_result"
    },
    {
     "data": {
      "image/png": "[encoded data removed]",
      "text/plain": [
       "<Figure size 432x288 with 1 Axes>"
      ]
     },
     "metadata": {
      "needs_background": "light"
     },
     "output_type": "display_data"
    }
   ],
   "source": [
    "dfnotas[\"Calidad_Nota\"].hist()"
   ]
  },
  {
   "cell_type": "code",
   "execution_count": null,
   "id": "a83ae8c4-4b09-48a0-ac88-749997ad404c",
   "metadata": {},
   "outputs": [],
   "source": []
  },
  {
   "cell_type": "code",
   "execution_count": null,
   "id": "2c5d8f58-aae7-45fa-84c6-15639d656c7d",
   "metadata": {},
   "outputs": [],
   "source": []
  },
  {
   "cell_type": "code",
   "execution_count": 189,
   "id": "80395e59-5485-4ab4-a8b9-094a09aa3213",
   "metadata": {},
   "outputs": [],
   "source": [
    "from sklearn.model_selection import StratifiedShuffleSplit\n",
    "\n",
    "split = StratifiedShuffleSplit(n_splits=1, test_size=0.2, random_state=42)\n",
    "for train_index, test_index in split.split(dfnotas, dfnotas[\"Topic\"]):\n",
    "    strat_train_set = dfnotas.loc[train_index]\n",
    "    strat_test_set = dfnotas.loc[test_index]"
   ]
  },
  {
   "cell_type": "code",
   "execution_count": 190,
   "id": "e59cb73d-c83f-437f-8163-6148a5f8e784",
   "metadata": {},
   "outputs": [
    {
     "data": {
      "text/plain": [
       "salud-dia-a-dia    0.544545\n",
       "bienestar180       0.166166\n",
       "salud-a-z          0.141141\n",
       "null               0.102102\n",
       "enforma180         0.033033\n",
       "salud-dia-dia      0.013013\n",
       "Name: Topic, dtype: float64"
      ]
     },
     "execution_count": 190,
     "metadata": {},
     "output_type": "execute_result"
    }
   ],
   "source": [
    "strat_test_set[\"Topic\"].value_counts() / len(strat_test_set)"
   ]
  },
  {
   "cell_type": "code",
   "execution_count": null,
   "id": "54fdf59e-d17c-4b92-8a0e-a423316e2731",
   "metadata": {},
   "outputs": [],
   "source": []
  },
  {
   "cell_type": "code",
   "execution_count": 191,
   "id": "8805402f-bfb0-49ee-9ce3-e87c52053536",
   "metadata": {},
   "outputs": [],
   "source": [
    "def income_cat_proportions(data):\n",
    "    return data[\"Topic\"].value_counts() / len(data)\n",
    "\n",
    "train_set, test_set = train_test_split(dfnotas, test_size=0.2, random_state=42)\n",
    "\n",
    "compare_props = pd.DataFrame({\n",
    "    \"Overall\": income_cat_proportions(dfnotas),\n",
    "    \"Stratified\": income_cat_proportions(strat_test_set),\n",
    "    \"Random\": income_cat_proportions(test_set),\n",
    "}).sort_index()\n",
    "compare_props[\"Rand. %error\"] = 100 * compare_props[\"Random\"] / compare_props[\"Overall\"] - 100\n",
    "compare_props[\"Strat. %error\"] = 100 * compare_props[\"Stratified\"] / compare_props[\"Overall\"] - 100"
   ]
  },
  {
   "cell_type": "code",
   "execution_count": 192,
   "id": "1d2ae73e-339c-44a1-9488-55320ccb028f",
   "metadata": {},
   "outputs": [
    {
     "data": {
      "text/html": [
       "<div>\n",
       "<style scoped>\n",
       "    .dataframe tbody tr th:only-of-type {\n",
       "        vertical-align: middle;\n",
       "    }\n",
       "\n",
       "    .dataframe tbody tr th {\n",
       "        vertical-align: top;\n",
       "    }\n",
       "\n",
       "    .dataframe thead th {\n",
       "        text-align: right;\n",
       "    }\n",
       "</style>\n",
       "<table border=\"1\" class=\"dataframe\">\n",
       "  <thead>\n",
       "    <tr style=\"text-align: right;\">\n",
       "      <th></th>\n",
       "      <th>Overall</th>\n",
       "      <th>Stratified</th>\n",
       "      <th>Random</th>\n",
       "      <th>Rand. %error</th>\n",
       "      <th>Strat. %error</th>\n",
       "    </tr>\n",
       "  </thead>\n",
       "  <tbody>\n",
       "    <tr>\n",
       "      <th>bienestar180</th>\n",
       "      <td>0.166032</td>\n",
       "      <td>0.166166</td>\n",
       "      <td>0.152152</td>\n",
       "      <td>-8.359988</td>\n",
       "      <td>0.080539</td>\n",
       "    </tr>\n",
       "    <tr>\n",
       "      <th>enforma180</th>\n",
       "      <td>0.033247</td>\n",
       "      <td>0.033033</td>\n",
       "      <td>0.032032</td>\n",
       "      <td>-3.653051</td>\n",
       "      <td>-0.642208</td>\n",
       "    </tr>\n",
       "    <tr>\n",
       "      <th>null</th>\n",
       "      <td>0.102343</td>\n",
       "      <td>0.102102</td>\n",
       "      <td>0.128128</td>\n",
       "      <td>25.194470</td>\n",
       "      <td>-0.235656</td>\n",
       "    </tr>\n",
       "    <tr>\n",
       "      <th>salud-a-z</th>\n",
       "      <td>0.140997</td>\n",
       "      <td>0.141141</td>\n",
       "      <td>0.130130</td>\n",
       "      <td>-7.707423</td>\n",
       "      <td>0.101949</td>\n",
       "    </tr>\n",
       "    <tr>\n",
       "      <th>salud-dia-a-dia</th>\n",
       "      <td>0.544362</td>\n",
       "      <td>0.544545</td>\n",
       "      <td>0.542543</td>\n",
       "      <td>-0.334256</td>\n",
       "      <td>0.033514</td>\n",
       "    </tr>\n",
       "    <tr>\n",
       "      <th>salud-dia-dia</th>\n",
       "      <td>0.013018</td>\n",
       "      <td>0.013013</td>\n",
       "      <td>0.015015</td>\n",
       "      <td>15.338415</td>\n",
       "      <td>-0.040040</td>\n",
       "    </tr>\n",
       "  </tbody>\n",
       "</table>\n",
       "</div>"
      ],
      "text/plain": [
       "                  Overall  Stratified    Random  Rand. %error  Strat. %error\n",
       "bienestar180     0.166032    0.166166  0.152152     -8.359988       0.080539\n",
       "enforma180       0.033247    0.033033  0.032032     -3.653051      -0.642208\n",
       "null             0.102343    0.102102  0.128128     25.194470      -0.235656\n",
       "salud-a-z        0.140997    0.141141  0.130130     -7.707423       0.101949\n",
       "salud-dia-a-dia  0.544362    0.544545  0.542543     -0.334256       0.033514\n",
       "salud-dia-dia    0.013018    0.013013  0.015015     15.338415      -0.040040"
      ]
     },
     "execution_count": 192,
     "metadata": {},
     "output_type": "execute_result"
    }
   ],
   "source": [
    "compare_props"
   ]
  },
  {
   "cell_type": "code",
   "execution_count": 110,
   "id": "fccbbe9c-c7ad-4954-80b3-baa69084f90f",
   "metadata": {},
   "outputs": [],
   "source": [
    "y_train, y_test = strat_train_set[\"Calidad_Nota\"], strat_test_set[\"Calidad_Nota\"]"
   ]
  },
  {
   "cell_type": "code",
   "execution_count": 337,
   "id": "b62c4b66-8a44-4e6b-827d-6e44e0e89a16",
   "metadata": {},
   "outputs": [
    {
     "data": {
      "text/plain": [
       "3191    1\n",
       "3236    1\n",
       "2533    1\n",
       "746     2\n",
       "2696    1\n",
       "       ..\n",
       "1063    2\n",
       "2894    1\n",
       "3004    1\n",
       "4509    1\n",
       "3339    1\n",
       "Name: Calidad_Nota, Length: 999, dtype: category\n",
       "Categories (2, int64): [1 < 2]"
      ]
     },
     "execution_count": 337,
     "metadata": {},
     "output_type": "execute_result"
    }
   ],
   "source": [
    "y_test"
   ]
  },
  {
   "cell_type": "code",
   "execution_count": null,
   "id": "77502745-7bf7-45e4-ac95-8d6bb72a9a71",
   "metadata": {},
   "outputs": [],
   "source": []
  },
  {
   "cell_type": "code",
   "execution_count": 234,
   "id": "22886cf0-038b-4d38-878d-4637061f7699",
   "metadata": {},
   "outputs": [],
   "source": [
    "for set_ in (strat_train_set, strat_test_set):\n",
    "    set_.drop(\"Calidad_Nota\", axis=1, inplace=True)"
   ]
  },
  {
   "cell_type": "code",
   "execution_count": null,
   "id": "c8e169ea-b34b-4b54-b6b3-c41ae4d494a9",
   "metadata": {},
   "outputs": [],
   "source": []
  },
  {
   "cell_type": "markdown",
   "id": "e6fe2269-b42e-4756-8be5-a743f92dcba0",
   "metadata": {},
   "source": [
    "# ENTRENAMIENTO DEL MODELO DE CLASIFICACION"
   ]
  },
  {
   "cell_type": "code",
   "execution_count": 348,
   "id": "5d39060e-f891-4dae-9d59-aef0976de00c",
   "metadata": {},
   "outputs": [],
   "source": [
    "entrenamiento= strat_train_set.copy() #Copio el df en uno nuevo para entrenar"
   ]
  },
  {
   "cell_type": "code",
   "execution_count": 349,
   "id": "dc28e222-5e78-4c1b-9ab7-e66db0465df1",
   "metadata": {},
   "outputs": [],
   "source": [
    "y_train_buena = (y_train == 2).to_numpy()\n",
    "y_test_buena = (y_test == 2).to_numpy()  #arrays con true o false en la posicion de las notas con clasificacion 2"
   ]
  },
  {
   "cell_type": "code",
   "execution_count": null,
   "id": "868832d7-c7fa-4ef7-a0e3-194e92d27011",
   "metadata": {},
   "outputs": [],
   "source": []
  },
  {
   "cell_type": "code",
   "execution_count": 350,
   "id": "dbd83a89-01b5-4aa6-b3aa-49e7dc32dcce",
   "metadata": {},
   "outputs": [
    {
     "data": {
      "text/html": [
       "<div>\n",
       "<style scoped>\n",
       "    .dataframe tbody tr th:only-of-type {\n",
       "        vertical-align: middle;\n",
       "    }\n",
       "\n",
       "    .dataframe tbody tr th {\n",
       "        vertical-align: top;\n",
       "    }\n",
       "\n",
       "    .dataframe thead th {\n",
       "        text-align: right;\n",
       "    }\n",
       "</style>\n",
       "<table border=\"1\" class=\"dataframe\">\n",
       "  <thead>\n",
       "    <tr style=\"text-align: right;\">\n",
       "      <th></th>\n",
       "      <th>sitio</th>\n",
       "      <th>created</th>\n",
       "      <th>title</th>\n",
       "      <th>Fecha</th>\n",
       "      <th>Hora</th>\n",
       "      <th>url</th>\n",
       "      <th>editor</th>\n",
       "      <th>tags</th>\n",
       "      <th>cuerpo</th>\n",
       "      <th>No.Letras_Url</th>\n",
       "      <th>...</th>\n",
       "      <th>No.Palabras_Cuerpo</th>\n",
       "      <th>No.Parrafos</th>\n",
       "      <th>No.Links</th>\n",
       "      <th>No.Imagenes</th>\n",
       "      <th>Vocabulario_Cuerpo</th>\n",
       "      <th>Tiene_Tags</th>\n",
       "      <th>No.Tags</th>\n",
       "      <th>Topic</th>\n",
       "      <th>Horario_de_Publicacion</th>\n",
       "      <th>Solo_Hora</th>\n",
       "    </tr>\n",
       "  </thead>\n",
       "  <tbody>\n",
       "    <tr>\n",
       "      <th>4860</th>\n",
       "      <td>salud180</td>\n",
       "      <td>28 jun 2022, 23:24:03</td>\n",
       "      <td>Mantén hermosa tu Colocasia \"Black Magic\", ¿có...</td>\n",
       "      <td>2022-06-28</td>\n",
       "      <td>18:24:03</td>\n",
       "      <td>https://www.salud180.com/salud-dia-a-dia/mante...</td>\n",
       "      <td>0.0</td>\n",
       "      <td>_Cómo cuidar una colocasia Back Magic_cómo reg...</td>\n",
       "      <td>Si te encantan las plantas exóticas y no se te...</td>\n",
       "      <td>118</td>\n",
       "      <td>...</td>\n",
       "      <td>665</td>\n",
       "      <td>0</td>\n",
       "      <td>3</td>\n",
       "      <td>3</td>\n",
       "      <td>{para, mueren, sus, sensible, hacer, 10, rayo,...</td>\n",
       "      <td>Si</td>\n",
       "      <td>7</td>\n",
       "      <td>salud-dia-a-dia</td>\n",
       "      <td>Tarde</td>\n",
       "      <td>18</td>\n",
       "    </tr>\n",
       "    <tr>\n",
       "      <th>2589</th>\n",
       "      <td>salud180</td>\n",
       "      <td>10 abr 2021, 14:23:06</td>\n",
       "      <td>Estas son las frutas más caras de Japón: ¿son ...</td>\n",
       "      <td>2021-04-10</td>\n",
       "      <td>9:23:06</td>\n",
       "      <td>https://www.salud180.com/enforma180/estas-son-...</td>\n",
       "      <td>0.0</td>\n",
       "      <td>_salud180_frutas_propiedades frutas_frutas jap...</td>\n",
       "      <td>Japón es reconocido por su cultura, gastronomí...</td>\n",
       "      <td>106</td>\n",
       "      <td>...</td>\n",
       "      <td>1238</td>\n",
       "      <td>59</td>\n",
       "      <td>8</td>\n",
       "      <td>1</td>\n",
       "      <td>{para, ciento, melones, cara, sus, 575, inclus...</td>\n",
       "      <td>Si</td>\n",
       "      <td>14</td>\n",
       "      <td>enforma180</td>\n",
       "      <td>Mañana</td>\n",
       "      <td>9</td>\n",
       "    </tr>\n",
       "  </tbody>\n",
       "</table>\n",
       "<p>2 rows × 22 columns</p>\n",
       "</div>"
      ],
      "text/plain": [
       "         sitio                created  \\\n",
       "4860  salud180  28 jun 2022, 23:24:03   \n",
       "2589  salud180  10 abr 2021, 14:23:06   \n",
       "\n",
       "                                                  title       Fecha      Hora  \\\n",
       "4860  Mantén hermosa tu Colocasia \"Black Magic\", ¿có...  2022-06-28  18:24:03   \n",
       "2589  Estas son las frutas más caras de Japón: ¿son ...  2021-04-10   9:23:06   \n",
       "\n",
       "                                                    url  editor  \\\n",
       "4860  https://www.salud180.com/salud-dia-a-dia/mante...     0.0   \n",
       "2589  https://www.salud180.com/enforma180/estas-son-...     0.0   \n",
       "\n",
       "                                                   tags  \\\n",
       "4860  _Cómo cuidar una colocasia Back Magic_cómo reg...   \n",
       "2589  _salud180_frutas_propiedades frutas_frutas jap...   \n",
       "\n",
       "                                                 cuerpo  No.Letras_Url  ...  \\\n",
       "4860  Si te encantan las plantas exóticas y no se te...            118  ...   \n",
       "2589  Japón es reconocido por su cultura, gastronomí...            106  ...   \n",
       "\n",
       "      No.Palabras_Cuerpo No.Parrafos  No.Links  No.Imagenes  \\\n",
       "4860                 665           0         3            3   \n",
       "2589                1238          59         8            1   \n",
       "\n",
       "                                     Vocabulario_Cuerpo  Tiene_Tags No.Tags  \\\n",
       "4860  {para, mueren, sus, sensible, hacer, 10, rayo,...          Si       7   \n",
       "2589  {para, ciento, melones, cara, sus, 575, inclus...          Si      14   \n",
       "\n",
       "                Topic  Horario_de_Publicacion Solo_Hora  \n",
       "4860  salud-dia-a-dia                   Tarde        18  \n",
       "2589       enforma180                  Mañana         9  \n",
       "\n",
       "[2 rows x 22 columns]"
      ]
     },
     "execution_count": 350,
     "metadata": {},
     "output_type": "execute_result"
    }
   ],
   "source": [
    "entrenamiento=entrenamiento.drop(['Número de vistas de página'],axis=1)\n",
    "entrenamiento.head(2)"
   ]
  },
  {
   "cell_type": "code",
   "execution_count": 351,
   "id": "dd32b789-3239-4303-bedc-632b8dd53daf",
   "metadata": {},
   "outputs": [
    {
     "data": {
      "text/html": [
       "<div>\n",
       "<style scoped>\n",
       "    .dataframe tbody tr th:only-of-type {\n",
       "        vertical-align: middle;\n",
       "    }\n",
       "\n",
       "    .dataframe tbody tr th {\n",
       "        vertical-align: top;\n",
       "    }\n",
       "\n",
       "    .dataframe thead th {\n",
       "        text-align: right;\n",
       "    }\n",
       "</style>\n",
       "<table border=\"1\" class=\"dataframe\">\n",
       "  <thead>\n",
       "    <tr style=\"text-align: right;\">\n",
       "      <th></th>\n",
       "      <th>sitio</th>\n",
       "      <th>created</th>\n",
       "      <th>title</th>\n",
       "      <th>Fecha</th>\n",
       "      <th>Hora</th>\n",
       "      <th>url</th>\n",
       "      <th>editor</th>\n",
       "      <th>tags</th>\n",
       "      <th>cuerpo</th>\n",
       "      <th>No.Letras_Url</th>\n",
       "      <th>...</th>\n",
       "      <th>No.Palabras_Cuerpo</th>\n",
       "      <th>No.Parrafos</th>\n",
       "      <th>No.Links</th>\n",
       "      <th>No.Imagenes</th>\n",
       "      <th>Vocabulario_Cuerpo</th>\n",
       "      <th>Tiene_Tags</th>\n",
       "      <th>No.Tags</th>\n",
       "      <th>Topic</th>\n",
       "      <th>Horario_de_Publicacion</th>\n",
       "      <th>Solo_Hora</th>\n",
       "    </tr>\n",
       "  </thead>\n",
       "  <tbody>\n",
       "  </tbody>\n",
       "</table>\n",
       "<p>0 rows × 22 columns</p>\n",
       "</div>"
      ],
      "text/plain": [
       "Empty DataFrame\n",
       "Columns: [sitio, created, title, Fecha, Hora, url, editor, tags, cuerpo, No.Letras_Url, No.Palabras_Titulo, Mas_Frecuentes_Titulo, No.Palabras_Cuerpo, No.Parrafos, No.Links, No.Imagenes, Vocabulario_Cuerpo, Tiene_Tags, No.Tags, Topic, Horario_de_Publicacion, Solo_Hora]\n",
       "Index: []\n",
       "\n",
       "[0 rows x 22 columns]"
      ]
     },
     "execution_count": 351,
     "metadata": {},
     "output_type": "execute_result"
    }
   ],
   "source": [
    "sample_incomplete_rows = entrenamiento[entrenamiento.isnull().any(axis=1)].head() #No hay valoren nulos\n",
    "sample_incomplete_rows"
   ]
  },
  {
   "cell_type": "code",
   "execution_count": null,
   "id": "e0cfa668-f4ab-4609-af23-ade1aa7c1512",
   "metadata": {},
   "outputs": [],
   "source": []
  },
  {
   "cell_type": "code",
   "execution_count": null,
   "id": "646eef46-3a6b-43a6-8f48-5bcd38d98a2f",
   "metadata": {},
   "outputs": [],
   "source": []
  },
  {
   "cell_type": "markdown",
   "id": "fe24f0fd-5cc4-40c9-8e94-5a2bc8dcc826",
   "metadata": {},
   "source": [
    "# ENTRENANDO EL MODELO SIN CATEGORICOS"
   ]
  },
  {
   "cell_type": "code",
   "execution_count": 352,
   "id": "203f9991-1aa2-4f95-accc-af0ab0d65d15",
   "metadata": {},
   "outputs": [
    {
     "data": {
      "text/html": [
       "<div>\n",
       "<style scoped>\n",
       "    .dataframe tbody tr th:only-of-type {\n",
       "        vertical-align: middle;\n",
       "    }\n",
       "\n",
       "    .dataframe tbody tr th {\n",
       "        vertical-align: top;\n",
       "    }\n",
       "\n",
       "    .dataframe thead th {\n",
       "        text-align: right;\n",
       "    }\n",
       "</style>\n",
       "<table border=\"1\" class=\"dataframe\">\n",
       "  <thead>\n",
       "    <tr style=\"text-align: right;\">\n",
       "      <th></th>\n",
       "      <th>Topic</th>\n",
       "    </tr>\n",
       "  </thead>\n",
       "  <tbody>\n",
       "    <tr>\n",
       "      <th>4860</th>\n",
       "      <td>salud-dia-a-dia</td>\n",
       "    </tr>\n",
       "    <tr>\n",
       "      <th>2589</th>\n",
       "      <td>enforma180</td>\n",
       "    </tr>\n",
       "    <tr>\n",
       "      <th>3681</th>\n",
       "      <td>salud-a-z</td>\n",
       "    </tr>\n",
       "    <tr>\n",
       "      <th>1057</th>\n",
       "      <td>salud-dia-a-dia</td>\n",
       "    </tr>\n",
       "    <tr>\n",
       "      <th>228</th>\n",
       "      <td>salud-dia-a-dia</td>\n",
       "    </tr>\n",
       "  </tbody>\n",
       "</table>\n",
       "</div>"
      ],
      "text/plain": [
       "                Topic\n",
       "4860  salud-dia-a-dia\n",
       "2589       enforma180\n",
       "3681        salud-a-z\n",
       "1057  salud-dia-a-dia\n",
       "228   salud-dia-a-dia"
      ]
     },
     "execution_count": 352,
     "metadata": {},
     "output_type": "execute_result"
    }
   ],
   "source": [
    "topic_cat, horario_cat = entrenamiento[['Topic']],entrenamiento[['Horario_de_Publicacion']]\n",
    "topic_cat.head(5)"
   ]
  },
  {
   "cell_type": "code",
   "execution_count": 353,
   "id": "6ce8dbf2-84c5-488d-a28c-f15900cb5463",
   "metadata": {},
   "outputs": [
    {
     "data": {
      "text/html": [
       "<div>\n",
       "<style scoped>\n",
       "    .dataframe tbody tr th:only-of-type {\n",
       "        vertical-align: middle;\n",
       "    }\n",
       "\n",
       "    .dataframe tbody tr th {\n",
       "        vertical-align: top;\n",
       "    }\n",
       "\n",
       "    .dataframe thead th {\n",
       "        text-align: right;\n",
       "    }\n",
       "</style>\n",
       "<table border=\"1\" class=\"dataframe\">\n",
       "  <thead>\n",
       "    <tr style=\"text-align: right;\">\n",
       "      <th></th>\n",
       "      <th>No.Letras_Url</th>\n",
       "      <th>No.Palabras_Titulo</th>\n",
       "      <th>No.Palabras_Cuerpo</th>\n",
       "      <th>No.Parrafos</th>\n",
       "      <th>No.Links</th>\n",
       "      <th>No.Imagenes</th>\n",
       "      <th>No.Tags</th>\n",
       "      <th>Solo_Hora</th>\n",
       "    </tr>\n",
       "  </thead>\n",
       "  <tbody>\n",
       "    <tr>\n",
       "      <th>4860</th>\n",
       "      <td>118</td>\n",
       "      <td>17</td>\n",
       "      <td>665</td>\n",
       "      <td>0</td>\n",
       "      <td>3</td>\n",
       "      <td>3</td>\n",
       "      <td>7</td>\n",
       "      <td>18</td>\n",
       "    </tr>\n",
       "    <tr>\n",
       "      <th>2589</th>\n",
       "      <td>106</td>\n",
       "      <td>15</td>\n",
       "      <td>1238</td>\n",
       "      <td>59</td>\n",
       "      <td>8</td>\n",
       "      <td>1</td>\n",
       "      <td>14</td>\n",
       "      <td>9</td>\n",
       "    </tr>\n",
       "    <tr>\n",
       "      <th>3681</th>\n",
       "      <td>121</td>\n",
       "      <td>15</td>\n",
       "      <td>337</td>\n",
       "      <td>-4</td>\n",
       "      <td>0</td>\n",
       "      <td>1</td>\n",
       "      <td>8</td>\n",
       "      <td>13</td>\n",
       "    </tr>\n",
       "  </tbody>\n",
       "</table>\n",
       "</div>"
      ],
      "text/plain": [
       "      No.Letras_Url  No.Palabras_Titulo  No.Palabras_Cuerpo  No.Parrafos  \\\n",
       "4860            118                  17                 665            0   \n",
       "2589            106                  15                1238           59   \n",
       "3681            121                  15                 337           -4   \n",
       "\n",
       "      No.Links  No.Imagenes  No.Tags  Solo_Hora  \n",
       "4860         3            3        7         18  \n",
       "2589         8            1       14          9  \n",
       "3681         0            1        8         13  "
      ]
     },
     "execution_count": 353,
     "metadata": {},
     "output_type": "execute_result"
    }
   ],
   "source": [
    "entrenamiento_sincat=entrenamiento.drop(['Mas_Frecuentes_Titulo','sitio','created','title','Fecha','Hora','url','editor','tags','cuerpo','Vocabulario_Cuerpo','Tiene_Tags', 'Topic','Horario_de_Publicacion'], axis=1)\n",
    "entrenamiento_sincat.head(3)  #elimino los atributos categoricos"
   ]
  },
  {
   "cell_type": "code",
   "execution_count": 354,
   "id": "89b03900-14e3-4d4e-bd26-e3b7e9952de2",
   "metadata": {},
   "outputs": [],
   "source": [
    "entrenamiento_sincat=entrenamiento_sincat.to_numpy() #Convierte el dataframe a un array"
   ]
  },
  {
   "cell_type": "code",
   "execution_count": 355,
   "id": "7213fb16-36d9-4c6d-a4e8-15b7fce9f90d",
   "metadata": {},
   "outputs": [
    {
     "data": {
      "text/plain": [
       "array([[ 118,   17,  665, ...,    3,    7,   18],\n",
       "       [ 106,   15, 1238, ...,    1,   14,    9],\n",
       "       [ 121,   15,  337, ...,    1,    8,   13],\n",
       "       ...,\n",
       "       [ 101,   12,  751, ...,    0,   14,   14],\n",
       "       [ 102,   12,  500, ...,    0,   25,   19],\n",
       "       [ 121,   24,  237, ...,    0,    7,   15]], dtype=int64)"
      ]
     },
     "execution_count": 355,
     "metadata": {},
     "output_type": "execute_result"
    }
   ],
   "source": [
    "entrenamiento_sincat"
   ]
  },
  {
   "cell_type": "code",
   "execution_count": 356,
   "id": "e0ea5b81-0d27-465d-bba0-dcbea53a5b36",
   "metadata": {},
   "outputs": [
    {
     "data": {
      "text/plain": [
       "SGDClassifier(max_iter=5, random_state=42, tol=-inf)"
      ]
     },
     "execution_count": 356,
     "metadata": {},
     "output_type": "execute_result"
    }
   ],
   "source": [
    "from sklearn.linear_model import SGDClassifier\n",
    "\n",
    "sgd_clf = SGDClassifier(max_iter=5, tol=-np.infty, random_state=42)\n",
    "sgd_clf.fit(entrenamiento_sincat, y_train_buena)             #Entrenamos el modelo"
   ]
  },
  {
   "cell_type": "code",
   "execution_count": 357,
   "id": "db3082aa-5d41-48de-87bf-6f3408d6398d",
   "metadata": {},
   "outputs": [
    {
     "data": {
      "text/plain": [
       "array([0.71921922, 0.71675432, 0.72652141])"
      ]
     },
     "execution_count": 357,
     "metadata": {},
     "output_type": "execute_result"
    }
   ],
   "source": [
    "#Se evalua con cross validation\n",
    "from sklearn.model_selection import cross_val_score\n",
    "cross_val_score(sgd_clf, entrenamiento_sincat, y_train_buena, cv=3, scoring=\"accuracy\")"
   ]
  },
  {
   "cell_type": "code",
   "execution_count": 358,
   "id": "c56ff56d-866a-4e9f-b909-ee219aa391bc",
   "metadata": {},
   "outputs": [],
   "source": [
    "from sklearn.model_selection import cross_val_predict\n",
    "\n",
    "y_train_pred = cross_val_predict(sgd_clf, entrenamiento_sincat, y_train_buena, cv=3)"
   ]
  },
  {
   "cell_type": "code",
   "execution_count": 359,
   "id": "02b7b834-b097-4209-8c76-8c373f440302",
   "metadata": {},
   "outputs": [
    {
     "data": {
      "text/plain": [
       "array([[2783,  133],\n",
       "       [ 982,   96]], dtype=int64)"
      ]
     },
     "execution_count": 359,
     "metadata": {},
     "output_type": "execute_result"
    }
   ],
   "source": [
    "#Generamos nuestra matriz de confusion\n",
    "from sklearn.metrics import confusion_matrix\n",
    "\n",
    "confusion_matrix(y_train_buena, y_train_pred)"
   ]
  },
  {
   "cell_type": "code",
   "execution_count": 360,
   "id": "31569c76-7f23-4ee7-b111-02bdc2ee2c5b",
   "metadata": {},
   "outputs": [],
   "source": [
    "y_train_perfect_predictions = y_train_buena   #Generamos predicciones perfectas"
   ]
  },
  {
   "cell_type": "code",
   "execution_count": 361,
   "id": "f2f918a6-b4e9-4b09-814e-15dd8a4e1a4a",
   "metadata": {},
   "outputs": [
    {
     "data": {
      "text/plain": [
       "array([[2916,    0],\n",
       "       [   0, 1078]], dtype=int64)"
      ]
     },
     "execution_count": 361,
     "metadata": {},
     "output_type": "execute_result"
    }
   ],
   "source": [
    "confusion_matrix(y_train_buena, y_train_perfect_predictions)  #Asi se veria una matriz de confusion perfecta"
   ]
  },
  {
   "cell_type": "code",
   "execution_count": 362,
   "id": "94f7f92b-57b9-40b2-92b2-63a501602636",
   "metadata": {},
   "outputs": [
    {
     "data": {
      "text/plain": [
       "0.4192139737991266"
      ]
     },
     "execution_count": 362,
     "metadata": {},
     "output_type": "execute_result"
    }
   ],
   "source": [
    "from sklearn.metrics import precision_score, recall_score\n",
    "\n",
    "precision_score(y_train_buena, y_train_pred) "
   ]
  },
  {
   "cell_type": "code",
   "execution_count": 363,
   "id": "92d9dafd-e89f-4a2f-97ab-39b7df7c546f",
   "metadata": {},
   "outputs": [
    {
     "data": {
      "text/plain": [
       "0.08905380333951762"
      ]
     },
     "execution_count": 363,
     "metadata": {},
     "output_type": "execute_result"
    }
   ],
   "source": [
    "recall_score(y_train_buena, y_train_pred)"
   ]
  },
  {
   "cell_type": "code",
   "execution_count": 369,
   "id": "011c1d33-d59c-42ec-ab64-b6be0ed2b2f7",
   "metadata": {},
   "outputs": [
    {
     "data": {
      "text/plain": [
       "0.14690130068859986"
      ]
     },
     "execution_count": 369,
     "metadata": {},
     "output_type": "execute_result"
    }
   ],
   "source": [
    "from sklearn.metrics import f1_score\n",
    "f1_score(y_train_buena, y_train_pred)"
   ]
  },
  {
   "cell_type": "code",
   "execution_count": 370,
   "id": "cacfae5e-05df-46f5-941c-e714703eb1c2",
   "metadata": {},
   "outputs": [],
   "source": [
    "y_scores = cross_val_predict(sgd_clf, entrenamiento_prepared, y_train_buena, cv=3,\n",
    "                             method=\"decision_function\")"
   ]
  },
  {
   "cell_type": "code",
   "execution_count": 371,
   "id": "5c44c4f5-ac14-47d0-9e21-680a5746b4f8",
   "metadata": {},
   "outputs": [],
   "source": [
    "if y_scores.ndim == 2:\n",
    "    y_scores = y_scores[:, 1]"
   ]
  },
  {
   "cell_type": "code",
   "execution_count": null,
   "id": "e2dee387-9c09-4194-9c74-4cbbfbfb4b1b",
   "metadata": {},
   "outputs": [],
   "source": []
  },
  {
   "cell_type": "code",
   "execution_count": 372,
   "id": "fad0a064-1b89-47a3-a86f-7e19ee4e561e",
   "metadata": {},
   "outputs": [],
   "source": [
    "from sklearn.metrics import precision_recall_curve\n",
    "\n",
    "precisions, recalls, thresholds = precision_recall_curve(y_train_buena, y_scores)"
   ]
  },
  {
   "cell_type": "code",
   "execution_count": 373,
   "id": "8614d2bd-2573-4ee0-ba30-13aeb69479db",
   "metadata": {},
   "outputs": [
    {
     "name": "stdout",
     "output_type": "stream",
     "text": [
      "Saving figure precision_recall_vs_threshold_plot\n"
     ]
    },
    {
     "data": {
      "image/png": "[encoded data removed]",
      "text/plain": [
       "<Figure size 576x288 with 1 Axes>"
      ]
     },
     "metadata": {
      "needs_background": "light"
     },
     "output_type": "display_data"
    }
   ],
   "source": [
    "def plot_precision_recall_vs_threshold(precisions, recalls, thresholds):\n",
    "    plt.plot(thresholds, precisions[:-1], \"b--\", label=\"Precision\", linewidth=2)\n",
    "    plt.plot(thresholds, recalls[:-1], \"g-\", label=\"Recall\", linewidth=2)\n",
    "    plt.xlabel(\"Threshold\", fontsize=16)\n",
    "    plt.legend(loc=\"upper left\", fontsize=16)\n",
    "    plt.ylim([0, 1])\n",
    "\n",
    "plt.figure(figsize=(8, 4))\n",
    "plot_precision_recall_vs_threshold(precisions, recalls, thresholds)\n",
    "plt.xlim([-20, 20])\n",
    "save_fig(\"precision_recall_vs_threshold_plot\")\n",
    "plt.show()"
   ]
  },
  {
   "cell_type": "markdown",
   "id": "d451898e-baf1-44b3-92e2-8cbd12c3e1b3",
   "metadata": {},
   "source": [
    "# ENTRENANDO EL MODELO CON CATEGORICOS"
   ]
  },
  {
   "cell_type": "code",
   "execution_count": 253,
   "id": "424aaf88-17b0-43d4-a9ff-464597694608",
   "metadata": {},
   "outputs": [],
   "source": [
    "from sklearn.pipeline import Pipeline\n",
    "from sklearn.preprocessing import StandardScaler\n",
    "\n",
    "num_pipeline = Pipeline([                                      #pipeline que prepara atributos numericos\n",
    "   #     ('imputer', SimpleImputer(strategy=\"median\")),\n",
    "   #     ('attribs_adder', FunctionTransformer(add_extra_features, validate=False)),\n",
    "        ('std_scaler', StandardScaler())\n",
    "    ])\n",
    "\n",
    "#entrenamiento_num_tr = num_pipeline.fit_transform(entrenamiento_num) "
   ]
  },
  {
   "cell_type": "code",
   "execution_count": 254,
   "id": "bf3dbd40-7d4c-4a99-9c4f-53047e46531e",
   "metadata": {},
   "outputs": [
    {
     "data": {
      "text/html": [
       "<div>\n",
       "<style scoped>\n",
       "    .dataframe tbody tr th:only-of-type {\n",
       "        vertical-align: middle;\n",
       "    }\n",
       "\n",
       "    .dataframe tbody tr th {\n",
       "        vertical-align: top;\n",
       "    }\n",
       "\n",
       "    .dataframe thead th {\n",
       "        text-align: right;\n",
       "    }\n",
       "</style>\n",
       "<table border=\"1\" class=\"dataframe\">\n",
       "  <thead>\n",
       "    <tr style=\"text-align: right;\">\n",
       "      <th></th>\n",
       "      <th>No.Letras_Url</th>\n",
       "      <th>No.Palabras_Titulo</th>\n",
       "      <th>No.Palabras_Cuerpo</th>\n",
       "      <th>No.Parrafos</th>\n",
       "      <th>No.Links</th>\n",
       "      <th>No.Imagenes</th>\n",
       "      <th>No.Tags</th>\n",
       "      <th>Topic</th>\n",
       "      <th>Horario_de_Publicacion</th>\n",
       "      <th>Solo_Hora</th>\n",
       "    </tr>\n",
       "  </thead>\n",
       "  <tbody>\n",
       "    <tr>\n",
       "      <th>4860</th>\n",
       "      <td>118</td>\n",
       "      <td>17</td>\n",
       "      <td>665</td>\n",
       "      <td>0</td>\n",
       "      <td>3</td>\n",
       "      <td>3</td>\n",
       "      <td>7</td>\n",
       "      <td>salud-dia-a-dia</td>\n",
       "      <td>Tarde</td>\n",
       "      <td>18</td>\n",
       "    </tr>\n",
       "  </tbody>\n",
       "</table>\n",
       "</div>"
      ],
      "text/plain": [
       "      No.Letras_Url  No.Palabras_Titulo  No.Palabras_Cuerpo  No.Parrafos  \\\n",
       "4860            118                  17                 665            0   \n",
       "\n",
       "      No.Links  No.Imagenes  No.Tags            Topic Horario_de_Publicacion  \\\n",
       "4860         3            3        7  salud-dia-a-dia                  Tarde   \n",
       "\n",
       "      Solo_Hora  \n",
       "4860         18  "
      ]
     },
     "execution_count": 254,
     "metadata": {},
     "output_type": "execute_result"
    }
   ],
   "source": [
    "#Eliminamos del conjunto de entrenamiento los atributos que no utilizaremos\n",
    "entrenamiento=entrenamiento.drop(['Mas_Frecuentes_Titulo','sitio','created','title','Fecha','Hora','url','editor','tags','cuerpo','Vocabulario_Cuerpo','Tiene_Tags'], axis=1)\n",
    "entrenamiento.head(1) "
   ]
  },
  {
   "cell_type": "code",
   "execution_count": 255,
   "id": "6ff09f25-d13b-4855-b0e3-ed5867ba06d8",
   "metadata": {},
   "outputs": [],
   "source": [
    "entrenamiento_num=entrenamiento.drop(['Topic','Horario_de_Publicacion'], axis=1) #Separamos los atributos categoricos"
   ]
  },
  {
   "cell_type": "code",
   "execution_count": 256,
   "id": "2a67f422-e38c-4f55-9570-b50182870404",
   "metadata": {},
   "outputs": [],
   "source": [
    "try:\n",
    "    from sklearn.compose import ColumnTransformer\n",
    "except ImportError:\n",
    "    from future_encoders import ColumnTransformer # Scikit-Learn < 0.20"
   ]
  },
  {
   "cell_type": "code",
   "execution_count": 257,
   "id": "f467d1d6-47dd-4d02-bc2a-8673b238e3b8",
   "metadata": {},
   "outputs": [],
   "source": [
    "try:\n",
    "    from sklearn.preprocessing import OrdinalEncoder # just to raise an ImportError if Scikit-Learn < 0.20\n",
    "    from sklearn.preprocessing import OneHotEncoder\n",
    "except ImportError:\n",
    "    from future_encoders import OneHotEncoder # Scikit-Learn < 0.20               "
   ]
  },
  {
   "cell_type": "code",
   "execution_count": 258,
   "id": "2f816235-b290-431a-b12e-f5b632deed43",
   "metadata": {},
   "outputs": [],
   "source": [
    "#Preparamos el conjunto de entrenamiento con el pipeline\n",
    "num_attribs = list(entrenamiento_num)\n",
    "cat_attribs = [\"Horario_de_Publicacion\",\"Topic\"]\n",
    "\n",
    "full_pipeline = ColumnTransformer([\n",
    "        (\"num\", num_pipeline, num_attribs),\n",
    "        (\"cat\", OneHotEncoder(), cat_attribs),\n",
    "    ])\n",
    "\n",
    "entrenamiento_prepared = full_pipeline.fit_transform(entrenamiento)"
   ]
  },
  {
   "cell_type": "code",
   "execution_count": 259,
   "id": "9e6dadf0-3c21-4465-a930-fec8dcdaa4e1",
   "metadata": {},
   "outputs": [
    {
     "data": {
      "text/plain": [
       "array([[ 0.69419657,  0.97286258,  0.27928722, ...,  0.        ,\n",
       "         1.        ,  0.        ],\n",
       "       [ 0.01492393,  0.39772742,  2.27851187, ...,  0.        ,\n",
       "         0.        ,  0.        ],\n",
       "       [ 0.86401473,  0.39772742, -0.86512061, ...,  1.        ,\n",
       "         0.        ,  0.        ],\n",
       "       ...,\n",
       "       [-0.26810634, -0.46497532,  0.57934537, ...,  0.        ,\n",
       "         0.        ,  0.        ],\n",
       "       [-0.21150028, -0.46497532, -0.29640574, ...,  0.        ,\n",
       "         1.        ,  0.        ],\n",
       "       [ 0.86401473,  2.98583565, -1.21402543, ...,  0.        ,\n",
       "         1.        ,  0.        ]])"
      ]
     },
     "execution_count": 259,
     "metadata": {},
     "output_type": "execute_result"
    }
   ],
   "source": [
    "entrenamiento_prepared"
   ]
  },
  {
   "cell_type": "code",
   "execution_count": 260,
   "id": "e49e5707-4a36-427e-8261-8acdc330158b",
   "metadata": {},
   "outputs": [
    {
     "data": {
      "text/plain": [
       "(3994, 18)"
      ]
     },
     "execution_count": 260,
     "metadata": {},
     "output_type": "execute_result"
    }
   ],
   "source": [
    "entrenamiento_prepared.shape"
   ]
  },
  {
   "cell_type": "code",
   "execution_count": 261,
   "id": "a24897cb-fd97-433c-945c-797753e9e2bb",
   "metadata": {},
   "outputs": [
    {
     "data": {
      "text/plain": [
       "SGDClassifier(max_iter=5, random_state=42, tol=-inf)"
      ]
     },
     "execution_count": 261,
     "metadata": {},
     "output_type": "execute_result"
    }
   ],
   "source": [
    "#Se entrena el modelo\n",
    "from sklearn.linear_model import SGDClassifier\n",
    "\n",
    "sgd_clf = SGDClassifier(max_iter=5, tol=-np.infty, random_state=42)\n",
    "sgd_clf.fit(entrenamiento_prepared, y_train_buena) "
   ]
  },
  {
   "cell_type": "code",
   "execution_count": 262,
   "id": "715d2ca3-51d5-4fd5-8c45-5afc89d58f55",
   "metadata": {},
   "outputs": [],
   "source": [
    "prueba= strat_test_set.copy() #copia el set de test para evalar"
   ]
  },
  {
   "cell_type": "code",
   "execution_count": 263,
   "id": "f568bca8-6851-4355-a6c4-4ddbea316e21",
   "metadata": {},
   "outputs": [
    {
     "data": {
      "text/html": [
       "<div>\n",
       "<style scoped>\n",
       "    .dataframe tbody tr th:only-of-type {\n",
       "        vertical-align: middle;\n",
       "    }\n",
       "\n",
       "    .dataframe tbody tr th {\n",
       "        vertical-align: top;\n",
       "    }\n",
       "\n",
       "    .dataframe thead th {\n",
       "        text-align: right;\n",
       "    }\n",
       "</style>\n",
       "<table border=\"1\" class=\"dataframe\">\n",
       "  <thead>\n",
       "    <tr style=\"text-align: right;\">\n",
       "      <th></th>\n",
       "      <th>No.Letras_Url</th>\n",
       "      <th>No.Palabras_Titulo</th>\n",
       "      <th>No.Palabras_Cuerpo</th>\n",
       "      <th>No.Parrafos</th>\n",
       "      <th>No.Links</th>\n",
       "      <th>No.Imagenes</th>\n",
       "      <th>No.Tags</th>\n",
       "      <th>Topic</th>\n",
       "      <th>Horario_de_Publicacion</th>\n",
       "      <th>Solo_Hora</th>\n",
       "    </tr>\n",
       "  </thead>\n",
       "  <tbody>\n",
       "    <tr>\n",
       "      <th>3191</th>\n",
       "      <td>121</td>\n",
       "      <td>18</td>\n",
       "      <td>418</td>\n",
       "      <td>4</td>\n",
       "      <td>5</td>\n",
       "      <td>0</td>\n",
       "      <td>5</td>\n",
       "      <td>bienestar180</td>\n",
       "      <td>Noche</td>\n",
       "      <td>21</td>\n",
       "    </tr>\n",
       "    <tr>\n",
       "      <th>3236</th>\n",
       "      <td>118</td>\n",
       "      <td>14</td>\n",
       "      <td>1411</td>\n",
       "      <td>33</td>\n",
       "      <td>4</td>\n",
       "      <td>2</td>\n",
       "      <td>15</td>\n",
       "      <td>bienestar180</td>\n",
       "      <td>Tarde</td>\n",
       "      <td>12</td>\n",
       "    </tr>\n",
       "    <tr>\n",
       "      <th>2533</th>\n",
       "      <td>70</td>\n",
       "      <td>9</td>\n",
       "      <td>331</td>\n",
       "      <td>13</td>\n",
       "      <td>5</td>\n",
       "      <td>6</td>\n",
       "      <td>16</td>\n",
       "      <td>salud-dia-a-dia</td>\n",
       "      <td>Tarde</td>\n",
       "      <td>15</td>\n",
       "    </tr>\n",
       "  </tbody>\n",
       "</table>\n",
       "</div>"
      ],
      "text/plain": [
       "      No.Letras_Url  No.Palabras_Titulo  No.Palabras_Cuerpo  No.Parrafos  \\\n",
       "3191            121                  18                 418            4   \n",
       "3236            118                  14                1411           33   \n",
       "2533             70                   9                 331           13   \n",
       "\n",
       "      No.Links  No.Imagenes  No.Tags            Topic Horario_de_Publicacion  \\\n",
       "3191         5            0        5     bienestar180                  Noche   \n",
       "3236         4            2       15     bienestar180                  Tarde   \n",
       "2533         5            6       16  salud-dia-a-dia                  Tarde   \n",
       "\n",
       "      Solo_Hora  \n",
       "3191         21  \n",
       "3236         12  \n",
       "2533         15  "
      ]
     },
     "execution_count": 263,
     "metadata": {},
     "output_type": "execute_result"
    }
   ],
   "source": [
    "#Eliminamos atributos de texto\n",
    "prueba=prueba.drop(['Mas_Frecuentes_Titulo','sitio','created','title','Fecha','Hora','url','editor','tags','cuerpo','Vocabulario_Cuerpo','Número de vistas de página','Tiene_Tags'], axis=1)\n",
    "prueba.head(3) "
   ]
  },
  {
   "cell_type": "code",
   "execution_count": 264,
   "id": "6504a696-cbf2-4a3d-929d-21567590d620",
   "metadata": {},
   "outputs": [],
   "source": [
    "#Preparamos el set de prueba\n",
    "prueba_prepared = full_pipeline.fit_transform(prueba) "
   ]
  },
  {
   "cell_type": "code",
   "execution_count": 265,
   "id": "a99fe2f5-4826-415b-b9fb-16846a230289",
   "metadata": {},
   "outputs": [
    {
     "data": {
      "text/plain": [
       "array([[ 0.86863034,  1.33900153, -0.58111211, ...,  0.        ,\n",
       "         0.        ,  0.        ],\n",
       "       [ 0.7013241 ,  0.1622586 ,  2.75674113, ...,  0.        ,\n",
       "         0.        ,  0.        ],\n",
       "       [-1.97557578, -1.30867007, -0.87355243, ...,  0.        ,\n",
       "         1.        ,  0.        ],\n",
       "       ...,\n",
       "       [-1.08327582,  0.75063006, -0.85338413, ...,  0.        ,\n",
       "         1.        ,  0.        ],\n",
       "       [ 0.98016783,  1.63318726, -0.84329998, ...,  0.        ,\n",
       "         1.        ,  0.        ],\n",
       "       [-0.19097586, -0.42611287, -0.35253807, ...,  1.        ,\n",
       "         0.        ,  0.        ]])"
      ]
     },
     "execution_count": 265,
     "metadata": {},
     "output_type": "execute_result"
    }
   ],
   "source": [
    "prueba_prepared"
   ]
  },
  {
   "cell_type": "code",
   "execution_count": 266,
   "id": "0faa7c41-987b-41e8-aa03-0f5a43c78dc9",
   "metadata": {},
   "outputs": [
    {
     "data": {
      "text/plain": [
       "(999, 18)"
      ]
     },
     "execution_count": 266,
     "metadata": {},
     "output_type": "execute_result"
    }
   ],
   "source": [
    "prueba_prepared.shape"
   ]
  },
  {
   "cell_type": "code",
   "execution_count": 269,
   "id": "7fca360b-405d-46f7-aa52-0e08d5f96da8",
   "metadata": {},
   "outputs": [
    {
     "data": {
      "text/plain": [
       "array([0.67867868, 0.6498873 , 0.70473328])"
      ]
     },
     "execution_count": 269,
     "metadata": {},
     "output_type": "execute_result"
    }
   ],
   "source": [
    "#Evaluamos el modelo con el cross validation\n",
    "from sklearn.model_selection import cross_val_score\n",
    "cross_val_score(sgd_clf, entrenamiento_prepared, y_train_buena, cv=3, scoring=\"accuracy\") #Nuevo valor"
   ]
  },
  {
   "cell_type": "code",
   "execution_count": 270,
   "id": "399d62bc-85ba-432a-a97c-d6ecd8acfd07",
   "metadata": {},
   "outputs": [],
   "source": [
    "from sklearn.model_selection import cross_val_predict\n",
    "\n",
    "y_train_pred = cross_val_predict(sgd_clf, entrenamiento_prepared, y_train_buena, cv=3)"
   ]
  },
  {
   "cell_type": "code",
   "execution_count": 271,
   "id": "2a63a4cf-a33b-404f-bcc0-9561bb370930",
   "metadata": {},
   "outputs": [
    {
     "data": {
      "text/plain": [
       "array([[2541,  375],\n",
       "       [ 912,  166]], dtype=int64)"
      ]
     },
     "execution_count": 271,
     "metadata": {},
     "output_type": "execute_result"
    }
   ],
   "source": [
    "from sklearn.metrics import confusion_matrix\n",
    "\n",
    "confusion_matrix(y_train_buena, y_train_pred)"
   ]
  },
  {
   "cell_type": "code",
   "execution_count": 272,
   "id": "39d9ef0b-3f89-42dc-8218-9af1f2891ba3",
   "metadata": {},
   "outputs": [],
   "source": [
    "y_train_perfect_predictions = y_train_buena"
   ]
  },
  {
   "cell_type": "code",
   "execution_count": 273,
   "id": "71a27bf4-6557-437c-adc6-a4bbb7563764",
   "metadata": {},
   "outputs": [
    {
     "data": {
      "text/plain": [
       "array([[2916,    0],\n",
       "       [   0, 1078]], dtype=int64)"
      ]
     },
     "execution_count": 273,
     "metadata": {},
     "output_type": "execute_result"
    }
   ],
   "source": [
    "confusion_matrix(y_train_buena, y_train_perfect_predictions)"
   ]
  },
  {
   "cell_type": "code",
   "execution_count": null,
   "id": "bbf5c296-c6f6-49ea-806c-3c40e1179b4d",
   "metadata": {},
   "outputs": [],
   "source": []
  },
  {
   "cell_type": "code",
   "execution_count": 274,
   "id": "c44c1547-85bd-4ccf-91c9-05d2838a5eff",
   "metadata": {},
   "outputs": [
    {
     "data": {
      "text/plain": [
       "0.3068391866913124"
      ]
     },
     "execution_count": 274,
     "metadata": {},
     "output_type": "execute_result"
    }
   ],
   "source": [
    "from sklearn.metrics import precision_score, recall_score\n",
    "\n",
    "precision_score(y_train_buena, y_train_pred) #Valor nuevo"
   ]
  },
  {
   "cell_type": "code",
   "execution_count": null,
   "id": "3aa9c299-0b9a-4adb-9783-97edbfa14453",
   "metadata": {},
   "outputs": [],
   "source": []
  },
  {
   "cell_type": "code",
   "execution_count": null,
   "id": "ffb986c7-97d4-481f-a928-de3044aca007",
   "metadata": {},
   "outputs": [],
   "source": []
  },
  {
   "cell_type": "code",
   "execution_count": null,
   "id": "49b1c2fd-9b63-4862-a0b9-6c09cb6b180e",
   "metadata": {},
   "outputs": [],
   "source": []
  },
  {
   "cell_type": "code",
   "execution_count": 276,
   "id": "7c4beea7-e724-4140-b649-47d3402c0276",
   "metadata": {},
   "outputs": [
    {
     "data": {
      "text/plain": [
       "0.15398886827458255"
      ]
     },
     "execution_count": 276,
     "metadata": {},
     "output_type": "execute_result"
    }
   ],
   "source": [
    "recall_score(y_train_buena, y_train_pred) #Valor nuevo"
   ]
  },
  {
   "cell_type": "code",
   "execution_count": 277,
   "id": "69c59d11-9e33-4bcb-936f-f9f261577096",
   "metadata": {},
   "outputs": [
    {
     "data": {
      "text/plain": [
       "0.205064854848672"
      ]
     },
     "execution_count": 277,
     "metadata": {},
     "output_type": "execute_result"
    }
   ],
   "source": [
    "from sklearn.metrics import f1_score\n",
    "f1_score(y_train_buena, y_train_pred)"
   ]
  },
  {
   "cell_type": "code",
   "execution_count": 278,
   "id": "6b1e866f-0341-4703-988b-f559dce108be",
   "metadata": {},
   "outputs": [
    {
     "data": {
      "text/plain": [
       "0.205064854848672"
      ]
     },
     "execution_count": 278,
     "metadata": {},
     "output_type": "execute_result"
    }
   ],
   "source": [
    "from sklearn.metrics import f1_score\n",
    "f1_score(y_train_buena, y_train_pred)"
   ]
  },
  {
   "cell_type": "code",
   "execution_count": 279,
   "id": "2c89aa67-d327-4d6b-83ee-d2e2413f8d37",
   "metadata": {},
   "outputs": [],
   "source": [
    "y_scores = cross_val_predict(sgd_clf, entrenamiento_prepared, y_train_buena, cv=3,\n",
    "                             method=\"decision_function\")"
   ]
  },
  {
   "cell_type": "code",
   "execution_count": 280,
   "id": "2913a3d7-1dd5-48d9-bea2-8b9765889426",
   "metadata": {},
   "outputs": [],
   "source": [
    "from sklearn.metrics import precision_recall_curve\n",
    "\n",
    "precisions, recalls, thresholds = precision_recall_curve(y_train_buena, y_scores)"
   ]
  },
  {
   "cell_type": "code",
   "execution_count": 305,
   "id": "ed807195-57d3-43e3-9d7b-e55c9f70a533",
   "metadata": {},
   "outputs": [
    {
     "name": "stdout",
     "output_type": "stream",
     "text": [
      "Saving figure precision_recall_vs_threshold_plot\n"
     ]
    },
    {
     "data": {
      "image/png": "[encoded data removed]",
      "text/plain": [
       "<Figure size 576x288 with 1 Axes>"
      ]
     },
     "metadata": {
      "needs_background": "light"
     },
     "output_type": "display_data"
    }
   ],
   "source": [
    "def plot_precision_recall_vs_threshold(precisions, recalls, thresholds):\n",
    "    plt.plot(thresholds, precisions[:-1], \"b--\", label=\"Precision\", linewidth=2)\n",
    "    plt.plot(thresholds, recalls[:-1], \"g-\", label=\"Recall\", linewidth=2)\n",
    "    plt.xlabel(\"Threshold\", fontsize=16)\n",
    "    plt.legend(loc=\"upper left\", fontsize=16)\n",
    "    plt.ylim([0, 1])\n",
    "\n",
    "plt.figure(figsize=(8, 4))\n",
    "plot_precision_recall_vs_threshold(precisions, recalls, thresholds)\n",
    "plt.xlim([-20, 20])\n",
    "save_fig(\"precision_recall_vs_threshold_plot\")\n",
    "plt.show()"
   ]
  },
  {
   "cell_type": "code",
   "execution_count": 291,
   "id": "a600590f-9509-493d-8572-751df0120d75",
   "metadata": {},
   "outputs": [
    {
     "data": {
      "text/plain": [
       "True"
      ]
     },
     "execution_count": 291,
     "metadata": {},
     "output_type": "execute_result"
    }
   ],
   "source": [
    "(y_train_pred == (y_scores > 0)).all()"
   ]
  },
  {
   "cell_type": "code",
   "execution_count": 300,
   "id": "16b47358-5d03-46da-a7b8-1972c6048b66",
   "metadata": {},
   "outputs": [],
   "source": [
    "y_train_pred_90 = (y_scores > 15)"
   ]
  },
  {
   "cell_type": "code",
   "execution_count": 301,
   "id": "80abf195-0ec6-4ec7-b4dc-567c60c93e54",
   "metadata": {},
   "outputs": [
    {
     "data": {
      "text/plain": [
       "0.5"
      ]
     },
     "execution_count": 301,
     "metadata": {},
     "output_type": "execute_result"
    }
   ],
   "source": [
    "precision_score(y_train_buena, y_train_pred_90)"
   ]
  },
  {
   "cell_type": "code",
   "execution_count": 302,
   "id": "e3d27a4c-e2fd-4241-a6e2-6b88370520fc",
   "metadata": {},
   "outputs": [
    {
     "data": {
      "text/plain": [
       "0.0009276437847866419"
      ]
     },
     "execution_count": 302,
     "metadata": {},
     "output_type": "execute_result"
    }
   ],
   "source": [
    "recall_score(y_train_buena, y_train_pred_90)"
   ]
  },
  {
   "cell_type": "code",
   "execution_count": 303,
   "id": "15f731eb-f943-48c6-9e4c-a40d4078cf52",
   "metadata": {},
   "outputs": [
    {
     "name": "stdout",
     "output_type": "stream",
     "text": [
      "Saving figure precision_vs_recall_plot\n"
     ]
    },
    {
     "data": {
      "image/png": "[encoded data removed]",
      "text/plain": [
       "<Figure size 576x432 with 1 Axes>"
      ]
     },
     "metadata": {
      "needs_background": "light"
     },
     "output_type": "display_data"
    }
   ],
   "source": [
    "def plot_precision_vs_recall(precisions, recalls):\n",
    "    plt.plot(recalls, precisions, \"b-\", linewidth=2)\n",
    "    plt.xlabel(\"Recall\", fontsize=16)\n",
    "    plt.ylabel(\"Precision\", fontsize=16)\n",
    "    plt.axis([0, 1, 0, 1])\n",
    "\n",
    "plt.figure(figsize=(8, 6))\n",
    "plot_precision_vs_recall(precisions, recalls)\n",
    "save_fig(\"precision_vs_recall_plot\")\n",
    "plt.show()"
   ]
  }
 ],
 "metadata": {
  "kernelspec": {
   "display_name": "Python 3 (ipykernel)",
   "language": "python",
   "name": "python3"
  },
  "language_info": {
   "codemirror_mode": {
    "name": "ipython",
    "version": 3
   },
   "file_extension": ".py",
   "mimetype": "text/x-python",
   "name": "python",
   "nbconvert_exporter": "python",
   "pygments_lexer": "ipython3",
   "version": "3.9.12"
  }
 },
 "nbformat": 4,
 "nbformat_minor": 5
}
