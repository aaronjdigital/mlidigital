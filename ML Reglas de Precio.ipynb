{
 "cells": [
  {
   "cell_type": "markdown",
   "id": "df06553c-d3da-4b62-922d-790c690e9302",
   "metadata": {},
   "source": [
    "# ML Reglas de Precio OBSOLETO"
   ]
  },
  {
   "cell_type": "markdown",
   "id": "27f4d470-4bb4-41c2-a1dd-870bdb2aaa28",
   "metadata": {
    "tags": []
   },
   "source": [
    "Objetivo: Identificar factores importantes para clasificación de reglas de precio e incremento de CPM.\n",
    "\n",
    "Variables disponibles cualitativas: \n",
    "    - Sitio (DFP Ad Unit)\n",
    "    - Dispositivo (Device category)\n",
    "    - Tipo de transacción (Transaction Type)\n",
    "    - Tamaño de creativo (Creative Size)\n",
    "\n",
    "Variables disponibles cuantitativas:\n",
    "    - Ad Requests.\n",
    "    - Matched Requests.\n",
    "    - Clicks.\n",
    "    - Estimated Revenue\n",
    "    - Ad Impressions\n",
    "    - Active View Enabled Impressions\n",
    "    - Active View measured Impressions\n",
    "    "
   ]
  },
  {
   "cell_type": "code",
   "execution_count": 136,
   "id": "fa446e72-2f1f-47e6-85a7-5d6e0eac2cd8",
   "metadata": {},
   "outputs": [],
   "source": [
    "# To support both python 2 and python 3\n",
    "from __future__ import division, print_function, unicode_literals\n",
    "\n",
    "# Common imports\n",
    "import numpy as np\n",
    "import os\n",
    "\n",
    "# to make this notebook's output stable across runs\n",
    "np.random.seed(42)\n",
    "\n",
    "# To plot pretty figures\n",
    "%matplotlib inline\n",
    "import matplotlib as mpl\n",
    "import matplotlib.pyplot as plt\n",
    "mpl.rc('axes', labelsize=14)\n",
    "mpl.rc('xtick', labelsize=12)\n",
    "mpl.rc('ytick', labelsize=12)\n",
    "\n",
    "# Where to save the figures\n",
    "PROJECT_ROOT_DIR = \".\"\n",
    "CHAPTER_ID = \"end_to_end_project\"\n",
    "IMAGES_PATH = os.path.join(PROJECT_ROOT_DIR, \"images\", CHAPTER_ID)\n",
    "os.makedirs(IMAGES_PATH, exist_ok=True)\n",
    "\n",
    "def save_fig(fig_id, tight_layout=True, fig_extension=\"png\", resolution=300):\n",
    "    path = os.path.join(IMAGES_PATH, fig_id + \".\" + fig_extension)\n",
    "    print(\"Saving figure\", fig_id)\n",
    "    if tight_layout:\n",
    "        plt.tight_layout()\n",
    "    plt.savefig(path, format=fig_extension, dpi=resolution)"
   ]
  },
  {
   "cell_type": "code",
   "execution_count": 137,
   "id": "743b13a1-ca88-4172-8829-d6de98df1d17",
   "metadata": {},
   "outputs": [],
   "source": [
    "import os\n",
    "import tarfile\n",
    "import urllib.request\n",
    "import pandas as pd\n",
    "\n",
    "HOUSING_PATH = os.path.join(\"datasets\")\n",
    "\n",
    "def load_housing_data(housing_path=HOUSING_PATH):\n",
    "    csv_path = os.path.join(housing_path, \"arc_reglas_precio2.csv\")\n",
    "    return pd.read_csv(csv_path)"
   ]
  },
  {
   "cell_type": "markdown",
   "id": "dac3de7b-1e78-4500-ae30-21cba083c11e",
   "metadata": {},
   "source": [
    "# Carga y primera visualización de datos"
   ]
  },
  {
   "cell_type": "code",
   "execution_count": 138,
   "id": "45aa5386-0b6b-43ac-aa7c-7775e97ae25c",
   "metadata": {},
   "outputs": [
    {
     "data": {
      "text/html": [
       "<div>\n",
       "<style scoped>\n",
       "    .dataframe tbody tr th:only-of-type {\n",
       "        vertical-align: middle;\n",
       "    }\n",
       "\n",
       "    .dataframe tbody tr th {\n",
       "        vertical-align: top;\n",
       "    }\n",
       "\n",
       "    .dataframe thead th {\n",
       "        text-align: right;\n",
       "    }\n",
       "</style>\n",
       "<table border=\"1\" class=\"dataframe\">\n",
       "  <thead>\n",
       "    <tr style=\"text-align: right;\">\n",
       "      <th></th>\n",
       "      <th>Mes</th>\n",
       "      <th>DFP Ad Units (Top Level)</th>\n",
       "      <th>Transaction types</th>\n",
       "      <th>Creative sizes</th>\n",
       "      <th>Ad requests</th>\n",
       "      <th>Matched requests</th>\n",
       "      <th>Clicks</th>\n",
       "      <th>Estimated revenue (MX$)</th>\n",
       "      <th>Ad impressions</th>\n",
       "      <th>Active view measurable</th>\n",
       "      <th>Active view viewable</th>\n",
       "      <th>Active view enabled impressions</th>\n",
       "      <th>Active view measured impressions</th>\n",
       "    </tr>\n",
       "  </thead>\n",
       "  <tbody>\n",
       "    <tr>\n",
       "      <th>0</th>\n",
       "      <td>01-ene</td>\n",
       "      <td>19916383 » AMP_Excelsior_300x250</td>\n",
       "      <td>Open auction</td>\n",
       "      <td>300x250</td>\n",
       "      <td>2867102</td>\n",
       "      <td>2867102</td>\n",
       "      <td>17964</td>\n",
       "      <td>16972.931960</td>\n",
       "      <td>2361040</td>\n",
       "      <td>6.976313</td>\n",
       "      <td>4.007026</td>\n",
       "      <td>2355747</td>\n",
       "      <td>2351475</td>\n",
       "    </tr>\n",
       "    <tr>\n",
       "      <th>1</th>\n",
       "      <td>01-ene</td>\n",
       "      <td>19916383 » AMP_Excelsior_300x250</td>\n",
       "      <td>Open auction</td>\n",
       "      <td>330x250</td>\n",
       "      <td>1331456</td>\n",
       "      <td>1331456</td>\n",
       "      <td>18473</td>\n",
       "      <td>7008.696108</td>\n",
       "      <td>1114133</td>\n",
       "      <td>0.998709</td>\n",
       "      <td>0.559807</td>\n",
       "      <td>1111388</td>\n",
       "      <td>1109953</td>\n",
       "    </tr>\n",
       "    <tr>\n",
       "      <th>2</th>\n",
       "      <td>01-ene</td>\n",
       "      <td>19916383 » AMP_Excelsior_300x250</td>\n",
       "      <td>Open auction</td>\n",
       "      <td>360x250</td>\n",
       "      <td>39130</td>\n",
       "      <td>39130</td>\n",
       "      <td>186</td>\n",
       "      <td>120.768099</td>\n",
       "      <td>32950</td>\n",
       "      <td>0.999970</td>\n",
       "      <td>0.496250</td>\n",
       "      <td>32936</td>\n",
       "      <td>32935</td>\n",
       "    </tr>\n",
       "    <tr>\n",
       "      <th>3</th>\n",
       "      <td>01-ene</td>\n",
       "      <td>35139216 » Actitud Fem 2.0</td>\n",
       "      <td>First look</td>\n",
       "      <td>300x100</td>\n",
       "      <td>5</td>\n",
       "      <td>5</td>\n",
       "      <td>0</td>\n",
       "      <td>0.262184</td>\n",
       "      <td>4</td>\n",
       "      <td>1.000000</td>\n",
       "      <td>1.000000</td>\n",
       "      <td>4</td>\n",
       "      <td>4</td>\n",
       "    </tr>\n",
       "    <tr>\n",
       "      <th>4</th>\n",
       "      <td>01-ene</td>\n",
       "      <td>35139216 » Actitud Fem 2.0</td>\n",
       "      <td>First look</td>\n",
       "      <td>300x250</td>\n",
       "      <td>2941</td>\n",
       "      <td>2941</td>\n",
       "      <td>23</td>\n",
       "      <td>69.172601</td>\n",
       "      <td>1703</td>\n",
       "      <td>22.779634</td>\n",
       "      <td>12.540094</td>\n",
       "      <td>1703</td>\n",
       "      <td>1694</td>\n",
       "    </tr>\n",
       "  </tbody>\n",
       "</table>\n",
       "</div>"
      ],
      "text/plain": [
       "      Mes          DFP Ad Units (Top Level) Transaction types Creative sizes  \\\n",
       "0  01-ene  19916383 » AMP_Excelsior_300x250      Open auction        300x250   \n",
       "1  01-ene  19916383 » AMP_Excelsior_300x250      Open auction        330x250   \n",
       "2  01-ene  19916383 » AMP_Excelsior_300x250      Open auction        360x250   \n",
       "3  01-ene        35139216 » Actitud Fem 2.0        First look        300x100   \n",
       "4  01-ene        35139216 » Actitud Fem 2.0        First look        300x250   \n",
       "\n",
       "   Ad requests  Matched requests  Clicks  Estimated revenue (MX$)  \\\n",
       "0      2867102           2867102   17964             16972.931960   \n",
       "1      1331456           1331456   18473              7008.696108   \n",
       "2        39130             39130     186               120.768099   \n",
       "3            5                 5       0                 0.262184   \n",
       "4         2941              2941      23                69.172601   \n",
       "\n",
       "   Ad impressions  Active view measurable  Active view viewable  \\\n",
       "0         2361040                6.976313              4.007026   \n",
       "1         1114133                0.998709              0.559807   \n",
       "2           32950                0.999970              0.496250   \n",
       "3               4                1.000000              1.000000   \n",
       "4            1703               22.779634             12.540094   \n",
       "\n",
       "   Active view enabled impressions  Active view measured impressions  \n",
       "0                          2355747                           2351475  \n",
       "1                          1111388                           1109953  \n",
       "2                            32936                             32935  \n",
       "3                                4                                 4  \n",
       "4                             1703                              1694  "
      ]
     },
     "execution_count": 138,
     "metadata": {},
     "output_type": "execute_result"
    }
   ],
   "source": [
    "housing = load_housing_data()\n",
    "housing.head()"
   ]
  },
  {
   "cell_type": "code",
   "execution_count": 139,
   "id": "9a65ed44-edf1-4708-bec1-c570960c255f",
   "metadata": {},
   "outputs": [
    {
     "name": "stdout",
     "output_type": "stream",
     "text": [
      "<class 'pandas.core.frame.DataFrame'>\n",
      "RangeIndex: 2267 entries, 0 to 2266\n",
      "Data columns (total 13 columns):\n",
      " #   Column                            Non-Null Count  Dtype  \n",
      "---  ------                            --------------  -----  \n",
      " 0   Mes                               2267 non-null   object \n",
      " 1   DFP Ad Units (Top Level)          2267 non-null   object \n",
      " 2   Transaction types                 2267 non-null   object \n",
      " 3   Creative sizes                    2267 non-null   object \n",
      " 4   Ad requests                       2267 non-null   int64  \n",
      " 5   Matched requests                  2267 non-null   int64  \n",
      " 6   Clicks                            2267 non-null   int64  \n",
      " 7   Estimated revenue (MX$)           2267 non-null   float64\n",
      " 8   Ad impressions                    2267 non-null   int64  \n",
      " 9   Active view measurable            2267 non-null   float64\n",
      " 10  Active view viewable              2267 non-null   float64\n",
      " 11  Active view enabled impressions   2267 non-null   int64  \n",
      " 12  Active view measured impressions  2267 non-null   int64  \n",
      "dtypes: float64(3), int64(6), object(4)\n",
      "memory usage: 230.4+ KB\n"
     ]
    }
   ],
   "source": [
    "housing.info()"
   ]
  },
  {
   "cell_type": "code",
   "execution_count": 140,
   "id": "317ade88-0c99-4280-9da3-3a7051ccb514",
   "metadata": {},
   "outputs": [
    {
     "data": {
      "text/html": [
       "<div>\n",
       "<style scoped>\n",
       "    .dataframe tbody tr th:only-of-type {\n",
       "        vertical-align: middle;\n",
       "    }\n",
       "\n",
       "    .dataframe tbody tr th {\n",
       "        vertical-align: top;\n",
       "    }\n",
       "\n",
       "    .dataframe thead th {\n",
       "        text-align: right;\n",
       "    }\n",
       "</style>\n",
       "<table border=\"1\" class=\"dataframe\">\n",
       "  <thead>\n",
       "    <tr style=\"text-align: right;\">\n",
       "      <th></th>\n",
       "      <th>Ad requests</th>\n",
       "      <th>Matched requests</th>\n",
       "      <th>Clicks</th>\n",
       "      <th>Estimated revenue (MX$)</th>\n",
       "      <th>Ad impressions</th>\n",
       "      <th>Active view measurable</th>\n",
       "      <th>Active view viewable</th>\n",
       "      <th>Active view enabled impressions</th>\n",
       "      <th>Active view measured impressions</th>\n",
       "    </tr>\n",
       "  </thead>\n",
       "  <tbody>\n",
       "    <tr>\n",
       "      <th>count</th>\n",
       "      <td>2.267000e+03</td>\n",
       "      <td>2.267000e+03</td>\n",
       "      <td>2267.000000</td>\n",
       "      <td>2267.000000</td>\n",
       "      <td>2.267000e+03</td>\n",
       "      <td>2267.000000</td>\n",
       "      <td>2267.000000</td>\n",
       "      <td>2.267000e+03</td>\n",
       "      <td>2.267000e+03</td>\n",
       "    </tr>\n",
       "    <tr>\n",
       "      <th>mean</th>\n",
       "      <td>1.921665e+05</td>\n",
       "      <td>1.921665e+05</td>\n",
       "      <td>646.608734</td>\n",
       "      <td>1115.268047</td>\n",
       "      <td>1.431779e+05</td>\n",
       "      <td>26.304232</td>\n",
       "      <td>14.829774</td>\n",
       "      <td>1.426626e+05</td>\n",
       "      <td>1.421016e+05</td>\n",
       "    </tr>\n",
       "    <tr>\n",
       "      <th>std</th>\n",
       "      <td>5.973365e+05</td>\n",
       "      <td>5.973365e+05</td>\n",
       "      <td>3407.266694</td>\n",
       "      <td>3325.862886</td>\n",
       "      <td>4.423279e+05</td>\n",
       "      <td>38.355395</td>\n",
       "      <td>21.364431</td>\n",
       "      <td>4.408633e+05</td>\n",
       "      <td>4.392831e+05</td>\n",
       "    </tr>\n",
       "    <tr>\n",
       "      <th>min</th>\n",
       "      <td>1.000000e+00</td>\n",
       "      <td>1.000000e+00</td>\n",
       "      <td>0.000000</td>\n",
       "      <td>0.000000</td>\n",
       "      <td>0.000000e+00</td>\n",
       "      <td>0.000000</td>\n",
       "      <td>0.000000</td>\n",
       "      <td>0.000000e+00</td>\n",
       "      <td>0.000000e+00</td>\n",
       "    </tr>\n",
       "    <tr>\n",
       "      <th>25%</th>\n",
       "      <td>2.975000e+02</td>\n",
       "      <td>2.975000e+02</td>\n",
       "      <td>1.000000</td>\n",
       "      <td>2.685017</td>\n",
       "      <td>1.725000e+02</td>\n",
       "      <td>3.998596</td>\n",
       "      <td>2.000000</td>\n",
       "      <td>1.725000e+02</td>\n",
       "      <td>1.690000e+02</td>\n",
       "    </tr>\n",
       "    <tr>\n",
       "      <th>50%</th>\n",
       "      <td>8.387000e+03</td>\n",
       "      <td>8.387000e+03</td>\n",
       "      <td>28.000000</td>\n",
       "      <td>90.691862</td>\n",
       "      <td>6.121000e+03</td>\n",
       "      <td>12.833590</td>\n",
       "      <td>7.283125</td>\n",
       "      <td>5.965000e+03</td>\n",
       "      <td>5.942000e+03</td>\n",
       "    </tr>\n",
       "    <tr>\n",
       "      <th>75%</th>\n",
       "      <td>8.977800e+04</td>\n",
       "      <td>8.977800e+04</td>\n",
       "      <td>212.000000</td>\n",
       "      <td>692.095852</td>\n",
       "      <td>6.422350e+04</td>\n",
       "      <td>33.463735</td>\n",
       "      <td>19.657310</td>\n",
       "      <td>6.397450e+04</td>\n",
       "      <td>6.380600e+04</td>\n",
       "    </tr>\n",
       "    <tr>\n",
       "      <th>max</th>\n",
       "      <td>7.480844e+06</td>\n",
       "      <td>7.480844e+06</td>\n",
       "      <td>71230.000000</td>\n",
       "      <td>38487.412620</td>\n",
       "      <td>4.606726e+06</td>\n",
       "      <td>486.585256</td>\n",
       "      <td>229.370291</td>\n",
       "      <td>4.606723e+06</td>\n",
       "      <td>4.576381e+06</td>\n",
       "    </tr>\n",
       "  </tbody>\n",
       "</table>\n",
       "</div>"
      ],
      "text/plain": [
       "        Ad requests  Matched requests        Clicks  Estimated revenue (MX$)  \\\n",
       "count  2.267000e+03      2.267000e+03   2267.000000              2267.000000   \n",
       "mean   1.921665e+05      1.921665e+05    646.608734              1115.268047   \n",
       "std    5.973365e+05      5.973365e+05   3407.266694              3325.862886   \n",
       "min    1.000000e+00      1.000000e+00      0.000000                 0.000000   \n",
       "25%    2.975000e+02      2.975000e+02      1.000000                 2.685017   \n",
       "50%    8.387000e+03      8.387000e+03     28.000000                90.691862   \n",
       "75%    8.977800e+04      8.977800e+04    212.000000               692.095852   \n",
       "max    7.480844e+06      7.480844e+06  71230.000000             38487.412620   \n",
       "\n",
       "       Ad impressions  Active view measurable  Active view viewable  \\\n",
       "count    2.267000e+03             2267.000000           2267.000000   \n",
       "mean     1.431779e+05               26.304232             14.829774   \n",
       "std      4.423279e+05               38.355395             21.364431   \n",
       "min      0.000000e+00                0.000000              0.000000   \n",
       "25%      1.725000e+02                3.998596              2.000000   \n",
       "50%      6.121000e+03               12.833590              7.283125   \n",
       "75%      6.422350e+04               33.463735             19.657310   \n",
       "max      4.606726e+06              486.585256            229.370291   \n",
       "\n",
       "       Active view enabled impressions  Active view measured impressions  \n",
       "count                     2.267000e+03                      2.267000e+03  \n",
       "mean                      1.426626e+05                      1.421016e+05  \n",
       "std                       4.408633e+05                      4.392831e+05  \n",
       "min                       0.000000e+00                      0.000000e+00  \n",
       "25%                       1.725000e+02                      1.690000e+02  \n",
       "50%                       5.965000e+03                      5.942000e+03  \n",
       "75%                       6.397450e+04                      6.380600e+04  \n",
       "max                       4.606723e+06                      4.576381e+06  "
      ]
     },
     "execution_count": 140,
     "metadata": {},
     "output_type": "execute_result"
    }
   ],
   "source": [
    "housing.describe()"
   ]
  },
  {
   "cell_type": "code",
   "execution_count": 141,
   "id": "02fa9c72-0224-4e91-b96a-c97ef1fcf0da",
   "metadata": {},
   "outputs": [
    {
     "name": "stdout",
     "output_type": "stream",
     "text": [
      "Saving figure attribute_histogram_plots\n"
     ]
    },
    {
     "data": {
      "image/png": "[encoded data removed]",
      "text/plain": [
       "<Figure size 1440x1080 with 9 Axes>"
      ]
     },
     "metadata": {
      "needs_background": "light"
     },
     "output_type": "display_data"
    }
   ],
   "source": [
    "%matplotlib inline\n",
    "import matplotlib.pyplot as plt\n",
    "housing.hist(bins=100, figsize=(20,15))\n",
    "save_fig(\"attribute_histogram_plots\")\n",
    "plt.show()"
   ]
  },
  {
   "cell_type": "markdown",
   "id": "a174f312-438d-4ab9-a771-a8e415c554cb",
   "metadata": {},
   "source": [
    "# Generación de set de entramiento 80% y validación 20%"
   ]
  },
  {
   "cell_type": "code",
   "execution_count": 142,
   "id": "c96cf224-d760-4888-9095-4b80681116f0",
   "metadata": {},
   "outputs": [],
   "source": [
    "# Creación de Métrica rCPM Ingresos/Ad Requests * 1,000\n",
    "housing['rCPM'] = housing['Estimated revenue (MX$)']/housing['Ad requests']*1000"
   ]
  },
  {
   "cell_type": "code",
   "execution_count": 143,
   "id": "364ae762-dcd5-450e-b631-4635303c00ec",
   "metadata": {},
   "outputs": [
    {
     "data": {
      "text/plain": [
       "<AxesSubplot:>"
      ]
     },
     "execution_count": 143,
     "metadata": {},
     "output_type": "execute_result"
    },
    {
     "data": {
      "image/png": "[encoded data removed]",
      "text/plain": [
       "<Figure size 432x288 with 1 Axes>"
      ]
     },
     "metadata": {
      "needs_background": "light"
     },
     "output_type": "display_data"
    }
   ],
   "source": [
    "housing[\"rCPM\"].hist()"
   ]
  },
  {
   "cell_type": "code",
   "execution_count": 144,
   "id": "170caf20-074c-48da-92e4-d65b61b5278a",
   "metadata": {},
   "outputs": [],
   "source": [
    "housing['rCPM_cat'] = pd.cut(housing[\"rCPM\"],\n",
    "                               bins=[-np.inf, 6., 12., 18., 24., np.inf],\n",
    "                               labels=[1, 2, 3, 4, 5])"
   ]
  },
  {
   "cell_type": "code",
   "execution_count": 145,
   "id": "9e59d8ef-5b3d-47c5-ac68-068e5d6ab5e0",
   "metadata": {},
   "outputs": [
    {
     "data": {
      "text/plain": [
       "1    1013\n",
       "5     604\n",
       "2     285\n",
       "4     226\n",
       "3     139\n",
       "Name: rCPM_cat, dtype: int64"
      ]
     },
     "execution_count": 145,
     "metadata": {},
     "output_type": "execute_result"
    }
   ],
   "source": [
    "housing[\"rCPM_cat\"].value_counts()"
   ]
  },
  {
   "cell_type": "code",
   "execution_count": 146,
   "id": "2a138020-717c-4aa2-9e72-10d0104045ab",
   "metadata": {},
   "outputs": [
    {
     "data": {
      "text/plain": [
       "<AxesSubplot:>"
      ]
     },
     "execution_count": 146,
     "metadata": {},
     "output_type": "execute_result"
    },
    {
     "data": {
      "image/png": "[encoded data removed]",
      "text/plain": [
       "<Figure size 432x288 with 1 Axes>"
      ]
     },
     "metadata": {
      "needs_background": "light"
     },
     "output_type": "display_data"
    }
   ],
   "source": [
    "housing[\"rCPM_cat\"].hist()"
   ]
  },
  {
   "cell_type": "code",
   "execution_count": 147,
   "id": "50b1cee7-53b2-4621-9880-628b9047605c",
   "metadata": {},
   "outputs": [],
   "source": [
    "from sklearn.model_selection import StratifiedShuffleSplit\n",
    "\n",
    "split = StratifiedShuffleSplit(n_splits=1, test_size=0.2, random_state=42)\n",
    "for train_index, test_index in split.split(housing, housing[\"rCPM_cat\"]):\n",
    "    strat_train_set = housing.loc[train_index]\n",
    "    strat_test_set = housing.loc[test_index]"
   ]
  },
  {
   "cell_type": "code",
   "execution_count": 148,
   "id": "fdd6d5d4-1489-4739-bbc9-f741ba20cd6a",
   "metadata": {},
   "outputs": [
    {
     "data": {
      "text/plain": [
       "1    0.447137\n",
       "5    0.266520\n",
       "2    0.125551\n",
       "4    0.099119\n",
       "3    0.061674\n",
       "Name: rCPM_cat, dtype: float64"
      ]
     },
     "execution_count": 148,
     "metadata": {},
     "output_type": "execute_result"
    }
   ],
   "source": [
    "strat_test_set[\"rCPM_cat\"].value_counts() / len(strat_test_set)"
   ]
  },
  {
   "cell_type": "code",
   "execution_count": 149,
   "id": "d11bba5c-9ff0-4f6b-8645-de41c83a46f4",
   "metadata": {},
   "outputs": [
    {
     "data": {
      "text/plain": [
       "1    0.446846\n",
       "5    0.266431\n",
       "2    0.125717\n",
       "4    0.099691\n",
       "3    0.061315\n",
       "Name: rCPM_cat, dtype: float64"
      ]
     },
     "execution_count": 149,
     "metadata": {},
     "output_type": "execute_result"
    }
   ],
   "source": [
    "housing[\"rCPM_cat\"].value_counts() / len(housing)"
   ]
  },
  {
   "cell_type": "code",
   "execution_count": 150,
   "id": "72314e57-3237-4649-91c2-8e26ecf2b480",
   "metadata": {},
   "outputs": [],
   "source": [
    "for set_ in (strat_train_set, strat_test_set):\n",
    "    set_.drop(\"rCPM_cat\", axis=1, inplace=True)"
   ]
  },
  {
   "cell_type": "markdown",
   "id": "21c6e86c-5f8e-495b-b4ed-b6fe01ac23d1",
   "metadata": {},
   "source": [
    "# Visualizar (dispersiones) y explorar (correlaciones, histogramas, etc.)"
   ]
  },
  {
   "cell_type": "code",
   "execution_count": 151,
   "id": "cc581a7e-8165-4198-8e83-b48223d28c94",
   "metadata": {},
   "outputs": [],
   "source": [
    "housing = strat_train_set.copy()"
   ]
  },
  {
   "cell_type": "code",
   "execution_count": 152,
   "id": "5f22c6cb-2474-4157-b625-c539c6963b31",
   "metadata": {},
   "outputs": [
    {
     "name": "stdout",
     "output_type": "stream",
     "text": [
      "Saving figure better_visualization_plot\n"
     ]
    },
    {
     "data": {
      "image/png": "[encoded data removed]",
      "text/plain": [
       "<Figure size 432x288 with 1 Axes>"
      ]
     },
     "metadata": {
      "needs_background": "light"
     },
     "output_type": "display_data"
    }
   ],
   "source": [
    "housing.plot(kind=\"scatter\", x=\"Ad requests\", y=\"Estimated revenue (MX$)\", alpha=0.1)\n",
    "save_fig(\"better_visualization_plot\")"
   ]
  },
  {
   "cell_type": "code",
   "execution_count": 153,
   "id": "f74f6895-5d2a-474b-b08d-79d1d7d00d86",
   "metadata": {},
   "outputs": [
    {
     "name": "stdout",
     "output_type": "stream",
     "text": [
      "Saving figure scatter_matrix_plot\n"
     ]
    },
    {
     "data": {
      "image/png": "[encoded data removed]",
      "text/plain": [
       "<Figure size 864x576 with 16 Axes>"
      ]
     },
     "metadata": {
      "needs_background": "light"
     },
     "output_type": "display_data"
    }
   ],
   "source": [
    "# from pandas.tools.plotting import scatter_matrix # For older versions of Pandas\n",
    "from pandas.plotting import scatter_matrix\n",
    "\n",
    "housing['rCPM'] = housing['Estimated revenue (MX$)']/housing['Ad requests']*1000\n",
    "\n",
    "attributes = [\"Ad requests\", \"Estimated revenue (MX$)\", \"Ad impressions\",\n",
    "              \"rCPM\"]\n",
    "scatter_matrix(housing[attributes], figsize=(12, 8))\n",
    "save_fig(\"scatter_matrix_plot\")"
   ]
  },
  {
   "cell_type": "code",
   "execution_count": 155,
   "id": "a828a838-5b25-4541-a379-d51994019052",
   "metadata": {},
   "outputs": [
    {
     "name": "stdout",
     "output_type": "stream",
     "text": [
      "Saving figure rCPM_vs_estimated_revenue\n"
     ]
    },
    {
     "data": {
      "image/png": "[encoded data removed]",
      "text/plain": [
       "<Figure size 432x288 with 1 Axes>"
      ]
     },
     "metadata": {
      "needs_background": "light"
     },
     "output_type": "display_data"
    }
   ],
   "source": [
    "housing.plot(kind=\"scatter\", x=\"rCPM\", y=\"Estimated revenue (MX$)\")\n",
    "plt.axis([0, 16, 0, 100])\n",
    "save_fig(\"rCPM_vs_estimated_revenue\")"
   ]
  },
  {
   "cell_type": "code",
   "execution_count": 156,
   "id": "8f454aa4-c1ff-4f0e-a331-fb86a46bb8a9",
   "metadata": {},
   "outputs": [],
   "source": [
    "housing['Viewability'] = housing['Active view measured impressions']/housing['Active view enabled impressions']"
   ]
  },
  {
   "cell_type": "code",
   "execution_count": 158,
   "id": "71c24fb9-e2fc-49d1-ab93-2227c2153243",
   "metadata": {},
   "outputs": [
    {
     "data": {
      "text/plain": [
       "rCPM                                1.000000\n",
       "Viewability                         0.065095\n",
       "Estimated revenue (MX$)             0.003028\n",
       "Active view viewable               -0.052327\n",
       "Clicks                             -0.080181\n",
       "Active view measurable             -0.089651\n",
       "Active view measured impressions   -0.178699\n",
       "Active view enabled impressions    -0.178809\n",
       "Ad impressions                     -0.178880\n",
       "Ad requests                        -0.184013\n",
       "Matched requests                   -0.184013\n",
       "Name: rCPM, dtype: float64"
      ]
     },
     "execution_count": 158,
     "metadata": {},
     "output_type": "execute_result"
    }
   ],
   "source": [
    "corr_matrix = housing.corr()\n",
    "corr_matrix[\"rCPM\"].sort_values(ascending=False)"
   ]
  },
  {
   "cell_type": "code",
   "execution_count": 159,
   "id": "fdf5b626-80cd-4b3a-afb1-6e7c949ab04e",
   "metadata": {},
   "outputs": [
    {
     "data": {
      "text/plain": [
       "Estimated revenue (MX$)             1.000000\n",
       "Active view measured impressions    0.840633\n",
       "Active view enabled impressions     0.840509\n",
       "Ad impressions                      0.840422\n",
       "Ad requests                         0.836780\n",
       "Matched requests                    0.836780\n",
       "Clicks                              0.821125\n",
       "Active view viewable                0.470418\n",
       "Active view measurable              0.423683\n",
       "Viewability                         0.039880\n",
       "rCPM                                0.003028\n",
       "Name: Estimated revenue (MX$), dtype: float64"
      ]
     },
     "execution_count": 159,
     "metadata": {},
     "output_type": "execute_result"
    }
   ],
   "source": [
    "corr_matrix = housing.corr()\n",
    "corr_matrix[\"Estimated revenue (MX$)\"].sort_values(ascending=False)"
   ]
  },
  {
   "cell_type": "markdown",
   "id": "92d609f9-eedc-4d8d-8454-697f63cd8962",
   "metadata": {},
   "source": [
    "# Preparar (limpieza de datos, escalamiento)"
   ]
  },
  {
   "cell_type": "code",
   "execution_count": 160,
   "id": "a44c9da1-856a-4218-ab90-aa18009dfa1a",
   "metadata": {},
   "outputs": [],
   "source": [
    "housing = strat_train_set.drop(\"rCPM\", axis=1) # drop labels for training set\n",
    "housing_labels = strat_train_set[\"rCPM\"].copy()"
   ]
  },
  {
   "cell_type": "code",
   "execution_count": 162,
   "id": "2d2e6124-fc9d-4279-b150-a555f05d86e8",
   "metadata": {},
   "outputs": [],
   "source": [
    "try:\n",
    "    from sklearn.impute import SimpleImputer # Scikit-Learn 0.20+\n",
    "except ImportError:\n",
    "    from sklearn.preprocessing import Imputer as SimpleImputer\n",
    "\n",
    "imputer = SimpleImputer(strategy=\"median\")"
   ]
  },
  {
   "cell_type": "code",
   "execution_count": 163,
   "id": "639102a9-82d9-4a94-9024-2b8eef3cb544",
   "metadata": {},
   "outputs": [],
   "source": [
    "\n",
    "housing_num = housing.drop('Mes', axis=1)\n",
    "housing_num = housing_num.drop('DFP Ad Units (Top Level)', axis=1)\n",
    "housing_num = housing_num.drop('Transaction types', axis=1)\n",
    "housing_num = housing_num.drop('Creative sizes', axis=1)\n",
    "# alternatively: housing_num = housing.select_dtypes(include=[np.number])"
   ]
  },
  {
   "cell_type": "code",
   "execution_count": 164,
   "id": "bb76b839-04ea-48df-96da-341170516a82",
   "metadata": {},
   "outputs": [
    {
     "data": {
      "text/plain": [
       "SimpleImputer(strategy='median')"
      ]
     },
     "execution_count": 164,
     "metadata": {},
     "output_type": "execute_result"
    }
   ],
   "source": [
    "imputer.fit(housing_num)"
   ]
  },
  {
   "cell_type": "code",
   "execution_count": 165,
   "id": "04dbf8af-ea5e-4379-99b0-9c73bca2718f",
   "metadata": {},
   "outputs": [
    {
     "data": {
      "text/plain": [
       "array([8.14300000e+03, 8.14300000e+03, 2.80000000e+01, 8.90343780e+01,\n",
       "       5.61500000e+03, 1.20014489e+01, 7.24949711e+00, 5.49000000e+03,\n",
       "       5.48900000e+03])"
      ]
     },
     "execution_count": 165,
     "metadata": {},
     "output_type": "execute_result"
    }
   ],
   "source": [
    "imputer.statistics_"
   ]
  },
  {
   "cell_type": "code",
   "execution_count": 166,
   "id": "8558796f-2f64-45f9-9797-b2d9e0e92f5e",
   "metadata": {},
   "outputs": [],
   "source": [
    "X = imputer.transform(housing_num)"
   ]
  },
  {
   "cell_type": "code",
   "execution_count": 168,
   "id": "f38ef7a8-2de9-4c87-aeb1-84468764ffa8",
   "metadata": {},
   "outputs": [
    {
     "data": {
      "text/html": [
       "<div>\n",
       "<style scoped>\n",
       "    .dataframe tbody tr th:only-of-type {\n",
       "        vertical-align: middle;\n",
       "    }\n",
       "\n",
       "    .dataframe tbody tr th {\n",
       "        vertical-align: top;\n",
       "    }\n",
       "\n",
       "    .dataframe thead th {\n",
       "        text-align: right;\n",
       "    }\n",
       "</style>\n",
       "<table border=\"1\" class=\"dataframe\">\n",
       "  <thead>\n",
       "    <tr style=\"text-align: right;\">\n",
       "      <th></th>\n",
       "      <th>Ad requests</th>\n",
       "      <th>Matched requests</th>\n",
       "      <th>Clicks</th>\n",
       "      <th>Estimated revenue (MX$)</th>\n",
       "      <th>Ad impressions</th>\n",
       "      <th>Active view measurable</th>\n",
       "      <th>Active view viewable</th>\n",
       "      <th>Active view enabled impressions</th>\n",
       "      <th>Active view measured impressions</th>\n",
       "    </tr>\n",
       "  </thead>\n",
       "  <tbody>\n",
       "    <tr>\n",
       "      <th>1721</th>\n",
       "      <td>41.0</td>\n",
       "      <td>41.0</td>\n",
       "      <td>0.0</td>\n",
       "      <td>1.499672</td>\n",
       "      <td>27.0</td>\n",
       "      <td>4.000000</td>\n",
       "      <td>3.772727</td>\n",
       "      <td>27.0</td>\n",
       "      <td>27.0</td>\n",
       "    </tr>\n",
       "    <tr>\n",
       "      <th>168</th>\n",
       "      <td>1007.0</td>\n",
       "      <td>1007.0</td>\n",
       "      <td>7.0</td>\n",
       "      <td>30.888338</td>\n",
       "      <td>983.0</td>\n",
       "      <td>3.996725</td>\n",
       "      <td>10.407761</td>\n",
       "      <td>982.0</td>\n",
       "      <td>979.0</td>\n",
       "    </tr>\n",
       "    <tr>\n",
       "      <th>1198</th>\n",
       "      <td>46567.0</td>\n",
       "      <td>46567.0</td>\n",
       "      <td>33.0</td>\n",
       "      <td>2776.509885</td>\n",
       "      <td>40207.0</td>\n",
       "      <td>26.433563</td>\n",
       "      <td>24.991932</td>\n",
       "      <td>40755.0</td>\n",
       "      <td>40772.0</td>\n",
       "    </tr>\n",
       "    <tr>\n",
       "      <th>2204</th>\n",
       "      <td>4122.0</td>\n",
       "      <td>4122.0</td>\n",
       "      <td>1.0</td>\n",
       "      <td>8.709912</td>\n",
       "      <td>2073.0</td>\n",
       "      <td>21.750481</td>\n",
       "      <td>13.414433</td>\n",
       "      <td>2071.0</td>\n",
       "      <td>2062.0</td>\n",
       "    </tr>\n",
       "    <tr>\n",
       "      <th>1625</th>\n",
       "      <td>64116.0</td>\n",
       "      <td>64116.0</td>\n",
       "      <td>186.0</td>\n",
       "      <td>630.142644</td>\n",
       "      <td>60494.0</td>\n",
       "      <td>40.727949</td>\n",
       "      <td>21.656338</td>\n",
       "      <td>59233.0</td>\n",
       "      <td>58930.0</td>\n",
       "    </tr>\n",
       "  </tbody>\n",
       "</table>\n",
       "</div>"
      ],
      "text/plain": [
       "      Ad requests  Matched requests  Clicks  Estimated revenue (MX$)  \\\n",
       "1721         41.0              41.0     0.0                 1.499672   \n",
       "168        1007.0            1007.0     7.0                30.888338   \n",
       "1198      46567.0           46567.0    33.0              2776.509885   \n",
       "2204       4122.0            4122.0     1.0                 8.709912   \n",
       "1625      64116.0           64116.0   186.0               630.142644   \n",
       "\n",
       "      Ad impressions  Active view measurable  Active view viewable  \\\n",
       "1721            27.0                4.000000              3.772727   \n",
       "168            983.0                3.996725             10.407761   \n",
       "1198         40207.0               26.433563             24.991932   \n",
       "2204          2073.0               21.750481             13.414433   \n",
       "1625         60494.0               40.727949             21.656338   \n",
       "\n",
       "      Active view enabled impressions  Active view measured impressions  \n",
       "1721                             27.0                              27.0  \n",
       "168                             982.0                             979.0  \n",
       "1198                          40755.0                           40772.0  \n",
       "2204                           2071.0                            2062.0  \n",
       "1625                          59233.0                           58930.0  "
      ]
     },
     "execution_count": 168,
     "metadata": {},
     "output_type": "execute_result"
    }
   ],
   "source": [
    "housing_tr = pd.DataFrame(X, columns=housing_num.columns,\n",
    "                          index=housing.index)\n",
    "housing_tr.head()"
   ]
  },
  {
   "cell_type": "code",
   "execution_count": 175,
   "id": "8cd2f02b-ab26-45f2-b1c4-a03d51526083",
   "metadata": {},
   "outputs": [
    {
     "name": "stderr",
     "output_type": "stream",
     "text": [
      "C:\\Users\\Aaron\\AppData\\Local\\Temp\\ipykernel_9828\\3484544133.py:2: SettingWithCopyWarning: \n",
      "A value is trying to be set on a copy of a slice from a DataFrame.\n",
      "Try using .loc[row_indexer,col_indexer] = value instead\n",
      "\n",
      "See the caveats in the documentation: https://pandas.pydata.org/pandas-docs/stable/user_guide/indexing.html#returning-a-view-versus-a-copy\n",
      "  housing_cat['Creative sizes'] = housing[['Creative sizes']]\n"
     ]
    },
    {
     "data": {
      "text/html": [
       "<div>\n",
       "<style scoped>\n",
       "    .dataframe tbody tr th:only-of-type {\n",
       "        vertical-align: middle;\n",
       "    }\n",
       "\n",
       "    .dataframe tbody tr th {\n",
       "        vertical-align: top;\n",
       "    }\n",
       "\n",
       "    .dataframe thead th {\n",
       "        text-align: right;\n",
       "    }\n",
       "</style>\n",
       "<table border=\"1\" class=\"dataframe\">\n",
       "  <thead>\n",
       "    <tr style=\"text-align: right;\">\n",
       "      <th></th>\n",
       "      <th>DFP Ad Units (Top Level)</th>\n",
       "      <th>Creative sizes</th>\n",
       "    </tr>\n",
       "  </thead>\n",
       "  <tbody>\n",
       "    <tr>\n",
       "      <th>1721</th>\n",
       "      <td>35139216 » Me_lo_dijo_Lola</td>\n",
       "      <td>728x90</td>\n",
       "    </tr>\n",
       "    <tr>\n",
       "      <th>168</th>\n",
       "      <td>35139216 » ImagenTV</td>\n",
       "      <td>160x600</td>\n",
       "    </tr>\n",
       "    <tr>\n",
       "      <th>1198</th>\n",
       "      <td>35139216 » YouTube_Intrasitio</td>\n",
       "      <td>Video/Overlay</td>\n",
       "    </tr>\n",
       "    <tr>\n",
       "      <th>2204</th>\n",
       "      <td>35139216 » Me_lo_dijo_Lola</td>\n",
       "      <td>320x50</td>\n",
       "    </tr>\n",
       "    <tr>\n",
       "      <th>1625</th>\n",
       "      <td>35139216 » Cocina_Delirante</td>\n",
       "      <td>970x90</td>\n",
       "    </tr>\n",
       "    <tr>\n",
       "      <th>379</th>\n",
       "      <td>35139216 » Cocina_Delirante</td>\n",
       "      <td>300x250</td>\n",
       "    </tr>\n",
       "    <tr>\n",
       "      <th>1575</th>\n",
       "      <td>35139216 » Adrenalina360</td>\n",
       "      <td>300x100</td>\n",
       "    </tr>\n",
       "    <tr>\n",
       "      <th>175</th>\n",
       "      <td>35139216 » ImagenTV</td>\n",
       "      <td>970x250</td>\n",
       "    </tr>\n",
       "    <tr>\n",
       "      <th>855</th>\n",
       "      <td>35139216 » RSVP_2.0</td>\n",
       "      <td>468x60</td>\n",
       "    </tr>\n",
       "    <tr>\n",
       "      <th>1656</th>\n",
       "      <td>35139216 » Excelsior</td>\n",
       "      <td>300x600</td>\n",
       "    </tr>\n",
       "  </tbody>\n",
       "</table>\n",
       "</div>"
      ],
      "text/plain": [
       "           DFP Ad Units (Top Level) Creative sizes\n",
       "1721     35139216 » Me_lo_dijo_Lola         728x90\n",
       "168             35139216 » ImagenTV        160x600\n",
       "1198  35139216 » YouTube_Intrasitio  Video/Overlay\n",
       "2204     35139216 » Me_lo_dijo_Lola         320x50\n",
       "1625    35139216 » Cocina_Delirante         970x90\n",
       "379     35139216 » Cocina_Delirante        300x250\n",
       "1575       35139216 » Adrenalina360        300x100\n",
       "175             35139216 » ImagenTV        970x250\n",
       "855             35139216 » RSVP_2.0         468x60\n",
       "1656           35139216 » Excelsior        300x600"
      ]
     },
     "execution_count": 175,
     "metadata": {},
     "output_type": "execute_result"
    }
   ],
   "source": [
    "housing_cat = housing[['DFP Ad Units (Top Level)']]\n",
    "housing_cat['Creative sizes'] = housing[['Creative sizes']]\n",
    "housing_cat.head(10)"
   ]
  },
  {
   "cell_type": "code",
   "execution_count": 176,
   "id": "60acbcd4-48e9-4e9d-98c0-279d942e7e0a",
   "metadata": {},
   "outputs": [],
   "source": [
    "try:\n",
    "    from sklearn.preprocessing import OrdinalEncoder\n",
    "except ImportError:\n",
    "    from future_encoders import OrdinalEncoder # Scikit-Learn < 0.20"
   ]
  },
  {
   "cell_type": "code",
   "execution_count": 177,
   "id": "dbb5a155-e71c-4640-90cd-2636510a80d3",
   "metadata": {},
   "outputs": [
    {
     "data": {
      "text/plain": [
       "array([[11.,  9.],\n",
       "       [ 9.,  0.],\n",
       "       [20., 13.],\n",
       "       [11.,  5.],\n",
       "       [ 5., 11.],\n",
       "       [ 5.,  2.],\n",
       "       [ 3.,  1.],\n",
       "       [ 9., 10.],\n",
       "       [15.,  8.],\n",
       "       [ 7.,  3.]])"
      ]
     },
     "execution_count": 177,
     "metadata": {},
     "output_type": "execute_result"
    }
   ],
   "source": [
    "ordinal_encoder = OrdinalEncoder()\n",
    "housing_cat_encoded = ordinal_encoder.fit_transform(housing_cat)\n",
    "housing_cat_encoded[:10]"
   ]
  },
  {
   "cell_type": "code",
   "execution_count": 178,
   "id": "56eef8ea-752e-4a03-9023-338adc692d36",
   "metadata": {},
   "outputs": [
    {
     "data": {
      "text/plain": [
       "[array(['19916383 » AMP_Excelsior_300x250', '35139216 » Actitud Fem 2.0',\n",
       "        '35139216 » Actitudfem', '35139216 » Adrenalina360',\n",
       "        '35139216 » Atraccion360', '35139216 » Cocina_Delirante',\n",
       "        '35139216 » DineroenImagen', '35139216 » Excelsior',\n",
       "        '35139216 » Imagen', '35139216 » ImagenTV', '35139216 » MGID_FIA',\n",
       "        '35139216 » Me_lo_dijo_Lola', '35139216 » Me_lo_dijo_lola_20',\n",
       "        '35139216 » Passbacks_Invent', '35139216 » RSVP',\n",
       "        '35139216 » RSVP_2.0', '35139216 » Salud180',\n",
       "        '35139216 » Salud_180_2.0', '35139216 » Video_Imagen_Digital',\n",
       "        '35139216 » YouTube to Grupo Imagen Shared',\n",
       "        '35139216 » YouTube_Intrasitio'], dtype=object),\n",
       " array(['160x600', '300x100', '300x250', '300x600', '320x100', '320x50',\n",
       "        '330x250', '360x250', '468x60', '728x90', '970x250', '970x90',\n",
       "        'Native', 'Video/Overlay'], dtype=object)]"
      ]
     },
     "execution_count": 178,
     "metadata": {},
     "output_type": "execute_result"
    }
   ],
   "source": [
    "ordinal_encoder.categories_"
   ]
  },
  {
   "cell_type": "code",
   "execution_count": 179,
   "id": "1a592b8d-012c-4cb7-9e33-bee5919d20d7",
   "metadata": {},
   "outputs": [
    {
     "data": {
      "text/plain": [
       "<1813x35 sparse matrix of type '<class 'numpy.float64'>'\n",
       "\twith 3626 stored elements in Compressed Sparse Row format>"
      ]
     },
     "execution_count": 179,
     "metadata": {},
     "output_type": "execute_result"
    }
   ],
   "source": [
    "try:\n",
    "    from sklearn.preprocessing import OrdinalEncoder # just to raise an ImportError if Scikit-Learn < 0.20\n",
    "    from sklearn.preprocessing import OneHotEncoder\n",
    "except ImportError:\n",
    "    from future_encoders import OneHotEncoder # Scikit-Learn < 0.20\n",
    "\n",
    "cat_encoder = OneHotEncoder()\n",
    "housing_cat_1hot = cat_encoder.fit_transform(housing_cat)\n",
    "housing_cat_1hot"
   ]
  },
  {
   "cell_type": "code",
   "execution_count": 180,
   "id": "8b47ef1d-27c2-416d-8176-2c5debe96898",
   "metadata": {},
   "outputs": [
    {
     "data": {
      "text/plain": [
       "array([[0., 0., 0., ..., 0., 0., 0.],\n",
       "       [0., 0., 0., ..., 0., 0., 0.],\n",
       "       [0., 0., 0., ..., 0., 0., 1.],\n",
       "       ...,\n",
       "       [0., 0., 0., ..., 0., 0., 0.],\n",
       "       [0., 0., 0., ..., 0., 0., 0.],\n",
       "       [0., 0., 0., ..., 0., 0., 0.]])"
      ]
     },
     "execution_count": 180,
     "metadata": {},
     "output_type": "execute_result"
    }
   ],
   "source": [
    "housing_cat_1hot.toarray()"
   ]
  },
  {
   "cell_type": "code",
   "execution_count": 181,
   "id": "cb723c2d-d7d2-4c16-a0ea-79be204ce0ae",
   "metadata": {},
   "outputs": [
    {
     "data": {
      "text/plain": [
       "array([[0., 0., 0., ..., 0., 0., 0.],\n",
       "       [0., 0., 0., ..., 0., 0., 0.],\n",
       "       [0., 0., 0., ..., 0., 0., 1.],\n",
       "       ...,\n",
       "       [0., 0., 0., ..., 0., 0., 0.],\n",
       "       [0., 0., 0., ..., 0., 0., 0.],\n",
       "       [0., 0., 0., ..., 0., 0., 0.]])"
      ]
     },
     "execution_count": 181,
     "metadata": {},
     "output_type": "execute_result"
    }
   ],
   "source": [
    "cat_encoder = OneHotEncoder(sparse=False)\n",
    "housing_cat_1hot = cat_encoder.fit_transform(housing_cat)\n",
    "housing_cat_1hot"
   ]
  },
  {
   "cell_type": "code",
   "execution_count": 182,
   "id": "a54d89a5-db84-4d86-b62c-47b4169f2c75",
   "metadata": {},
   "outputs": [
    {
     "data": {
      "text/plain": [
       "[array(['19916383 » AMP_Excelsior_300x250', '35139216 » Actitud Fem 2.0',\n",
       "        '35139216 » Actitudfem', '35139216 » Adrenalina360',\n",
       "        '35139216 » Atraccion360', '35139216 » Cocina_Delirante',\n",
       "        '35139216 » DineroenImagen', '35139216 » Excelsior',\n",
       "        '35139216 » Imagen', '35139216 » ImagenTV', '35139216 » MGID_FIA',\n",
       "        '35139216 » Me_lo_dijo_Lola', '35139216 » Me_lo_dijo_lola_20',\n",
       "        '35139216 » Passbacks_Invent', '35139216 » RSVP',\n",
       "        '35139216 » RSVP_2.0', '35139216 » Salud180',\n",
       "        '35139216 » Salud_180_2.0', '35139216 » Video_Imagen_Digital',\n",
       "        '35139216 » YouTube to Grupo Imagen Shared',\n",
       "        '35139216 » YouTube_Intrasitio'], dtype=object),\n",
       " array(['160x600', '300x100', '300x250', '300x600', '320x100', '320x50',\n",
       "        '330x250', '360x250', '468x60', '728x90', '970x250', '970x90',\n",
       "        'Native', 'Video/Overlay'], dtype=object)]"
      ]
     },
     "execution_count": 182,
     "metadata": {},
     "output_type": "execute_result"
    }
   ],
   "source": [
    "cat_encoder.categories_"
   ]
  },
  {
   "cell_type": "code",
   "execution_count": 183,
   "id": "f74c700e-4956-41c8-b575-faab85b81078",
   "metadata": {},
   "outputs": [
    {
     "data": {
      "text/plain": [
       "Index(['Mes', 'DFP Ad Units (Top Level)', 'Transaction types',\n",
       "       'Creative sizes', 'Ad requests', 'Matched requests', 'Clicks',\n",
       "       'Estimated revenue (MX$)', 'Ad impressions', 'Active view measurable',\n",
       "       'Active view viewable', 'Active view enabled impressions',\n",
       "       'Active view measured impressions'],\n",
       "      dtype='object')"
      ]
     },
     "execution_count": 183,
     "metadata": {},
     "output_type": "execute_result"
    }
   ],
   "source": [
    "housing.columns"
   ]
  },
  {
   "cell_type": "code",
   "execution_count": 184,
   "id": "0f98c6ac-9afa-4c27-950c-becb23e17dcc",
   "metadata": {},
   "outputs": [],
   "source": [
    "from sklearn.pipeline import Pipeline\n",
    "from sklearn.preprocessing import StandardScaler\n",
    "\n",
    "num_pipeline = Pipeline([\n",
    "        ('imputer', SimpleImputer(strategy=\"median\")),\n",
    "        ('std_scaler', StandardScaler()),\n",
    "    ])\n",
    "\n",
    "housing_num_tr = num_pipeline.fit_transform(housing_num)"
   ]
  },
  {
   "cell_type": "code",
   "execution_count": 185,
   "id": "de51c64b-7f33-4463-ab22-96d1be59b740",
   "metadata": {},
   "outputs": [
    {
     "data": {
      "text/plain": [
       "array([[-0.3192633 , -0.3192633 , -0.19905376, ..., -0.51141323,\n",
       "        -0.32109599, -0.32101363],\n",
       "       [-0.31768123, -0.31768123, -0.19696243, ..., -0.20646962,\n",
       "        -0.31897239, -0.3188891 ],\n",
       "       [-0.24306536, -0.24306536, -0.18919462, ...,  0.46381329,\n",
       "        -0.23053033, -0.23008514],\n",
       "       ...,\n",
       "       [-0.31931407, -0.31931407, -0.19905376, ..., -0.55841738,\n",
       "        -0.32113602, -0.3210538 ],\n",
       "       [-0.07895301, -0.07895301, -0.0792502 , ...,  1.35176032,\n",
       "        -0.16291518, -0.16393241],\n",
       "       [-0.31563568, -0.31563568, -0.19188348, ..., -0.50803026,\n",
       "        -0.31629509, -0.31623121]])"
      ]
     },
     "execution_count": 185,
     "metadata": {},
     "output_type": "execute_result"
    }
   ],
   "source": [
    "housing_num_tr"
   ]
  },
  {
   "cell_type": "code",
   "execution_count": 187,
   "id": "6161a606-162e-4de8-8e4a-d2d11d730ee1",
   "metadata": {},
   "outputs": [],
   "source": [
    "try:\n",
    "    from sklearn.compose import ColumnTransformer\n",
    "except ImportError:\n",
    "    from future_encoders import ColumnTransformer # Scikit-Learn < 0.20"
   ]
  },
  {
   "cell_type": "code",
   "execution_count": 188,
   "id": "8256b3c1-868e-4b2a-b49b-4c029dbe5ab5",
   "metadata": {},
   "outputs": [],
   "source": [
    "num_attribs = list(housing_num)\n",
    "cat_attribs = [\"DFP Ad Units (Top Level)\", 'Creative sizes']\n",
    "\n",
    "full_pipeline = ColumnTransformer([\n",
    "        (\"num\", num_pipeline, num_attribs),\n",
    "        (\"cat\", OneHotEncoder(), cat_attribs),\n",
    "    ])\n",
    "\n",
    "housing_prepared = full_pipeline.fit_transform(housing)"
   ]
  },
  {
   "cell_type": "code",
   "execution_count": 189,
   "id": "0b7e0a71-2df2-4075-89b9-3fcc22ae985d",
   "metadata": {},
   "outputs": [
    {
     "data": {
      "text/plain": [
       "<1813x44 sparse matrix of type '<class 'numpy.float64'>'\n",
       "\twith 19943 stored elements in Compressed Sparse Row format>"
      ]
     },
     "execution_count": 189,
     "metadata": {},
     "output_type": "execute_result"
    }
   ],
   "source": [
    "housing_prepared"
   ]
  },
  {
   "cell_type": "code",
   "execution_count": 190,
   "id": "77563167-f9c2-4c4b-9a8f-fff467ddb6c0",
   "metadata": {},
   "outputs": [
    {
     "data": {
      "text/plain": [
       "(1813, 44)"
      ]
     },
     "execution_count": 190,
     "metadata": {},
     "output_type": "execute_result"
    }
   ],
   "source": [
    "housing_prepared.shape"
   ]
  },
  {
   "cell_type": "code",
   "execution_count": 191,
   "id": "2e2e55a9-e892-4633-afde-1009125587d4",
   "metadata": {},
   "outputs": [],
   "source": [
    "from sklearn.base import BaseEstimator, TransformerMixin\n",
    "\n",
    "# Create a class to select numerical or categorical columns \n",
    "class OldDataFrameSelector(BaseEstimator, TransformerMixin):\n",
    "    def __init__(self, attribute_names):\n",
    "        self.attribute_names = attribute_names\n",
    "    def fit(self, X, y=None):\n",
    "        return self\n",
    "    def transform(self, X):\n",
    "        return X[self.attribute_names].values"
   ]
  },
  {
   "cell_type": "code",
   "execution_count": null,
   "id": "62dcaef0-0fcc-4275-9148-d8f6582581d6",
   "metadata": {},
   "outputs": [],
   "source": [
    "num_attribs = list(housing_num)\n",
    "cat_attribs = [\"\"]\n",
    "\n",
    "old_num_pipeline = Pipeline([\n",
    "        ('selector', OldDataFrameSelector(num_attribs)),\n",
    "        ('imputer', SimpleImputer(strategy=\"median\")),\n",
    "        ('attribs_adder', FunctionTransformer(add_extra_features, validate=False)),\n",
    "        ('std_scaler', StandardScaler()),\n",
    "    ])\n",
    "\n",
    "old_cat_pipeline = Pipeline([\n",
    "        ('selector', OldDataFrameSelector(cat_attribs)),\n",
    "        ('cat_encoder', OneHotEncoder(sparse=False)),\n",
    "    ])"
   ]
  }
 ],
 "metadata": {
  "kernelspec": {
   "display_name": "Python 3 (ipykernel)",
   "language": "python",
   "name": "python3"
  },
  "language_info": {
   "codemirror_mode": {
    "name": "ipython",
    "version": 3
   },
   "file_extension": ".py",
   "mimetype": "text/x-python",
   "name": "python",
   "nbconvert_exporter": "python",
   "pygments_lexer": "ipython3",
   "version": "3.9.12"
  }
 },
 "nbformat": 4,
 "nbformat_minor": 5
}
