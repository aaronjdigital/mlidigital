{
 "cells": [
  {
   "cell_type": "markdown",
   "id": "df06553c-d3da-4b62-922d-790c690e9302",
   "metadata": {},
   "source": [
    "# ML Reglas de Precio"
   ]
  },
  {
   "cell_type": "markdown",
   "id": "27f4d470-4bb4-41c2-a1dd-870bdb2aaa28",
   "metadata": {
    "tags": []
   },
   "source": [
    "Objetivo: Identificar factores determinantes para clasificación de reglas de precio e incremento de Ingresos (Estimated Revenue)\n",
    "\n",
    "Variables disponibles cualitativas:\n",
    "    - Mes\n",
    "    - Sitio (DFP Ad Unit)\n",
    "    - Dispositivo (Device category)\n",
    "    - Tipo de transacción (Transaction Type)\n",
    "    - Tamaño de creativo (Creative Size)\n",
    "\n",
    "Variables disponibles cuantitativas:\n",
    "    - Ad Requests.\n",
    "    - Matched Requests.\n",
    "    - Clicks.\n",
    "    - Estimated Revenue\n",
    "    - Ad Impressions\n",
    "    - Active View Enabled Impressions\n",
    "    - Active View measured Impressions\n",
    "    \n",
    "$$eCPM = \\frac{Ingresos}{Impresiones Vendidas} * 1000$$  \n",
    "$$Fill Rate = \\frac{Impresiones Vendidas}{Oportunidades}$$  \n",
    "$$rCPM = \\frac{Ingresos}{Oportunidades} * 1000 = eCPM * Fill Rate$$  \n",
    "$$Viewability = \\frac{Impresiones Vistas}{Impresiones Disponibles} * 1000$$\n",
    "\n",
    "Actualmente tenemos los siguientes RMSE:  \n",
    "LinearRegressor: 4.163198550626033  \n",
    "Árbol de Decisión con CV: 2.0217106846949955  \n",
    "LinearRegressor con CV: 4.144651321967734  \n",
    "SVM: 4.541685841508111  \n",
    "Random Forest Grid : 2.94553254567179 {max_features': 8, 'n_estimators': 30}  \n",
    "Random Forest RandomizedSearchCV: 2.9591995838687026 {'max_features': 7, 'n_estimators': 122}"
   ]
  },
  {
   "cell_type": "code",
   "execution_count": 71,
   "id": "fa446e72-2f1f-47e6-85a7-5d6e0eac2cd8",
   "metadata": {},
   "outputs": [],
   "source": [
    "# To support both python 2 and python 3\n",
    "from __future__ import division, print_function, unicode_literals\n",
    "\n",
    "# Common imports\n",
    "import numpy as np\n",
    "import os\n",
    "\n",
    "# to make this notebook's output stable across runs\n",
    "np.random.seed(42)\n",
    "\n",
    "# To plot pretty figures\n",
    "%matplotlib inline\n",
    "import matplotlib as mpl\n",
    "import matplotlib.pyplot as plt\n",
    "mpl.rc('axes', labelsize=14)\n",
    "mpl.rc('xtick', labelsize=12)\n",
    "mpl.rc('ytick', labelsize=12)\n",
    "\n",
    "# Where to save the figures\n",
    "PROJECT_ROOT_DIR = \".\"\n",
    "CHAPTER_ID = \"end_to_end_project\"\n",
    "IMAGES_PATH = os.path.join(PROJECT_ROOT_DIR, \"images\", CHAPTER_ID)\n",
    "os.makedirs(IMAGES_PATH, exist_ok=True)\n",
    "\n",
    "def save_fig(fig_id, tight_layout=True, fig_extension=\"png\", resolution=300):\n",
    "    path = os.path.join(IMAGES_PATH, fig_id + \".\" + fig_extension)\n",
    "    print(\"Saving figure\", fig_id)\n",
    "    if tight_layout:\n",
    "        plt.tight_layout()\n",
    "    plt.savefig(path, format=fig_extension, dpi=resolution)"
   ]
  },
  {
   "cell_type": "code",
   "execution_count": 72,
   "id": "743b13a1-ca88-4172-8829-d6de98df1d17",
   "metadata": {},
   "outputs": [],
   "source": [
    "# Carga de archivo base de datos.\n",
    "import os\n",
    "import tarfile\n",
    "import urllib.request\n",
    "import pandas as pd\n",
    "\n",
    "HOUSING_PATH = os.path.join(\"datasets\")\n",
    "\n",
    "def load_housing_data(housing_path=HOUSING_PATH):\n",
    "    csv_path = os.path.join(housing_path, \"newbase_pricing_rules_open.csv\")\n",
    "    return pd.read_csv(csv_path)"
   ]
  },
  {
   "cell_type": "markdown",
   "id": "dac3de7b-1e78-4500-ae30-21cba083c11e",
   "metadata": {},
   "source": [
    "# Carga y primera visualización de datos"
   ]
  },
  {
   "cell_type": "code",
   "execution_count": 73,
   "id": "45aa5386-0b6b-43ac-aa7c-7775e97ae25c",
   "metadata": {},
   "outputs": [
    {
     "data": {
      "text/html": [
       "<div>\n",
       "<style scoped>\n",
       "    .dataframe tbody tr th:only-of-type {\n",
       "        vertical-align: middle;\n",
       "    }\n",
       "\n",
       "    .dataframe tbody tr th {\n",
       "        vertical-align: top;\n",
       "    }\n",
       "\n",
       "    .dataframe thead th {\n",
       "        text-align: right;\n",
       "    }\n",
       "</style>\n",
       "<table border=\"1\" class=\"dataframe\">\n",
       "  <thead>\n",
       "    <tr style=\"text-align: right;\">\n",
       "      <th></th>\n",
       "      <th>Months</th>\n",
       "      <th>Sitio</th>\n",
       "      <th>Position Ad Unit</th>\n",
       "      <th>Device</th>\n",
       "      <th>Region</th>\n",
       "      <th>Ad requests</th>\n",
       "      <th>Matched requests</th>\n",
       "      <th>Clicks</th>\n",
       "      <th>Estimated revenue (MX$)</th>\n",
       "      <th>Ad impressions</th>\n",
       "      <th>Active view enabled impressions</th>\n",
       "      <th>Active view measured impressions</th>\n",
       "    </tr>\n",
       "  </thead>\n",
       "  <tbody>\n",
       "    <tr>\n",
       "      <th>0</th>\n",
       "      <td>01/08/2020</td>\n",
       "      <td>Actitudfem</td>\n",
       "      <td>1x1</td>\n",
       "      <td>Desktop</td>\n",
       "      <td>Latinoamerica</td>\n",
       "      <td>27479</td>\n",
       "      <td>29</td>\n",
       "      <td>0</td>\n",
       "      <td>0.11</td>\n",
       "      <td>21</td>\n",
       "      <td>21</td>\n",
       "      <td>21</td>\n",
       "    </tr>\n",
       "    <tr>\n",
       "      <th>1</th>\n",
       "      <td>01/08/2020</td>\n",
       "      <td>Actitudfem</td>\n",
       "      <td>1x1</td>\n",
       "      <td>Desktop</td>\n",
       "      <td>Mexico</td>\n",
       "      <td>38906</td>\n",
       "      <td>401</td>\n",
       "      <td>0</td>\n",
       "      <td>2.07</td>\n",
       "      <td>378</td>\n",
       "      <td>378</td>\n",
       "      <td>378</td>\n",
       "    </tr>\n",
       "    <tr>\n",
       "      <th>2</th>\n",
       "      <td>01/08/2020</td>\n",
       "      <td>Actitudfem</td>\n",
       "      <td>1x1</td>\n",
       "      <td>Desktop</td>\n",
       "      <td>United States</td>\n",
       "      <td>248</td>\n",
       "      <td>0</td>\n",
       "      <td>0</td>\n",
       "      <td>0.00</td>\n",
       "      <td>0</td>\n",
       "      <td>0</td>\n",
       "      <td>0</td>\n",
       "    </tr>\n",
       "    <tr>\n",
       "      <th>3</th>\n",
       "      <td>01/08/2020</td>\n",
       "      <td>Actitudfem</td>\n",
       "      <td>1x1</td>\n",
       "      <td>Mobile</td>\n",
       "      <td>Latinoamerica</td>\n",
       "      <td>119110</td>\n",
       "      <td>682</td>\n",
       "      <td>0</td>\n",
       "      <td>0.59</td>\n",
       "      <td>556</td>\n",
       "      <td>556</td>\n",
       "      <td>548</td>\n",
       "    </tr>\n",
       "    <tr>\n",
       "      <th>4</th>\n",
       "      <td>01/08/2020</td>\n",
       "      <td>Actitudfem</td>\n",
       "      <td>1x1</td>\n",
       "      <td>Mobile</td>\n",
       "      <td>Mexico</td>\n",
       "      <td>327530</td>\n",
       "      <td>332</td>\n",
       "      <td>0</td>\n",
       "      <td>0.43</td>\n",
       "      <td>269</td>\n",
       "      <td>269</td>\n",
       "      <td>265</td>\n",
       "    </tr>\n",
       "  </tbody>\n",
       "</table>\n",
       "</div>"
      ],
      "text/plain": [
       "       Months       Sitio Position Ad Unit   Device         Region  \\\n",
       "0  01/08/2020  Actitudfem              1x1  Desktop  Latinoamerica   \n",
       "1  01/08/2020  Actitudfem              1x1  Desktop         Mexico   \n",
       "2  01/08/2020  Actitudfem              1x1  Desktop  United States   \n",
       "3  01/08/2020  Actitudfem              1x1   Mobile  Latinoamerica   \n",
       "4  01/08/2020  Actitudfem              1x1   Mobile         Mexico   \n",
       "\n",
       "   Ad requests  Matched requests  Clicks  Estimated revenue (MX$)  \\\n",
       "0        27479                29       0                     0.11   \n",
       "1        38906               401       0                     2.07   \n",
       "2          248                 0       0                     0.00   \n",
       "3       119110               682       0                     0.59   \n",
       "4       327530               332       0                     0.43   \n",
       "\n",
       "   Ad impressions  Active view enabled impressions  \\\n",
       "0              21                               21   \n",
       "1             378                              378   \n",
       "2               0                                0   \n",
       "3             556                              556   \n",
       "4             269                              269   \n",
       "\n",
       "   Active view measured impressions  \n",
       "0                                21  \n",
       "1                               378  \n",
       "2                                 0  \n",
       "3                               548  \n",
       "4                               265  "
      ]
     },
     "execution_count": 73,
     "metadata": {},
     "output_type": "execute_result"
    }
   ],
   "source": [
    "# Visualización de la carga\n",
    "housing = load_housing_data()\n",
    "housing.head()"
   ]
  },
  {
   "cell_type": "code",
   "execution_count": 74,
   "id": "9a65ed44-edf1-4708-bec1-c570960c255f",
   "metadata": {},
   "outputs": [
    {
     "name": "stdout",
     "output_type": "stream",
     "text": [
      "<class 'pandas.core.frame.DataFrame'>\n",
      "RangeIndex: 9993 entries, 0 to 9992\n",
      "Data columns (total 12 columns):\n",
      " #   Column                            Non-Null Count  Dtype  \n",
      "---  ------                            --------------  -----  \n",
      " 0   Months                            9993 non-null   object \n",
      " 1   Sitio                             9993 non-null   object \n",
      " 2   Position Ad Unit                  9993 non-null   object \n",
      " 3   Device                            9993 non-null   object \n",
      " 4   Region                            9993 non-null   object \n",
      " 5   Ad requests                       9993 non-null   int64  \n",
      " 6   Matched requests                  9993 non-null   int64  \n",
      " 7   Clicks                            9993 non-null   int64  \n",
      " 8   Estimated revenue (MX$)           9993 non-null   float64\n",
      " 9   Ad impressions                    9993 non-null   int64  \n",
      " 10  Active view enabled impressions   9993 non-null   int64  \n",
      " 11  Active view measured impressions  9993 non-null   int64  \n",
      "dtypes: float64(1), int64(6), object(5)\n",
      "memory usage: 937.0+ KB\n"
     ]
    }
   ],
   "source": [
    "# Información de tipo de datos por cada campo\n",
    "housing.info()"
   ]
  },
  {
   "cell_type": "code",
   "execution_count": 75,
   "id": "317ade88-0c99-4280-9da3-3a7051ccb514",
   "metadata": {},
   "outputs": [
    {
     "data": {
      "text/html": [
       "<div>\n",
       "<style scoped>\n",
       "    .dataframe tbody tr th:only-of-type {\n",
       "        vertical-align: middle;\n",
       "    }\n",
       "\n",
       "    .dataframe tbody tr th {\n",
       "        vertical-align: top;\n",
       "    }\n",
       "\n",
       "    .dataframe thead th {\n",
       "        text-align: right;\n",
       "    }\n",
       "</style>\n",
       "<table border=\"1\" class=\"dataframe\">\n",
       "  <thead>\n",
       "    <tr style=\"text-align: right;\">\n",
       "      <th></th>\n",
       "      <th>Ad requests</th>\n",
       "      <th>Matched requests</th>\n",
       "      <th>Clicks</th>\n",
       "      <th>Estimated revenue (MX$)</th>\n",
       "      <th>Ad impressions</th>\n",
       "      <th>Active view enabled impressions</th>\n",
       "      <th>Active view measured impressions</th>\n",
       "    </tr>\n",
       "  </thead>\n",
       "  <tbody>\n",
       "    <tr>\n",
       "      <th>count</th>\n",
       "      <td>9.993000e+03</td>\n",
       "      <td>9.993000e+03</td>\n",
       "      <td>9993.000000</td>\n",
       "      <td>9993.000000</td>\n",
       "      <td>9.993000e+03</td>\n",
       "      <td>9.993000e+03</td>\n",
       "      <td>9.993000e+03</td>\n",
       "    </tr>\n",
       "    <tr>\n",
       "      <th>mean</th>\n",
       "      <td>6.638333e+05</td>\n",
       "      <td>2.094491e+05</td>\n",
       "      <td>675.446312</td>\n",
       "      <td>1063.895090</td>\n",
       "      <td>1.729559e+05</td>\n",
       "      <td>1.726829e+05</td>\n",
       "      <td>1.722756e+05</td>\n",
       "    </tr>\n",
       "    <tr>\n",
       "      <th>std</th>\n",
       "      <td>2.748040e+06</td>\n",
       "      <td>1.153286e+06</td>\n",
       "      <td>5227.741275</td>\n",
       "      <td>5204.042945</td>\n",
       "      <td>9.640723e+05</td>\n",
       "      <td>9.633612e+05</td>\n",
       "      <td>9.614254e+05</td>\n",
       "    </tr>\n",
       "    <tr>\n",
       "      <th>min</th>\n",
       "      <td>1.000000e+00</td>\n",
       "      <td>0.000000e+00</td>\n",
       "      <td>0.000000</td>\n",
       "      <td>0.000000</td>\n",
       "      <td>0.000000e+00</td>\n",
       "      <td>0.000000e+00</td>\n",
       "      <td>0.000000e+00</td>\n",
       "    </tr>\n",
       "    <tr>\n",
       "      <th>25%</th>\n",
       "      <td>2.249000e+03</td>\n",
       "      <td>6.800000e+01</td>\n",
       "      <td>0.000000</td>\n",
       "      <td>0.350000</td>\n",
       "      <td>5.300000e+01</td>\n",
       "      <td>5.200000e+01</td>\n",
       "      <td>5.200000e+01</td>\n",
       "    </tr>\n",
       "    <tr>\n",
       "      <th>50%</th>\n",
       "      <td>3.386600e+04</td>\n",
       "      <td>3.677000e+03</td>\n",
       "      <td>5.000000</td>\n",
       "      <td>19.870000</td>\n",
       "      <td>2.784000e+03</td>\n",
       "      <td>2.772000e+03</td>\n",
       "      <td>2.765000e+03</td>\n",
       "    </tr>\n",
       "    <tr>\n",
       "      <th>75%</th>\n",
       "      <td>2.607290e+05</td>\n",
       "      <td>4.820800e+04</td>\n",
       "      <td>84.000000</td>\n",
       "      <td>307.380000</td>\n",
       "      <td>3.712100e+04</td>\n",
       "      <td>3.711100e+04</td>\n",
       "      <td>3.710700e+04</td>\n",
       "    </tr>\n",
       "    <tr>\n",
       "      <th>max</th>\n",
       "      <td>7.495211e+07</td>\n",
       "      <td>3.980057e+07</td>\n",
       "      <td>171822.000000</td>\n",
       "      <td>128891.000000</td>\n",
       "      <td>3.636470e+07</td>\n",
       "      <td>3.636379e+07</td>\n",
       "      <td>3.629538e+07</td>\n",
       "    </tr>\n",
       "  </tbody>\n",
       "</table>\n",
       "</div>"
      ],
      "text/plain": [
       "        Ad requests  Matched requests         Clicks  Estimated revenue (MX$)  \\\n",
       "count  9.993000e+03      9.993000e+03    9993.000000              9993.000000   \n",
       "mean   6.638333e+05      2.094491e+05     675.446312              1063.895090   \n",
       "std    2.748040e+06      1.153286e+06    5227.741275              5204.042945   \n",
       "min    1.000000e+00      0.000000e+00       0.000000                 0.000000   \n",
       "25%    2.249000e+03      6.800000e+01       0.000000                 0.350000   \n",
       "50%    3.386600e+04      3.677000e+03       5.000000                19.870000   \n",
       "75%    2.607290e+05      4.820800e+04      84.000000               307.380000   \n",
       "max    7.495211e+07      3.980057e+07  171822.000000            128891.000000   \n",
       "\n",
       "       Ad impressions  Active view enabled impressions  \\\n",
       "count    9.993000e+03                     9.993000e+03   \n",
       "mean     1.729559e+05                     1.726829e+05   \n",
       "std      9.640723e+05                     9.633612e+05   \n",
       "min      0.000000e+00                     0.000000e+00   \n",
       "25%      5.300000e+01                     5.200000e+01   \n",
       "50%      2.784000e+03                     2.772000e+03   \n",
       "75%      3.712100e+04                     3.711100e+04   \n",
       "max      3.636470e+07                     3.636379e+07   \n",
       "\n",
       "       Active view measured impressions  \n",
       "count                      9.993000e+03  \n",
       "mean                       1.722756e+05  \n",
       "std                        9.614254e+05  \n",
       "min                        0.000000e+00  \n",
       "25%                        5.200000e+01  \n",
       "50%                        2.765000e+03  \n",
       "75%                        3.710700e+04  \n",
       "max                        3.629538e+07  "
      ]
     },
     "execution_count": 75,
     "metadata": {},
     "output_type": "execute_result"
    }
   ],
   "source": [
    "housing.describe()"
   ]
  },
  {
   "cell_type": "code",
   "execution_count": 76,
   "id": "02fa9c72-0224-4e91-b96a-c97ef1fcf0da",
   "metadata": {},
   "outputs": [
    {
     "name": "stdout",
     "output_type": "stream",
     "text": [
      "Saving figure attribute_histogram_plots\n"
     ]
    },
    {
     "data": {
      "image/png": "[encoded data removed]",
      "text/plain": [
       "<Figure size 1440x1080 with 9 Axes>"
      ]
     },
     "metadata": {
      "needs_background": "light"
     },
     "output_type": "display_data"
    }
   ],
   "source": [
    "%matplotlib inline\n",
    "import matplotlib.pyplot as plt\n",
    "housing.hist(bins=100, figsize=(20,15))\n",
    "save_fig(\"attribute_histogram_plots\")\n",
    "plt.show()"
   ]
  },
  {
   "cell_type": "markdown",
   "id": "a174f312-438d-4ab9-a771-a8e415c554cb",
   "metadata": {},
   "source": [
    "# Generación de set de entramiento 80% y validación 20%"
   ]
  },
  {
   "cell_type": "code",
   "execution_count": 77,
   "id": "c96cf224-d760-4888-9095-4b80681116f0",
   "metadata": {},
   "outputs": [],
   "source": [
    "# Creación de Métrica rCPM Ingresos/Ad Requests * 1,000\n",
    "housing['rCPM'] = housing['Estimated revenue (MX$)']/housing['Ad requests']*1000"
   ]
  },
  {
   "cell_type": "code",
   "execution_count": 78,
   "id": "364ae762-dcd5-450e-b631-4635303c00ec",
   "metadata": {},
   "outputs": [
    {
     "data": {
      "text/plain": [
       "<AxesSubplot:>"
      ]
     },
     "execution_count": 78,
     "metadata": {},
     "output_type": "execute_result"
    },
    {
     "data": {
      "image/png": "[encoded data removed]",
      "text/plain": [
       "<Figure size 432x288 with 1 Axes>"
      ]
     },
     "metadata": {
      "needs_background": "light"
     },
     "output_type": "display_data"
    }
   ],
   "source": [
    "housing[\"rCPM\"].hist()"
   ]
  },
  {
   "cell_type": "code",
   "execution_count": 79,
   "id": "170caf20-074c-48da-92e4-d65b61b5278a",
   "metadata": {},
   "outputs": [],
   "source": [
    "housing['rCPM_cat'] = pd.cut(housing[\"rCPM\"],\n",
    "                               bins=[-np.inf, 1., 2., 3., 4., np.inf],\n",
    "                               labels=[1, 2, 3, 4, 5])"
   ]
  },
  {
   "cell_type": "code",
   "execution_count": 80,
   "id": "9e59d8ef-5b3d-47c5-ac68-068e5d6ab5e0",
   "metadata": {},
   "outputs": [
    {
     "data": {
      "text/plain": [
       "1    4789\n",
       "5    2059\n",
       "2    1589\n",
       "3     952\n",
       "4     604\n",
       "Name: rCPM_cat, dtype: int64"
      ]
     },
     "execution_count": 80,
     "metadata": {},
     "output_type": "execute_result"
    }
   ],
   "source": [
    "housing[\"rCPM_cat\"].value_counts()"
   ]
  },
  {
   "cell_type": "code",
   "execution_count": 81,
   "id": "2a138020-717c-4aa2-9e72-10d0104045ab",
   "metadata": {},
   "outputs": [
    {
     "data": {
      "text/plain": [
       "<AxesSubplot:>"
      ]
     },
     "execution_count": 81,
     "metadata": {},
     "output_type": "execute_result"
    },
    {
     "data": {
      "image/png": "[encoded data removed]",
      "text/plain": [
       "<Figure size 432x288 with 1 Axes>"
      ]
     },
     "metadata": {
      "needs_background": "light"
     },
     "output_type": "display_data"
    }
   ],
   "source": [
    "housing[\"rCPM_cat\"].hist()"
   ]
  },
  {
   "cell_type": "code",
   "execution_count": 82,
   "id": "50b1cee7-53b2-4621-9880-628b9047605c",
   "metadata": {},
   "outputs": [],
   "source": [
    "from sklearn.model_selection import StratifiedShuffleSplit\n",
    "\n",
    "split = StratifiedShuffleSplit(n_splits=1, test_size=0.2, random_state=42)\n",
    "for train_index, test_index in split.split(housing, housing[\"rCPM_cat\"]):\n",
    "    strat_train_set = housing.loc[train_index]\n",
    "    strat_test_set = housing.loc[test_index]"
   ]
  },
  {
   "cell_type": "code",
   "execution_count": 83,
   "id": "fdd6d5d4-1489-4739-bbc9-f741ba20cd6a",
   "metadata": {},
   "outputs": [
    {
     "data": {
      "text/plain": [
       "1    0.479240\n",
       "5    0.206103\n",
       "2    0.159080\n",
       "3    0.095048\n",
       "4    0.060530\n",
       "Name: rCPM_cat, dtype: float64"
      ]
     },
     "execution_count": 83,
     "metadata": {},
     "output_type": "execute_result"
    }
   ],
   "source": [
    "strat_test_set[\"rCPM_cat\"].value_counts() / len(strat_test_set)"
   ]
  },
  {
   "cell_type": "code",
   "execution_count": 84,
   "id": "d11bba5c-9ff0-4f6b-8645-de41c83a46f4",
   "metadata": {},
   "outputs": [
    {
     "data": {
      "text/plain": [
       "1    0.479235\n",
       "5    0.206044\n",
       "2    0.159011\n",
       "3    0.095267\n",
       "4    0.060442\n",
       "Name: rCPM_cat, dtype: float64"
      ]
     },
     "execution_count": 84,
     "metadata": {},
     "output_type": "execute_result"
    }
   ],
   "source": [
    "housing[\"rCPM_cat\"].value_counts() / len(housing)"
   ]
  },
  {
   "cell_type": "code",
   "execution_count": 85,
   "id": "72314e57-3237-4649-91c2-8e26ecf2b480",
   "metadata": {},
   "outputs": [],
   "source": [
    "for set_ in (strat_train_set, strat_test_set):\n",
    "    set_.drop(\"rCPM_cat\", axis=1, inplace=True)"
   ]
  },
  {
   "cell_type": "markdown",
   "id": "21c6e86c-5f8e-495b-b4ed-b6fe01ac23d1",
   "metadata": {},
   "source": [
    "# Visualizar (dispersiones) y explorar (correlaciones, histogramas, etc.)"
   ]
  },
  {
   "cell_type": "code",
   "execution_count": 86,
   "id": "cc581a7e-8165-4198-8e83-b48223d28c94",
   "metadata": {},
   "outputs": [],
   "source": [
    "housing = strat_train_set.copy()"
   ]
  },
  {
   "cell_type": "code",
   "execution_count": 87,
   "id": "5f22c6cb-2474-4157-b625-c539c6963b31",
   "metadata": {},
   "outputs": [
    {
     "name": "stdout",
     "output_type": "stream",
     "text": [
      "Saving figure better_visualization_plot\n"
     ]
    },
    {
     "data": {
      "image/png": "[encoded data removed]",
      "text/plain": [
       "<Figure size 432x288 with 1 Axes>"
      ]
     },
     "metadata": {
      "needs_background": "light"
     },
     "output_type": "display_data"
    }
   ],
   "source": [
    "housing.plot(kind=\"scatter\", x=\"Ad requests\", y=\"Estimated revenue (MX$)\", alpha=0.1)\n",
    "save_fig(\"better_visualization_plot\")"
   ]
  },
  {
   "cell_type": "code",
   "execution_count": 88,
   "id": "f74f6895-5d2a-474b-b08d-79d1d7d00d86",
   "metadata": {},
   "outputs": [
    {
     "name": "stdout",
     "output_type": "stream",
     "text": [
      "Saving figure scatter_matrix_plot\n"
     ]
    },
    {
     "data": {
      "image/png": "[encoded data removed]",
      "text/plain": [
       "<Figure size 864x576 with 16 Axes>"
      ]
     },
     "metadata": {
      "needs_background": "light"
     },
     "output_type": "display_data"
    }
   ],
   "source": [
    "# from pandas.tools.plotting import scatter_matrix # For older versions of Pandas\n",
    "from pandas.plotting import scatter_matrix\n",
    "\n",
    "housing['rCPM'] = housing['Estimated revenue (MX$)']/housing['Ad requests']*1000\n",
    "\n",
    "attributes = [\"Ad requests\", \"Estimated revenue (MX$)\", \"Ad impressions\",\n",
    "              \"rCPM\"]\n",
    "scatter_matrix(housing[attributes], figsize=(12, 8))\n",
    "save_fig(\"scatter_matrix_plot\")"
   ]
  },
  {
   "cell_type": "code",
   "execution_count": 89,
   "id": "a828a838-5b25-4541-a379-d51994019052",
   "metadata": {},
   "outputs": [
    {
     "name": "stdout",
     "output_type": "stream",
     "text": [
      "Saving figure rCPM_vs_estimated_revenue\n"
     ]
    },
    {
     "data": {
      "image/png": "[encoded data removed]",
      "text/plain": [
       "<Figure size 432x288 with 1 Axes>"
      ]
     },
     "metadata": {
      "needs_background": "light"
     },
     "output_type": "display_data"
    }
   ],
   "source": [
    "housing.plot(kind=\"scatter\", x=\"rCPM\", y=\"Estimated revenue (MX$)\")\n",
    "plt.axis([0, 16, 0, 100])\n",
    "save_fig(\"rCPM_vs_estimated_revenue\")"
   ]
  },
  {
   "cell_type": "code",
   "execution_count": 90,
   "id": "8f454aa4-c1ff-4f0e-a331-fb86a46bb8a9",
   "metadata": {},
   "outputs": [],
   "source": [
    "housing['Viewability'] = housing['Active view measured impressions']/housing['Active view enabled impressions']\n",
    "housing['eCPM'] = housing['Estimated revenue (MX$)']/housing['Ad impressions']*1000\n",
    "housing['Fill Rate'] = housing['Ad impressions']/housing['Ad requests']"
   ]
  },
  {
   "cell_type": "code",
   "execution_count": 91,
   "id": "71c24fb9-e2fc-49d1-ab93-2227c2153243",
   "metadata": {},
   "outputs": [
    {
     "data": {
      "text/plain": [
       "rCPM                                1.000000\n",
       "eCPM                                0.540616\n",
       "Fill Rate                           0.445384\n",
       "Estimated revenue (MX$)             0.104671\n",
       "Clicks                              0.018323\n",
       "Viewability                         0.002804\n",
       "Ad impressions                     -0.005518\n",
       "Active view enabled impressions    -0.005543\n",
       "Active view measured impressions   -0.005554\n",
       "Matched requests                   -0.007657\n",
       "Ad requests                        -0.058528\n",
       "Name: rCPM, dtype: float64"
      ]
     },
     "execution_count": 91,
     "metadata": {},
     "output_type": "execute_result"
    }
   ],
   "source": [
    "corr_matrix = housing.corr()\n",
    "corr_matrix[\"rCPM\"].sort_values(ascending=False)"
   ]
  },
  {
   "cell_type": "code",
   "execution_count": 92,
   "id": "fdf5b626-80cd-4b3a-afb1-6e7c949ab04e",
   "metadata": {},
   "outputs": [
    {
     "data": {
      "text/plain": [
       "Estimated revenue (MX$)             1.000000\n",
       "Matched requests                    0.849770\n",
       "Clicks                              0.833102\n",
       "Ad impressions                      0.819791\n",
       "Active view enabled impressions     0.819547\n",
       "Active view measured impressions    0.819266\n",
       "Ad requests                         0.733124\n",
       "Fill Rate                           0.112700\n",
       "rCPM                                0.104671\n",
       "eCPM                                0.030588\n",
       "Viewability                         0.017526\n",
       "Name: Estimated revenue (MX$), dtype: float64"
      ]
     },
     "execution_count": 92,
     "metadata": {},
     "output_type": "execute_result"
    }
   ],
   "source": [
    "corr_matrix = housing.corr()\n",
    "corr_matrix[\"Estimated revenue (MX$)\"].sort_values(ascending=False)"
   ]
  },
  {
   "cell_type": "markdown",
   "id": "92d609f9-eedc-4d8d-8454-697f63cd8962",
   "metadata": {},
   "source": [
    "# Preparar (limpieza de datos, escalamiento)"
   ]
  },
  {
   "cell_type": "code",
   "execution_count": 93,
   "id": "a44c9da1-856a-4218-ab90-aa18009dfa1a",
   "metadata": {},
   "outputs": [],
   "source": [
    "housing = strat_train_set.drop(\"rCPM\", axis=1) # drop labels for training set\n",
    "housing_labels = strat_train_set[\"rCPM\"].copy()"
   ]
  },
  {
   "cell_type": "code",
   "execution_count": 94,
   "id": "2d2e6124-fc9d-4279-b150-a555f05d86e8",
   "metadata": {},
   "outputs": [],
   "source": [
    "try:\n",
    "    from sklearn.impute import SimpleImputer # Scikit-Learn 0.20+\n",
    "except ImportError:\n",
    "    from sklearn.preprocessing import Imputer as SimpleImputer\n",
    "\n",
    "imputer = SimpleImputer(strategy=\"median\")"
   ]
  },
  {
   "cell_type": "code",
   "execution_count": 95,
   "id": "639102a9-82d9-4a94-9024-2b8eef3cb544",
   "metadata": {},
   "outputs": [],
   "source": [
    "\n",
    "housing_num = housing.drop('Months', axis=1)\n",
    "housing_num = housing_num.drop('Sitio', axis=1)\n",
    "housing_num = housing_num.drop('Position Ad Unit', axis=1)\n",
    "housing_num = housing_num.drop('Device', axis=1)\n",
    "housing_num = housing_num.drop('Region', axis=1)\n",
    "# alternatively: housing_num = housing.select_dtypes(include=[np.number])"
   ]
  },
  {
   "cell_type": "code",
   "execution_count": 96,
   "id": "bb76b839-04ea-48df-96da-341170516a82",
   "metadata": {},
   "outputs": [
    {
     "data": {
      "text/plain": [
       "SimpleImputer(strategy='median')"
      ]
     },
     "execution_count": 96,
     "metadata": {},
     "output_type": "execute_result"
    }
   ],
   "source": [
    "imputer.fit(housing_num)"
   ]
  },
  {
   "cell_type": "code",
   "execution_count": 97,
   "id": "04dbf8af-ea5e-4379-99b0-9c73bca2718f",
   "metadata": {},
   "outputs": [
    {
     "data": {
      "text/plain": [
       "array([3.51005e+04, 3.73150e+03, 5.00000e+00, 2.03400e+01, 2.87300e+03,\n",
       "       2.87200e+03, 2.85600e+03])"
      ]
     },
     "execution_count": 97,
     "metadata": {},
     "output_type": "execute_result"
    }
   ],
   "source": [
    "imputer.statistics_"
   ]
  },
  {
   "cell_type": "code",
   "execution_count": 98,
   "id": "8558796f-2f64-45f9-9797-b2d9e0e92f5e",
   "metadata": {},
   "outputs": [],
   "source": [
    "X = imputer.transform(housing_num)"
   ]
  },
  {
   "cell_type": "code",
   "execution_count": 99,
   "id": "f38ef7a8-2de9-4c87-aeb1-84468764ffa8",
   "metadata": {},
   "outputs": [
    {
     "data": {
      "text/html": [
       "<div>\n",
       "<style scoped>\n",
       "    .dataframe tbody tr th:only-of-type {\n",
       "        vertical-align: middle;\n",
       "    }\n",
       "\n",
       "    .dataframe tbody tr th {\n",
       "        vertical-align: top;\n",
       "    }\n",
       "\n",
       "    .dataframe thead th {\n",
       "        text-align: right;\n",
       "    }\n",
       "</style>\n",
       "<table border=\"1\" class=\"dataframe\">\n",
       "  <thead>\n",
       "    <tr style=\"text-align: right;\">\n",
       "      <th></th>\n",
       "      <th>Ad requests</th>\n",
       "      <th>Matched requests</th>\n",
       "      <th>Clicks</th>\n",
       "      <th>Estimated revenue (MX$)</th>\n",
       "      <th>Ad impressions</th>\n",
       "      <th>Active view enabled impressions</th>\n",
       "      <th>Active view measured impressions</th>\n",
       "    </tr>\n",
       "  </thead>\n",
       "  <tbody>\n",
       "    <tr>\n",
       "      <th>9926</th>\n",
       "      <td>223089.0</td>\n",
       "      <td>205097.0</td>\n",
       "      <td>359.0</td>\n",
       "      <td>479.37</td>\n",
       "      <td>124782.0</td>\n",
       "      <td>124450.0</td>\n",
       "      <td>123897.0</td>\n",
       "    </tr>\n",
       "    <tr>\n",
       "      <th>2761</th>\n",
       "      <td>369.0</td>\n",
       "      <td>124.0</td>\n",
       "      <td>0.0</td>\n",
       "      <td>0.92</td>\n",
       "      <td>113.0</td>\n",
       "      <td>113.0</td>\n",
       "      <td>113.0</td>\n",
       "    </tr>\n",
       "    <tr>\n",
       "      <th>8957</th>\n",
       "      <td>3195.0</td>\n",
       "      <td>1773.0</td>\n",
       "      <td>5.0</td>\n",
       "      <td>39.26</td>\n",
       "      <td>1617.0</td>\n",
       "      <td>1603.0</td>\n",
       "      <td>1601.0</td>\n",
       "    </tr>\n",
       "    <tr>\n",
       "      <th>6091</th>\n",
       "      <td>68986.0</td>\n",
       "      <td>2144.0</td>\n",
       "      <td>20.0</td>\n",
       "      <td>29.34</td>\n",
       "      <td>2016.0</td>\n",
       "      <td>2016.0</td>\n",
       "      <td>1887.0</td>\n",
       "    </tr>\n",
       "    <tr>\n",
       "      <th>9475</th>\n",
       "      <td>161.0</td>\n",
       "      <td>97.0</td>\n",
       "      <td>0.0</td>\n",
       "      <td>0.61</td>\n",
       "      <td>71.0</td>\n",
       "      <td>71.0</td>\n",
       "      <td>68.0</td>\n",
       "    </tr>\n",
       "  </tbody>\n",
       "</table>\n",
       "</div>"
      ],
      "text/plain": [
       "      Ad requests  Matched requests  Clicks  Estimated revenue (MX$)  \\\n",
       "9926     223089.0          205097.0   359.0                   479.37   \n",
       "2761        369.0             124.0     0.0                     0.92   \n",
       "8957       3195.0            1773.0     5.0                    39.26   \n",
       "6091      68986.0            2144.0    20.0                    29.34   \n",
       "9475        161.0              97.0     0.0                     0.61   \n",
       "\n",
       "      Ad impressions  Active view enabled impressions  \\\n",
       "9926        124782.0                         124450.0   \n",
       "2761           113.0                            113.0   \n",
       "8957          1617.0                           1603.0   \n",
       "6091          2016.0                           2016.0   \n",
       "9475            71.0                             71.0   \n",
       "\n",
       "      Active view measured impressions  \n",
       "9926                          123897.0  \n",
       "2761                             113.0  \n",
       "8957                            1601.0  \n",
       "6091                            1887.0  \n",
       "9475                              68.0  "
      ]
     },
     "execution_count": 99,
     "metadata": {},
     "output_type": "execute_result"
    }
   ],
   "source": [
    "housing_tr = pd.DataFrame(X, columns=housing_num.columns,\n",
    "                          index=housing.index)\n",
    "housing_tr.head()"
   ]
  },
  {
   "cell_type": "code",
   "execution_count": 100,
   "id": "8cd2f02b-ab26-45f2-b1c4-a03d51526083",
   "metadata": {},
   "outputs": [
    {
     "name": "stderr",
     "output_type": "stream",
     "text": [
      "C:\\Users\\Aaron\\AppData\\Local\\Temp\\ipykernel_17656\\708771082.py:2: SettingWithCopyWarning: \n",
      "A value is trying to be set on a copy of a slice from a DataFrame.\n",
      "Try using .loc[row_indexer,col_indexer] = value instead\n",
      "\n",
      "See the caveats in the documentation: https://pandas.pydata.org/pandas-docs/stable/user_guide/indexing.html#returning-a-view-versus-a-copy\n",
      "  housing_cat['Sitio'] = housing[['Sitio']]\n",
      "C:\\Users\\Aaron\\AppData\\Local\\Temp\\ipykernel_17656\\708771082.py:3: SettingWithCopyWarning: \n",
      "A value is trying to be set on a copy of a slice from a DataFrame.\n",
      "Try using .loc[row_indexer,col_indexer] = value instead\n",
      "\n",
      "See the caveats in the documentation: https://pandas.pydata.org/pandas-docs/stable/user_guide/indexing.html#returning-a-view-versus-a-copy\n",
      "  housing_cat['Position Ad Unit'] = housing[['Position Ad Unit']]\n",
      "C:\\Users\\Aaron\\AppData\\Local\\Temp\\ipykernel_17656\\708771082.py:4: SettingWithCopyWarning: \n",
      "A value is trying to be set on a copy of a slice from a DataFrame.\n",
      "Try using .loc[row_indexer,col_indexer] = value instead\n",
      "\n",
      "See the caveats in the documentation: https://pandas.pydata.org/pandas-docs/stable/user_guide/indexing.html#returning-a-view-versus-a-copy\n",
      "  housing_cat['Device'] = housing[['Device']]\n",
      "C:\\Users\\Aaron\\AppData\\Local\\Temp\\ipykernel_17656\\708771082.py:5: SettingWithCopyWarning: \n",
      "A value is trying to be set on a copy of a slice from a DataFrame.\n",
      "Try using .loc[row_indexer,col_indexer] = value instead\n",
      "\n",
      "See the caveats in the documentation: https://pandas.pydata.org/pandas-docs/stable/user_guide/indexing.html#returning-a-view-versus-a-copy\n",
      "  housing_cat['Region'] = housing[['Region']]\n"
     ]
    },
    {
     "data": {
      "text/html": [
       "<div>\n",
       "<style scoped>\n",
       "    .dataframe tbody tr th:only-of-type {\n",
       "        vertical-align: middle;\n",
       "    }\n",
       "\n",
       "    .dataframe tbody tr th {\n",
       "        vertical-align: top;\n",
       "    }\n",
       "\n",
       "    .dataframe thead th {\n",
       "        text-align: right;\n",
       "    }\n",
       "</style>\n",
       "<table border=\"1\" class=\"dataframe\">\n",
       "  <thead>\n",
       "    <tr style=\"text-align: right;\">\n",
       "      <th></th>\n",
       "      <th>Months</th>\n",
       "      <th>Sitio</th>\n",
       "      <th>Position Ad Unit</th>\n",
       "      <th>Device</th>\n",
       "      <th>Region</th>\n",
       "    </tr>\n",
       "  </thead>\n",
       "  <tbody>\n",
       "    <tr>\n",
       "      <th>9926</th>\n",
       "      <td>01/08/2022</td>\n",
       "      <td>Me_lo_dijo_Lola</td>\n",
       "      <td>Zocalo</td>\n",
       "      <td>Mobile</td>\n",
       "      <td>Mexico</td>\n",
       "    </tr>\n",
       "    <tr>\n",
       "      <th>2761</th>\n",
       "      <td>01/02/2021</td>\n",
       "      <td>Me_lo_dijo_Lola</td>\n",
       "      <td>728x90</td>\n",
       "      <td>Desktop</td>\n",
       "      <td>United States</td>\n",
       "    </tr>\n",
       "    <tr>\n",
       "      <th>8957</th>\n",
       "      <td>01/06/2022</td>\n",
       "      <td>Cocina_Delirante</td>\n",
       "      <td>728x90</td>\n",
       "      <td>Desktop</td>\n",
       "      <td>United States</td>\n",
       "    </tr>\n",
       "    <tr>\n",
       "      <th>6091</th>\n",
       "      <td>01/11/2021</td>\n",
       "      <td>Actitudfem</td>\n",
       "      <td>box_multi</td>\n",
       "      <td>Mobile</td>\n",
       "      <td>Mexico</td>\n",
       "    </tr>\n",
       "    <tr>\n",
       "      <th>9475</th>\n",
       "      <td>01/07/2022</td>\n",
       "      <td>Imagen</td>\n",
       "      <td>300x100</td>\n",
       "      <td>Mobile</td>\n",
       "      <td>United States</td>\n",
       "    </tr>\n",
       "    <tr>\n",
       "      <th>25</th>\n",
       "      <td>01/08/2020</td>\n",
       "      <td>Actitudfem</td>\n",
       "      <td>box_multi</td>\n",
       "      <td>Desktop</td>\n",
       "      <td>Latinoamerica</td>\n",
       "    </tr>\n",
       "    <tr>\n",
       "      <th>5012</th>\n",
       "      <td>01/08/2021</td>\n",
       "      <td>DineroenImagen</td>\n",
       "      <td>1x1</td>\n",
       "      <td>Desktop</td>\n",
       "      <td>Mexico</td>\n",
       "    </tr>\n",
       "    <tr>\n",
       "      <th>1803</th>\n",
       "      <td>01/12/2020</td>\n",
       "      <td>DineroenImagen</td>\n",
       "      <td>728x90</td>\n",
       "      <td>Desktop</td>\n",
       "      <td>Latinoamerica</td>\n",
       "    </tr>\n",
       "    <tr>\n",
       "      <th>2639</th>\n",
       "      <td>01/02/2021</td>\n",
       "      <td>DineroenImagen</td>\n",
       "      <td>Zocalo</td>\n",
       "      <td>Mobile</td>\n",
       "      <td>United States</td>\n",
       "    </tr>\n",
       "    <tr>\n",
       "      <th>7796</th>\n",
       "      <td>01/03/2022</td>\n",
       "      <td>DineroenImagen</td>\n",
       "      <td>300x250</td>\n",
       "      <td>Mobile</td>\n",
       "      <td>Mexico</td>\n",
       "    </tr>\n",
       "  </tbody>\n",
       "</table>\n",
       "</div>"
      ],
      "text/plain": [
       "          Months             Sitio Position Ad Unit   Device         Region\n",
       "9926  01/08/2022   Me_lo_dijo_Lola           Zocalo   Mobile         Mexico\n",
       "2761  01/02/2021   Me_lo_dijo_Lola           728x90  Desktop  United States\n",
       "8957  01/06/2022  Cocina_Delirante           728x90  Desktop  United States\n",
       "6091  01/11/2021        Actitudfem        box_multi   Mobile         Mexico\n",
       "9475  01/07/2022            Imagen          300x100   Mobile  United States\n",
       "25    01/08/2020        Actitudfem        box_multi  Desktop  Latinoamerica\n",
       "5012  01/08/2021    DineroenImagen              1x1  Desktop         Mexico\n",
       "1803  01/12/2020    DineroenImagen           728x90  Desktop  Latinoamerica\n",
       "2639  01/02/2021    DineroenImagen           Zocalo   Mobile  United States\n",
       "7796  01/03/2022    DineroenImagen          300x250   Mobile         Mexico"
      ]
     },
     "execution_count": 100,
     "metadata": {},
     "output_type": "execute_result"
    }
   ],
   "source": [
    "housing_cat = housing[['Months']]\n",
    "housing_cat['Sitio'] = housing[['Sitio']]\n",
    "housing_cat['Position Ad Unit'] = housing[['Position Ad Unit']]\n",
    "housing_cat['Device'] = housing[['Device']]\n",
    "housing_cat['Region'] = housing[['Region']]\n",
    "housing_cat.head(10)"
   ]
  },
  {
   "cell_type": "code",
   "execution_count": 101,
   "id": "60acbcd4-48e9-4e9d-98c0-279d942e7e0a",
   "metadata": {},
   "outputs": [],
   "source": [
    "try:\n",
    "    from sklearn.preprocessing import OrdinalEncoder\n",
    "except ImportError:\n",
    "    from future_encoders import OrdinalEncoder # Scikit-Learn < 0.20"
   ]
  },
  {
   "cell_type": "code",
   "execution_count": 102,
   "id": "dbb5a155-e71c-4640-90cd-2636510a80d3",
   "metadata": {},
   "outputs": [
    {
     "data": {
      "text/plain": [
       "array([[16.,  8., 15.,  1.,  1.],\n",
       "       [ 2.,  8., 10.,  0.,  2.],\n",
       "       [11.,  3., 10.,  0.,  2.],\n",
       "       [22.,  0., 18.,  1.,  1.],\n",
       "       [13.,  6.,  3.,  1.,  2.],\n",
       "       [14.,  0., 18.,  0.,  0.],\n",
       "       [15.,  4.,  2.,  0.,  1.],\n",
       "       [23.,  4., 10.,  0.,  0.],\n",
       "       [ 2.,  4., 15.,  1.,  2.],\n",
       "       [ 5.,  4.,  4.,  1.,  1.]])"
      ]
     },
     "execution_count": 102,
     "metadata": {},
     "output_type": "execute_result"
    }
   ],
   "source": [
    "ordinal_encoder = OrdinalEncoder()\n",
    "housing_cat_encoded = ordinal_encoder.fit_transform(housing_cat)\n",
    "housing_cat_encoded[:10]"
   ]
  },
  {
   "cell_type": "code",
   "execution_count": 103,
   "id": "56eef8ea-752e-4a03-9023-338adc692d36",
   "metadata": {},
   "outputs": [
    {
     "data": {
      "text/plain": [
       "[array(['01/01/2021', '01/01/2022', '01/02/2021', '01/02/2022',\n",
       "        '01/03/2021', '01/03/2022', '01/04/2021', '01/04/2022',\n",
       "        '01/05/2021', '01/05/2022', '01/06/2021', '01/06/2022',\n",
       "        '01/07/2021', '01/07/2022', '01/08/2020', '01/08/2021',\n",
       "        '01/08/2022', '01/09/2020', '01/09/2021', '01/10/2020',\n",
       "        '01/10/2021', '01/11/2020', '01/11/2021', '01/12/2020',\n",
       "        '01/12/2021'], dtype=object),\n",
       " array(['Actitudfem', 'Adrenalina360', 'Atraccion360', 'Cocina_Delirante',\n",
       "        'DineroenImagen', 'Excelsior', 'Imagen', 'ImagenTV',\n",
       "        'Me_lo_dijo_Lola', 'Passbacks_Invent', 'RSVP', 'Salud180',\n",
       "        'Testing_Invent', 'Youtube'], dtype=object),\n",
       " array(['160x600', '180_20', '1x1', '300x100', '300x250', '300x600',\n",
       "        '320x100', '320x480', '320x50', '468x60', '728x90', 'Native',\n",
       "        'Passbacks', 'Tags', 'Youtube', 'Zocalo', 'box_amp', 'box_galeria',\n",
       "        'box_multi', 'contenido', 'gen_amp', 'wide'], dtype=object),\n",
       " array(['Desktop', 'Mobile'], dtype=object),\n",
       " array(['Latinoamerica', 'Mexico', 'United States'], dtype=object)]"
      ]
     },
     "execution_count": 103,
     "metadata": {},
     "output_type": "execute_result"
    }
   ],
   "source": [
    "ordinal_encoder.categories_"
   ]
  },
  {
   "cell_type": "code",
   "execution_count": 104,
   "id": "1a592b8d-012c-4cb7-9e33-bee5919d20d7",
   "metadata": {},
   "outputs": [
    {
     "data": {
      "text/plain": [
       "<7994x66 sparse matrix of type '<class 'numpy.float64'>'\n",
       "\twith 39970 stored elements in Compressed Sparse Row format>"
      ]
     },
     "execution_count": 104,
     "metadata": {},
     "output_type": "execute_result"
    }
   ],
   "source": [
    "try:\n",
    "    from sklearn.preprocessing import OrdinalEncoder # just to raise an ImportError if Scikit-Learn < 0.20\n",
    "    from sklearn.preprocessing import OneHotEncoder\n",
    "except ImportError:\n",
    "    from future_encoders import OneHotEncoder # Scikit-Learn < 0.20\n",
    "\n",
    "cat_encoder = OneHotEncoder()\n",
    "housing_cat_1hot = cat_encoder.fit_transform(housing_cat)\n",
    "housing_cat_1hot"
   ]
  },
  {
   "cell_type": "code",
   "execution_count": 105,
   "id": "8b47ef1d-27c2-416d-8176-2c5debe96898",
   "metadata": {},
   "outputs": [
    {
     "data": {
      "text/plain": [
       "array([[0., 0., 0., ..., 0., 1., 0.],\n",
       "       [0., 0., 1., ..., 0., 0., 1.],\n",
       "       [0., 0., 0., ..., 0., 0., 1.],\n",
       "       ...,\n",
       "       [0., 0., 0., ..., 1., 0., 0.],\n",
       "       [0., 0., 0., ..., 0., 0., 1.],\n",
       "       [0., 0., 0., ..., 1., 0., 0.]])"
      ]
     },
     "execution_count": 105,
     "metadata": {},
     "output_type": "execute_result"
    }
   ],
   "source": [
    "housing_cat_1hot.toarray()"
   ]
  },
  {
   "cell_type": "code",
   "execution_count": 106,
   "id": "cb723c2d-d7d2-4c16-a0ea-79be204ce0ae",
   "metadata": {},
   "outputs": [
    {
     "data": {
      "text/plain": [
       "array([[0., 0., 0., ..., 0., 1., 0.],\n",
       "       [0., 0., 1., ..., 0., 0., 1.],\n",
       "       [0., 0., 0., ..., 0., 0., 1.],\n",
       "       ...,\n",
       "       [0., 0., 0., ..., 1., 0., 0.],\n",
       "       [0., 0., 0., ..., 0., 0., 1.],\n",
       "       [0., 0., 0., ..., 1., 0., 0.]])"
      ]
     },
     "execution_count": 106,
     "metadata": {},
     "output_type": "execute_result"
    }
   ],
   "source": [
    "cat_encoder = OneHotEncoder(sparse=False)\n",
    "housing_cat_1hot = cat_encoder.fit_transform(housing_cat)\n",
    "housing_cat_1hot"
   ]
  },
  {
   "cell_type": "code",
   "execution_count": 107,
   "id": "a54d89a5-db84-4d86-b62c-47b4169f2c75",
   "metadata": {},
   "outputs": [
    {
     "data": {
      "text/plain": [
       "[array(['01/01/2021', '01/01/2022', '01/02/2021', '01/02/2022',\n",
       "        '01/03/2021', '01/03/2022', '01/04/2021', '01/04/2022',\n",
       "        '01/05/2021', '01/05/2022', '01/06/2021', '01/06/2022',\n",
       "        '01/07/2021', '01/07/2022', '01/08/2020', '01/08/2021',\n",
       "        '01/08/2022', '01/09/2020', '01/09/2021', '01/10/2020',\n",
       "        '01/10/2021', '01/11/2020', '01/11/2021', '01/12/2020',\n",
       "        '01/12/2021'], dtype=object),\n",
       " array(['Actitudfem', 'Adrenalina360', 'Atraccion360', 'Cocina_Delirante',\n",
       "        'DineroenImagen', 'Excelsior', 'Imagen', 'ImagenTV',\n",
       "        'Me_lo_dijo_Lola', 'Passbacks_Invent', 'RSVP', 'Salud180',\n",
       "        'Testing_Invent', 'Youtube'], dtype=object),\n",
       " array(['160x600', '180_20', '1x1', '300x100', '300x250', '300x600',\n",
       "        '320x100', '320x480', '320x50', '468x60', '728x90', 'Native',\n",
       "        'Passbacks', 'Tags', 'Youtube', 'Zocalo', 'box_amp', 'box_galeria',\n",
       "        'box_multi', 'contenido', 'gen_amp', 'wide'], dtype=object),\n",
       " array(['Desktop', 'Mobile'], dtype=object),\n",
       " array(['Latinoamerica', 'Mexico', 'United States'], dtype=object)]"
      ]
     },
     "execution_count": 107,
     "metadata": {},
     "output_type": "execute_result"
    }
   ],
   "source": [
    "cat_encoder.categories_"
   ]
  },
  {
   "cell_type": "code",
   "execution_count": 108,
   "id": "f74c700e-4956-41c8-b575-faab85b81078",
   "metadata": {},
   "outputs": [
    {
     "data": {
      "text/plain": [
       "Index(['Months', 'Sitio', 'Position Ad Unit', 'Device', 'Region',\n",
       "       'Ad requests', 'Matched requests', 'Clicks', 'Estimated revenue (MX$)',\n",
       "       'Ad impressions', 'Active view enabled impressions',\n",
       "       'Active view measured impressions'],\n",
       "      dtype='object')"
      ]
     },
     "execution_count": 108,
     "metadata": {},
     "output_type": "execute_result"
    }
   ],
   "source": [
    "housing.columns"
   ]
  },
  {
   "cell_type": "code",
   "execution_count": 109,
   "id": "0f98c6ac-9afa-4c27-950c-becb23e17dcc",
   "metadata": {},
   "outputs": [],
   "source": [
    "from sklearn.pipeline import Pipeline\n",
    "from sklearn.preprocessing import StandardScaler\n",
    "\n",
    "num_pipeline = Pipeline([\n",
    "        ('imputer', SimpleImputer(strategy=\"median\")),\n",
    "        ('std_scaler', StandardScaler()),\n",
    "    ])\n",
    "\n",
    "housing_num_tr = num_pipeline.fit_transform(housing_num)"
   ]
  },
  {
   "cell_type": "code",
   "execution_count": 110,
   "id": "de51c64b-7f33-4463-ab22-96d1be59b740",
   "metadata": {},
   "outputs": [
    {
     "data": {
      "text/plain": [
       "array([[-0.16813047, -0.00878913, -0.06516646, ..., -0.05372746,\n",
       "        -0.05381319, -0.05405431],\n",
       "       [-0.24868532, -0.18521427, -0.13537732, ..., -0.17819807,\n",
       "        -0.1780441 , -0.17797427],\n",
       "       [-0.2476632 , -0.18379494, -0.13439945, ..., -0.17669646,\n",
       "        -0.17655537, -0.17648464],\n",
       "       ...,\n",
       "       [-0.23899574, -0.1731366 , -0.13205257, ..., -0.16476149,\n",
       "        -0.16462756, -0.16453753],\n",
       "       [-0.24881698, -0.18532014, -0.13537732, ..., -0.17831089,\n",
       "        -0.178157  , -0.1780874 ],\n",
       "       [ 0.75972893, -0.18527711, -0.13537732, ..., -0.17828493,\n",
       "        -0.17813103, -0.17806137]])"
      ]
     },
     "execution_count": 110,
     "metadata": {},
     "output_type": "execute_result"
    }
   ],
   "source": [
    "housing_num_tr"
   ]
  },
  {
   "cell_type": "code",
   "execution_count": 111,
   "id": "6161a606-162e-4de8-8e4a-d2d11d730ee1",
   "metadata": {},
   "outputs": [],
   "source": [
    "try:\n",
    "    from sklearn.compose import ColumnTransformer\n",
    "except ImportError:\n",
    "    from future_encoders import ColumnTransformer # Scikit-Learn < 0.20"
   ]
  },
  {
   "cell_type": "code",
   "execution_count": 138,
   "id": "8256b3c1-868e-4b2a-b49b-4c029dbe5ab5",
   "metadata": {},
   "outputs": [],
   "source": [
    "num_attribs = list(housing_num)\n",
    "cat_attribs = ['Months', 'Sitio', 'Position Ad Unit', 'Device', 'Region']\n",
    "\n",
    "full_pipeline = ColumnTransformer([\n",
    "        (\"num\", num_pipeline, num_attribs),\n",
    "        (\"cat\", OneHotEncoder(), cat_attribs),\n",
    "    ])\n",
    "\n",
    "housing_prepared = full_pipeline.fit_transform(housing)"
   ]
  },
  {
   "cell_type": "code",
   "execution_count": 145,
   "id": "0b7e0a71-2df2-4075-89b9-3fcc22ae985d",
   "metadata": {},
   "outputs": [
    {
     "data": {
      "text/plain": [
       "scipy.sparse.csr.csr_matrix"
      ]
     },
     "execution_count": 145,
     "metadata": {},
     "output_type": "execute_result"
    }
   ],
   "source": [
    "type(housing_prepared)"
   ]
  },
  {
   "cell_type": "code",
   "execution_count": 115,
   "id": "77563167-f9c2-4c4b-9a8f-fff467ddb6c0",
   "metadata": {},
   "outputs": [
    {
     "data": {
      "text/plain": [
       "(7994, 73)"
      ]
     },
     "execution_count": 115,
     "metadata": {},
     "output_type": "execute_result"
    }
   ],
   "source": [
    "housing_prepared.shape"
   ]
  },
  {
   "cell_type": "code",
   "execution_count": 116,
   "id": "2e2e55a9-e892-4633-afde-1009125587d4",
   "metadata": {},
   "outputs": [],
   "source": [
    "from sklearn.base import BaseEstimator, TransformerMixin\n",
    "\n",
    "# Create a class to select numerical or categorical columns \n",
    "class OldDataFrameSelector(BaseEstimator, TransformerMixin):\n",
    "    def __init__(self, attribute_names):\n",
    "        self.attribute_names = attribute_names\n",
    "    def fit(self, X, y=None):\n",
    "        return self\n",
    "    def transform(self, X):\n",
    "        return X[self.attribute_names].values"
   ]
  },
  {
   "cell_type": "code",
   "execution_count": 130,
   "id": "62dcaef0-0fcc-4275-9148-d8f6582581d6",
   "metadata": {},
   "outputs": [],
   "source": [
    "num_attribs = list(housing_num)\n",
    "cat_attribs = [\"Months\", 'Sitio', 'Position Ad Unit', 'Device', 'Region']\n",
    "\n",
    "old_num_pipeline = Pipeline([\n",
    "        ('selector', OldDataFrameSelector(num_attribs)),\n",
    "        ('imputer', SimpleImputer(strategy=\"median\")),\n",
    "        ('std_scaler', StandardScaler()),\n",
    "    ])\n",
    "\n",
    "old_cat_pipeline = Pipeline([\n",
    "        ('selector', OldDataFrameSelector(cat_attribs)),\n",
    "        ('cat_encoder', OneHotEncoder(sparse=False)),\n",
    "    ])"
   ]
  },
  {
   "cell_type": "code",
   "execution_count": 131,
   "id": "c6eb293d-db5f-4e46-9563-aede3099c80d",
   "metadata": {},
   "outputs": [],
   "source": [
    "from sklearn.pipeline import FeatureUnion\n",
    "\n",
    "old_full_pipeline = FeatureUnion(transformer_list=[\n",
    "        (\"num_pipeline\", old_num_pipeline),\n",
    "        (\"cat_pipeline\", old_cat_pipeline),\n",
    "    ])"
   ]
  },
  {
   "cell_type": "code",
   "execution_count": 125,
   "id": "ba1e00b2-1c5e-4b09-9e14-c2598c6a53ea",
   "metadata": {},
   "outputs": [
    {
     "data": {
      "text/html": [
       "<div>\n",
       "<style scoped>\n",
       "    .dataframe tbody tr th:only-of-type {\n",
       "        vertical-align: middle;\n",
       "    }\n",
       "\n",
       "    .dataframe tbody tr th {\n",
       "        vertical-align: top;\n",
       "    }\n",
       "\n",
       "    .dataframe thead th {\n",
       "        text-align: right;\n",
       "    }\n",
       "</style>\n",
       "<table border=\"1\" class=\"dataframe\">\n",
       "  <thead>\n",
       "    <tr style=\"text-align: right;\">\n",
       "      <th></th>\n",
       "      <th>Months</th>\n",
       "      <th>Sitio</th>\n",
       "      <th>Position Ad Unit</th>\n",
       "      <th>Device</th>\n",
       "      <th>Region</th>\n",
       "      <th>Ad requests</th>\n",
       "      <th>Matched requests</th>\n",
       "      <th>Clicks</th>\n",
       "      <th>Estimated revenue (MX$)</th>\n",
       "      <th>Ad impressions</th>\n",
       "      <th>Active view enabled impressions</th>\n",
       "      <th>Active view measured impressions</th>\n",
       "    </tr>\n",
       "  </thead>\n",
       "  <tbody>\n",
       "    <tr>\n",
       "      <th>9926</th>\n",
       "      <td>01/08/2022</td>\n",
       "      <td>Me_lo_dijo_Lola</td>\n",
       "      <td>Zocalo</td>\n",
       "      <td>Mobile</td>\n",
       "      <td>Mexico</td>\n",
       "      <td>223089</td>\n",
       "      <td>205097</td>\n",
       "      <td>359</td>\n",
       "      <td>479.37</td>\n",
       "      <td>124782</td>\n",
       "      <td>124450</td>\n",
       "      <td>123897</td>\n",
       "    </tr>\n",
       "    <tr>\n",
       "      <th>2761</th>\n",
       "      <td>01/02/2021</td>\n",
       "      <td>Me_lo_dijo_Lola</td>\n",
       "      <td>728x90</td>\n",
       "      <td>Desktop</td>\n",
       "      <td>United States</td>\n",
       "      <td>369</td>\n",
       "      <td>124</td>\n",
       "      <td>0</td>\n",
       "      <td>0.92</td>\n",
       "      <td>113</td>\n",
       "      <td>113</td>\n",
       "      <td>113</td>\n",
       "    </tr>\n",
       "    <tr>\n",
       "      <th>8957</th>\n",
       "      <td>01/06/2022</td>\n",
       "      <td>Cocina_Delirante</td>\n",
       "      <td>728x90</td>\n",
       "      <td>Desktop</td>\n",
       "      <td>United States</td>\n",
       "      <td>3195</td>\n",
       "      <td>1773</td>\n",
       "      <td>5</td>\n",
       "      <td>39.26</td>\n",
       "      <td>1617</td>\n",
       "      <td>1603</td>\n",
       "      <td>1601</td>\n",
       "    </tr>\n",
       "    <tr>\n",
       "      <th>6091</th>\n",
       "      <td>01/11/2021</td>\n",
       "      <td>Actitudfem</td>\n",
       "      <td>box_multi</td>\n",
       "      <td>Mobile</td>\n",
       "      <td>Mexico</td>\n",
       "      <td>68986</td>\n",
       "      <td>2144</td>\n",
       "      <td>20</td>\n",
       "      <td>29.34</td>\n",
       "      <td>2016</td>\n",
       "      <td>2016</td>\n",
       "      <td>1887</td>\n",
       "    </tr>\n",
       "    <tr>\n",
       "      <th>9475</th>\n",
       "      <td>01/07/2022</td>\n",
       "      <td>Imagen</td>\n",
       "      <td>300x100</td>\n",
       "      <td>Mobile</td>\n",
       "      <td>United States</td>\n",
       "      <td>161</td>\n",
       "      <td>97</td>\n",
       "      <td>0</td>\n",
       "      <td>0.61</td>\n",
       "      <td>71</td>\n",
       "      <td>71</td>\n",
       "      <td>68</td>\n",
       "    </tr>\n",
       "  </tbody>\n",
       "</table>\n",
       "</div>"
      ],
      "text/plain": [
       "          Months             Sitio Position Ad Unit   Device         Region  \\\n",
       "9926  01/08/2022   Me_lo_dijo_Lola           Zocalo   Mobile         Mexico   \n",
       "2761  01/02/2021   Me_lo_dijo_Lola           728x90  Desktop  United States   \n",
       "8957  01/06/2022  Cocina_Delirante           728x90  Desktop  United States   \n",
       "6091  01/11/2021        Actitudfem        box_multi   Mobile         Mexico   \n",
       "9475  01/07/2022            Imagen          300x100   Mobile  United States   \n",
       "\n",
       "      Ad requests  Matched requests  Clicks  Estimated revenue (MX$)  \\\n",
       "9926       223089            205097     359                   479.37   \n",
       "2761          369               124       0                     0.92   \n",
       "8957         3195              1773       5                    39.26   \n",
       "6091        68986              2144      20                    29.34   \n",
       "9475          161                97       0                     0.61   \n",
       "\n",
       "      Ad impressions  Active view enabled impressions  \\\n",
       "9926          124782                           124450   \n",
       "2761             113                              113   \n",
       "8957            1617                             1603   \n",
       "6091            2016                             2016   \n",
       "9475              71                               71   \n",
       "\n",
       "      Active view measured impressions  \n",
       "9926                            123897  \n",
       "2761                               113  \n",
       "8957                              1601  \n",
       "6091                              1887  \n",
       "9475                                68  "
      ]
     },
     "execution_count": 125,
     "metadata": {},
     "output_type": "execute_result"
    }
   ],
   "source": [
    "housing.head()"
   ]
  },
  {
   "cell_type": "code",
   "execution_count": 132,
   "id": "a7788129-8c32-41fa-9163-d5f38384c74c",
   "metadata": {},
   "outputs": [
    {
     "data": {
      "text/plain": [
       "array([[-0.16813047, -0.00878913, -0.06516646, ...,  0.        ,\n",
       "         1.        ,  0.        ],\n",
       "       [-0.24868532, -0.18521427, -0.13537732, ...,  0.        ,\n",
       "         0.        ,  1.        ],\n",
       "       [-0.2476632 , -0.18379494, -0.13439945, ...,  0.        ,\n",
       "         0.        ,  1.        ],\n",
       "       ...,\n",
       "       [-0.23899574, -0.1731366 , -0.13205257, ...,  1.        ,\n",
       "         0.        ,  0.        ],\n",
       "       [-0.24881698, -0.18532014, -0.13537732, ...,  0.        ,\n",
       "         0.        ,  1.        ],\n",
       "       [ 0.75972893, -0.18527711, -0.13537732, ...,  1.        ,\n",
       "         0.        ,  0.        ]])"
      ]
     },
     "execution_count": 132,
     "metadata": {},
     "output_type": "execute_result"
    }
   ],
   "source": [
    "old_housing_prepared = old_full_pipeline.fit_transform(housing)\n",
    "old_housing_prepared"
   ]
  },
  {
   "cell_type": "code",
   "execution_count": 146,
   "id": "670f705b-d69b-479d-8df9-c2d5d0c12b8c",
   "metadata": {},
   "outputs": [
    {
     "data": {
      "text/plain": [
       "array([[-0.16813047, -0.00878913, -0.06516646, ...,  0.        ,\n",
       "         1.        ,  0.        ],\n",
       "       [-0.24868532, -0.18521427, -0.13537732, ...,  0.        ,\n",
       "         0.        ,  1.        ],\n",
       "       [-0.2476632 , -0.18379494, -0.13439945, ...,  0.        ,\n",
       "         0.        ,  1.        ],\n",
       "       ...,\n",
       "       [-0.23899574, -0.1731366 , -0.13205257, ...,  1.        ,\n",
       "         0.        ,  0.        ],\n",
       "       [-0.24881698, -0.18532014, -0.13537732, ...,  0.        ,\n",
       "         0.        ,  1.        ],\n",
       "       [ 0.75972893, -0.18527711, -0.13537732, ...,  1.        ,\n",
       "         0.        ,  0.        ]])"
      ]
     },
     "execution_count": 146,
     "metadata": {},
     "output_type": "execute_result"
    }
   ],
   "source": [
    "old_housing_prepared"
   ]
  },
  {
   "cell_type": "code",
   "execution_count": 137,
   "id": "7c340f6d-e2a1-46c8-8e42-0b96074b8072",
   "metadata": {},
   "outputs": [
    {
     "data": {
      "text/plain": [
       "(7994, 73)"
      ]
     },
     "execution_count": 137,
     "metadata": {},
     "output_type": "execute_result"
    }
   ],
   "source": [
    "old_housing_prepared.shape"
   ]
  },
  {
   "cell_type": "code",
   "execution_count": 135,
   "id": "96ab57d4-6066-4979-a58b-a1d7fe1ec384",
   "metadata": {},
   "outputs": [
    {
     "ename": "TypeError",
     "evalue": "ufunc 'isfinite' not supported for the input types, and the inputs could not be safely coerced to any supported types according to the casting rule ''safe''",
     "output_type": "error",
     "traceback": [
      "\u001b[1;31m---------------------------------------------------------------------------\u001b[0m",
      "\u001b[1;31mTypeError\u001b[0m                                 Traceback (most recent call last)",
      "Input \u001b[1;32mIn [135]\u001b[0m, in \u001b[0;36m<cell line: 1>\u001b[1;34m()\u001b[0m\n\u001b[1;32m----> 1\u001b[0m \u001b[43mnp\u001b[49m\u001b[38;5;241;43m.\u001b[39;49m\u001b[43mallclose\u001b[49m\u001b[43m(\u001b[49m\u001b[43mhousing_prepared\u001b[49m\u001b[43m,\u001b[49m\u001b[43m \u001b[49m\u001b[43mold_housing_prepared\u001b[49m\u001b[43m)\u001b[49m\n",
      "File \u001b[1;32m<__array_function__ internals>:5\u001b[0m, in \u001b[0;36mallclose\u001b[1;34m(*args, **kwargs)\u001b[0m\n",
      "File \u001b[1;32m~\\anaconda3\\lib\\site-packages\\numpy\\core\\numeric.py:2249\u001b[0m, in \u001b[0;36mallclose\u001b[1;34m(a, b, rtol, atol, equal_nan)\u001b[0m\n\u001b[0;32m   2179\u001b[0m \u001b[38;5;129m@array_function_dispatch\u001b[39m(_allclose_dispatcher)\n\u001b[0;32m   2180\u001b[0m \u001b[38;5;28;01mdef\u001b[39;00m \u001b[38;5;21mallclose\u001b[39m(a, b, rtol\u001b[38;5;241m=\u001b[39m\u001b[38;5;241m1.e-5\u001b[39m, atol\u001b[38;5;241m=\u001b[39m\u001b[38;5;241m1.e-8\u001b[39m, equal_nan\u001b[38;5;241m=\u001b[39m\u001b[38;5;28;01mFalse\u001b[39;00m):\n\u001b[0;32m   2181\u001b[0m     \u001b[38;5;124;03m\"\"\"\u001b[39;00m\n\u001b[0;32m   2182\u001b[0m \u001b[38;5;124;03m    Returns True if two arrays are element-wise equal within a tolerance.\u001b[39;00m\n\u001b[0;32m   2183\u001b[0m \n\u001b[1;32m   (...)\u001b[0m\n\u001b[0;32m   2247\u001b[0m \n\u001b[0;32m   2248\u001b[0m \u001b[38;5;124;03m    \"\"\"\u001b[39;00m\n\u001b[1;32m-> 2249\u001b[0m     res \u001b[38;5;241m=\u001b[39m \u001b[38;5;28mall\u001b[39m(\u001b[43misclose\u001b[49m\u001b[43m(\u001b[49m\u001b[43ma\u001b[49m\u001b[43m,\u001b[49m\u001b[43m \u001b[49m\u001b[43mb\u001b[49m\u001b[43m,\u001b[49m\u001b[43m \u001b[49m\u001b[43mrtol\u001b[49m\u001b[38;5;241;43m=\u001b[39;49m\u001b[43mrtol\u001b[49m\u001b[43m,\u001b[49m\u001b[43m \u001b[49m\u001b[43matol\u001b[49m\u001b[38;5;241;43m=\u001b[39;49m\u001b[43matol\u001b[49m\u001b[43m,\u001b[49m\u001b[43m \u001b[49m\u001b[43mequal_nan\u001b[49m\u001b[38;5;241;43m=\u001b[39;49m\u001b[43mequal_nan\u001b[49m\u001b[43m)\u001b[49m)\n\u001b[0;32m   2250\u001b[0m     \u001b[38;5;28;01mreturn\u001b[39;00m \u001b[38;5;28mbool\u001b[39m(res)\n",
      "File \u001b[1;32m<__array_function__ internals>:5\u001b[0m, in \u001b[0;36misclose\u001b[1;34m(*args, **kwargs)\u001b[0m\n",
      "File \u001b[1;32m~\\anaconda3\\lib\\site-packages\\numpy\\core\\numeric.py:2355\u001b[0m, in \u001b[0;36misclose\u001b[1;34m(a, b, rtol, atol, equal_nan)\u001b[0m\n\u001b[0;32m   2352\u001b[0m     dt \u001b[38;5;241m=\u001b[39m multiarray\u001b[38;5;241m.\u001b[39mresult_type(y, \u001b[38;5;241m1.\u001b[39m)\n\u001b[0;32m   2353\u001b[0m     y \u001b[38;5;241m=\u001b[39m asanyarray(y, dtype\u001b[38;5;241m=\u001b[39mdt)\n\u001b[1;32m-> 2355\u001b[0m xfin \u001b[38;5;241m=\u001b[39m \u001b[43misfinite\u001b[49m\u001b[43m(\u001b[49m\u001b[43mx\u001b[49m\u001b[43m)\u001b[49m\n\u001b[0;32m   2356\u001b[0m yfin \u001b[38;5;241m=\u001b[39m isfinite(y)\n\u001b[0;32m   2357\u001b[0m \u001b[38;5;28;01mif\u001b[39;00m \u001b[38;5;28mall\u001b[39m(xfin) \u001b[38;5;129;01mand\u001b[39;00m \u001b[38;5;28mall\u001b[39m(yfin):\n",
      "\u001b[1;31mTypeError\u001b[0m: ufunc 'isfinite' not supported for the input types, and the inputs could not be safely coerced to any supported types according to the casting rule ''safe''"
     ]
    }
   ],
   "source": [
    "# Esto hace comparación de la manera manual y al llevarlo a un pipeline, el cual no nos deja comparar por formato de arreglos.\n",
    "np.allclose(housing_prepared, old_housing_prepared)"
   ]
  },
  {
   "cell_type": "markdown",
   "id": "24fe35bb-6af2-4b03-9c74-d93742c9a732",
   "metadata": {},
   "source": [
    "# Select and train model"
   ]
  },
  {
   "cell_type": "code",
   "execution_count": 182,
   "id": "b33f1f9f-9d46-428c-8a01-28273e7be5be",
   "metadata": {},
   "outputs": [
    {
     "data": {
      "text/plain": [
       "LinearRegression()"
      ]
     },
     "execution_count": 182,
     "metadata": {},
     "output_type": "execute_result"
    }
   ],
   "source": [
    "from sklearn.linear_model import LinearRegression\n",
    "\n",
    "lin_reg = LinearRegression()\n",
    "lin_reg.fit(housing_prepared, housing_labels) #Aquí ocupé old_housing_prepared"
   ]
  },
  {
   "cell_type": "code",
   "execution_count": 183,
   "id": "ee177d49-0624-4b8d-9a67-2bab5df0b1b9",
   "metadata": {},
   "outputs": [
    {
     "name": "stdout",
     "output_type": "stream",
     "text": [
      "Predictions: [2.63831926 3.93624014 5.95346334 2.54351355 4.38382784]\n"
     ]
    }
   ],
   "source": [
    "# let's try the full preprocessing pipeline on a few training instances\n",
    "some_data = housing.iloc[:5]\n",
    "some_labels = housing_labels.iloc[:5]\n",
    "some_data_prepared = old_full_pipeline.transform(some_data)\n",
    "\n",
    "print(\"Predictions:\", lin_reg.predict(some_data_prepared))\n",
    "\n",
    "#Predictions: [2.66796875 3.90234375 6.05273438 2.62695312 4.44921875]"
   ]
  },
  {
   "cell_type": "code",
   "execution_count": 184,
   "id": "cb298e72-6cc7-40b1-b3b9-fd5000494b04",
   "metadata": {},
   "outputs": [
    {
     "name": "stdout",
     "output_type": "stream",
     "text": [
      "Labels: [2.1487836692979037, 2.4932249322493223, 12.287949921752737, 0.42530368480561276, 3.7888198757763973]\n"
     ]
    }
   ],
   "source": [
    "print(\"Labels:\", list(some_labels))"
   ]
  },
  {
   "cell_type": "code",
   "execution_count": 173,
   "id": "2ad1d809-6c3d-4bef-9d26-63b023b3fc10",
   "metadata": {},
   "outputs": [
    {
     "data": {
      "text/plain": [
       "array([[-0.16813047, -0.00878913, -0.06516646, -0.11608428, -0.05372746,\n",
       "        -0.05381319, -0.05405431,  0.        ,  0.        ,  0.        ,\n",
       "         0.        ,  0.        ,  0.        ,  0.        ,  0.        ,\n",
       "         0.        ,  0.        ,  0.        ,  0.        ,  0.        ,\n",
       "         0.        ,  0.        ,  0.        ,  1.        ,  0.        ,\n",
       "         0.        ,  0.        ,  0.        ,  0.        ,  0.        ,\n",
       "         0.        ,  0.        ,  0.        ,  0.        ,  0.        ,\n",
       "         0.        ,  0.        ,  0.        ,  0.        ,  0.        ,\n",
       "         1.        ,  0.        ,  0.        ,  0.        ,  0.        ,\n",
       "         0.        ,  0.        ,  0.        ,  0.        ,  0.        ,\n",
       "         0.        ,  0.        ,  0.        ,  0.        ,  0.        ,\n",
       "         0.        ,  0.        ,  0.        ,  0.        ,  0.        ,\n",
       "         0.        ,  1.        ,  0.        ,  0.        ,  0.        ,\n",
       "         0.        ,  0.        ,  0.        ,  0.        ,  1.        ,\n",
       "         0.        ,  1.        ,  0.        ],\n",
       "       [-0.24868532, -0.18521427, -0.13537732, -0.20590862, -0.17819807,\n",
       "        -0.1780441 , -0.17797427,  0.        ,  0.        ,  1.        ,\n",
       "         0.        ,  0.        ,  0.        ,  0.        ,  0.        ,\n",
       "         0.        ,  0.        ,  0.        ,  0.        ,  0.        ,\n",
       "         0.        ,  0.        ,  0.        ,  0.        ,  0.        ,\n",
       "         0.        ,  0.        ,  0.        ,  0.        ,  0.        ,\n",
       "         0.        ,  0.        ,  0.        ,  0.        ,  0.        ,\n",
       "         0.        ,  0.        ,  0.        ,  0.        ,  0.        ,\n",
       "         1.        ,  0.        ,  0.        ,  0.        ,  0.        ,\n",
       "         0.        ,  0.        ,  0.        ,  0.        ,  0.        ,\n",
       "         0.        ,  0.        ,  0.        ,  0.        ,  0.        ,\n",
       "         0.        ,  1.        ,  0.        ,  0.        ,  0.        ,\n",
       "         0.        ,  0.        ,  0.        ,  0.        ,  0.        ,\n",
       "         0.        ,  0.        ,  0.        ,  1.        ,  0.        ,\n",
       "         0.        ,  0.        ,  1.        ],\n",
       "       [-0.2476632 , -0.18379494, -0.13439945, -0.19871065, -0.17669646,\n",
       "        -0.17655537, -0.17648464,  0.        ,  0.        ,  0.        ,\n",
       "         0.        ,  0.        ,  0.        ,  0.        ,  0.        ,\n",
       "         0.        ,  0.        ,  0.        ,  1.        ,  0.        ,\n",
       "         0.        ,  0.        ,  0.        ,  0.        ,  0.        ,\n",
       "         0.        ,  0.        ,  0.        ,  0.        ,  0.        ,\n",
       "         0.        ,  0.        ,  0.        ,  0.        ,  0.        ,\n",
       "         1.        ,  0.        ,  0.        ,  0.        ,  0.        ,\n",
       "         0.        ,  0.        ,  0.        ,  0.        ,  0.        ,\n",
       "         0.        ,  0.        ,  0.        ,  0.        ,  0.        ,\n",
       "         0.        ,  0.        ,  0.        ,  0.        ,  0.        ,\n",
       "         0.        ,  1.        ,  0.        ,  0.        ,  0.        ,\n",
       "         0.        ,  0.        ,  0.        ,  0.        ,  0.        ,\n",
       "         0.        ,  0.        ,  0.        ,  1.        ,  0.        ,\n",
       "         0.        ,  0.        ,  1.        ],\n",
       "       [-0.22386747, -0.18347561, -0.13146585, -0.20057304, -0.1762981 ,\n",
       "        -0.17614272, -0.17619833,  0.        ,  0.        ,  0.        ,\n",
       "         0.        ,  0.        ,  0.        ,  0.        ,  0.        ,\n",
       "         0.        ,  0.        ,  0.        ,  0.        ,  0.        ,\n",
       "         0.        ,  0.        ,  0.        ,  0.        ,  0.        ,\n",
       "         0.        ,  0.        ,  0.        ,  0.        ,  1.        ,\n",
       "         0.        ,  0.        ,  1.        ,  0.        ,  0.        ,\n",
       "         0.        ,  0.        ,  0.        ,  0.        ,  0.        ,\n",
       "         0.        ,  0.        ,  0.        ,  0.        ,  0.        ,\n",
       "         0.        ,  0.        ,  0.        ,  0.        ,  0.        ,\n",
       "         0.        ,  0.        ,  0.        ,  0.        ,  0.        ,\n",
       "         0.        ,  0.        ,  0.        ,  0.        ,  0.        ,\n",
       "         0.        ,  0.        ,  0.        ,  0.        ,  1.        ,\n",
       "         0.        ,  0.        ,  0.        ,  0.        ,  1.        ,\n",
       "         0.        ,  1.        ,  0.        ],\n",
       "       [-0.24876055, -0.18523751, -0.13537732, -0.20596682, -0.17824   ,\n",
       "        -0.17808606, -0.17801932,  0.        ,  0.        ,  0.        ,\n",
       "         0.        ,  0.        ,  0.        ,  0.        ,  0.        ,\n",
       "         0.        ,  0.        ,  0.        ,  0.        ,  0.        ,\n",
       "         1.        ,  0.        ,  0.        ,  0.        ,  0.        ,\n",
       "         0.        ,  0.        ,  0.        ,  0.        ,  0.        ,\n",
       "         0.        ,  0.        ,  0.        ,  0.        ,  0.        ,\n",
       "         0.        ,  0.        ,  0.        ,  1.        ,  0.        ,\n",
       "         0.        ,  0.        ,  0.        ,  0.        ,  0.        ,\n",
       "         0.        ,  0.        ,  0.        ,  0.        ,  1.        ,\n",
       "         0.        ,  0.        ,  0.        ,  0.        ,  0.        ,\n",
       "         0.        ,  0.        ,  0.        ,  0.        ,  0.        ,\n",
       "         0.        ,  0.        ,  0.        ,  0.        ,  0.        ,\n",
       "         0.        ,  0.        ,  0.        ,  0.        ,  1.        ,\n",
       "         0.        ,  0.        ,  1.        ]])"
      ]
     },
     "execution_count": 173,
     "metadata": {},
     "output_type": "execute_result"
    }
   ],
   "source": [
    "some_data_prepared"
   ]
  },
  {
   "cell_type": "code",
   "execution_count": 192,
   "id": "c6406cba-d070-4c2a-a6bb-c9ef0dda50bb",
   "metadata": {},
   "outputs": [
    {
     "data": {
      "text/plain": [
       "4.163198550626033"
      ]
     },
     "execution_count": 192,
     "metadata": {},
     "output_type": "execute_result"
    }
   ],
   "source": [
    "from sklearn.metrics import mean_squared_error\n",
    "\n",
    "housing_predictions = lin_reg.predict(housing_prepared)\n",
    "lin_mse = mean_squared_error(housing_labels, housing_predictions)\n",
    "lin_rmse = np.sqrt(lin_mse)\n",
    "lin_rmse\n",
    "\n",
    "# 4.164669841419033 con old_housing_prepared"
   ]
  },
  {
   "cell_type": "code",
   "execution_count": 193,
   "id": "83028319-eb5b-4f57-a885-156599a1be11",
   "metadata": {},
   "outputs": [
    {
     "data": {
      "text/plain": [
       "2.2384709398915055"
      ]
     },
     "execution_count": 193,
     "metadata": {},
     "output_type": "execute_result"
    }
   ],
   "source": [
    "from sklearn.metrics import mean_absolute_error\n",
    "\n",
    "lin_mae = mean_absolute_error(housing_labels, housing_predictions)\n",
    "lin_mae\n",
    "\n",
    "#2.2368766406313103"
   ]
  },
  {
   "cell_type": "code",
   "execution_count": 197,
   "id": "84ba28ff-1826-4f09-9012-c784d8f983ca",
   "metadata": {},
   "outputs": [
    {
     "data": {
      "text/plain": [
       "DecisionTreeRegressor(random_state=42)"
      ]
     },
     "execution_count": 197,
     "metadata": {},
     "output_type": "execute_result"
    }
   ],
   "source": [
    "## Arbol de decisiones\n",
    "from sklearn.tree import DecisionTreeRegressor\n",
    "\n",
    "tree_reg = DecisionTreeRegressor(random_state=42)\n",
    "tree_reg.fit(housing_prepared, housing_labels)"
   ]
  },
  {
   "cell_type": "code",
   "execution_count": 198,
   "id": "5a24bc4f-877a-4ee4-ba27-36e0f9190b86",
   "metadata": {},
   "outputs": [
    {
     "data": {
      "text/plain": [
       "2.1507443228766537e-18"
      ]
     },
     "execution_count": 198,
     "metadata": {},
     "output_type": "execute_result"
    }
   ],
   "source": [
    "housing_predictions = tree_reg.predict(housing_prepared)\n",
    "tree_mse = mean_squared_error(housing_labels, housing_predictions)\n",
    "tree_rmse = np.sqrt(tree_mse)\n",
    "tree_rmse\n",
    "\n",
    "# 2.1507443228766537e-18 con old_housing_prepared"
   ]
  },
  {
   "cell_type": "markdown",
   "id": "d79edf77-fd42-4281-97a2-679ed26d6916",
   "metadata": {},
   "source": [
    "# Crossvalidation"
   ]
  },
  {
   "cell_type": "code",
   "execution_count": 205,
   "id": "4fca69c2-2982-4137-b3b3-0d00569d1a0e",
   "metadata": {},
   "outputs": [],
   "source": [
    "from sklearn.model_selection import cross_val_score\n",
    "\n",
    "scores = cross_val_score(tree_reg, housing_prepared, housing_labels,\n",
    "                         scoring=\"neg_mean_squared_error\", cv=10)\n",
    "tree_rmse_scores = np.sqrt(-scores)"
   ]
  },
  {
   "cell_type": "code",
   "execution_count": 200,
   "id": "7f981a09-6372-40eb-82d0-a6005bb84bd8",
   "metadata": {},
   "outputs": [
    {
     "name": "stdout",
     "output_type": "stream",
     "text": [
      "Scores: [2.49198352 1.59121829 1.80063725 1.79790008 1.68841803 1.59129055\n",
      " 1.26343832 2.39671109 3.24669562 2.34881411]\n",
      "Mean: 2.0217106846949955\n",
      "Standard deviation: 0.5590149729853388\n"
     ]
    }
   ],
   "source": [
    "def display_scores(scores):\n",
    "    print(\"Scores:\", scores)\n",
    "    print(\"Mean:\", scores.mean())\n",
    "    print(\"Standard deviation:\", scores.std())\n",
    "\n",
    "display_scores(tree_rmse_scores)\n",
    "\n",
    "# Scores: [2.53063224 1.65313644 1.92524027 1.77622569 1.67485054 3.42446451 1.26491669 2.39963266 3.30065268 2.33640075]\n",
    "#Mean: 2.228615247535616\n",
    "#Standard deviation: 0.6763606615134431"
   ]
  },
  {
   "cell_type": "code",
   "execution_count": 203,
   "id": "d78efeae-aafe-4d5c-8a18-c2950b0d965e",
   "metadata": {},
   "outputs": [
    {
     "name": "stdout",
     "output_type": "stream",
     "text": [
      "Scores: [4.86020258 3.50517806 4.10335816 4.06575035 3.40217691 3.77936185\n",
      " 3.6603779  3.91574004 6.10113525 4.05323212]\n",
      "Mean: 4.144651321967734\n",
      "Standard deviation: 0.7574089219540697\n"
     ]
    }
   ],
   "source": [
    "lin_scores = cross_val_score(lin_reg, housing_prepared, housing_labels,\n",
    "                             scoring=\"neg_mean_squared_error\", cv=10)\n",
    "lin_rmse_scores = np.sqrt(-lin_scores)\n",
    "display_scores(lin_rmse_scores)\n",
    "# Scores: [4.86020258 3.50517806 4.10335816 4.06575035 3.40217691 3.77936185 3.6603779  3.91574004 6.10113525 4.05323212]\n",
    "# Mean: 4.144651321967734\n",
    "# Standard deviation: 0.7574089219540697"
   ]
  },
  {
   "cell_type": "code",
   "execution_count": 204,
   "id": "d6be9555-5a14-423e-8a5f-8eb8ca9961ce",
   "metadata": {},
   "outputs": [
    {
     "data": {
      "text/plain": [
       "4.541685841508111"
      ]
     },
     "execution_count": 204,
     "metadata": {},
     "output_type": "execute_result"
    }
   ],
   "source": [
    "from sklearn.svm import SVR\n",
    "\n",
    "svm_reg = SVR(kernel=\"linear\")\n",
    "svm_reg.fit(housing_prepared, housing_labels)\n",
    "housing_predictions = svm_reg.predict(housing_prepared)\n",
    "svm_mse = mean_squared_error(housing_labels, housing_predictions)\n",
    "svm_rmse = np.sqrt(svm_mse)\n",
    "svm_rmse"
   ]
  },
  {
   "cell_type": "code",
   "execution_count": 207,
   "id": "dcf01e91-ecb4-44dd-bef3-07f6df023470",
   "metadata": {},
   "outputs": [
    {
     "data": {
      "text/plain": [
       "GridSearchCV(cv=5, estimator=RandomForestRegressor(random_state=42),\n",
       "             param_grid=[{'max_features': [2, 4, 6, 8],\n",
       "                          'n_estimators': [3, 10, 30]},\n",
       "                         {'bootstrap': [False], 'max_features': [2, 3, 4],\n",
       "                          'n_estimators': [3, 10]}],\n",
       "             return_train_score=True, scoring='neg_mean_squared_error')"
      ]
     },
     "execution_count": 207,
     "metadata": {},
     "output_type": "execute_result"
    }
   ],
   "source": [
    "from sklearn.ensemble import RandomForestRegressor\n",
    "from sklearn.model_selection import GridSearchCV\n",
    "\n",
    "param_grid = [\n",
    "    # try 12 (3×4) combinations of hyperparameters\n",
    "    {'n_estimators': [3, 10, 30], 'max_features': [2, 4, 6, 8]},\n",
    "    # then try 6 (2×3) combinations with bootstrap set as False\n",
    "    {'bootstrap': [False], 'n_estimators': [3, 10], 'max_features': [2, 3, 4]},\n",
    "  ]\n",
    "\n",
    "forest_reg = RandomForestRegressor(random_state=42)\n",
    "# train across 5 folds, that's a total of (12+6)*5=90 rounds of training \n",
    "grid_search = GridSearchCV(forest_reg, param_grid, cv=5,\n",
    "                           scoring='neg_mean_squared_error', return_train_score=True)\n",
    "grid_search.fit(housing_prepared, housing_labels)"
   ]
  },
  {
   "cell_type": "code",
   "execution_count": 208,
   "id": "66446bd9-a825-4a05-a744-d258138f9afc",
   "metadata": {},
   "outputs": [
    {
     "data": {
      "text/plain": [
       "{'max_features': 8, 'n_estimators': 30}"
      ]
     },
     "execution_count": 208,
     "metadata": {},
     "output_type": "execute_result"
    }
   ],
   "source": [
    "grid_search.best_params_"
   ]
  },
  {
   "cell_type": "code",
   "execution_count": 209,
   "id": "569cc757-90ef-4a1a-bee0-fd6a9954bbe3",
   "metadata": {},
   "outputs": [
    {
     "data": {
      "text/plain": [
       "RandomForestRegressor(max_features=8, n_estimators=30, random_state=42)"
      ]
     },
     "execution_count": 209,
     "metadata": {},
     "output_type": "execute_result"
    }
   ],
   "source": [
    "grid_search.best_estimator_"
   ]
  },
  {
   "cell_type": "code",
   "execution_count": 210,
   "id": "8e5d4a7d-2f1d-44cd-92c7-85cecb154798",
   "metadata": {},
   "outputs": [
    {
     "name": "stdout",
     "output_type": "stream",
     "text": [
      "3.9549686498541923 {'max_features': 2, 'n_estimators': 3}\n",
      "3.550309569045054 {'max_features': 2, 'n_estimators': 10}\n",
      "3.321075464852194 {'max_features': 2, 'n_estimators': 30}\n",
      "3.8085067510293227 {'max_features': 4, 'n_estimators': 3}\n",
      "3.4011632855966387 {'max_features': 4, 'n_estimators': 10}\n",
      "3.135798923337944 {'max_features': 4, 'n_estimators': 30}\n",
      "3.7396588183657125 {'max_features': 6, 'n_estimators': 3}\n",
      "3.1942518606081434 {'max_features': 6, 'n_estimators': 10}\n",
      "3.008832509357821 {'max_features': 6, 'n_estimators': 30}\n",
      "3.5580166004163774 {'max_features': 8, 'n_estimators': 3}\n",
      "3.197056202689882 {'max_features': 8, 'n_estimators': 10}\n",
      "2.94553254567179 {'max_features': 8, 'n_estimators': 30}\n",
      "3.853682654271077 {'bootstrap': False, 'max_features': 2, 'n_estimators': 3}\n",
      "3.393255406316552 {'bootstrap': False, 'max_features': 2, 'n_estimators': 10}\n",
      "3.754051080127212 {'bootstrap': False, 'max_features': 3, 'n_estimators': 3}\n",
      "3.2693144401939365 {'bootstrap': False, 'max_features': 3, 'n_estimators': 10}\n",
      "3.6810853154039758 {'bootstrap': False, 'max_features': 4, 'n_estimators': 3}\n",
      "3.3082877200880367 {'bootstrap': False, 'max_features': 4, 'n_estimators': 10}\n"
     ]
    }
   ],
   "source": [
    "cvres = grid_search.cv_results_\n",
    "for mean_score, params in zip(cvres[\"mean_test_score\"], cvres[\"params\"]):\n",
    "    print(np.sqrt(-mean_score), params)"
   ]
  },
  {
   "cell_type": "code",
   "execution_count": 211,
   "id": "be76aa6a-5ccc-4630-b469-0c15726bd66e",
   "metadata": {},
   "outputs": [
    {
     "data": {
      "text/html": [
       "<div>\n",
       "<style scoped>\n",
       "    .dataframe tbody tr th:only-of-type {\n",
       "        vertical-align: middle;\n",
       "    }\n",
       "\n",
       "    .dataframe tbody tr th {\n",
       "        vertical-align: top;\n",
       "    }\n",
       "\n",
       "    .dataframe thead th {\n",
       "        text-align: right;\n",
       "    }\n",
       "</style>\n",
       "<table border=\"1\" class=\"dataframe\">\n",
       "  <thead>\n",
       "    <tr style=\"text-align: right;\">\n",
       "      <th></th>\n",
       "      <th>mean_fit_time</th>\n",
       "      <th>std_fit_time</th>\n",
       "      <th>mean_score_time</th>\n",
       "      <th>std_score_time</th>\n",
       "      <th>param_max_features</th>\n",
       "      <th>param_n_estimators</th>\n",
       "      <th>param_bootstrap</th>\n",
       "      <th>params</th>\n",
       "      <th>split0_test_score</th>\n",
       "      <th>split1_test_score</th>\n",
       "      <th>...</th>\n",
       "      <th>mean_test_score</th>\n",
       "      <th>std_test_score</th>\n",
       "      <th>rank_test_score</th>\n",
       "      <th>split0_train_score</th>\n",
       "      <th>split1_train_score</th>\n",
       "      <th>split2_train_score</th>\n",
       "      <th>split3_train_score</th>\n",
       "      <th>split4_train_score</th>\n",
       "      <th>mean_train_score</th>\n",
       "      <th>std_train_score</th>\n",
       "    </tr>\n",
       "  </thead>\n",
       "  <tbody>\n",
       "    <tr>\n",
       "      <th>0</th>\n",
       "      <td>0.092903</td>\n",
       "      <td>0.001651</td>\n",
       "      <td>0.000000</td>\n",
       "      <td>0.000000</td>\n",
       "      <td>2</td>\n",
       "      <td>3</td>\n",
       "      <td>NaN</td>\n",
       "      <td>{'max_features': 2, 'n_estimators': 3}</td>\n",
       "      <td>-18.282785</td>\n",
       "      <td>-14.016698</td>\n",
       "      <td>...</td>\n",
       "      <td>-15.641777</td>\n",
       "      <td>4.396532</td>\n",
       "      <td>18</td>\n",
       "      <td>-4.039710e+00</td>\n",
       "      <td>-4.529515e+00</td>\n",
       "      <td>-5.163482e+00</td>\n",
       "      <td>-4.696857e+00</td>\n",
       "      <td>-3.928345e+00</td>\n",
       "      <td>-4.471582e+00</td>\n",
       "      <td>4.504335e-01</td>\n",
       "    </tr>\n",
       "    <tr>\n",
       "      <th>1</th>\n",
       "      <td>0.293841</td>\n",
       "      <td>0.006345</td>\n",
       "      <td>0.009371</td>\n",
       "      <td>0.007651</td>\n",
       "      <td>2</td>\n",
       "      <td>10</td>\n",
       "      <td>NaN</td>\n",
       "      <td>{'max_features': 2, 'n_estimators': 10}</td>\n",
       "      <td>-14.584313</td>\n",
       "      <td>-10.242869</td>\n",
       "      <td>...</td>\n",
       "      <td>-12.604698</td>\n",
       "      <td>4.754692</td>\n",
       "      <td>11</td>\n",
       "      <td>-2.272812e+00</td>\n",
       "      <td>-2.182756e+00</td>\n",
       "      <td>-2.255717e+00</td>\n",
       "      <td>-2.334764e+00</td>\n",
       "      <td>-1.705559e+00</td>\n",
       "      <td>-2.150321e+00</td>\n",
       "      <td>2.275947e-01</td>\n",
       "    </tr>\n",
       "    <tr>\n",
       "      <th>2</th>\n",
       "      <td>0.956226</td>\n",
       "      <td>0.103045</td>\n",
       "      <td>0.012381</td>\n",
       "      <td>0.003593</td>\n",
       "      <td>2</td>\n",
       "      <td>30</td>\n",
       "      <td>NaN</td>\n",
       "      <td>{'max_features': 2, 'n_estimators': 30}</td>\n",
       "      <td>-11.488914</td>\n",
       "      <td>-9.785725</td>\n",
       "      <td>...</td>\n",
       "      <td>-11.029542</td>\n",
       "      <td>4.007941</td>\n",
       "      <td>8</td>\n",
       "      <td>-1.702270e+00</td>\n",
       "      <td>-1.737744e+00</td>\n",
       "      <td>-1.775859e+00</td>\n",
       "      <td>-1.786189e+00</td>\n",
       "      <td>-1.236919e+00</td>\n",
       "      <td>-1.647796e+00</td>\n",
       "      <td>2.075721e-01</td>\n",
       "    </tr>\n",
       "    <tr>\n",
       "      <th>3</th>\n",
       "      <td>0.104707</td>\n",
       "      <td>0.003201</td>\n",
       "      <td>0.001013</td>\n",
       "      <td>0.002027</td>\n",
       "      <td>4</td>\n",
       "      <td>3</td>\n",
       "      <td>NaN</td>\n",
       "      <td>{'max_features': 4, 'n_estimators': 3}</td>\n",
       "      <td>-12.007887</td>\n",
       "      <td>-12.299264</td>\n",
       "      <td>...</td>\n",
       "      <td>-14.504724</td>\n",
       "      <td>5.157645</td>\n",
       "      <td>16</td>\n",
       "      <td>-2.684440e+00</td>\n",
       "      <td>-4.689310e+00</td>\n",
       "      <td>-4.049058e+00</td>\n",
       "      <td>-4.757658e+00</td>\n",
       "      <td>-3.920795e+00</td>\n",
       "      <td>-4.020252e+00</td>\n",
       "      <td>7.465282e-01</td>\n",
       "    </tr>\n",
       "    <tr>\n",
       "      <th>4</th>\n",
       "      <td>0.344100</td>\n",
       "      <td>0.005816</td>\n",
       "      <td>0.006247</td>\n",
       "      <td>0.001772</td>\n",
       "      <td>4</td>\n",
       "      <td>10</td>\n",
       "      <td>NaN</td>\n",
       "      <td>{'max_features': 4, 'n_estimators': 10}</td>\n",
       "      <td>-10.180615</td>\n",
       "      <td>-8.432417</td>\n",
       "      <td>...</td>\n",
       "      <td>-11.567912</td>\n",
       "      <td>5.518313</td>\n",
       "      <td>10</td>\n",
       "      <td>-1.649382e+00</td>\n",
       "      <td>-1.884106e+00</td>\n",
       "      <td>-1.851138e+00</td>\n",
       "      <td>-2.078605e+00</td>\n",
       "      <td>-1.637224e+00</td>\n",
       "      <td>-1.820091e+00</td>\n",
       "      <td>1.639959e-01</td>\n",
       "    </tr>\n",
       "    <tr>\n",
       "      <th>5</th>\n",
       "      <td>1.013476</td>\n",
       "      <td>0.010869</td>\n",
       "      <td>0.011040</td>\n",
       "      <td>0.001670</td>\n",
       "      <td>4</td>\n",
       "      <td>30</td>\n",
       "      <td>NaN</td>\n",
       "      <td>{'max_features': 4, 'n_estimators': 30}</td>\n",
       "      <td>-9.091646</td>\n",
       "      <td>-8.335945</td>\n",
       "      <td>...</td>\n",
       "      <td>-9.833235</td>\n",
       "      <td>4.402245</td>\n",
       "      <td>3</td>\n",
       "      <td>-1.427108e+00</td>\n",
       "      <td>-1.483836e+00</td>\n",
       "      <td>-1.514469e+00</td>\n",
       "      <td>-1.610157e+00</td>\n",
       "      <td>-1.092184e+00</td>\n",
       "      <td>-1.425551e+00</td>\n",
       "      <td>1.769286e-01</td>\n",
       "    </tr>\n",
       "    <tr>\n",
       "      <th>6</th>\n",
       "      <td>0.117119</td>\n",
       "      <td>0.002676</td>\n",
       "      <td>0.001627</td>\n",
       "      <td>0.002359</td>\n",
       "      <td>6</td>\n",
       "      <td>3</td>\n",
       "      <td>NaN</td>\n",
       "      <td>{'max_features': 6, 'n_estimators': 3}</td>\n",
       "      <td>-21.433612</td>\n",
       "      <td>-9.861181</td>\n",
       "      <td>...</td>\n",
       "      <td>-13.985048</td>\n",
       "      <td>4.673409</td>\n",
       "      <td>14</td>\n",
       "      <td>-3.086185e+00</td>\n",
       "      <td>-2.449840e+00</td>\n",
       "      <td>-3.483992e+00</td>\n",
       "      <td>-4.478250e+00</td>\n",
       "      <td>-3.399323e+00</td>\n",
       "      <td>-3.379518e+00</td>\n",
       "      <td>6.586141e-01</td>\n",
       "    </tr>\n",
       "    <tr>\n",
       "      <th>7</th>\n",
       "      <td>0.395717</td>\n",
       "      <td>0.003529</td>\n",
       "      <td>0.003536</td>\n",
       "      <td>0.003129</td>\n",
       "      <td>6</td>\n",
       "      <td>10</td>\n",
       "      <td>NaN</td>\n",
       "      <td>{'max_features': 6, 'n_estimators': 10}</td>\n",
       "      <td>-11.741448</td>\n",
       "      <td>-8.215230</td>\n",
       "      <td>...</td>\n",
       "      <td>-10.203245</td>\n",
       "      <td>3.707040</td>\n",
       "      <td>4</td>\n",
       "      <td>-1.519666e+00</td>\n",
       "      <td>-1.483447e+00</td>\n",
       "      <td>-1.690973e+00</td>\n",
       "      <td>-1.764542e+00</td>\n",
       "      <td>-1.459749e+00</td>\n",
       "      <td>-1.583675e+00</td>\n",
       "      <td>1.214299e-01</td>\n",
       "    </tr>\n",
       "    <tr>\n",
       "      <th>8</th>\n",
       "      <td>1.209379</td>\n",
       "      <td>0.059710</td>\n",
       "      <td>0.013100</td>\n",
       "      <td>0.003311</td>\n",
       "      <td>6</td>\n",
       "      <td>30</td>\n",
       "      <td>NaN</td>\n",
       "      <td>{'max_features': 6, 'n_estimators': 30}</td>\n",
       "      <td>-8.669848</td>\n",
       "      <td>-7.572813</td>\n",
       "      <td>...</td>\n",
       "      <td>-9.053073</td>\n",
       "      <td>4.101834</td>\n",
       "      <td>2</td>\n",
       "      <td>-1.404523e+00</td>\n",
       "      <td>-1.381520e+00</td>\n",
       "      <td>-1.379638e+00</td>\n",
       "      <td>-1.327520e+00</td>\n",
       "      <td>-9.393692e-01</td>\n",
       "      <td>-1.286514e+00</td>\n",
       "      <td>1.753940e-01</td>\n",
       "    </tr>\n",
       "    <tr>\n",
       "      <th>9</th>\n",
       "      <td>0.134330</td>\n",
       "      <td>0.007640</td>\n",
       "      <td>0.003124</td>\n",
       "      <td>0.006248</td>\n",
       "      <td>8</td>\n",
       "      <td>3</td>\n",
       "      <td>NaN</td>\n",
       "      <td>{'max_features': 8, 'n_estimators': 3}</td>\n",
       "      <td>-13.330777</td>\n",
       "      <td>-12.001977</td>\n",
       "      <td>...</td>\n",
       "      <td>-12.659482</td>\n",
       "      <td>4.149657</td>\n",
       "      <td>12</td>\n",
       "      <td>-2.734237e+00</td>\n",
       "      <td>-3.622687e+00</td>\n",
       "      <td>-2.778866e+00</td>\n",
       "      <td>-3.546808e+00</td>\n",
       "      <td>-3.469925e+00</td>\n",
       "      <td>-3.230505e+00</td>\n",
       "      <td>3.902399e-01</td>\n",
       "    </tr>\n",
       "    <tr>\n",
       "      <th>10</th>\n",
       "      <td>0.448618</td>\n",
       "      <td>0.005976</td>\n",
       "      <td>0.003119</td>\n",
       "      <td>0.006239</td>\n",
       "      <td>8</td>\n",
       "      <td>10</td>\n",
       "      <td>NaN</td>\n",
       "      <td>{'max_features': 8, 'n_estimators': 10}</td>\n",
       "      <td>-10.900068</td>\n",
       "      <td>-8.141246</td>\n",
       "      <td>...</td>\n",
       "      <td>-10.221168</td>\n",
       "      <td>4.785066</td>\n",
       "      <td>5</td>\n",
       "      <td>-1.395936e+00</td>\n",
       "      <td>-1.669759e+00</td>\n",
       "      <td>-1.658559e+00</td>\n",
       "      <td>-1.490354e+00</td>\n",
       "      <td>-1.419783e+00</td>\n",
       "      <td>-1.526878e+00</td>\n",
       "      <td>1.163649e-01</td>\n",
       "    </tr>\n",
       "    <tr>\n",
       "      <th>11</th>\n",
       "      <td>1.321755</td>\n",
       "      <td>0.012335</td>\n",
       "      <td>0.009370</td>\n",
       "      <td>0.007651</td>\n",
       "      <td>8</td>\n",
       "      <td>30</td>\n",
       "      <td>NaN</td>\n",
       "      <td>{'max_features': 8, 'n_estimators': 30}</td>\n",
       "      <td>-9.310396</td>\n",
       "      <td>-7.020724</td>\n",
       "      <td>...</td>\n",
       "      <td>-8.676162</td>\n",
       "      <td>3.700551</td>\n",
       "      <td>1</td>\n",
       "      <td>-1.301189e+00</td>\n",
       "      <td>-1.302150e+00</td>\n",
       "      <td>-1.295490e+00</td>\n",
       "      <td>-1.347885e+00</td>\n",
       "      <td>-8.951500e-01</td>\n",
       "      <td>-1.228373e+00</td>\n",
       "      <td>1.676727e-01</td>\n",
       "    </tr>\n",
       "    <tr>\n",
       "      <th>12</th>\n",
       "      <td>0.130988</td>\n",
       "      <td>0.007391</td>\n",
       "      <td>0.006250</td>\n",
       "      <td>0.007654</td>\n",
       "      <td>2</td>\n",
       "      <td>3</td>\n",
       "      <td>False</td>\n",
       "      <td>{'bootstrap': False, 'max_features': 2, 'n_est...</td>\n",
       "      <td>-13.607681</td>\n",
       "      <td>-11.078687</td>\n",
       "      <td>...</td>\n",
       "      <td>-14.850870</td>\n",
       "      <td>5.056635</td>\n",
       "      <td>17</td>\n",
       "      <td>-7.727539e-32</td>\n",
       "      <td>-7.965211e-32</td>\n",
       "      <td>-7.531610e-32</td>\n",
       "      <td>-7.074782e-32</td>\n",
       "      <td>-8.069103e-32</td>\n",
       "      <td>-7.673649e-32</td>\n",
       "      <td>3.530192e-33</td>\n",
       "    </tr>\n",
       "    <tr>\n",
       "      <th>13</th>\n",
       "      <td>0.451219</td>\n",
       "      <td>0.017463</td>\n",
       "      <td>0.004123</td>\n",
       "      <td>0.006057</td>\n",
       "      <td>2</td>\n",
       "      <td>10</td>\n",
       "      <td>False</td>\n",
       "      <td>{'bootstrap': False, 'max_features': 2, 'n_est...</td>\n",
       "      <td>-11.671582</td>\n",
       "      <td>-9.674802</td>\n",
       "      <td>...</td>\n",
       "      <td>-11.514182</td>\n",
       "      <td>4.066740</td>\n",
       "      <td>9</td>\n",
       "      <td>-5.336609e-31</td>\n",
       "      <td>-5.425573e-31</td>\n",
       "      <td>-5.204823e-31</td>\n",
       "      <td>-5.444634e-31</td>\n",
       "      <td>-5.386089e-31</td>\n",
       "      <td>-5.359546e-31</td>\n",
       "      <td>8.575460e-33</td>\n",
       "    </tr>\n",
       "    <tr>\n",
       "      <th>14</th>\n",
       "      <td>0.166270</td>\n",
       "      <td>0.015359</td>\n",
       "      <td>0.009365</td>\n",
       "      <td>0.007647</td>\n",
       "      <td>3</td>\n",
       "      <td>3</td>\n",
       "      <td>False</td>\n",
       "      <td>{'bootstrap': False, 'max_features': 3, 'n_est...</td>\n",
       "      <td>-14.262123</td>\n",
       "      <td>-12.237324</td>\n",
       "      <td>...</td>\n",
       "      <td>-14.092900</td>\n",
       "      <td>3.655785</td>\n",
       "      <td>15</td>\n",
       "      <td>-7.727539e-32</td>\n",
       "      <td>-7.965211e-32</td>\n",
       "      <td>-7.531610e-32</td>\n",
       "      <td>-7.074782e-32</td>\n",
       "      <td>-8.069103e-32</td>\n",
       "      <td>-7.673649e-32</td>\n",
       "      <td>3.530192e-33</td>\n",
       "    </tr>\n",
       "    <tr>\n",
       "      <th>15</th>\n",
       "      <td>0.478932</td>\n",
       "      <td>0.041597</td>\n",
       "      <td>0.009368</td>\n",
       "      <td>0.007649</td>\n",
       "      <td>3</td>\n",
       "      <td>10</td>\n",
       "      <td>False</td>\n",
       "      <td>{'bootstrap': False, 'max_features': 3, 'n_est...</td>\n",
       "      <td>-11.311552</td>\n",
       "      <td>-9.193411</td>\n",
       "      <td>...</td>\n",
       "      <td>-10.688417</td>\n",
       "      <td>4.179294</td>\n",
       "      <td>6</td>\n",
       "      <td>-5.336609e-31</td>\n",
       "      <td>-6.229812e-15</td>\n",
       "      <td>-5.204823e-31</td>\n",
       "      <td>-5.444634e-31</td>\n",
       "      <td>-5.386089e-31</td>\n",
       "      <td>-1.245962e-15</td>\n",
       "      <td>2.491925e-15</td>\n",
       "    </tr>\n",
       "    <tr>\n",
       "      <th>16</th>\n",
       "      <td>0.151940</td>\n",
       "      <td>0.006096</td>\n",
       "      <td>0.003125</td>\n",
       "      <td>0.006250</td>\n",
       "      <td>4</td>\n",
       "      <td>3</td>\n",
       "      <td>False</td>\n",
       "      <td>{'bootstrap': False, 'max_features': 4, 'n_est...</td>\n",
       "      <td>-13.709102</td>\n",
       "      <td>-9.950123</td>\n",
       "      <td>...</td>\n",
       "      <td>-13.550389</td>\n",
       "      <td>4.967886</td>\n",
       "      <td>13</td>\n",
       "      <td>-7.727539e-32</td>\n",
       "      <td>-7.965211e-32</td>\n",
       "      <td>-7.531610e-32</td>\n",
       "      <td>-7.074782e-32</td>\n",
       "      <td>-8.069103e-32</td>\n",
       "      <td>-7.673649e-32</td>\n",
       "      <td>3.530192e-33</td>\n",
       "    </tr>\n",
       "    <tr>\n",
       "      <th>17</th>\n",
       "      <td>0.508794</td>\n",
       "      <td>0.007352</td>\n",
       "      <td>0.004123</td>\n",
       "      <td>0.006069</td>\n",
       "      <td>4</td>\n",
       "      <td>10</td>\n",
       "      <td>False</td>\n",
       "      <td>{'bootstrap': False, 'max_features': 4, 'n_est...</td>\n",
       "      <td>-10.463844</td>\n",
       "      <td>-9.054766</td>\n",
       "      <td>...</td>\n",
       "      <td>-10.944768</td>\n",
       "      <td>5.112436</td>\n",
       "      <td>7</td>\n",
       "      <td>-5.336609e-31</td>\n",
       "      <td>-2.740058e-22</td>\n",
       "      <td>-5.204823e-31</td>\n",
       "      <td>-5.444634e-31</td>\n",
       "      <td>-5.386089e-31</td>\n",
       "      <td>-5.480115e-23</td>\n",
       "      <td>1.096023e-22</td>\n",
       "    </tr>\n",
       "  </tbody>\n",
       "</table>\n",
       "<p>18 rows × 23 columns</p>\n",
       "</div>"
      ],
      "text/plain": [
       "    mean_fit_time  std_fit_time  mean_score_time  std_score_time  \\\n",
       "0        0.092903      0.001651         0.000000        0.000000   \n",
       "1        0.293841      0.006345         0.009371        0.007651   \n",
       "2        0.956226      0.103045         0.012381        0.003593   \n",
       "3        0.104707      0.003201         0.001013        0.002027   \n",
       "4        0.344100      0.005816         0.006247        0.001772   \n",
       "5        1.013476      0.010869         0.011040        0.001670   \n",
       "6        0.117119      0.002676         0.001627        0.002359   \n",
       "7        0.395717      0.003529         0.003536        0.003129   \n",
       "8        1.209379      0.059710         0.013100        0.003311   \n",
       "9        0.134330      0.007640         0.003124        0.006248   \n",
       "10       0.448618      0.005976         0.003119        0.006239   \n",
       "11       1.321755      0.012335         0.009370        0.007651   \n",
       "12       0.130988      0.007391         0.006250        0.007654   \n",
       "13       0.451219      0.017463         0.004123        0.006057   \n",
       "14       0.166270      0.015359         0.009365        0.007647   \n",
       "15       0.478932      0.041597         0.009368        0.007649   \n",
       "16       0.151940      0.006096         0.003125        0.006250   \n",
       "17       0.508794      0.007352         0.004123        0.006069   \n",
       "\n",
       "   param_max_features param_n_estimators param_bootstrap  \\\n",
       "0                   2                  3             NaN   \n",
       "1                   2                 10             NaN   \n",
       "2                   2                 30             NaN   \n",
       "3                   4                  3             NaN   \n",
       "4                   4                 10             NaN   \n",
       "5                   4                 30             NaN   \n",
       "6                   6                  3             NaN   \n",
       "7                   6                 10             NaN   \n",
       "8                   6                 30             NaN   \n",
       "9                   8                  3             NaN   \n",
       "10                  8                 10             NaN   \n",
       "11                  8                 30             NaN   \n",
       "12                  2                  3           False   \n",
       "13                  2                 10           False   \n",
       "14                  3                  3           False   \n",
       "15                  3                 10           False   \n",
       "16                  4                  3           False   \n",
       "17                  4                 10           False   \n",
       "\n",
       "                                               params  split0_test_score  \\\n",
       "0              {'max_features': 2, 'n_estimators': 3}         -18.282785   \n",
       "1             {'max_features': 2, 'n_estimators': 10}         -14.584313   \n",
       "2             {'max_features': 2, 'n_estimators': 30}         -11.488914   \n",
       "3              {'max_features': 4, 'n_estimators': 3}         -12.007887   \n",
       "4             {'max_features': 4, 'n_estimators': 10}         -10.180615   \n",
       "5             {'max_features': 4, 'n_estimators': 30}          -9.091646   \n",
       "6              {'max_features': 6, 'n_estimators': 3}         -21.433612   \n",
       "7             {'max_features': 6, 'n_estimators': 10}         -11.741448   \n",
       "8             {'max_features': 6, 'n_estimators': 30}          -8.669848   \n",
       "9              {'max_features': 8, 'n_estimators': 3}         -13.330777   \n",
       "10            {'max_features': 8, 'n_estimators': 10}         -10.900068   \n",
       "11            {'max_features': 8, 'n_estimators': 30}          -9.310396   \n",
       "12  {'bootstrap': False, 'max_features': 2, 'n_est...         -13.607681   \n",
       "13  {'bootstrap': False, 'max_features': 2, 'n_est...         -11.671582   \n",
       "14  {'bootstrap': False, 'max_features': 3, 'n_est...         -14.262123   \n",
       "15  {'bootstrap': False, 'max_features': 3, 'n_est...         -11.311552   \n",
       "16  {'bootstrap': False, 'max_features': 4, 'n_est...         -13.709102   \n",
       "17  {'bootstrap': False, 'max_features': 4, 'n_est...         -10.463844   \n",
       "\n",
       "    split1_test_score  ...  mean_test_score  std_test_score  rank_test_score  \\\n",
       "0          -14.016698  ...       -15.641777        4.396532               18   \n",
       "1          -10.242869  ...       -12.604698        4.754692               11   \n",
       "2           -9.785725  ...       -11.029542        4.007941                8   \n",
       "3          -12.299264  ...       -14.504724        5.157645               16   \n",
       "4           -8.432417  ...       -11.567912        5.518313               10   \n",
       "5           -8.335945  ...        -9.833235        4.402245                3   \n",
       "6           -9.861181  ...       -13.985048        4.673409               14   \n",
       "7           -8.215230  ...       -10.203245        3.707040                4   \n",
       "8           -7.572813  ...        -9.053073        4.101834                2   \n",
       "9          -12.001977  ...       -12.659482        4.149657               12   \n",
       "10          -8.141246  ...       -10.221168        4.785066                5   \n",
       "11          -7.020724  ...        -8.676162        3.700551                1   \n",
       "12         -11.078687  ...       -14.850870        5.056635               17   \n",
       "13          -9.674802  ...       -11.514182        4.066740                9   \n",
       "14         -12.237324  ...       -14.092900        3.655785               15   \n",
       "15          -9.193411  ...       -10.688417        4.179294                6   \n",
       "16          -9.950123  ...       -13.550389        4.967886               13   \n",
       "17          -9.054766  ...       -10.944768        5.112436                7   \n",
       "\n",
       "    split0_train_score  split1_train_score  split2_train_score  \\\n",
       "0        -4.039710e+00       -4.529515e+00       -5.163482e+00   \n",
       "1        -2.272812e+00       -2.182756e+00       -2.255717e+00   \n",
       "2        -1.702270e+00       -1.737744e+00       -1.775859e+00   \n",
       "3        -2.684440e+00       -4.689310e+00       -4.049058e+00   \n",
       "4        -1.649382e+00       -1.884106e+00       -1.851138e+00   \n",
       "5        -1.427108e+00       -1.483836e+00       -1.514469e+00   \n",
       "6        -3.086185e+00       -2.449840e+00       -3.483992e+00   \n",
       "7        -1.519666e+00       -1.483447e+00       -1.690973e+00   \n",
       "8        -1.404523e+00       -1.381520e+00       -1.379638e+00   \n",
       "9        -2.734237e+00       -3.622687e+00       -2.778866e+00   \n",
       "10       -1.395936e+00       -1.669759e+00       -1.658559e+00   \n",
       "11       -1.301189e+00       -1.302150e+00       -1.295490e+00   \n",
       "12       -7.727539e-32       -7.965211e-32       -7.531610e-32   \n",
       "13       -5.336609e-31       -5.425573e-31       -5.204823e-31   \n",
       "14       -7.727539e-32       -7.965211e-32       -7.531610e-32   \n",
       "15       -5.336609e-31       -6.229812e-15       -5.204823e-31   \n",
       "16       -7.727539e-32       -7.965211e-32       -7.531610e-32   \n",
       "17       -5.336609e-31       -2.740058e-22       -5.204823e-31   \n",
       "\n",
       "    split3_train_score  split4_train_score  mean_train_score  std_train_score  \n",
       "0        -4.696857e+00       -3.928345e+00     -4.471582e+00     4.504335e-01  \n",
       "1        -2.334764e+00       -1.705559e+00     -2.150321e+00     2.275947e-01  \n",
       "2        -1.786189e+00       -1.236919e+00     -1.647796e+00     2.075721e-01  \n",
       "3        -4.757658e+00       -3.920795e+00     -4.020252e+00     7.465282e-01  \n",
       "4        -2.078605e+00       -1.637224e+00     -1.820091e+00     1.639959e-01  \n",
       "5        -1.610157e+00       -1.092184e+00     -1.425551e+00     1.769286e-01  \n",
       "6        -4.478250e+00       -3.399323e+00     -3.379518e+00     6.586141e-01  \n",
       "7        -1.764542e+00       -1.459749e+00     -1.583675e+00     1.214299e-01  \n",
       "8        -1.327520e+00       -9.393692e-01     -1.286514e+00     1.753940e-01  \n",
       "9        -3.546808e+00       -3.469925e+00     -3.230505e+00     3.902399e-01  \n",
       "10       -1.490354e+00       -1.419783e+00     -1.526878e+00     1.163649e-01  \n",
       "11       -1.347885e+00       -8.951500e-01     -1.228373e+00     1.676727e-01  \n",
       "12       -7.074782e-32       -8.069103e-32     -7.673649e-32     3.530192e-33  \n",
       "13       -5.444634e-31       -5.386089e-31     -5.359546e-31     8.575460e-33  \n",
       "14       -7.074782e-32       -8.069103e-32     -7.673649e-32     3.530192e-33  \n",
       "15       -5.444634e-31       -5.386089e-31     -1.245962e-15     2.491925e-15  \n",
       "16       -7.074782e-32       -8.069103e-32     -7.673649e-32     3.530192e-33  \n",
       "17       -5.444634e-31       -5.386089e-31     -5.480115e-23     1.096023e-22  \n",
       "\n",
       "[18 rows x 23 columns]"
      ]
     },
     "execution_count": 211,
     "metadata": {},
     "output_type": "execute_result"
    }
   ],
   "source": [
    "pd.DataFrame(grid_search.cv_results_)"
   ]
  },
  {
   "cell_type": "code",
   "execution_count": 212,
   "id": "16091240-f3bd-4e8d-8085-e7ac2e50755e",
   "metadata": {},
   "outputs": [
    {
     "data": {
      "text/plain": [
       "RandomizedSearchCV(cv=5, estimator=RandomForestRegressor(random_state=42),\n",
       "                   param_distributions={'max_features': <scipy.stats._distn_infrastructure.rv_frozen object at 0x000001A5C4F288E0>,\n",
       "                                        'n_estimators': <scipy.stats._distn_infrastructure.rv_frozen object at 0x000001A5C4F28CA0>},\n",
       "                   random_state=42, scoring='neg_mean_squared_error')"
      ]
     },
     "execution_count": 212,
     "metadata": {},
     "output_type": "execute_result"
    }
   ],
   "source": [
    "from sklearn.model_selection import RandomizedSearchCV\n",
    "from scipy.stats import randint\n",
    "\n",
    "param_distribs = {\n",
    "        'n_estimators': randint(low=1, high=200),\n",
    "        'max_features': randint(low=1, high=8),\n",
    "    }\n",
    "\n",
    "forest_reg = RandomForestRegressor(random_state=42)\n",
    "rnd_search = RandomizedSearchCV(forest_reg, param_distributions=param_distribs,\n",
    "                                n_iter=10, cv=5, scoring='neg_mean_squared_error', random_state=42)\n",
    "rnd_search.fit(housing_prepared, housing_labels)"
   ]
  },
  {
   "cell_type": "code",
   "execution_count": 213,
   "id": "76b174a2-e909-4227-b853-30080c25943b",
   "metadata": {},
   "outputs": [
    {
     "name": "stdout",
     "output_type": "stream",
     "text": [
      "2.9598763165052597 {'max_features': 7, 'n_estimators': 180}\n",
      "3.263741605848712 {'max_features': 5, 'n_estimators': 15}\n",
      "3.1993809796835517 {'max_features': 3, 'n_estimators': 72}\n",
      "3.264267293679797 {'max_features': 5, 'n_estimators': 21}\n",
      "2.9591995838687026 {'max_features': 7, 'n_estimators': 122}\n",
      "3.1894655561124345 {'max_features': 3, 'n_estimators': 75}\n",
      "3.1945424766610047 {'max_features': 3, 'n_estimators': 88}\n",
      "3.1063338003433083 {'max_features': 5, 'n_estimators': 100}\n",
      "3.185731553941563 {'max_features': 3, 'n_estimators': 150}\n",
      "3.889605570069771 {'max_features': 5, 'n_estimators': 2}\n"
     ]
    }
   ],
   "source": [
    "cvres = rnd_search.cv_results_\n",
    "for mean_score, params in zip(cvres[\"mean_test_score\"], cvres[\"params\"]):\n",
    "    print(np.sqrt(-mean_score), params)"
   ]
  },
  {
   "cell_type": "code",
   "execution_count": 214,
   "id": "737f4bf9-86de-4c77-a7fd-978883c7ddb2",
   "metadata": {},
   "outputs": [
    {
     "data": {
      "text/plain": [
       "array([0.11450387, 0.06047129, 0.04127304, 0.13677855, 0.0515286 ,\n",
       "       0.04510001, 0.06822401, 0.00155013, 0.00161397, 0.00254762,\n",
       "       0.0020714 , 0.00160287, 0.00145329, 0.00080386, 0.00109927,\n",
       "       0.01841895, 0.00252103, 0.01335326, 0.00205539, 0.00294185,\n",
       "       0.00340676, 0.00874582, 0.0051212 , 0.001517  , 0.00184124,\n",
       "       0.00319131, 0.00216408, 0.00473274, 0.00141411, 0.01008027,\n",
       "       0.00253252, 0.00410382, 0.00786521, 0.01181331, 0.00335508,\n",
       "       0.00349224, 0.02314739, 0.00585094, 0.00281375, 0.0038975 ,\n",
       "       0.00192675, 0.00063284, 0.00431649, 0.0050072 , 0.00059191,\n",
       "       0.00671255, 0.00061373, 0.00120708, 0.01283935, 0.0023064 ,\n",
       "       0.00718286, 0.02391782, 0.00725923, 0.00031839, 0.00062866,\n",
       "       0.00022756, 0.00497341, 0.0047722 , 0.00085883, 0.0013894 ,\n",
       "       0.00873117, 0.01832412, 0.00055903, 0.000464  , 0.00105961,\n",
       "       0.0007718 , 0.02767648, 0.00600432, 0.00674757, 0.00692406,\n",
       "       0.02651129, 0.0207597 , 0.10678562])"
      ]
     },
     "execution_count": 214,
     "metadata": {},
     "output_type": "execute_result"
    }
   ],
   "source": [
    "feature_importances = grid_search.best_estimator_.feature_importances_\n",
    "feature_importances"
   ]
  },
  {
   "cell_type": "code",
   "execution_count": 215,
   "id": "0ac502fe-7c69-4957-a31b-50d2c1a9b858",
   "metadata": {},
   "outputs": [
    {
     "data": {
      "text/plain": [
       "[(0.13677854888789823, 'Estimated revenue (MX$)'),\n",
       " (0.11450387051048343, 'Ad requests'),\n",
       " (0.06822401393657035, 'Active view measured impressions'),\n",
       " (0.06047128543620984, 'Matched requests'),\n",
       " (0.05152860288367987, 'Ad impressions'),\n",
       " (0.04510000514717698, 'Active view enabled impressions'),\n",
       " (0.041273040127835205, 'Clicks'),\n",
       " (0.018418953181937172, '01/05/2021'),\n",
       " (0.01335325998144186, '01/06/2021'),\n",
       " (0.010080268253657439, '01/11/2021'),\n",
       " (0.008745821987547057, '01/08/2020'),\n",
       " (0.005121204264607318, '01/08/2021'),\n",
       " (0.004732737753865308, '01/10/2021'),\n",
       " (0.004103823891929806, '01/12/2021'),\n",
       " (0.003406760642633398, '01/07/2022'),\n",
       " (0.003191306909332542, '01/09/2021'),\n",
       " (0.0029418465786930103, '01/07/2021'),\n",
       " (0.0025476215537372894, '01/02/2021'),\n",
       " (0.002532518636088335, '01/12/2020'),\n",
       " (0.0025210315023515575, '01/05/2022'),\n",
       " (0.0021640831760948343, '01/10/2020'),\n",
       " (0.0020713971426513404, '01/02/2022'),\n",
       " (0.0020553923330875546, '01/06/2022'),\n",
       " (0.001841244246733264, '01/09/2020'),\n",
       " (0.0016139723519236432, '01/01/2022'),\n",
       " (0.001602870987626055, '01/03/2021'),\n",
       " (0.0015501327428374407, '01/01/2021'),\n",
       " (0.00151699784122005, '01/08/2022'),\n",
       " (0.0014532885838351361, '01/03/2022'),\n",
       " (0.001414106637933821, '01/11/2020'),\n",
       " (0.001099273661981819, '01/04/2022'),\n",
       " (0.0008038630633131336, '01/04/2021')]"
      ]
     },
     "execution_count": 215,
     "metadata": {},
     "output_type": "execute_result"
    }
   ],
   "source": [
    "#extra_attribs = [\"rooms_per_hhold\", \"pop_per_hhold\", \"bedrooms_per_room\"]\n",
    "#cat_encoder = cat_pipeline.named_steps[\"cat_encoder\"] # old solution\n",
    "cat_encoder = full_pipeline.named_transformers_[\"cat\"]\n",
    "cat_one_hot_attribs = list(cat_encoder.categories_[0])\n",
    "attributes = num_attribs + cat_one_hot_attribs\n",
    "#attributes = num_attribs + extra_attribs + cat_one_hot_attribs\n",
    "sorted(zip(feature_importances, attributes), reverse=True)"
   ]
  },
  {
   "cell_type": "code",
   "execution_count": 235,
   "id": "2f22d7df-a607-426f-be26-9b4a7bb726ae",
   "metadata": {
    "tags": []
   },
   "outputs": [],
   "source": [
    "final_model = grid_search.best_estimator_\n",
    "\n",
    "strat_test_set = strat_test_set[strat_test_set['Position Ad Unit'] != '180 » s180']\n",
    "X_test = strat_test_set.drop(\"rCPM\", axis=1)\n",
    "y_test = strat_test_set[\"rCPM\"].copy()"
   ]
  },
  {
   "cell_type": "code",
   "execution_count": 236,
   "id": "b5a98924-9a4a-4ee1-88cf-711efb203c2c",
   "metadata": {},
   "outputs": [],
   "source": [
    "X_test_prepared = full_pipeline.transform(X_test)\n",
    "final_predictions = final_model.predict(X_test_prepared)"
   ]
  },
  {
   "cell_type": "code",
   "execution_count": 237,
   "id": "07e24b5d-7d09-4e4b-8a4e-77d1c314083e",
   "metadata": {},
   "outputs": [],
   "source": [
    "final_mse = mean_squared_error(y_test, final_predictions)\n",
    "final_rmse = np.sqrt(final_mse)"
   ]
  },
  {
   "cell_type": "code",
   "execution_count": 238,
   "id": "51fcc695-51cc-4642-b379-8ed41b9ee9e8",
   "metadata": {},
   "outputs": [
    {
     "data": {
      "text/plain": [
       "4.200600762941835"
      ]
     },
     "execution_count": 238,
     "metadata": {},
     "output_type": "execute_result"
    }
   ],
   "source": [
    "final_rmse"
   ]
  },
  {
   "cell_type": "code",
   "execution_count": 239,
   "id": "a655a403-5f30-4ba9-a12a-f95cc2120df2",
   "metadata": {},
   "outputs": [],
   "source": [
    "from scipy import stats"
   ]
  },
  {
   "cell_type": "code",
   "execution_count": 240,
   "id": "1205c8bb-d5ac-48d0-becc-bbc5e16d160f",
   "metadata": {},
   "outputs": [
    {
     "name": "stderr",
     "output_type": "stream",
     "text": [
      "C:\\Users\\Aaron\\AppData\\Local\\Temp\\ipykernel_17656\\2583762534.py:6: RuntimeWarning: invalid value encountered in sqrt\n",
      "  np.sqrt(stats.t.interval(confidence, m - 1,\n"
     ]
    },
    {
     "data": {
      "text/plain": [
       "array([       nan, 6.48316687])"
      ]
     },
     "execution_count": 240,
     "metadata": {},
     "output_type": "execute_result"
    }
   ],
   "source": [
    "confidence = 0.95\n",
    "squared_errors = (final_predictions - y_test) ** 2\n",
    "mean = squared_errors.mean()\n",
    "m = len(squared_errors)\n",
    "\n",
    "np.sqrt(stats.t.interval(confidence, m - 1,\n",
    "                         loc=np.mean(squared_errors),\n",
    "                         scale=stats.sem(squared_errors)))"
   ]
  },
  {
   "cell_type": "code",
   "execution_count": 241,
   "id": "fecf4405-e302-49cf-8597-afbd89021bdd",
   "metadata": {},
   "outputs": [
    {
     "data": {
      "text/plain": [
       "(-6.741359130559328, 42.031452669814385)"
      ]
     },
     "execution_count": 241,
     "metadata": {},
     "output_type": "execute_result"
    }
   ],
   "source": [
    "stats.t.interval(confidence, m - 1,\n",
    "                         loc=np.mean(squared_errors),\n",
    "                         scale=stats.sem(squared_errors))"
   ]
  },
  {
   "cell_type": "code",
   "execution_count": null,
   "id": "2ea40885-d424-4541-920b-8b53c5b828e1",
   "metadata": {},
   "outputs": [],
   "source": []
  }
 ],
 "metadata": {
  "kernelspec": {
   "display_name": "Python 3 (ipykernel)",
   "language": "python",
   "name": "python3"
  },
  "language_info": {
   "codemirror_mode": {
    "name": "ipython",
    "version": 3
   },
   "file_extension": ".py",
   "mimetype": "text/x-python",
   "name": "python",
   "nbconvert_exporter": "python",
   "pygments_lexer": "ipython3",
   "version": "3.9.12"
  }
 },
 "nbformat": 4,
 "nbformat_minor": 5
}
