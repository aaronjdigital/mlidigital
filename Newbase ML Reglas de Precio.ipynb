{
 "cells": [
  {
   "cell_type": "markdown",
   "id": "21f3c937-ebb8-4b34-bbdb-2aab9144e18e",
   "metadata": {},
   "source": [
    "# ML Reglas de Precio"
   ]
  },
  {
   "cell_type": "markdown",
   "id": "b7d46673-566e-4bf5-b036-438a08981f3e",
   "metadata": {},
   "source": [
    "Objetivo: Identificar características importantes para asignación de reglas de precio e incremento de Ingresos (Estimated Revenue)\n",
    "\n",
    "Variables disponibles cualitativas:  \n",
    "    - Día (Day)CONFIGURABLE  \n",
    "    - Día de la semana (Weekday)  \n",
    "    - Sitio (Site) CONFIGURABLE  \n",
    "    - Tamaño de creativo (Creative Size) CONFIGURABLE  \n",
    "    - Dispositivo (Device category) CONFIGURABLE  \n",
    "    - País (Country) CONFIGURABLE  \n",
    "    - Nombre Regla de Precio (pricing rule name)\n",
    "\n",
    "Variables disponibles cuantitativas:  \n",
    "    - Regla de Precio\n",
    "    - Ad Requests.  \n",
    "    - Matched Requests.  \n",
    "    - Clicks.  \n",
    "    - Estimated Revenue  \n",
    "    - Ad Impressions  \n",
    "    - Active View Enabled Impressions  \n",
    "    - Active View measured Impressions  \n",
    "    \n",
    "$$eCPM = \\frac{Ingresos}{Impresiones Vendidas} * 1000$$  \n",
    "$$Fill Rate = \\frac{Impresiones Vendidas}{Oportunidades}$$  \n",
    "$$rCPM = \\frac{Ingresos}{Oportunidades} * 1000 = eCPM * Fill Rate$$  \n",
    "$$Viewability = \\frac{Impresiones Vistas}{Impresiones Disponibles} * 1000$$\n",
    "\n",
    "Target: Maximizar ingresos (revenue)  \n",
    "Inputs: weekday, site, creative_size, device_category, country.  \n",
    "Output: Regla de Precio."
   ]
  },
  {
   "cell_type": "code",
   "execution_count": 406,
   "id": "7d70447c-9bd4-41b9-a471-481592254839",
   "metadata": {},
   "outputs": [],
   "source": [
    "# To support both python 2 and python 3\n",
    "from __future__ import division, print_function, unicode_literals\n",
    "\n",
    "# Common imports\n",
    "import numpy as np\n",
    "import os\n",
    "from collections import Counter\n",
    "from sklearn.pipeline import Pipeline\n",
    "from sklearn.preprocessing import StandardScaler\n",
    "from sklearn.model_selection import StratifiedShuffleSplit\n",
    "from sklearn.preprocessing import PolynomialFeatures\n",
    "from sklearn.metrics import mean_squared_error\n",
    "from sklearn.model_selection import train_test_split\n",
    "from sklearn.base import BaseEstimator, TransformerMixin\n",
    "\n",
    "# to make this notebook's output stable across runs\n",
    "np.random.seed(42)\n",
    "\n",
    "# To plot pretty figures\n",
    "%matplotlib inline\n",
    "import matplotlib as mpl\n",
    "import matplotlib.pyplot as plt\n",
    "mpl.rc('axes', labelsize=14)\n",
    "mpl.rc('xtick', labelsize=12)\n",
    "mpl.rc('ytick', labelsize=12)\n",
    "\n",
    "# Where to save the figures\n",
    "PROJECT_ROOT_DIR = \".\"\n",
    "CHAPTER_ID = \"end_to_end_project\"\n",
    "IMAGES_PATH = os.path.join(PROJECT_ROOT_DIR, \"images\", CHAPTER_ID)\n",
    "os.makedirs(IMAGES_PATH, exist_ok=True)\n",
    "\n",
    "def save_fig(fig_id, tight_layout=True, fig_extension=\"png\", resolution=300):\n",
    "    path = os.path.join(IMAGES_PATH, fig_id + \".\" + fig_extension)\n",
    "    print(\"Saving figure\", fig_id)\n",
    "    if tight_layout:\n",
    "        plt.tight_layout()\n",
    "    plt.savefig(path, format=fig_extension, dpi=resolution)"
   ]
  },
  {
   "cell_type": "code",
   "execution_count": 407,
   "id": "65772025-dd1f-418d-a94e-1ac03c73b4fc",
   "metadata": {},
   "outputs": [],
   "source": [
    "try:\n",
    "    from sklearn.compose import ColumnTransformer\n",
    "except ImportError:\n",
    "    from future_encoders import ColumnTransformer # Scikit-Learn < 0.20\n",
    "    \n",
    "try:\n",
    "    from sklearn.preprocessing import OrdinalEncoder # just to raise an ImportError if Scikit-Learn < 0.20\n",
    "    from sklearn.preprocessing import OneHotEncoder\n",
    "except ImportError:\n",
    "    from future_encoders import OneHotEncoder # Scikit-Learn < 0.20"
   ]
  },
  {
   "cell_type": "code",
   "execution_count": 408,
   "id": "0143d99a-89ee-45fc-8324-8f3abe6ee133",
   "metadata": {},
   "outputs": [],
   "source": [
    "# Función para carga de archivo\n",
    "import os\n",
    "import tarfile\n",
    "import urllib.request\n",
    "import pandas as pd\n",
    "\n",
    "PRULES_PATH = os.path.join(\"datasets\")\n",
    "\n",
    "def load_prules_data(prules_path=PRULES_PATH,filename=\"newbase_pricing_rules_open.csv\"):\n",
    "    csv_path = os.path.join(prules_path, filename)\n",
    "    return pd.read_csv(csv_path)"
   ]
  },
  {
   "cell_type": "markdown",
   "id": "5910c02e-1bc2-4291-9e80-300544c811b0",
   "metadata": {},
   "source": [
    "# Definición de funciones"
   ]
  },
  {
   "cell_type": "code",
   "execution_count": 409,
   "id": "4d0e999c-67ae-4ff7-bb0a-b4bbc2622c80",
   "metadata": {},
   "outputs": [],
   "source": [
    "\n",
    "# Clase para añadir atributos combinados al set\n",
    "\n",
    "class CombinedAttributesAdder(BaseEstimator, TransformerMixin):\n",
    "    def __init__(self): # no *args or **kwargs\n",
    "        self # nothing else to do\n",
    "    def fit(self, X, y=None):\n",
    "        return self  # nothing else to do\n",
    "    def transform(self, X, y=None):\n",
    "        X['rCPM'] = X['revenue']/X['ad_requests']*1000 # Añade rCPM al set\n",
    "        X['FillRate'] = X['ad_impressions']/X['ad_requests'] # Añade FillRate al Set\n",
    "        X['eCPM'] = X['revenue']/X['ad_impressions']*1000 # Añade eCPM al set\n",
    "        return X"
   ]
  },
  {
   "cell_type": "code",
   "execution_count": 410,
   "id": "4bfd79a6-9260-4fd6-a94a-de3336f8a744",
   "metadata": {},
   "outputs": [],
   "source": [
    "\n",
    "# (Estrategia 1) Función para definir si la instancia entrada tiene eCPM superior al eCPM general \n",
    "\n",
    "def categorise(row,dfgb,porc):\n",
    "    cpm_inst = row['eCPM'] # Se obtiene el CPM de la instancia\n",
    "    c_size = row['creative_size'] # Se obtiene el creative_size de la instancia\n",
    "    cpm_pond = (dfgb.loc[c_size]['revenue']/dfgb.loc[c_size]['ad_impressions']*1000) # Se obtiene el CPM general del creative size\n",
    "    \n",
    "    if cpm_inst > cpm_pond*(1+porc): # Se compara cpm de la instancia vs cpm general del creative size\n",
    "        return 1\n",
    "    else:\n",
    "        return 0 "
   ]
  },
  {
   "cell_type": "code",
   "execution_count": 411,
   "id": "d650bd77-3114-44ac-8ac6-ee4ccde56143",
   "metadata": {},
   "outputs": [],
   "source": [
    "\n",
    "# Clase para filtrar instancias que cumplan con CPM superior a la media y fill rate\n",
    "\n",
    "class StrategyCPMSuperior(BaseEstimator, TransformerMixin):\n",
    "    def __init__(self, porc=0, fill_rate=.60, limit_cpm=150): # no *args or **kwargs\n",
    "        self # nothing else to do\n",
    "    def fit(self, X, y=None):\n",
    "        return self  # nothing else to do\n",
    "    def transform(self, X, porc=0, fill_rate=.60, limit_cpm=150):\n",
    "        Xgb = X.groupby('creative_size').sum() # Se crea matriz para cálculo de eCPM general\n",
    "        X['flag_cpm_sup'] = X.apply(lambda row: categorise(row,Xgb,porc), axis=1) # Se añade columna con flag 0-1 para determinar si cumple con criterio\n",
    "        X = X[(X['FillRate']>fill_rate) & ((X['flag_cpm_sup']==1) & (X['eCPM']<limit_cpm))] # Se filtran instancias que cumplan con criterios.\n",
    "        X = X.reset_index(drop = True) # Resetea index para evitar errores posteriormente\n",
    "        return X"
   ]
  },
  {
   "cell_type": "code",
   "execution_count": 256,
   "id": "f4923b59-af05-4982-ab49-5aa7ff2165d1",
   "metadata": {
    "collapsed": true,
    "jupyter": {
     "outputs_hidden": true,
     "source_hidden": true
    },
    "tags": []
   },
   "outputs": [
    {
     "data": {
      "text/plain": [
       "creative_size\n",
       "300x100          157\n",
       "300x250         2559\n",
       "300x600          692\n",
       "320x100          306\n",
       "320x50           226\n",
       "728x90          2998\n",
       "Native            11\n",
       "Sin Posicion    2355\n",
       "Name: pricing_rules, dtype: int64"
      ]
     },
     "execution_count": 256,
     "metadata": {},
     "output_type": "execute_result"
    }
   ],
   "source": [
    "prulesgbcpm = prulescpm.groupby('creative_size').count()\n",
    "prulesgbcpm['pricing_rules'].head(20)"
   ]
  },
  {
   "cell_type": "code",
   "execution_count": 412,
   "id": "058485c1-20e3-453c-bc26-94469ae48812",
   "metadata": {},
   "outputs": [],
   "source": [
    "\n",
    "# (Estrategia 2) Función para definir si la instancia entrada es real_pricing > floor_pricing\n",
    "\n",
    "def categorise_pricing(row,porc):\n",
    "    if row['ad_impressions'] > 0: # Condicional para evitar indeterminación en división de métrica real_pricing\n",
    "        real_pricing = row['revenue']/row['ad_impressions'] # Se obtiene métrica real_pricing\n",
    "        floor_pricing = row['pricing_rules']*row['ad_impressions']/1000000 # Se obtiene métrica real_pricing\n",
    "    else:\n",
    "        real_pricing = 0\n",
    "        floor_pricing = 0\n",
    "    \n",
    "    if real_pricing > floor_pricing*(1+porc): # Se compara real pricing con floor pricing, con un % mínimo\n",
    "        return 1\n",
    "    else:\n",
    "        return 0 "
   ]
  },
  {
   "cell_type": "code",
   "execution_count": 413,
   "id": "167075e3-7da7-4141-916c-099d0f5588c2",
   "metadata": {},
   "outputs": [],
   "source": [
    "\n",
    "# Clase para filtrar instancias que cumplan con real_pricing > floor_pricing y fill rate\n",
    "\n",
    "class StrategyRealvsFloorPricing(BaseEstimator, TransformerMixin):\n",
    "    def __init__(self, porc=0, fill_rate=.60, limit_cpm=150): # no *args or **kwargs\n",
    "        self # nothing else to do\n",
    "    def fit(self, X, y=None):\n",
    "        return self  # nothing else to do\n",
    "    def transform(self, X, porc=0, fill_rate=.60, limit_cpm=150):\n",
    "        X['flag_pricing_sup'] = X.apply(lambda row: categorise_pricing(row,porc), axis=1) # Se añade columna con flag 0-1 para determinar si cumple con criterio\n",
    "        X = X[(X['FillRate']>fill_rate) & ((X['flag_pricing_sup']==1) & (X['eCPM']<limit_cpm))] # Se filtran instancias que cumplan con criterios.\n",
    "        X = X.reset_index(drop = True) # Resetea index para evitar errores posteriormente\n",
    "        return X"
   ]
  },
  {
   "cell_type": "code",
   "execution_count": 414,
   "id": "e03aac85-339a-48cc-a7a3-7223237fc494",
   "metadata": {},
   "outputs": [],
   "source": [
    "\n",
    "# Clase para estratificar por regla de precio y dividir en set de entrenamiento y set de validación\n",
    "\n",
    "class Strat_sets(BaseEstimator, TransformerMixin):\n",
    "    def __init__(self): # no *args or **kwargs\n",
    "        self # nothing else to do\n",
    "    def fit(self, X, y=None):\n",
    "        return self  # nothing else to do\n",
    "    def transform(self, X):\n",
    "        X[\"pr_cat\"] = pd.cut(X[\"pricing_rules\"],\n",
    "                               bins=[-np.inf, 1.5, 3.0, 4.5, 6., np.inf],\n",
    "                               labels=[1, 2, 3, 4, 5])\n",
    "        split = StratifiedShuffleSplit(n_splits=1, test_size=0.2, random_state=42) \n",
    "        for train_index, test_index in split.split(X, X[\"pr_cat\"]): # Estratificado de set.\n",
    "            X_train_set = X.loc[train_index]\n",
    "            X_test_set = X.loc[test_index]\n",
    "        return X_train_set, X_test_set"
   ]
  },
  {
   "cell_type": "code",
   "execution_count": 415,
   "id": "15e7e390-7bfb-4c90-b3bb-3aa1e194e658",
   "metadata": {},
   "outputs": [],
   "source": [
    "class OldDataFrameSelector(BaseEstimator, TransformerMixin):\n",
    "    def __init__(self, attribute_names):\n",
    "        self.attribute_names = attribute_names\n",
    "    def fit(self, X, y=None):\n",
    "        return self\n",
    "    def transform(self, X):\n",
    "        return X[self.attribute_names].values\n",
    "# REVISAR SI EXISTE OTRO DATAFRAMESELECTOR NUEVO Y PONERLO ARRIBA PARA USARLO EN ERRORES DE VISUALIZACIÓN DE .HEAD()."
   ]
  },
  {
   "cell_type": "code",
   "execution_count": 416,
   "id": "d3061417-2955-4fcb-99e0-1c57881f6d92",
   "metadata": {},
   "outputs": [],
   "source": [
    "#num_attribs = ['revenue']\n",
    "cat_attribs = ['weekday', 'creative_size', 'device', 'country']\n",
    "\n",
    "#old_num_pipeline = Pipeline([\n",
    "#        ('selector', OldDataFrameSelector(num_attribs)),\n",
    "#        ('imputer', SimpleImputer(strategy=\"median\")), REVISAR DOCUMENTACIÓN DE SIMPLEIMPUTER\n",
    "#        ('std_scaler', StandardScaler()), DIFERENTES MEDIAS\n",
    "#    ])\n",
    "\n",
    "old_cat_pipeline = Pipeline([\n",
    "        ('selector', OldDataFrameSelector(cat_attribs)),\n",
    "        ('cat_encoder', OneHotEncoder(sparse=False)),\n",
    "    ])"
   ]
  },
  {
   "cell_type": "code",
   "execution_count": 417,
   "id": "ce90e19a-3c4a-47c2-ac9b-c0cb037ee0e7",
   "metadata": {},
   "outputs": [],
   "source": [
    "from sklearn.pipeline import FeatureUnion\n",
    "\n",
    "full_pipeline = FeatureUnion(transformer_list=[\n",
    "        (\"cat_pipeline\", old_cat_pipeline),\n",
    "    ])"
   ]
  },
  {
   "cell_type": "code",
   "execution_count": 418,
   "id": "d2a5afae-a422-48d0-8631-2f03bdfc5ba4",
   "metadata": {},
   "outputs": [],
   "source": [
    "from sklearn.preprocessing import PolynomialFeatures"
   ]
  },
  {
   "cell_type": "code",
   "execution_count": 425,
   "id": "d84bdf0a-4daa-4a7e-9a57-11be8939099f",
   "metadata": {},
   "outputs": [],
   "source": [
    "def plot_learning_curves(model, X, y, XTest, yTest): # Entradas sean los sets que ya se aplicó shuffle\n",
    "    X_train = X\n",
    "    X_val = XTest\n",
    "    y_train = y\n",
    "    y_val = yTest\n",
    "    train_errors, val_errors = [], []\n",
    "    #for m in range(1, len(X_train)):\n",
    "    for m in range(1, 1500):\n",
    "        model.fit(X_train[:m], y_train[:m])\n",
    "        y_train_predict = model.predict(X_train[:m])\n",
    "        y_val_predict = model.predict(X_val)\n",
    "        train_errors.append(mean_squared_error(y_train[:m], y_train_predict))\n",
    "        val_errors.append(mean_squared_error(y_val, y_val_predict))\n",
    "\n",
    "    plt.plot(np.sqrt(train_errors), \"r-+\", linewidth=2, label=\"train\")\n",
    "    plt.plot(np.sqrt(val_errors), \"b-\", linewidth=3, label=\"val\")\n",
    "    plt.legend(loc=\"upper right\", fontsize=14)   # not shown in the book\n",
    "    plt.xlabel(\"Training set size\", fontsize=14) # not shown\n",
    "    plt.ylabel(\"RMSE\", fontsize=14)              # not shown"
   ]
  },
  {
   "cell_type": "markdown",
   "id": "0ddfa7a1-0b36-4bf7-a026-ffa7b36f3d10",
   "metadata": {},
   "source": [
    "# Pipelines"
   ]
  },
  {
   "cell_type": "markdown",
   "id": "bef3e383-f4ab-438a-8219-1f8ac85f9196",
   "metadata": {},
   "source": [
    "### Pipeline estrategia 1"
   ]
  },
  {
   "cell_type": "code",
   "execution_count": 419,
   "id": "27eec895-f56b-4f06-bb40-646a57d2f3b6",
   "metadata": {},
   "outputs": [],
   "source": [
    "# PARA PRIMERAS PRUEBAS Y ANÁLISIS DE COMPORTAMIENTO, TOMAMOS SOLAMENTE INFORMACIÓN DE EXCÉLSIOR.\n",
    "# Visualización de la carga\n",
    "target_site = 'Excelsior'\n",
    "\n",
    "carga_prules = pd.concat([load_prules_data(filename=\"pt1_newbase_pricing_rules_open.csv\"),load_prules_data(filename=\"pt2_newbase_pricing_rules_open.csv\")])\n",
    "\n",
    "prules = carga_prules[carga_prules['site'] == target_site]\n",
    "prulesorg = carga_prules[carga_prules['site'] == target_site]"
   ]
  },
  {
   "cell_type": "code",
   "execution_count": 261,
   "id": "6fbe8393-73a4-46fc-b9eb-64d3d16a6251",
   "metadata": {
    "collapsed": true,
    "jupyter": {
     "outputs_hidden": true,
     "source_hidden": true
    },
    "tags": []
   },
   "outputs": [
    {
     "name": "stderr",
     "output_type": "stream",
     "text": [
      "C:\\Users\\Aaron\\AppData\\Local\\Temp\\ipykernel_14288\\2430769537.py:9: SettingWithCopyWarning: \n",
      "A value is trying to be set on a copy of a slice from a DataFrame.\n",
      "Try using .loc[row_indexer,col_indexer] = value instead\n",
      "\n",
      "See the caveats in the documentation: https://pandas.pydata.org/pandas-docs/stable/user_guide/indexing.html#returning-a-view-versus-a-copy\n",
      "  X['rCPM'] = X['revenue']/X['ad_requests']*1000\n",
      "C:\\Users\\Aaron\\AppData\\Local\\Temp\\ipykernel_14288\\2430769537.py:10: SettingWithCopyWarning: \n",
      "A value is trying to be set on a copy of a slice from a DataFrame.\n",
      "Try using .loc[row_indexer,col_indexer] = value instead\n",
      "\n",
      "See the caveats in the documentation: https://pandas.pydata.org/pandas-docs/stable/user_guide/indexing.html#returning-a-view-versus-a-copy\n",
      "  X['FillRate'] = X['ad_impressions']/X['ad_requests']\n",
      "C:\\Users\\Aaron\\AppData\\Local\\Temp\\ipykernel_14288\\2430769537.py:11: SettingWithCopyWarning: \n",
      "A value is trying to be set on a copy of a slice from a DataFrame.\n",
      "Try using .loc[row_indexer,col_indexer] = value instead\n",
      "\n",
      "See the caveats in the documentation: https://pandas.pydata.org/pandas-docs/stable/user_guide/indexing.html#returning-a-view-versus-a-copy\n",
      "  X['eCPM'] = X['revenue']/X['ad_impressions']*1000\n",
      "C:\\Users\\Aaron\\AppData\\Local\\Temp\\ipykernel_14288\\1013332295.py:10: SettingWithCopyWarning: \n",
      "A value is trying to be set on a copy of a slice from a DataFrame.\n",
      "Try using .loc[row_indexer,col_indexer] = value instead\n",
      "\n",
      "See the caveats in the documentation: https://pandas.pydata.org/pandas-docs/stable/user_guide/indexing.html#returning-a-view-versus-a-copy\n",
      "  X['flag_cpm_sup'] = X.apply(lambda row: categorise(row,Xgb,porc), axis=1)\n"
     ]
    },
    {
     "data": {
      "text/plain": [
       "creative_size\n",
       "300x100          127\n",
       "300x250         2018\n",
       "300x600          555\n",
       "320x100          245\n",
       "320x50           179\n",
       "728x90          2396\n",
       "Native            10\n",
       "Sin Posicion    1913\n",
       "Name: pricing_rules, dtype: int64"
      ]
     },
     "execution_count": 261,
     "metadata": {},
     "output_type": "execute_result"
    }
   ],
   "source": [
    "clean_cpm_pipeline = Pipeline([\n",
    "        ('attribs_adder', CombinedAttributesAdder()),\n",
    "        ('strategy_cpm', StrategyCPMSuperior(porc=-.20,fill_rate=.60,limit_cpm=150)),\n",
    "        ('stratified',Strat_sets()),\n",
    "])\n",
    "\n",
    "prcpm_train, prcpm_test = clean_cpm_pipeline.transform(prulesorg)\n",
    "prcpmgbt = prcpm_train.groupby('creative_size').count()\n",
    "prcpmgbt['pricing_rules'].head(20)"
   ]
  },
  {
   "cell_type": "code",
   "execution_count": 420,
   "id": "c427a299-fac6-4dd8-8075-24f2cb53b394",
   "metadata": {},
   "outputs": [
    {
     "name": "stderr",
     "output_type": "stream",
     "text": [
      "C:\\Users\\Aaron\\AppData\\Local\\Temp\\ipykernel_14288\\1729144859.py:9: SettingWithCopyWarning: \n",
      "A value is trying to be set on a copy of a slice from a DataFrame.\n",
      "Try using .loc[row_indexer,col_indexer] = value instead\n",
      "\n",
      "See the caveats in the documentation: https://pandas.pydata.org/pandas-docs/stable/user_guide/indexing.html#returning-a-view-versus-a-copy\n",
      "  X['rCPM'] = X['revenue']/X['ad_requests']*1000 # Añade rCPM al set\n",
      "C:\\Users\\Aaron\\AppData\\Local\\Temp\\ipykernel_14288\\1729144859.py:10: SettingWithCopyWarning: \n",
      "A value is trying to be set on a copy of a slice from a DataFrame.\n",
      "Try using .loc[row_indexer,col_indexer] = value instead\n",
      "\n",
      "See the caveats in the documentation: https://pandas.pydata.org/pandas-docs/stable/user_guide/indexing.html#returning-a-view-versus-a-copy\n",
      "  X['FillRate'] = X['ad_impressions']/X['ad_requests'] # Añade FillRate al Set\n",
      "C:\\Users\\Aaron\\AppData\\Local\\Temp\\ipykernel_14288\\1729144859.py:11: SettingWithCopyWarning: \n",
      "A value is trying to be set on a copy of a slice from a DataFrame.\n",
      "Try using .loc[row_indexer,col_indexer] = value instead\n",
      "\n",
      "See the caveats in the documentation: https://pandas.pydata.org/pandas-docs/stable/user_guide/indexing.html#returning-a-view-versus-a-copy\n",
      "  X['eCPM'] = X['revenue']/X['ad_impressions']*1000 # Añade eCPM al set\n",
      "C:\\Users\\Aaron\\AppData\\Local\\Temp\\ipykernel_14288\\880015873.py:10: SettingWithCopyWarning: \n",
      "A value is trying to be set on a copy of a slice from a DataFrame.\n",
      "Try using .loc[row_indexer,col_indexer] = value instead\n",
      "\n",
      "See the caveats in the documentation: https://pandas.pydata.org/pandas-docs/stable/user_guide/indexing.html#returning-a-view-versus-a-copy\n",
      "  X['flag_cpm_sup'] = X.apply(lambda row: categorise(row,Xgb,porc), axis=1) # Se añade columna con flag 0-1 para determinar si cumple con criterio\n"
     ]
    }
   ],
   "source": [
    "# Pipeline para limpieza de los datos de estrategia CPM\n",
    "\n",
    "clean_cpm_pipeline = clean_realp_pipeline = Pipeline([\n",
    "        ('attribs_adder', CombinedAttributesAdder()),\n",
    "        ('strategy_cpm', StrategyCPMSuperior(porc=-.10,fill_rate=.60,limit_cpm=150)),\n",
    "        ('stratified',Strat_sets()),\n",
    "])\n",
    "\n",
    "cpm_train, cpm_test = clean_cpm_pipeline.transform(prulesorg)\n",
    "# Se asignan etiquetas para set de training\n",
    "cpm_labels = cpm_train[\"pricing_rules\"].copy()\n",
    "cpm_train = cpm_train.drop(\"pricing_rules\", axis=1) # drop labels for training set\n",
    "\n",
    "\n",
    "# Se asignan etiquetas para set de testing\n",
    "cpm_test_labels = cpm_test[\"pricing_rules\"].copy()\n",
    "cpm_test = cpm_test.drop(\"pricing_rules\", axis=1)\n",
    "\n",
    "# GENERAR ETIQUETAS DE TESTING"
   ]
  },
  {
   "cell_type": "code",
   "execution_count": 421,
   "id": "ed4fce48-e189-46f5-a4de-b8e86791876f",
   "metadata": {},
   "outputs": [],
   "source": [
    "cpm_prepared = full_pipeline.fit_transform(cpm_train)\n",
    "cpmTest_prepared = full_pipeline.fit_transform(cpm_test)"
   ]
  },
  {
   "cell_type": "code",
   "execution_count": 429,
   "id": "329fa387-288b-48fd-9bf1-fbc966fde922",
   "metadata": {},
   "outputs": [
    {
     "name": "stdout",
     "output_type": "stream",
     "text": [
      "Saving figure underfitting_learning_curves_plot\n"
     ]
    },
    {
     "data": {
      "image/png": "[encoded data removed]",
      "text/plain": [
       "<Figure size 432x288 with 1 Axes>"
      ]
     },
     "metadata": {
      "needs_background": "light"
     },
     "output_type": "display_data"
    }
   ],
   "source": [
    "\n",
    "# Curvas de aprendizaje de modelo lineal\n",
    "\n",
    "from sklearn.linear_model import LinearRegression\n",
    "\n",
    "lin_reg = LinearRegression()\n",
    "lin_reg.fit(cpm_prepared, cpm_labels)\n",
    "\n",
    "plot_learning_curves(lin_reg, cpm_prepared, cpm_labels, cpmTest_prepared, cpm_test_labels)\n",
    "plt.axis([0, 1500, 0, 5])                         # not shown in the book\n",
    "save_fig(\"underfitting_learning_curves_plot\")   # not shown\n",
    "plt.show()"
   ]
  },
  {
   "cell_type": "code",
   "execution_count": 430,
   "id": "ede528a5-acd4-44e3-910d-09b894a81cbf",
   "metadata": {},
   "outputs": [
    {
     "name": "stdout",
     "output_type": "stream",
     "text": [
      "Saving figure underfitting_learning_curves_plot\n"
     ]
    },
    {
     "data": {
      "image/png": "[encoded data removed]",
      "text/plain": [
       "<Figure size 432x288 with 1 Axes>"
      ]
     },
     "metadata": {
      "needs_background": "light"
     },
     "output_type": "display_data"
    }
   ],
   "source": [
    "\n",
    "# Curvas de aprendizaje de modelo Arbol de Decisión\n",
    "\n",
    "## Arbol de decisiones\n",
    "from sklearn.tree import DecisionTreeRegressor\n",
    "\n",
    "tree_reg = DecisionTreeRegressor(random_state=42)\n",
    "tree_reg.fit(cpm_prepared, cpm_labels)\n",
    "\n",
    "plot_learning_curves(tree_reg, cpm_prepared, cpm_labels, cpmTest_prepared, cpm_test_labels)\n",
    "plt.axis([0, 1500, 0, 5])                         # not shown in the book\n",
    "save_fig(\"underfitting_learning_curves_plot\")   # not shown\n",
    "plt.show()"
   ]
  },
  {
   "cell_type": "code",
   "execution_count": null,
   "id": "60688924-6573-464f-875c-6ba93b0e1e00",
   "metadata": {},
   "outputs": [],
   "source": []
  },
  {
   "cell_type": "code",
   "execution_count": 387,
   "id": "368fd16a-3b20-4d9c-8122-6c1ca616a40a",
   "metadata": {},
   "outputs": [
    {
     "name": "stdout",
     "output_type": "stream",
     "text": [
      "Saving figure underfitting_learning_curves_plot\n"
     ]
    },
    {
     "data": {
      "image/png": "[encoded data removed]",
      "text/plain": [
       "<Figure size 432x288 with 1 Axes>"
      ]
     },
     "metadata": {
      "needs_background": "light"
     },
     "output_type": "display_data"
    }
   ],
   "source": [
    "from sklearn.pipeline import Pipeline\n",
    "\n",
    "polynomial_regression = Pipeline([\n",
    "        (\"poly_features\", PolynomialFeatures(degree=2, include_bias=False)),\n",
    "        (\"lin_reg\", LinearRegression()),\n",
    "    ])\n",
    "\n",
    "plot_learning_curves(polynomial_regression, cpm_prepared, cpm_labels, cpmTest_prepared, cpm_test_labels)\n",
    "plt.axis([0, 1500, 0, 20])                         # not shown in the book\n",
    "save_fig(\"underfitting_learning_curves_plot\")   # not shown\n",
    "plt.show()"
   ]
  },
  {
   "cell_type": "markdown",
   "id": "544cd2a3-d598-424a-b459-09f9dfc21233",
   "metadata": {},
   "source": [
    "### Pipeline Estrategia 2"
   ]
  },
  {
   "cell_type": "code",
   "execution_count": null,
   "id": "2d57202d-560e-40e6-b157-21cd59fd5ecd",
   "metadata": {},
   "outputs": [
    {
     "name": "stderr",
     "output_type": "stream",
     "text": [
      "C:\\Users\\Aaron\\AppData\\Local\\Temp\\ipykernel_14288\\2430769537.py:9: SettingWithCopyWarning: \n",
      "A value is trying to be set on a copy of a slice from a DataFrame.\n",
      "Try using .loc[row_indexer,col_indexer] = value instead\n",
      "\n",
      "See the caveats in the documentation: https://pandas.pydata.org/pandas-docs/stable/user_guide/indexing.html#returning-a-view-versus-a-copy\n",
      "  X['rCPM'] = X['revenue']/X['ad_requests']*1000\n",
      "C:\\Users\\Aaron\\AppData\\Local\\Temp\\ipykernel_14288\\2430769537.py:10: SettingWithCopyWarning: \n",
      "A value is trying to be set on a copy of a slice from a DataFrame.\n",
      "Try using .loc[row_indexer,col_indexer] = value instead\n",
      "\n",
      "See the caveats in the documentation: https://pandas.pydata.org/pandas-docs/stable/user_guide/indexing.html#returning-a-view-versus-a-copy\n",
      "  X['FillRate'] = X['ad_impressions']/X['ad_requests']\n",
      "C:\\Users\\Aaron\\AppData\\Local\\Temp\\ipykernel_14288\\2430769537.py:11: SettingWithCopyWarning: \n",
      "A value is trying to be set on a copy of a slice from a DataFrame.\n",
      "Try using .loc[row_indexer,col_indexer] = value instead\n",
      "\n",
      "See the caveats in the documentation: https://pandas.pydata.org/pandas-docs/stable/user_guide/indexing.html#returning-a-view-versus-a-copy\n",
      "  X['eCPM'] = X['revenue']/X['ad_impressions']*1000\n",
      "C:\\Users\\Aaron\\AppData\\Local\\Temp\\ipykernel_14288\\2955700156.py:7: SettingWithCopyWarning: \n",
      "A value is trying to be set on a copy of a slice from a DataFrame.\n",
      "Try using .loc[row_indexer,col_indexer] = value instead\n",
      "\n",
      "See the caveats in the documentation: https://pandas.pydata.org/pandas-docs/stable/user_guide/indexing.html#returning-a-view-versus-a-copy\n",
      "  X['flag_pricing_sup'] = X.apply(lambda row: categorise_pricing(row,porc), axis=1)\n"
     ]
    }
   ],
   "source": [
    "clean_realp_pipeline = Pipeline([\n",
    "        ('attribs_adder', CombinedAttributesAdder()),\n",
    "        ('strategy_realp', StrategyRealvsFloorPricing(porc=.10,fill_rate=.60,limit_cpm=150)),\n",
    "        ('stratified',Strat_sets()),\n",
    "])\n",
    "\n",
    "realp_train, realp_test = clean_realp_pipeline.transform(prulesorg)\n",
    "# Se asignan etiquetas para set de training\n",
    "realp = realp_train.drop(\"pricing_rules\", axis=1) # drop labels for training set\n",
    "realp_labels = realp_train[\"pricing_rules\"].copy()\n",
    "\n",
    "# Se asignan etiquetas para set de testing\n",
    "realp_test_labels = realp_test[\"pricing_rules\"].copy()\n",
    "realp_test = realp_test.drop(\"pricing_rules\", axis=1)\n",
    "\n",
    "# GENERAR ETIQUETAS DE TESTING"
   ]
  },
  {
   "cell_type": "code",
   "execution_count": null,
   "id": "b77994b2-c035-42e8-8941-2e9cc27f6580",
   "metadata": {},
   "outputs": [],
   "source": [
    "realp_prepared = full_pipeline.fit_transform(realp)\n",
    "realpTest_prepared = full_pipeline.fit_transform(realp_test)"
   ]
  },
  {
   "cell_type": "code",
   "execution_count": 329,
   "id": "3ec28c94-0681-4a44-bb3b-7809e01db645",
   "metadata": {},
   "outputs": [
    {
     "data": {
      "text/plain": [
       "LinearRegression()"
      ]
     },
     "execution_count": 329,
     "metadata": {},
     "output_type": "execute_result"
    }
   ],
   "source": [
    "from sklearn.linear_model import LinearRegression\n",
    "\n",
    "lin_reg = LinearRegression()\n",
    "lin_reg.fit(realp_prepared, realp_labels)"
   ]
  },
  {
   "cell_type": "code",
   "execution_count": 330,
   "id": "4c0cf082-096c-4f4c-967e-c753f21fcbd6",
   "metadata": {},
   "outputs": [
    {
     "name": "stdout",
     "output_type": "stream",
     "text": [
      "Predictions: [2.6484375 2.1015625 2.6328125 2.375     2.3203125]\n"
     ]
    }
   ],
   "source": [
    "# let's try the full preprocessing pipeline on a few training instances\n",
    "some_data = realp.iloc[:5]\n",
    "some_labels = realp_labels.iloc[:5]\n",
    "some_data_prepared = full_pipeline.transform(some_data)\n",
    "\n",
    "print(\"Predictions:\", lin_reg.predict(some_data_prepared))"
   ]
  },
  {
   "cell_type": "code",
   "execution_count": 331,
   "id": "f9062c1a-78b6-4f6d-9794-43afedfc10a4",
   "metadata": {},
   "outputs": [
    {
     "name": "stdout",
     "output_type": "stream",
     "text": [
      "Labels: [2.7, 1.2, 1.8, 2.0, 3.1]\n"
     ]
    }
   ],
   "source": [
    "print(\"Labels:\", list(some_labels))"
   ]
  },
  {
   "cell_type": "code",
   "execution_count": 332,
   "id": "c992131a-ebdf-4c49-9946-03ec5fe45bbd",
   "metadata": {},
   "outputs": [
    {
     "data": {
      "text/plain": [
       "1.3257423193253044"
      ]
     },
     "execution_count": 332,
     "metadata": {},
     "output_type": "execute_result"
    }
   ],
   "source": [
    "from sklearn.metrics import mean_squared_error\n",
    "\n",
    "realp_predictions = lin_reg.predict(realp_prepared)\n",
    "lin_mse = mean_squared_error(realp_labels, realp_predictions)\n",
    "lin_rmse = np.sqrt(lin_mse)\n",
    "lin_rmse\n",
    "\n",
    "# 4.164669841419033 con old_housing_prepared"
   ]
  },
  {
   "cell_type": "code",
   "execution_count": 333,
   "id": "3d58f0b7-98ac-4416-8f0e-20442d524739",
   "metadata": {},
   "outputs": [
    {
     "data": {
      "text/plain": [
       "1.0298732426224944"
      ]
     },
     "execution_count": 333,
     "metadata": {},
     "output_type": "execute_result"
    }
   ],
   "source": [
    "from sklearn.metrics import mean_absolute_error\n",
    "\n",
    "lin_mae = mean_absolute_error(realp_labels, realp_predictions)\n",
    "lin_mae\n",
    "\n",
    "#2.2368766406313103"
   ]
  },
  {
   "cell_type": "code",
   "execution_count": 334,
   "id": "9a696902-c19c-490d-81d9-3e057657d935",
   "metadata": {},
   "outputs": [
    {
     "data": {
      "text/plain": [
       "DecisionTreeRegressor(random_state=42)"
      ]
     },
     "execution_count": 334,
     "metadata": {},
     "output_type": "execute_result"
    }
   ],
   "source": [
    "## Arbol de decisiones\n",
    "from sklearn.tree import DecisionTreeRegressor\n",
    "\n",
    "tree_reg = DecisionTreeRegressor(random_state=42)\n",
    "tree_reg.fit(realp_prepared, realp_labels)"
   ]
  },
  {
   "cell_type": "code",
   "execution_count": 335,
   "id": "6db48279-db8c-4ed9-bb2d-acc19e468fbb",
   "metadata": {},
   "outputs": [
    {
     "data": {
      "text/plain": [
       "1.1940784689321147"
      ]
     },
     "execution_count": 335,
     "metadata": {},
     "output_type": "execute_result"
    }
   ],
   "source": [
    "realp_predictions = tree_reg.predict(realp_prepared)\n",
    "tree_mse = mean_squared_error(realp_labels, realp_predictions)\n",
    "tree_rmse = np.sqrt(tree_mse)\n",
    "tree_rmse"
   ]
  },
  {
   "cell_type": "code",
   "execution_count": 336,
   "id": "1f6e6b2e-a40d-489b-9140-ce00d5418dae",
   "metadata": {},
   "outputs": [],
   "source": [
    "from sklearn.model_selection import cross_val_score\n",
    "\n",
    "scores = cross_val_score(tree_reg, realp_prepared, realp_labels,\n",
    "                         scoring=\"neg_mean_squared_error\", cv=10)\n",
    "tree_rmse_scores = np.sqrt(-scores)"
   ]
  },
  {
   "cell_type": "code",
   "execution_count": 337,
   "id": "e21d2bf2-1567-4f57-bb58-cedbe8cb60e6",
   "metadata": {},
   "outputs": [
    {
     "name": "stdout",
     "output_type": "stream",
     "text": [
      "Scores: [1.17345184 1.14376148 1.23664535 1.24764124 1.14197556 1.21568052\n",
      " 1.2126958  1.28503241 1.20513192 1.27090221]\n",
      "Mean: 1.213291833626664\n",
      "Standard deviation: 0.0466597108445365\n"
     ]
    }
   ],
   "source": [
    "def display_scores(scores):\n",
    "    print(\"Scores:\", scores)\n",
    "    print(\"Mean:\", scores.mean())\n",
    "    print(\"Standard deviation:\", scores.std())\n",
    "\n",
    "display_scores(tree_rmse_scores)"
   ]
  },
  {
   "cell_type": "code",
   "execution_count": 338,
   "id": "41548f51-76a3-4a5c-9384-15a031b1e63b",
   "metadata": {},
   "outputs": [
    {
     "name": "stdout",
     "output_type": "stream",
     "text": [
      "Scores: [1.27546342 1.26947014 1.32813558 1.37987732 1.24743723 1.34548968\n",
      " 1.33728586 1.38874289 1.33104845 1.36884979]\n",
      "Mean: 1.3271800360213581\n",
      "Standard deviation: 0.0459571108973659\n"
     ]
    }
   ],
   "source": [
    "lin_scores = cross_val_score(lin_reg, realp_prepared, realp_labels,\n",
    "                             scoring=\"neg_mean_squared_error\", cv=10)\n",
    "lin_rmse_scores = np.sqrt(-lin_scores)\n",
    "display_scores(lin_rmse_scores)"
   ]
  },
  {
   "cell_type": "code",
   "execution_count": 339,
   "id": "139ac47e-b284-4206-af8b-8678447c13fe",
   "metadata": {},
   "outputs": [
    {
     "data": {
      "text/plain": [
       "1.425542828965772"
      ]
     },
     "execution_count": 339,
     "metadata": {},
     "output_type": "execute_result"
    }
   ],
   "source": [
    "from sklearn.svm import SVR\n",
    "\n",
    "svm_reg = SVR(kernel=\"linear\")\n",
    "svm_reg.fit(realp_prepared, realp_labels)\n",
    "realp_predictions = svm_reg.predict(realp_prepared)\n",
    "svm_mse = mean_squared_error(realp_labels, realp_predictions)\n",
    "svm_rmse = np.sqrt(svm_mse)\n",
    "svm_rmse"
   ]
  },
  {
   "cell_type": "code",
   "execution_count": 340,
   "id": "f47dff78-2dc4-40a7-be95-4291f35bfb0e",
   "metadata": {},
   "outputs": [
    {
     "data": {
      "text/plain": [
       "GridSearchCV(cv=5, estimator=RandomForestRegressor(random_state=42),\n",
       "             param_grid=[{'max_features': [2, 4, 6, 8],\n",
       "                          'n_estimators': [3, 10, 30]},\n",
       "                         {'bootstrap': [False], 'max_features': [2, 3, 4],\n",
       "                          'n_estimators': [3, 10]}],\n",
       "             return_train_score=True, scoring='neg_mean_squared_error')"
      ]
     },
     "execution_count": 340,
     "metadata": {},
     "output_type": "execute_result"
    }
   ],
   "source": [
    "from sklearn.ensemble import RandomForestRegressor\n",
    "from sklearn.model_selection import GridSearchCV\n",
    "\n",
    "param_grid = [\n",
    "    # try 12 (3×4) combinations of hyperparameters\n",
    "    {'n_estimators': [3, 10, 30], 'max_features': [2, 4, 6, 8]},\n",
    "    # then try 6 (2×3) combinations with bootstrap set as False\n",
    "    {'bootstrap': [False], 'n_estimators': [3, 10], 'max_features': [2, 3, 4]},\n",
    "  ]\n",
    "\n",
    "forest_reg = RandomForestRegressor(random_state=42)\n",
    "# train across 5 folds, that's a total of (12+6)*5=90 rounds of training \n",
    "grid_search = GridSearchCV(forest_reg, param_grid, cv=5,\n",
    "                           scoring='neg_mean_squared_error', return_train_score=True)\n",
    "grid_search.fit(realp_prepared, realp_labels)"
   ]
  },
  {
   "cell_type": "code",
   "execution_count": 291,
   "id": "56bcd937-d3fd-40ef-8264-1ccfc5215d63",
   "metadata": {},
   "outputs": [
    {
     "data": {
      "text/plain": [
       "{'bootstrap': False, 'max_features': 3, 'n_estimators': 10}"
      ]
     },
     "execution_count": 291,
     "metadata": {},
     "output_type": "execute_result"
    }
   ],
   "source": [
    "grid_search.best_params_"
   ]
  },
  {
   "cell_type": "code",
   "execution_count": 292,
   "id": "776d0261-5860-4f59-99c1-35245f77da82",
   "metadata": {},
   "outputs": [
    {
     "name": "stdout",
     "output_type": "stream",
     "text": [
      "1.2173692095803335 {'max_features': 2, 'n_estimators': 3}\n",
      "1.2152541672145611 {'max_features': 2, 'n_estimators': 10}\n",
      "1.21403307471409 {'max_features': 2, 'n_estimators': 30}\n",
      "1.216180998272639 {'max_features': 4, 'n_estimators': 3}\n",
      "1.2146267679117453 {'max_features': 4, 'n_estimators': 10}\n",
      "1.2134066579749192 {'max_features': 4, 'n_estimators': 30}\n",
      "1.2164031563164743 {'max_features': 6, 'n_estimators': 3}\n",
      "1.2146608430618422 {'max_features': 6, 'n_estimators': 10}\n",
      "1.2133011663467754 {'max_features': 6, 'n_estimators': 30}\n",
      "1.2158390064770208 {'max_features': 8, 'n_estimators': 3}\n",
      "1.2145718839790907 {'max_features': 8, 'n_estimators': 10}\n",
      "1.2133167079633902 {'max_features': 8, 'n_estimators': 30}\n",
      "1.2134731887736991 {'bootstrap': False, 'max_features': 2, 'n_estimators': 3}\n",
      "1.2130510289606515 {'bootstrap': False, 'max_features': 2, 'n_estimators': 10}\n",
      "1.213213774746723 {'bootstrap': False, 'max_features': 3, 'n_estimators': 3}\n",
      "1.2130167212406116 {'bootstrap': False, 'max_features': 3, 'n_estimators': 10}\n",
      "1.2133053832761795 {'bootstrap': False, 'max_features': 4, 'n_estimators': 3}\n",
      "1.2130222708297287 {'bootstrap': False, 'max_features': 4, 'n_estimators': 10}\n"
     ]
    }
   ],
   "source": [
    "cvres = grid_search.cv_results_\n",
    "for mean_score, params in zip(cvres[\"mean_test_score\"], cvres[\"params\"]):\n",
    "    print(np.sqrt(-mean_score), params)"
   ]
  },
  {
   "cell_type": "code",
   "execution_count": 293,
   "id": "4dcee517-2c2d-4246-a29a-e04a3dcabf17",
   "metadata": {},
   "outputs": [
    {
     "data": {
      "text/plain": [
       "RandomizedSearchCV(cv=5, estimator=RandomForestRegressor(random_state=42),\n",
       "                   param_distributions={'max_features': <scipy.stats._distn_infrastructure.rv_frozen object at 0x000001EF65E5DA90>,\n",
       "                                        'n_estimators': <scipy.stats._distn_infrastructure.rv_frozen object at 0x000001EF0B3859D0>},\n",
       "                   random_state=42, scoring='neg_mean_squared_error')"
      ]
     },
     "execution_count": 293,
     "metadata": {},
     "output_type": "execute_result"
    }
   ],
   "source": [
    "from sklearn.model_selection import RandomizedSearchCV\n",
    "from scipy.stats import randint\n",
    "\n",
    "param_distribs = {\n",
    "        'n_estimators': randint(low=1, high=200),\n",
    "        'max_features': randint(low=1, high=8),\n",
    "    }\n",
    "\n",
    "forest_reg = RandomForestRegressor(random_state=42)\n",
    "rnd_search = RandomizedSearchCV(forest_reg, param_distributions=param_distribs,\n",
    "                                n_iter=10, cv=5, scoring='neg_mean_squared_error', random_state=42)\n",
    "rnd_search.fit(realp_prepared, realp_labels)"
   ]
  },
  {
   "cell_type": "code",
   "execution_count": 294,
   "id": "09c18e38-d498-45cb-8066-5169d51b4a10",
   "metadata": {},
   "outputs": [
    {
     "name": "stdout",
     "output_type": "stream",
     "text": [
      "1.2127563258954088 {'max_features': 7, 'n_estimators': 180}\n",
      "1.2138937214552887 {'max_features': 5, 'n_estimators': 15}\n",
      "1.2129687342319733 {'max_features': 3, 'n_estimators': 72}\n",
      "1.2138139674775692 {'max_features': 5, 'n_estimators': 21}\n",
      "1.2128443320221018 {'max_features': 7, 'n_estimators': 122}\n",
      "1.2129650216900587 {'max_features': 3, 'n_estimators': 75}\n",
      "1.2128954218329926 {'max_features': 3, 'n_estimators': 88}\n",
      "1.2128902258183214 {'max_features': 5, 'n_estimators': 100}\n",
      "1.2129716387596439 {'max_features': 3, 'n_estimators': 150}\n",
      "1.2185179534420905 {'max_features': 5, 'n_estimators': 2}\n"
     ]
    }
   ],
   "source": [
    "cvres = rnd_search.cv_results_\n",
    "for mean_score, params in zip(cvres[\"mean_test_score\"], cvres[\"params\"]):\n",
    "    print(np.sqrt(-mean_score), params)"
   ]
  },
  {
   "cell_type": "markdown",
   "id": "09808a33-01f5-4b18-9917-841b50226f21",
   "metadata": {},
   "source": [
    "# Modelos de 2do y 3er orden y curvas de aprendizaje:"
   ]
  },
  {
   "cell_type": "markdown",
   "id": "59b89afd-417c-447b-b957-70d1e0af281d",
   "metadata": {},
   "source": [
    "Añadir pesos de atributos categóricos."
   ]
  },
  {
   "cell_type": "markdown",
   "id": "c59642b7-ff7e-4c7e-8591-3ce41650f43f",
   "metadata": {},
   "source": [
    "## Polinomial grado 2"
   ]
  },
  {
   "cell_type": "code",
   "execution_count": null,
   "id": "d2c2a053-de2a-45ef-b315-e5da8dc4364a",
   "metadata": {},
   "outputs": [],
   "source": [
    "poly_features = PolynomialFeatures(degree=2, include_bias=False)"
   ]
  },
  {
   "cell_type": "code",
   "execution_count": null,
   "id": "5dfdd266-c7fb-43c1-acce-21810a683922",
   "metadata": {},
   "outputs": [],
   "source": [
    "realpoly = poly_features.fit_transform(realp_prepared)"
   ]
  },
  {
   "cell_type": "code",
   "execution_count": 343,
   "id": "73a84215-3c82-47d1-b3d9-6e7ed3903616",
   "metadata": {},
   "outputs": [
    {
     "data": {
      "text/plain": [
       "LinearRegression()"
      ]
     },
     "execution_count": 343,
     "metadata": {},
     "output_type": "execute_result"
    }
   ],
   "source": [
    "lin_reg = LinearRegression()\n",
    "lin_reg.fit(realpoly, realp_labels)"
   ]
  },
  {
   "cell_type": "code",
   "execution_count": 309,
   "id": "d8acfdd3-163d-4b98-a54b-d330bbcce099",
   "metadata": {},
   "outputs": [
    {
     "name": "stdout",
     "output_type": "stream",
     "text": [
      "Saving figure underfitting_learning_curves_plot\n"
     ]
    },
    {
     "data": {
      "image/png": "[encoded data removed]",
      "text/plain": [
       "<Figure size 432x288 with 1 Axes>"
      ]
     },
     "metadata": {
      "needs_background": "light"
     },
     "output_type": "display_data"
    }
   ],
   "source": [
    "from sklearn.pipeline import Pipeline\n",
    "\n",
    "polynomial_regression = Pipeline([\n",
    "        (\"poly_features\", PolynomialFeatures(degree=3, include_bias=False)),\n",
    "        (\"lin_reg\", LinearRegression()),\n",
    "    ])\n",
    "\n",
    "plot_learning_curves(polynomial_regression, realp_prepared, realp_labels, realpTest_prepared, realp_test_labels)\n",
    "plt.axis([0, 3000, 0, 5])                         # not shown in the book\n",
    "save_fig(\"underfitting_learning_curves_plot\")   # not shown\n",
    "plt.show()"
   ]
  },
  {
   "cell_type": "code",
   "execution_count": 348,
   "id": "d6430c24-573b-4c1a-a35d-078cc2c3cf19",
   "metadata": {
    "tags": []
   },
   "outputs": [
    {
     "name": "stdout",
     "output_type": "stream",
     "text": [
      "Saving figure underfitting_learning_curves_plot\n"
     ]
    },
    {
     "data": {
      "image/png": "[encoded data removed]",
      "text/plain": [
       "<Figure size 432x288 with 1 Axes>"
      ]
     },
     "metadata": {
      "needs_background": "light"
     },
     "output_type": "display_data"
    }
   ],
   "source": [
    "from sklearn.pipeline import Pipeline\n",
    "\n",
    "polynomial_regression = Pipeline([\n",
    "        (\"poly_features\", PolynomialFeatures(degree=2, include_bias=False)),\n",
    "        (\"lin_reg\", LinearRegression()),\n",
    "    ])\n",
    "\n",
    "plot_learning_curves(polynomial_regression, realp_prepared, realp_labels, realpTest_prepared, realp_test_labels)\n",
    "plt.axis([0, 3000, 0, 5])                       # not shown in the book\n",
    "save_fig(\"underfitting_learning_curves_plot\")   # not shown\n",
    "plt.show()"
   ]
  },
  {
   "cell_type": "code",
   "execution_count": null,
   "id": "a91c9b34-2dc5-4814-9851-1c87de00aa73",
   "metadata": {},
   "outputs": [],
   "source": []
  }
 ],
 "metadata": {
  "kernelspec": {
   "display_name": "Python 3 (ipykernel)",
   "language": "python",
   "name": "python3"
  },
  "language_info": {
   "codemirror_mode": {
    "name": "ipython",
    "version": 3
   },
   "file_extension": ".py",
   "mimetype": "text/x-python",
   "name": "python",
   "nbconvert_exporter": "python",
   "pygments_lexer": "ipython3",
   "version": "3.9.12"
  }
 },
 "nbformat": 4,
 "nbformat_minor": 5
}
