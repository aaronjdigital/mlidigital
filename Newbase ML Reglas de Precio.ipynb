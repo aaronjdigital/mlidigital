{
 "cells": [
  {
   "cell_type": "markdown",
   "id": "df06553c-d3da-4b62-922d-790c690e9302",
   "metadata": {},
   "source": [
    "# ML Reglas de Precio"
   ]
  },
  {
   "cell_type": "markdown",
   "id": "27f4d470-4bb4-41c2-a1dd-870bdb2aaa28",
   "metadata": {
    "tags": []
   },
   "source": [
    "Objetivo: Identificar características importantes para asignación de reglas de precio e incremento de Ingresos (Estimated Revenue)\n",
    "\n",
    "Variables disponibles cualitativas:  \n",
    "    - Día (Day)CONFIGURABLE  \n",
    "    - Día de la semana (Weekday)\n",
    "    - Sitio (Site) CONFIGURABLE  \n",
    "    - Tamaño de creativo (Creative Size) CONFIGURABLE  \n",
    "    - Dispositivo (Device category) CONFIGURABLE  \n",
    "    - País (Country) CONFIGURABLE  \n",
    "    - Nombre Regla de Precio (pricing rule name)\n",
    "\n",
    "Variables disponibles cuantitativas:  \n",
    "    - Regla de Precio\n",
    "    - Ad Requests.  \n",
    "    - Matched Requests.  \n",
    "    - Clicks.  \n",
    "    - Estimated Revenue  \n",
    "    - Ad Impressions  \n",
    "    - Active View Enabled Impressions  \n",
    "    - Active View measured Impressions  \n",
    "    \n",
    "$$eCPM = \\frac{Ingresos}{Impresiones Vendidas} * 1000$$  \n",
    "$$Fill Rate = \\frac{Impresiones Vendidas}{Oportunidades}$$  \n",
    "$$rCPM = \\frac{Ingresos}{Oportunidades} * 1000 = eCPM * Fill Rate$$  \n",
    "$$Viewability = \\frac{Impresiones Vistas}{Impresiones Disponibles} * 1000$$\n",
    "\n",
    "Actualmente tenemos los siguientes RMSE:  \n",
    "RMSE con métricas VS RMSE sólo dimensiones  \n",
    "LinearRegressor: 4.163198550626033 VS 4.228286483786043  \n",
    "Árbol de Decisión con CV: 2.0217106846949955VS 4.315806210084512  \n",
    "LinearRegressor con CV: 4.144651321967734 VS 4.194628244210746  \n",
    "SVM: 4.541685841508111 VS 4.610738194900622  \n",
    "Random Forest Grid : 2.94553254567179 {max_features': 8, 'n_estimators': 30} VS 3.5884419816764854 {'max_features': 6, 'n_estimators': 30}  \n",
    "Random Forest RandomizedSearchCV: 2.9591995838687026 {'max_features': 7, 'n_estimators': 122} VS 3.5189419142933973 {'max_features': 7, 'n_estimators': 180}\n",
    "\n",
    "\n"
   ]
  },
  {
   "cell_type": "code",
   "execution_count": 480,
   "id": "fa446e72-2f1f-47e6-85a7-5d6e0eac2cd8",
   "metadata": {},
   "outputs": [],
   "source": [
    "# To support both python 2 and python 3\n",
    "from __future__ import division, print_function, unicode_literals\n",
    "\n",
    "# Common imports\n",
    "import numpy as np\n",
    "import os\n",
    "\n",
    "# to make this notebook's output stable across runs\n",
    "np.random.seed(42)\n",
    "\n",
    "# To plot pretty figures\n",
    "%matplotlib inline\n",
    "import matplotlib as mpl\n",
    "import matplotlib.pyplot as plt\n",
    "mpl.rc('axes', labelsize=14)\n",
    "mpl.rc('xtick', labelsize=12)\n",
    "mpl.rc('ytick', labelsize=12)\n",
    "\n",
    "# Where to save the figures\n",
    "PROJECT_ROOT_DIR = \".\"\n",
    "CHAPTER_ID = \"end_to_end_project\"\n",
    "IMAGES_PATH = os.path.join(PROJECT_ROOT_DIR, \"images\", CHAPTER_ID)\n",
    "os.makedirs(IMAGES_PATH, exist_ok=True)\n",
    "\n",
    "def save_fig(fig_id, tight_layout=True, fig_extension=\"png\", resolution=300):\n",
    "    path = os.path.join(IMAGES_PATH, fig_id + \".\" + fig_extension)\n",
    "    print(\"Saving figure\", fig_id)\n",
    "    if tight_layout:\n",
    "        plt.tight_layout()\n",
    "    plt.savefig(path, format=fig_extension, dpi=resolution)"
   ]
  },
  {
   "cell_type": "code",
   "execution_count": 481,
   "id": "743b13a1-ca88-4172-8829-d6de98df1d17",
   "metadata": {},
   "outputs": [],
   "source": [
    "# Carga de archivo base de datos con 9,994 registros, de los cuales información mensual desde Agosto 2020\n",
    "import os\n",
    "import tarfile\n",
    "import urllib.request\n",
    "import pandas as pd\n",
    "\n",
    "PRULES_PATH = os.path.join(\"datasets\")\n",
    "\n",
    "def load_prules_data(prules_path=PRULES_PATH):\n",
    "    csv_path = os.path.join(prules_path, \"newbase_pricing_rules_open.csv\")\n",
    "    return pd.read_csv(csv_path)"
   ]
  },
  {
   "cell_type": "markdown",
   "id": "dac3de7b-1e78-4500-ae30-21cba083c11e",
   "metadata": {},
   "source": [
    "# Carga y primera visualización de datos"
   ]
  },
  {
   "cell_type": "code",
   "execution_count": 727,
   "id": "45aa5386-0b6b-43ac-aa7c-7775e97ae25c",
   "metadata": {
    "tags": []
   },
   "outputs": [],
   "source": [
    "# Visualización de la carga\n",
    "target_site = 'DineroenImagen'\n",
    "carga_prules = load_prules_data()\n",
    "prules = carga_prules[carga_prules['site'] == target_site]"
   ]
  },
  {
   "cell_type": "code",
   "execution_count": 728,
   "id": "8bf0a84b-f9be-44d2-8ffa-a51dc4b4615e",
   "metadata": {
    "tags": []
   },
   "outputs": [
    {
     "data": {
      "text/html": [
       "<div>\n",
       "<style scoped>\n",
       "    .dataframe tbody tr th:only-of-type {\n",
       "        vertical-align: middle;\n",
       "    }\n",
       "\n",
       "    .dataframe tbody tr th {\n",
       "        vertical-align: top;\n",
       "    }\n",
       "\n",
       "    .dataframe thead th {\n",
       "        text-align: right;\n",
       "    }\n",
       "</style>\n",
       "<table border=\"1\" class=\"dataframe\">\n",
       "  <thead>\n",
       "    <tr style=\"text-align: right;\">\n",
       "      <th></th>\n",
       "      <th>day</th>\n",
       "      <th>weekday</th>\n",
       "      <th>site</th>\n",
       "      <th>creative_size</th>\n",
       "      <th>device</th>\n",
       "      <th>country</th>\n",
       "      <th>pricing_rules_name</th>\n",
       "      <th>pricing_rules</th>\n",
       "      <th>ad_requests</th>\n",
       "      <th>matched_ad_requests</th>\n",
       "      <th>clicks</th>\n",
       "      <th>revenue</th>\n",
       "      <th>ad_impressions</th>\n",
       "      <th>active_view_enabled_impressions</th>\n",
       "      <th>active_view_measured_impressions</th>\n",
       "    </tr>\n",
       "  </thead>\n",
       "  <tbody>\n",
       "    <tr>\n",
       "      <th>110071</th>\n",
       "      <td>09/05/2022</td>\n",
       "      <td>lun</td>\n",
       "      <td>DineroenImagen</td>\n",
       "      <td>Sin Posicion</td>\n",
       "      <td>Desktop</td>\n",
       "      <td>Mexico</td>\n",
       "      <td>2 UPR Desktop NoUSA</td>\n",
       "      <td>0.85</td>\n",
       "      <td>4</td>\n",
       "      <td>1</td>\n",
       "      <td>0</td>\n",
       "      <td>0.00</td>\n",
       "      <td>0</td>\n",
       "      <td>0</td>\n",
       "      <td>0</td>\n",
       "    </tr>\n",
       "    <tr>\n",
       "      <th>110072</th>\n",
       "      <td>25/05/2022</td>\n",
       "      <td>mié</td>\n",
       "      <td>DineroenImagen</td>\n",
       "      <td>Sin Posicion</td>\n",
       "      <td>Desktop</td>\n",
       "      <td>Mexico</td>\n",
       "      <td>2 UPR Desktop NoUSA</td>\n",
       "      <td>0.50</td>\n",
       "      <td>4</td>\n",
       "      <td>2</td>\n",
       "      <td>0</td>\n",
       "      <td>0.02</td>\n",
       "      <td>1</td>\n",
       "      <td>1</td>\n",
       "      <td>1</td>\n",
       "    </tr>\n",
       "    <tr>\n",
       "      <th>110073</th>\n",
       "      <td>30/05/2022</td>\n",
       "      <td>lun</td>\n",
       "      <td>DineroenImagen</td>\n",
       "      <td>Sin Posicion</td>\n",
       "      <td>Desktop</td>\n",
       "      <td>Mexico</td>\n",
       "      <td>2 UPR Desktop NoUSA</td>\n",
       "      <td>0.50</td>\n",
       "      <td>2</td>\n",
       "      <td>1</td>\n",
       "      <td>0</td>\n",
       "      <td>0.00</td>\n",
       "      <td>1</td>\n",
       "      <td>1</td>\n",
       "      <td>1</td>\n",
       "    </tr>\n",
       "    <tr>\n",
       "      <th>110074</th>\n",
       "      <td>02/06/2022</td>\n",
       "      <td>jue</td>\n",
       "      <td>DineroenImagen</td>\n",
       "      <td>Sin Posicion</td>\n",
       "      <td>Desktop</td>\n",
       "      <td>Mexico</td>\n",
       "      <td>2 UPR Desktop NoUSA</td>\n",
       "      <td>0.50</td>\n",
       "      <td>11</td>\n",
       "      <td>9</td>\n",
       "      <td>0</td>\n",
       "      <td>0.00</td>\n",
       "      <td>1</td>\n",
       "      <td>1</td>\n",
       "      <td>1</td>\n",
       "    </tr>\n",
       "    <tr>\n",
       "      <th>110075</th>\n",
       "      <td>07/06/2022</td>\n",
       "      <td>mar</td>\n",
       "      <td>DineroenImagen</td>\n",
       "      <td>Sin Posicion</td>\n",
       "      <td>Desktop</td>\n",
       "      <td>Mexico</td>\n",
       "      <td>2 UPR Desktop NoUSA</td>\n",
       "      <td>0.50</td>\n",
       "      <td>16</td>\n",
       "      <td>2</td>\n",
       "      <td>0</td>\n",
       "      <td>0.00</td>\n",
       "      <td>0</td>\n",
       "      <td>0</td>\n",
       "      <td>0</td>\n",
       "    </tr>\n",
       "  </tbody>\n",
       "</table>\n",
       "</div>"
      ],
      "text/plain": [
       "               day weekday            site creative_size   device country  \\\n",
       "110071  09/05/2022     lun  DineroenImagen  Sin Posicion  Desktop  Mexico   \n",
       "110072  25/05/2022     mié  DineroenImagen  Sin Posicion  Desktop  Mexico   \n",
       "110073  30/05/2022     lun  DineroenImagen  Sin Posicion  Desktop  Mexico   \n",
       "110074  02/06/2022     jue  DineroenImagen  Sin Posicion  Desktop  Mexico   \n",
       "110075  07/06/2022     mar  DineroenImagen  Sin Posicion  Desktop  Mexico   \n",
       "\n",
       "         pricing_rules_name  pricing_rules  ad_requests  matched_ad_requests  \\\n",
       "110071  2 UPR Desktop NoUSA           0.85            4                    1   \n",
       "110072  2 UPR Desktop NoUSA           0.50            4                    2   \n",
       "110073  2 UPR Desktop NoUSA           0.50            2                    1   \n",
       "110074  2 UPR Desktop NoUSA           0.50           11                    9   \n",
       "110075  2 UPR Desktop NoUSA           0.50           16                    2   \n",
       "\n",
       "        clicks  revenue  ad_impressions  active_view_enabled_impressions  \\\n",
       "110071       0     0.00               0                                0   \n",
       "110072       0     0.02               1                                1   \n",
       "110073       0     0.00               1                                1   \n",
       "110074       0     0.00               1                                1   \n",
       "110075       0     0.00               0                                0   \n",
       "\n",
       "        active_view_measured_impressions  \n",
       "110071                                 0  \n",
       "110072                                 1  \n",
       "110073                                 1  \n",
       "110074                                 1  \n",
       "110075                                 0  "
      ]
     },
     "execution_count": 728,
     "metadata": {},
     "output_type": "execute_result"
    }
   ],
   "source": [
    "#prules = carga_prules\n",
    "prules.head()"
   ]
  },
  {
   "cell_type": "code",
   "execution_count": 729,
   "id": "9a65ed44-edf1-4708-bec1-c570960c255f",
   "metadata": {},
   "outputs": [
    {
     "name": "stdout",
     "output_type": "stream",
     "text": [
      "<class 'pandas.core.frame.DataFrame'>\n",
      "Int64Index: 53808 entries, 110071 to 163878\n",
      "Data columns (total 15 columns):\n",
      " #   Column                            Non-Null Count  Dtype  \n",
      "---  ------                            --------------  -----  \n",
      " 0   day                               53808 non-null  object \n",
      " 1   weekday                           53808 non-null  object \n",
      " 2   site                              53808 non-null  object \n",
      " 3   creative_size                     53808 non-null  object \n",
      " 4   device                            53808 non-null  object \n",
      " 5   country                           53808 non-null  object \n",
      " 6   pricing_rules_name                53808 non-null  object \n",
      " 7   pricing_rules                     53808 non-null  float64\n",
      " 8   ad_requests                       53808 non-null  int64  \n",
      " 9   matched_ad_requests               53808 non-null  int64  \n",
      " 10  clicks                            53808 non-null  int64  \n",
      " 11  revenue                           53808 non-null  float64\n",
      " 12  ad_impressions                    53808 non-null  int64  \n",
      " 13  active_view_enabled_impressions   53808 non-null  int64  \n",
      " 14  active_view_measured_impressions  53808 non-null  int64  \n",
      "dtypes: float64(2), int64(6), object(7)\n",
      "memory usage: 6.6+ MB\n"
     ]
    }
   ],
   "source": [
    "# Información de tipo de datos por cada campo\n",
    "prules.info()"
   ]
  },
  {
   "cell_type": "code",
   "execution_count": 730,
   "id": "1d9359c4-1d1c-4949-a868-26b18e0a78e1",
   "metadata": {
    "tags": []
   },
   "outputs": [],
   "source": [
    "prules = prules.reset_index(drop = True)"
   ]
  },
  {
   "cell_type": "code",
   "execution_count": 698,
   "id": "317ade88-0c99-4280-9da3-3a7051ccb514",
   "metadata": {},
   "outputs": [
    {
     "data": {
      "text/html": [
       "<div>\n",
       "<style scoped>\n",
       "    .dataframe tbody tr th:only-of-type {\n",
       "        vertical-align: middle;\n",
       "    }\n",
       "\n",
       "    .dataframe tbody tr th {\n",
       "        vertical-align: top;\n",
       "    }\n",
       "\n",
       "    .dataframe thead th {\n",
       "        text-align: right;\n",
       "    }\n",
       "</style>\n",
       "<table border=\"1\" class=\"dataframe\">\n",
       "  <thead>\n",
       "    <tr style=\"text-align: right;\">\n",
       "      <th></th>\n",
       "      <th>pricing_rules</th>\n",
       "      <th>ad_requests</th>\n",
       "      <th>matched_ad_requests</th>\n",
       "      <th>clicks</th>\n",
       "      <th>revenue</th>\n",
       "      <th>ad_impressions</th>\n",
       "      <th>active_view_enabled_impressions</th>\n",
       "      <th>active_view_measured_impressions</th>\n",
       "    </tr>\n",
       "  </thead>\n",
       "  <tbody>\n",
       "    <tr>\n",
       "      <th>count</th>\n",
       "      <td>53808.000000</td>\n",
       "      <td>53808.000000</td>\n",
       "      <td>53808.000000</td>\n",
       "      <td>53808.000000</td>\n",
       "      <td>53808.000000</td>\n",
       "      <td>53808.000000</td>\n",
       "      <td>53808.000000</td>\n",
       "      <td>53808.000000</td>\n",
       "    </tr>\n",
       "    <tr>\n",
       "      <th>mean</th>\n",
       "      <td>2.229937</td>\n",
       "      <td>4183.094986</td>\n",
       "      <td>1348.570045</td>\n",
       "      <td>6.337905</td>\n",
       "      <td>14.646625</td>\n",
       "      <td>989.897171</td>\n",
       "      <td>987.581326</td>\n",
       "      <td>985.227884</td>\n",
       "    </tr>\n",
       "    <tr>\n",
       "      <th>std</th>\n",
       "      <td>1.805361</td>\n",
       "      <td>16429.761322</td>\n",
       "      <td>8486.843635</td>\n",
       "      <td>63.373357</td>\n",
       "      <td>133.063180</td>\n",
       "      <td>7400.499835</td>\n",
       "      <td>7385.773413</td>\n",
       "      <td>7374.305223</td>\n",
       "    </tr>\n",
       "    <tr>\n",
       "      <th>min</th>\n",
       "      <td>0.000000</td>\n",
       "      <td>1.000000</td>\n",
       "      <td>0.000000</td>\n",
       "      <td>0.000000</td>\n",
       "      <td>0.000000</td>\n",
       "      <td>-2.000000</td>\n",
       "      <td>0.000000</td>\n",
       "      <td>0.000000</td>\n",
       "    </tr>\n",
       "    <tr>\n",
       "      <th>25%</th>\n",
       "      <td>1.000000</td>\n",
       "      <td>18.000000</td>\n",
       "      <td>4.000000</td>\n",
       "      <td>0.000000</td>\n",
       "      <td>0.030000</td>\n",
       "      <td>3.000000</td>\n",
       "      <td>3.000000</td>\n",
       "      <td>3.000000</td>\n",
       "    </tr>\n",
       "    <tr>\n",
       "      <th>50%</th>\n",
       "      <td>1.800000</td>\n",
       "      <td>117.000000</td>\n",
       "      <td>29.000000</td>\n",
       "      <td>0.000000</td>\n",
       "      <td>0.240000</td>\n",
       "      <td>18.000000</td>\n",
       "      <td>18.000000</td>\n",
       "      <td>18.000000</td>\n",
       "    </tr>\n",
       "    <tr>\n",
       "      <th>75%</th>\n",
       "      <td>2.800000</td>\n",
       "      <td>1152.000000</td>\n",
       "      <td>259.000000</td>\n",
       "      <td>0.000000</td>\n",
       "      <td>1.700000</td>\n",
       "      <td>140.000000</td>\n",
       "      <td>140.000000</td>\n",
       "      <td>139.000000</td>\n",
       "    </tr>\n",
       "    <tr>\n",
       "      <th>max</th>\n",
       "      <td>9.230000</td>\n",
       "      <td>529974.000000</td>\n",
       "      <td>472575.000000</td>\n",
       "      <td>4386.000000</td>\n",
       "      <td>11517.870000</td>\n",
       "      <td>442207.000000</td>\n",
       "      <td>441593.000000</td>\n",
       "      <td>441031.000000</td>\n",
       "    </tr>\n",
       "  </tbody>\n",
       "</table>\n",
       "</div>"
      ],
      "text/plain": [
       "       pricing_rules    ad_requests  matched_ad_requests        clicks  \\\n",
       "count   53808.000000   53808.000000         53808.000000  53808.000000   \n",
       "mean        2.229937    4183.094986          1348.570045      6.337905   \n",
       "std         1.805361   16429.761322          8486.843635     63.373357   \n",
       "min         0.000000       1.000000             0.000000      0.000000   \n",
       "25%         1.000000      18.000000             4.000000      0.000000   \n",
       "50%         1.800000     117.000000            29.000000      0.000000   \n",
       "75%         2.800000    1152.000000           259.000000      0.000000   \n",
       "max         9.230000  529974.000000        472575.000000   4386.000000   \n",
       "\n",
       "            revenue  ad_impressions  active_view_enabled_impressions  \\\n",
       "count  53808.000000    53808.000000                     53808.000000   \n",
       "mean      14.646625      989.897171                       987.581326   \n",
       "std      133.063180     7400.499835                      7385.773413   \n",
       "min        0.000000       -2.000000                         0.000000   \n",
       "25%        0.030000        3.000000                         3.000000   \n",
       "50%        0.240000       18.000000                        18.000000   \n",
       "75%        1.700000      140.000000                       140.000000   \n",
       "max    11517.870000   442207.000000                    441593.000000   \n",
       "\n",
       "       active_view_measured_impressions  \n",
       "count                      53808.000000  \n",
       "mean                         985.227884  \n",
       "std                         7374.305223  \n",
       "min                            0.000000  \n",
       "25%                            3.000000  \n",
       "50%                           18.000000  \n",
       "75%                          139.000000  \n",
       "max                       441031.000000  "
      ]
     },
     "execution_count": 698,
     "metadata": {},
     "output_type": "execute_result"
    }
   ],
   "source": [
    "prules.describe()"
   ]
  },
  {
   "cell_type": "code",
   "execution_count": 699,
   "id": "02fa9c72-0224-4e91-b96a-c97ef1fcf0da",
   "metadata": {
    "tags": []
   },
   "outputs": [
    {
     "name": "stdout",
     "output_type": "stream",
     "text": [
      "Saving figure attribute_histogram_plots\n"
     ]
    },
    {
     "data": {
      "image/png": "[encoded data removed]",
      "text/plain": [
       "<Figure size 1440x1080 with 9 Axes>"
      ]
     },
     "metadata": {
      "needs_background": "light"
     },
     "output_type": "display_data"
    }
   ],
   "source": [
    "# Se observa que hay registros que tienen valores muy grandes.\n",
    "%matplotlib inline\n",
    "import matplotlib.pyplot as plt\n",
    "prules.hist(bins=100, figsize=(20,15))\n",
    "save_fig(\"attribute_histogram_plots\")\n",
    "plt.show()"
   ]
  },
  {
   "cell_type": "markdown",
   "id": "a174f312-438d-4ab9-a771-a8e415c554cb",
   "metadata": {},
   "source": [
    "# Generación de set de entramiento 80% y validación 20%"
   ]
  },
  {
   "cell_type": "code",
   "execution_count": 731,
   "id": "c96cf224-d760-4888-9095-4b80681116f0",
   "metadata": {},
   "outputs": [],
   "source": [
    "# Creación de Métrica rCPM Ingresos/Ad Requests * 1,000\n",
    "prules['rCPM'] = prules['revenue']/prules['ad_requests']*1000"
   ]
  },
  {
   "cell_type": "code",
   "execution_count": 732,
   "id": "364ae762-dcd5-450e-b631-4635303c00ec",
   "metadata": {},
   "outputs": [
    {
     "data": {
      "text/plain": [
       "<AxesSubplot:>"
      ]
     },
     "execution_count": 732,
     "metadata": {},
     "output_type": "execute_result"
    },
    {
     "data": {
      "image/png": "[encoded data removed]",
      "text/plain": [
       "<Figure size 432x288 with 1 Axes>"
      ]
     },
     "metadata": {
      "needs_background": "light"
     },
     "output_type": "display_data"
    }
   ],
   "source": [
    "prules['rCPM'].hist(range = [0,10])"
   ]
  },
  {
   "cell_type": "code",
   "execution_count": 733,
   "id": "78cb181f-1d19-49e9-9afe-de171463e98a",
   "metadata": {},
   "outputs": [
    {
     "data": {
      "text/plain": [
       "<AxesSubplot:>"
      ]
     },
     "execution_count": 733,
     "metadata": {},
     "output_type": "execute_result"
    },
    {
     "data": {
      "image/png": "[encoded data removed]",
      "text/plain": [
       "<Figure size 432x288 with 1 Axes>"
      ]
     },
     "metadata": {
      "needs_background": "light"
     },
     "output_type": "display_data"
    }
   ],
   "source": [
    "prules['pricing_rules'].hist(range = [0,10])"
   ]
  },
  {
   "cell_type": "code",
   "execution_count": 734,
   "id": "170caf20-074c-48da-92e4-d65b61b5278a",
   "metadata": {},
   "outputs": [],
   "source": [
    "# Se hace la estratificación de las instancias por rCPM\n",
    "prules['prules_cat'] = pd.cut(prules[\"pricing_rules\"],\n",
    "                               bins=[-np.inf, 0.8, 1.6, 2.4, 3.2,np.inf],\n",
    "                               labels=[1, 2, 3, 4, 5])"
   ]
  },
  {
   "cell_type": "code",
   "execution_count": 735,
   "id": "9e59d8ef-5b3d-47c5-ac68-068e5d6ab5e0",
   "metadata": {},
   "outputs": [
    {
     "data": {
      "text/plain": [
       "2    15504\n",
       "4    11269\n",
       "3     9731\n",
       "1     9155\n",
       "5     8149\n",
       "Name: prules_cat, dtype: int64"
      ]
     },
     "execution_count": 735,
     "metadata": {},
     "output_type": "execute_result"
    }
   ],
   "source": [
    "# Estratificación con $1 de diferencia cada estrato\n",
    "prules[\"prules_cat\"].value_counts()"
   ]
  },
  {
   "cell_type": "code",
   "execution_count": 736,
   "id": "2a138020-717c-4aa2-9e72-10d0104045ab",
   "metadata": {},
   "outputs": [
    {
     "data": {
      "text/plain": [
       "<AxesSubplot:>"
      ]
     },
     "execution_count": 736,
     "metadata": {},
     "output_type": "execute_result"
    },
    {
     "data": {
      "image/png": "[encoded data removed]",
      "text/plain": [
       "<Figure size 432x288 with 1 Axes>"
      ]
     },
     "metadata": {
      "needs_background": "light"
     },
     "output_type": "display_data"
    }
   ],
   "source": [
    "prules[\"prules_cat\"].hist(range = [1,6])"
   ]
  },
  {
   "cell_type": "code",
   "execution_count": 737,
   "id": "50b1cee7-53b2-4621-9880-628b9047605c",
   "metadata": {
    "tags": []
   },
   "outputs": [],
   "source": [
    "from sklearn.model_selection import StratifiedShuffleSplit\n",
    "\n",
    "split = StratifiedShuffleSplit(n_splits=1, test_size=0.2, random_state=42)\n",
    "for train_index, test_index in split.split(prules, prules[\"prules_cat\"]):\n",
    "    strat_train_set = prules.loc[train_index]\n",
    "    strat_test_set = prules.loc[test_index]"
   ]
  },
  {
   "cell_type": "code",
   "execution_count": 738,
   "id": "fdd6d5d4-1489-4739-bbc9-f741ba20cd6a",
   "metadata": {},
   "outputs": [
    {
     "data": {
      "text/plain": [
       "2    0.288143\n",
       "4    0.209441\n",
       "3    0.180821\n",
       "1    0.170136\n",
       "5    0.151459\n",
       "Name: prules_cat, dtype: float64"
      ]
     },
     "execution_count": 738,
     "metadata": {},
     "output_type": "execute_result"
    }
   ],
   "source": [
    "# Set estratificado\n",
    "strat_test_set[\"prules_cat\"].value_counts() / len(strat_test_set)"
   ]
  },
  {
   "cell_type": "code",
   "execution_count": 739,
   "id": "d11bba5c-9ff0-4f6b-8645-de41c83a46f4",
   "metadata": {},
   "outputs": [
    {
     "data": {
      "text/plain": [
       "2    0.288136\n",
       "4    0.209430\n",
       "3    0.180847\n",
       "1    0.170142\n",
       "5    0.151446\n",
       "Name: prules_cat, dtype: float64"
      ]
     },
     "execution_count": 739,
     "metadata": {},
     "output_type": "execute_result"
    }
   ],
   "source": [
    "prules[\"prules_cat\"].value_counts() / len(prules)"
   ]
  },
  {
   "cell_type": "code",
   "execution_count": 740,
   "id": "72314e57-3237-4649-91c2-8e26ecf2b480",
   "metadata": {},
   "outputs": [],
   "source": [
    "for set_ in (strat_train_set, strat_test_set):\n",
    "    set_.drop(\"prules_cat\", axis=1, inplace=True)"
   ]
  },
  {
   "cell_type": "markdown",
   "id": "21c6e86c-5f8e-495b-b4ed-b6fe01ac23d1",
   "metadata": {},
   "source": [
    "# Visualizar (dispersiones) y explorar (correlaciones, histogramas, etc.)"
   ]
  },
  {
   "cell_type": "code",
   "execution_count": 741,
   "id": "cc581a7e-8165-4198-8e83-b48223d28c94",
   "metadata": {},
   "outputs": [],
   "source": [
    "prules = strat_train_set.copy()"
   ]
  },
  {
   "cell_type": "code",
   "execution_count": 742,
   "id": "5f22c6cb-2474-4157-b625-c539c6963b31",
   "metadata": {},
   "outputs": [
    {
     "name": "stdout",
     "output_type": "stream",
     "text": [
      "Saving figure better_visualization_plot\n"
     ]
    },
    {
     "data": {
      "image/png": "[encoded data removed]",
      "text/plain": [
       "<Figure size 432x288 with 1 Axes>"
      ]
     },
     "metadata": {
      "needs_background": "light"
     },
     "output_type": "display_data"
    }
   ],
   "source": [
    "# Graficación de Ad Requests vs Estimated Revenue para ver correlaciones\n",
    "prules.plot(kind=\"scatter\", x=\"ad_requests\", y=\"revenue\", alpha=0.1)\n",
    "save_fig(\"better_visualization_plot\")"
   ]
  },
  {
   "cell_type": "code",
   "execution_count": 743,
   "id": "f74f6895-5d2a-474b-b08d-79d1d7d00d86",
   "metadata": {},
   "outputs": [
    {
     "name": "stdout",
     "output_type": "stream",
     "text": [
      "Saving figure scatter_matrix_plot\n"
     ]
    },
    {
     "data": {
      "image/png": "[encoded data removed]",
      "text/plain": [
       "<Figure size 864x576 with 25 Axes>"
      ]
     },
     "metadata": {
      "needs_background": "light"
     },
     "output_type": "display_data"
    }
   ],
   "source": [
    "# from pandas.tools.plotting import scatter_matrix # For older versions of Pandas\n",
    "# Todas las gráficas se ven muy dispersas\n",
    "from pandas.plotting import scatter_matrix\n",
    "\n",
    "prules['rCPM'] = prules['revenue']/prules['ad_requests']*1000\n",
    "\n",
    "attributes = [\"ad_requests\", \"revenue\", \"ad_impressions\",\n",
    "              \"rCPM\", 'pricing_rules']\n",
    "scatter_matrix(prules[attributes], figsize=(12, 8))\n",
    "save_fig(\"scatter_matrix_plot\")"
   ]
  },
  {
   "cell_type": "code",
   "execution_count": 716,
   "id": "a828a838-5b25-4541-a379-d51994019052",
   "metadata": {
    "tags": []
   },
   "outputs": [
    {
     "name": "stdout",
     "output_type": "stream",
     "text": [
      "Saving figure pricing_rules_vs_estimated_revenue\n"
     ]
    },
    {
     "data": {
      "image/png": "[encoded data removed]",
      "text/plain": [
       "<Figure size 432x288 with 1 Axes>"
      ]
     },
     "metadata": {
      "needs_background": "light"
     },
     "output_type": "display_data"
    }
   ],
   "source": [
    "prules.plot(kind=\"scatter\", x=\"pricing_rules\", y=\"revenue\")\n",
    "plt.axis([0, 16, 0, 1000])\n",
    "save_fig(\"pricing_rules_vs_estimated_revenue\")"
   ]
  },
  {
   "cell_type": "code",
   "execution_count": 717,
   "id": "28026999-f154-4843-a059-4b6f9cdee640",
   "metadata": {},
   "outputs": [
    {
     "name": "stdout",
     "output_type": "stream",
     "text": [
      "Saving figure pricing_rules_vs_rCPM\n"
     ]
    },
    {
     "data": {
      "image/png": "[encoded data removed]",
      "text/plain": [
       "<Figure size 432x288 with 1 Axes>"
      ]
     },
     "metadata": {
      "needs_background": "light"
     },
     "output_type": "display_data"
    }
   ],
   "source": [
    "prules.plot(kind=\"scatter\", x=\"pricing_rules\", y=\"rCPM\")\n",
    "plt.axis([0, 16, 0, 150])\n",
    "save_fig(\"pricing_rules_vs_rCPM\")"
   ]
  },
  {
   "cell_type": "code",
   "execution_count": 744,
   "id": "8f454aa4-c1ff-4f0e-a331-fb86a46bb8a9",
   "metadata": {},
   "outputs": [],
   "source": [
    "# Se añaden otras métricas calculadas para analizar correlación.\n",
    "prules['eCPM'] = prules['revenue']/prules['ad_impressions']*1000\n",
    "prules['Fill Rate'] = prules['ad_impressions']/prules['ad_requests']"
   ]
  },
  {
   "cell_type": "code",
   "execution_count": 745,
   "id": "71c24fb9-e2fc-49d1-ab93-2227c2153243",
   "metadata": {},
   "outputs": [
    {
     "data": {
      "text/plain": [
       "pricing_rules                       1.000000\n",
       "Fill Rate                           0.189399\n",
       "revenue                             0.168027\n",
       "active_view_measured_impressions    0.159282\n",
       "active_view_enabled_impressions     0.159221\n",
       "ad_impressions                      0.159219\n",
       "rCPM                                0.159147\n",
       "clicks                              0.152138\n",
       "eCPM                                0.142063\n",
       "matched_ad_requests                 0.134966\n",
       "ad_requests                         0.084273\n",
       "Name: pricing_rules, dtype: float64"
      ]
     },
     "execution_count": 745,
     "metadata": {},
     "output_type": "execute_result"
    }
   ],
   "source": [
    "# La métrica con la que tiene más correlación es eCPM, el cual dependiente del rCPM.\n",
    "# Otra métrica que es la que tiene mayor correlación es el Fill Rate.\n",
    "corr_matrix = prules.corr()\n",
    "corr_matrix[\"pricing_rules\"].sort_values(ascending=False)"
   ]
  },
  {
   "cell_type": "code",
   "execution_count": 721,
   "id": "fdf5b626-80cd-4b3a-afb1-6e7c949ab04e",
   "metadata": {},
   "outputs": [
    {
     "data": {
      "text/plain": [
       "revenue                             1.000000\n",
       "active_view_measured_impressions    0.936689\n",
       "active_view_enabled_impressions     0.936615\n",
       "ad_impressions                      0.936501\n",
       "clicks                              0.935942\n",
       "matched_ad_requests                 0.906999\n",
       "ad_requests                         0.565571\n",
       "pricing_rules                       0.168027\n",
       "Fill Rate                           0.110557\n",
       "rCPM                                0.084396\n",
       "eCPM                                0.034476\n",
       "Name: revenue, dtype: float64"
      ]
     },
     "execution_count": 721,
     "metadata": {},
     "output_type": "execute_result"
    }
   ],
   "source": [
    "# Por el lado de los ingresos está relacionado con Impresiones\n",
    "corr_matrix = prules.corr()\n",
    "corr_matrix[\"revenue\"].sort_values(ascending=False)"
   ]
  },
  {
   "cell_type": "markdown",
   "id": "92d609f9-eedc-4d8d-8454-697f63cd8962",
   "metadata": {},
   "source": [
    "# Preparar (limpieza de datos, escalamiento)"
   ]
  },
  {
   "cell_type": "code",
   "execution_count": 746,
   "id": "a44c9da1-856a-4218-ab90-aa18009dfa1a",
   "metadata": {},
   "outputs": [],
   "source": [
    "# Creamos nuestro set de entrenamiento y nuestras etiquetas, a partir de nuestro set estratificado.\n",
    "prules = strat_train_set.drop(\"pricing_rules\", axis=1) # drop labels for training set\n",
    "prules_labels = strat_train_set[\"pricing_rules\"].copy()"
   ]
  },
  {
   "cell_type": "code",
   "execution_count": 723,
   "id": "fb7fb44f-4033-4faf-9db3-582e1cd535a3",
   "metadata": {},
   "outputs": [
    {
     "name": "stdout",
     "output_type": "stream",
     "text": [
      "<class 'pandas.core.frame.DataFrame'>\n",
      "Int64Index: 43046 entries, 40875 to 2523\n",
      "Data columns (total 15 columns):\n",
      " #   Column                            Non-Null Count  Dtype  \n",
      "---  ------                            --------------  -----  \n",
      " 0   day                               43046 non-null  object \n",
      " 1   weekday                           43046 non-null  object \n",
      " 2   site                              43046 non-null  object \n",
      " 3   creative_size                     43046 non-null  object \n",
      " 4   device                            43046 non-null  object \n",
      " 5   country                           43046 non-null  object \n",
      " 6   pricing_rules_name                43046 non-null  object \n",
      " 7   ad_requests                       43046 non-null  int64  \n",
      " 8   matched_ad_requests               43046 non-null  int64  \n",
      " 9   clicks                            43046 non-null  int64  \n",
      " 10  revenue                           43046 non-null  float64\n",
      " 11  ad_impressions                    43046 non-null  int64  \n",
      " 12  active_view_enabled_impressions   43046 non-null  int64  \n",
      " 13  active_view_measured_impressions  43046 non-null  int64  \n",
      " 14  rCPM                              43046 non-null  float64\n",
      "dtypes: float64(2), int64(6), object(7)\n",
      "memory usage: 5.3+ MB\n"
     ]
    }
   ],
   "source": [
    "prules.info()"
   ]
  },
  {
   "cell_type": "code",
   "execution_count": 747,
   "id": "b2e42a07-d34e-4d21-bace-c16ec068c1f0",
   "metadata": {},
   "outputs": [],
   "source": [
    "# Ya que las métricas no son configurables para indluir en el comportamiento del CPM, se retiran.\n",
    "prules = prules.drop('matched_ad_requests', axis=1)\n",
    "prules = prules.drop('clicks', axis=1)\n",
    "prules = prules.drop('ad_impressions', axis=1)\n",
    "prules = prules.drop('revenue', axis=1)\n",
    "prules = prules.drop('active_view_enabled_impressions', axis=1)\n",
    "prules = prules.drop('active_view_measured_impressions', axis=1)\n",
    "prules = prules.drop('rCPM', axis=1)"
   ]
  },
  {
   "cell_type": "code",
   "execution_count": 748,
   "id": "972c177f-7020-4bd1-b9a4-f2e0da452154",
   "metadata": {},
   "outputs": [
    {
     "name": "stdout",
     "output_type": "stream",
     "text": [
      "<class 'pandas.core.frame.DataFrame'>\n",
      "Int64Index: 43046 entries, 40875 to 2523\n",
      "Data columns (total 8 columns):\n",
      " #   Column              Non-Null Count  Dtype \n",
      "---  ------              --------------  ----- \n",
      " 0   day                 43046 non-null  object\n",
      " 1   weekday             43046 non-null  object\n",
      " 2   site                43046 non-null  object\n",
      " 3   creative_size       43046 non-null  object\n",
      " 4   device              43046 non-null  object\n",
      " 5   country             43046 non-null  object\n",
      " 6   pricing_rules_name  43046 non-null  object\n",
      " 7   ad_requests         43046 non-null  int64 \n",
      "dtypes: int64(1), object(7)\n",
      "memory usage: 3.0+ MB\n"
     ]
    }
   ],
   "source": [
    "# Solamente nos quedan las características configurables\n",
    "prules.info()"
   ]
  },
  {
   "cell_type": "code",
   "execution_count": 749,
   "id": "2d2e6124-fc9d-4279-b150-a555f05d86e8",
   "metadata": {},
   "outputs": [],
   "source": [
    "try:\n",
    "    from sklearn.impute import SimpleImputer # Scikit-Learn 0.20+\n",
    "except ImportError:\n",
    "    from sklearn.preprocessing import Imputer as SimpleImputer\n",
    "\n",
    "imputer = SimpleImputer(strategy=\"median\")"
   ]
  },
  {
   "cell_type": "code",
   "execution_count": 750,
   "id": "639102a9-82d9-4a94-9024-2b8eef3cb544",
   "metadata": {
    "tags": []
   },
   "outputs": [],
   "source": [
    "prules_num = prules.drop('day', axis=1)\n",
    "prules_num = prules_num.drop('weekday', axis=1)\n",
    "prules_num = prules_num.drop('site', axis=1)\n",
    "prules_num = prules_num.drop('device', axis=1)\n",
    "prules_num = prules_num.drop('country', axis=1)\n",
    "prules_num = prules_num.drop('pricing_rules_name', axis=1)\n",
    "prules_num = prules_num.drop('creative_size', axis=1)\n",
    "# alternatively: housing_num = housing.select_dtypes(include=[np.number])"
   ]
  },
  {
   "cell_type": "code",
   "execution_count": 751,
   "id": "bb76b839-04ea-48df-96da-341170516a82",
   "metadata": {
    "tags": []
   },
   "outputs": [
    {
     "data": {
      "text/plain": [
       "SimpleImputer(strategy='median')"
      ]
     },
     "execution_count": 751,
     "metadata": {},
     "output_type": "execute_result"
    }
   ],
   "source": [
    "imputer.fit(prules_num)"
   ]
  },
  {
   "cell_type": "code",
   "execution_count": 752,
   "id": "04dbf8af-ea5e-4379-99b0-9c73bca2718f",
   "metadata": {
    "tags": []
   },
   "outputs": [
    {
     "data": {
      "text/plain": [
       "array([116.])"
      ]
     },
     "execution_count": 752,
     "metadata": {},
     "output_type": "execute_result"
    }
   ],
   "source": [
    "imputer.statistics_"
   ]
  },
  {
   "cell_type": "code",
   "execution_count": 753,
   "id": "8558796f-2f64-45f9-9797-b2d9e0e92f5e",
   "metadata": {
    "tags": []
   },
   "outputs": [],
   "source": [
    "X = imputer.transform(prules_num)"
   ]
  },
  {
   "cell_type": "code",
   "execution_count": 754,
   "id": "f38ef7a8-2de9-4c87-aeb1-84468764ffa8",
   "metadata": {
    "tags": []
   },
   "outputs": [
    {
     "data": {
      "text/html": [
       "<div>\n",
       "<style scoped>\n",
       "    .dataframe tbody tr th:only-of-type {\n",
       "        vertical-align: middle;\n",
       "    }\n",
       "\n",
       "    .dataframe tbody tr th {\n",
       "        vertical-align: top;\n",
       "    }\n",
       "\n",
       "    .dataframe thead th {\n",
       "        text-align: right;\n",
       "    }\n",
       "</style>\n",
       "<table border=\"1\" class=\"dataframe\">\n",
       "  <thead>\n",
       "    <tr style=\"text-align: right;\">\n",
       "      <th></th>\n",
       "      <th>ad_requests</th>\n",
       "    </tr>\n",
       "  </thead>\n",
       "  <tbody>\n",
       "    <tr>\n",
       "      <th>40875</th>\n",
       "      <td>63.0</td>\n",
       "    </tr>\n",
       "    <tr>\n",
       "      <th>8542</th>\n",
       "      <td>64729.0</td>\n",
       "    </tr>\n",
       "    <tr>\n",
       "      <th>17858</th>\n",
       "      <td>18203.0</td>\n",
       "    </tr>\n",
       "    <tr>\n",
       "      <th>18542</th>\n",
       "      <td>10288.0</td>\n",
       "    </tr>\n",
       "    <tr>\n",
       "      <th>20339</th>\n",
       "      <td>2575.0</td>\n",
       "    </tr>\n",
       "  </tbody>\n",
       "</table>\n",
       "</div>"
      ],
      "text/plain": [
       "       ad_requests\n",
       "40875         63.0\n",
       "8542       64729.0\n",
       "17858      18203.0\n",
       "18542      10288.0\n",
       "20339       2575.0"
      ]
     },
     "execution_count": 754,
     "metadata": {},
     "output_type": "execute_result"
    }
   ],
   "source": [
    "prules_tr = pd.DataFrame(X, columns=prules_num.columns,\n",
    "                          index=prules.index)\n",
    "prules_tr.head()"
   ]
  },
  {
   "cell_type": "code",
   "execution_count": 755,
   "id": "4e6190b6-e5e4-4c3b-a6a2-c052918f37bf",
   "metadata": {},
   "outputs": [
    {
     "name": "stdout",
     "output_type": "stream",
     "text": [
      "<class 'pandas.core.frame.DataFrame'>\n",
      "Int64Index: 43046 entries, 40875 to 2523\n",
      "Data columns (total 8 columns):\n",
      " #   Column              Non-Null Count  Dtype \n",
      "---  ------              --------------  ----- \n",
      " 0   day                 43046 non-null  object\n",
      " 1   weekday             43046 non-null  object\n",
      " 2   site                43046 non-null  object\n",
      " 3   creative_size       43046 non-null  object\n",
      " 4   device              43046 non-null  object\n",
      " 5   country             43046 non-null  object\n",
      " 6   pricing_rules_name  43046 non-null  object\n",
      " 7   ad_requests         43046 non-null  int64 \n",
      "dtypes: int64(1), object(7)\n",
      "memory usage: 3.0+ MB\n"
     ]
    }
   ],
   "source": [
    "prules.info()\n"
   ]
  },
  {
   "cell_type": "code",
   "execution_count": 756,
   "id": "8cd2f02b-ab26-45f2-b1c4-a03d51526083",
   "metadata": {},
   "outputs": [
    {
     "name": "stderr",
     "output_type": "stream",
     "text": [
      "C:\\Users\\Aaron\\AppData\\Local\\Temp\\ipykernel_17656\\840369367.py:2: SettingWithCopyWarning: \n",
      "A value is trying to be set on a copy of a slice from a DataFrame.\n",
      "Try using .loc[row_indexer,col_indexer] = value instead\n",
      "\n",
      "See the caveats in the documentation: https://pandas.pydata.org/pandas-docs/stable/user_guide/indexing.html#returning-a-view-versus-a-copy\n",
      "  prules_cat['site'] = prules[['site']]\n",
      "C:\\Users\\Aaron\\AppData\\Local\\Temp\\ipykernel_17656\\840369367.py:3: SettingWithCopyWarning: \n",
      "A value is trying to be set on a copy of a slice from a DataFrame.\n",
      "Try using .loc[row_indexer,col_indexer] = value instead\n",
      "\n",
      "See the caveats in the documentation: https://pandas.pydata.org/pandas-docs/stable/user_guide/indexing.html#returning-a-view-versus-a-copy\n",
      "  prules_cat['creative_size'] = prules[['creative_size']]\n",
      "C:\\Users\\Aaron\\AppData\\Local\\Temp\\ipykernel_17656\\840369367.py:4: SettingWithCopyWarning: \n",
      "A value is trying to be set on a copy of a slice from a DataFrame.\n",
      "Try using .loc[row_indexer,col_indexer] = value instead\n",
      "\n",
      "See the caveats in the documentation: https://pandas.pydata.org/pandas-docs/stable/user_guide/indexing.html#returning-a-view-versus-a-copy\n",
      "  prules_cat['device'] = prules[['device']]\n",
      "C:\\Users\\Aaron\\AppData\\Local\\Temp\\ipykernel_17656\\840369367.py:5: SettingWithCopyWarning: \n",
      "A value is trying to be set on a copy of a slice from a DataFrame.\n",
      "Try using .loc[row_indexer,col_indexer] = value instead\n",
      "\n",
      "See the caveats in the documentation: https://pandas.pydata.org/pandas-docs/stable/user_guide/indexing.html#returning-a-view-versus-a-copy\n",
      "  prules_cat['country'] = prules[['country']]\n"
     ]
    },
    {
     "data": {
      "text/html": [
       "<div>\n",
       "<style scoped>\n",
       "    .dataframe tbody tr th:only-of-type {\n",
       "        vertical-align: middle;\n",
       "    }\n",
       "\n",
       "    .dataframe tbody tr th {\n",
       "        vertical-align: top;\n",
       "    }\n",
       "\n",
       "    .dataframe thead th {\n",
       "        text-align: right;\n",
       "    }\n",
       "</style>\n",
       "<table border=\"1\" class=\"dataframe\">\n",
       "  <thead>\n",
       "    <tr style=\"text-align: right;\">\n",
       "      <th></th>\n",
       "      <th>weekday</th>\n",
       "      <th>site</th>\n",
       "      <th>creative_size</th>\n",
       "      <th>device</th>\n",
       "      <th>country</th>\n",
       "    </tr>\n",
       "  </thead>\n",
       "  <tbody>\n",
       "    <tr>\n",
       "      <th>40875</th>\n",
       "      <td>lun</td>\n",
       "      <td>DineroenImagen</td>\n",
       "      <td>300x250</td>\n",
       "      <td>Desktop</td>\n",
       "      <td>Mexico</td>\n",
       "    </tr>\n",
       "    <tr>\n",
       "      <th>8542</th>\n",
       "      <td>dom</td>\n",
       "      <td>DineroenImagen</td>\n",
       "      <td>gen_amp</td>\n",
       "      <td>High-end mobile devices</td>\n",
       "      <td>Mexico</td>\n",
       "    </tr>\n",
       "    <tr>\n",
       "      <th>17858</th>\n",
       "      <td>mar</td>\n",
       "      <td>DineroenImagen</td>\n",
       "      <td>Tags</td>\n",
       "      <td>Desktop</td>\n",
       "      <td>Mexico</td>\n",
       "    </tr>\n",
       "    <tr>\n",
       "      <th>18542</th>\n",
       "      <td>jue</td>\n",
       "      <td>DineroenImagen</td>\n",
       "      <td>Sin Posicion</td>\n",
       "      <td>High-end mobile devices</td>\n",
       "      <td>Mexico</td>\n",
       "    </tr>\n",
       "    <tr>\n",
       "      <th>20339</th>\n",
       "      <td>jue</td>\n",
       "      <td>DineroenImagen</td>\n",
       "      <td>300x250</td>\n",
       "      <td>Desktop</td>\n",
       "      <td>Mexico</td>\n",
       "    </tr>\n",
       "    <tr>\n",
       "      <th>13117</th>\n",
       "      <td>sáb</td>\n",
       "      <td>DineroenImagen</td>\n",
       "      <td>300x250</td>\n",
       "      <td>Desktop</td>\n",
       "      <td>Mexico</td>\n",
       "    </tr>\n",
       "    <tr>\n",
       "      <th>52932</th>\n",
       "      <td>mar</td>\n",
       "      <td>DineroenImagen</td>\n",
       "      <td>728x90</td>\n",
       "      <td>Desktop</td>\n",
       "      <td>Mexico</td>\n",
       "    </tr>\n",
       "    <tr>\n",
       "      <th>17627</th>\n",
       "      <td>mar</td>\n",
       "      <td>DineroenImagen</td>\n",
       "      <td>Tags</td>\n",
       "      <td>Desktop</td>\n",
       "      <td>United States</td>\n",
       "    </tr>\n",
       "    <tr>\n",
       "      <th>49260</th>\n",
       "      <td>dom</td>\n",
       "      <td>DineroenImagen</td>\n",
       "      <td>Zocalo</td>\n",
       "      <td>High-end mobile devices</td>\n",
       "      <td>Mexico</td>\n",
       "    </tr>\n",
       "    <tr>\n",
       "      <th>31531</th>\n",
       "      <td>sáb</td>\n",
       "      <td>DineroenImagen</td>\n",
       "      <td>Sin Posicion</td>\n",
       "      <td>High-end mobile devices</td>\n",
       "      <td>Mexico</td>\n",
       "    </tr>\n",
       "  </tbody>\n",
       "</table>\n",
       "</div>"
      ],
      "text/plain": [
       "      weekday            site creative_size                   device  \\\n",
       "40875     lun  DineroenImagen       300x250                  Desktop   \n",
       "8542      dom  DineroenImagen       gen_amp  High-end mobile devices   \n",
       "17858     mar  DineroenImagen          Tags                  Desktop   \n",
       "18542     jue  DineroenImagen  Sin Posicion  High-end mobile devices   \n",
       "20339     jue  DineroenImagen       300x250                  Desktop   \n",
       "13117     sáb  DineroenImagen       300x250                  Desktop   \n",
       "52932     mar  DineroenImagen        728x90                  Desktop   \n",
       "17627     mar  DineroenImagen          Tags                  Desktop   \n",
       "49260     dom  DineroenImagen        Zocalo  High-end mobile devices   \n",
       "31531     sáb  DineroenImagen  Sin Posicion  High-end mobile devices   \n",
       "\n",
       "             country  \n",
       "40875         Mexico  \n",
       "8542          Mexico  \n",
       "17858         Mexico  \n",
       "18542         Mexico  \n",
       "20339         Mexico  \n",
       "13117         Mexico  \n",
       "52932         Mexico  \n",
       "17627  United States  \n",
       "49260         Mexico  \n",
       "31531         Mexico  "
      ]
     },
     "execution_count": 756,
     "metadata": {},
     "output_type": "execute_result"
    }
   ],
   "source": [
    "prules_cat = prules[['weekday']]\n",
    "prules_cat['site'] = prules[['site']]\n",
    "prules_cat['creative_size'] = prules[['creative_size']]\n",
    "prules_cat['device'] = prules[['device']]\n",
    "prules_cat['country'] = prules[['country']]\n",
    "prules_cat.head(10)"
   ]
  },
  {
   "cell_type": "code",
   "execution_count": 757,
   "id": "60acbcd4-48e9-4e9d-98c0-279d942e7e0a",
   "metadata": {},
   "outputs": [],
   "source": [
    "try:\n",
    "    from sklearn.preprocessing import OrdinalEncoder\n",
    "except ImportError:\n",
    "    from future_encoders import OrdinalEncoder # Scikit-Learn < 0.20"
   ]
  },
  {
   "cell_type": "code",
   "execution_count": 758,
   "id": "dbb5a155-e71c-4640-90cd-2636510a80d3",
   "metadata": {},
   "outputs": [
    {
     "data": {
      "text/plain": [
       "array([[2., 0., 1., 0., 0.],\n",
       "       [0., 0., 8., 1., 0.],\n",
       "       [3., 0., 6., 0., 0.],\n",
       "       [1., 0., 5., 1., 0.],\n",
       "       [1., 0., 1., 0., 0.],\n",
       "       [5., 0., 1., 0., 0.],\n",
       "       [3., 0., 4., 0., 0.],\n",
       "       [3., 0., 6., 0., 1.],\n",
       "       [0., 0., 7., 1., 0.],\n",
       "       [5., 0., 5., 1., 0.]])"
      ]
     },
     "execution_count": 758,
     "metadata": {},
     "output_type": "execute_result"
    }
   ],
   "source": [
    "ordinal_encoder = OrdinalEncoder()\n",
    "prules_cat_encoded = ordinal_encoder.fit_transform(prules_cat)\n",
    "prules_cat_encoded[:10]"
   ]
  },
  {
   "cell_type": "code",
   "execution_count": 759,
   "id": "56eef8ea-752e-4a03-9023-338adc692d36",
   "metadata": {},
   "outputs": [
    {
     "data": {
      "text/plain": [
       "[array(['dom', 'jue', 'lun', 'mar', 'mié', 'sáb', 'vie'], dtype=object),\n",
       " array(['DineroenImagen'], dtype=object),\n",
       " array(['1x1', '300x250', '300x600', '320x100', '728x90', 'Sin Posicion',\n",
       "        'Tags', 'Zocalo', 'gen_amp'], dtype=object),\n",
       " array(['Desktop', 'High-end mobile devices'], dtype=object),\n",
       " array(['Mexico', 'United States'], dtype=object)]"
      ]
     },
     "execution_count": 759,
     "metadata": {},
     "output_type": "execute_result"
    }
   ],
   "source": [
    "ordinal_encoder.categories_"
   ]
  },
  {
   "cell_type": "code",
   "execution_count": 760,
   "id": "1a592b8d-012c-4cb7-9e33-bee5919d20d7",
   "metadata": {},
   "outputs": [
    {
     "data": {
      "text/plain": [
       "<43046x21 sparse matrix of type '<class 'numpy.float64'>'\n",
       "\twith 215230 stored elements in Compressed Sparse Row format>"
      ]
     },
     "execution_count": 760,
     "metadata": {},
     "output_type": "execute_result"
    }
   ],
   "source": [
    "try:\n",
    "    from sklearn.preprocessing import OrdinalEncoder # just to raise an ImportError if Scikit-Learn < 0.20\n",
    "    from sklearn.preprocessing import OneHotEncoder\n",
    "except ImportError:\n",
    "    from future_encoders import OneHotEncoder # Scikit-Learn < 0.20\n",
    "\n",
    "cat_encoder = OneHotEncoder()\n",
    "prules_cat_1hot = cat_encoder.fit_transform(prules_cat)\n",
    "prules_cat_1hot"
   ]
  },
  {
   "cell_type": "code",
   "execution_count": 761,
   "id": "8b47ef1d-27c2-416d-8176-2c5debe96898",
   "metadata": {},
   "outputs": [
    {
     "data": {
      "text/plain": [
       "array([[0., 0., 1., ..., 0., 1., 0.],\n",
       "       [1., 0., 0., ..., 1., 1., 0.],\n",
       "       [0., 0., 0., ..., 0., 1., 0.],\n",
       "       ...,\n",
       "       [0., 0., 0., ..., 0., 0., 1.],\n",
       "       [1., 0., 0., ..., 1., 1., 0.],\n",
       "       [0., 0., 0., ..., 1., 0., 1.]])"
      ]
     },
     "execution_count": 761,
     "metadata": {},
     "output_type": "execute_result"
    }
   ],
   "source": [
    "prules_cat_1hot.toarray()"
   ]
  },
  {
   "cell_type": "code",
   "execution_count": 762,
   "id": "cb723c2d-d7d2-4c16-a0ea-79be204ce0ae",
   "metadata": {},
   "outputs": [
    {
     "data": {
      "text/plain": [
       "array([[0., 0., 1., ..., 0., 1., 0.],\n",
       "       [1., 0., 0., ..., 1., 1., 0.],\n",
       "       [0., 0., 0., ..., 0., 1., 0.],\n",
       "       ...,\n",
       "       [0., 0., 0., ..., 0., 0., 1.],\n",
       "       [1., 0., 0., ..., 1., 1., 0.],\n",
       "       [0., 0., 0., ..., 1., 0., 1.]])"
      ]
     },
     "execution_count": 762,
     "metadata": {},
     "output_type": "execute_result"
    }
   ],
   "source": [
    "cat_encoder = OneHotEncoder(sparse=False)\n",
    "prules_cat_1hot = cat_encoder.fit_transform(prules_cat)\n",
    "prules_cat_1hot"
   ]
  },
  {
   "cell_type": "code",
   "execution_count": 763,
   "id": "a54d89a5-db84-4d86-b62c-47b4169f2c75",
   "metadata": {},
   "outputs": [
    {
     "data": {
      "text/plain": [
       "[array(['dom', 'jue', 'lun', 'mar', 'mié', 'sáb', 'vie'], dtype=object),\n",
       " array(['DineroenImagen'], dtype=object),\n",
       " array(['1x1', '300x250', '300x600', '320x100', '728x90', 'Sin Posicion',\n",
       "        'Tags', 'Zocalo', 'gen_amp'], dtype=object),\n",
       " array(['Desktop', 'High-end mobile devices'], dtype=object),\n",
       " array(['Mexico', 'United States'], dtype=object)]"
      ]
     },
     "execution_count": 763,
     "metadata": {},
     "output_type": "execute_result"
    }
   ],
   "source": [
    "cat_encoder.categories_"
   ]
  },
  {
   "cell_type": "code",
   "execution_count": 764,
   "id": "f74c700e-4956-41c8-b575-faab85b81078",
   "metadata": {},
   "outputs": [
    {
     "data": {
      "text/plain": [
       "Index(['day', 'weekday', 'site', 'creative_size', 'device', 'country',\n",
       "       'pricing_rules_name', 'ad_requests'],\n",
       "      dtype='object')"
      ]
     },
     "execution_count": 764,
     "metadata": {},
     "output_type": "execute_result"
    }
   ],
   "source": [
    "prules.columns"
   ]
  },
  {
   "cell_type": "code",
   "execution_count": 765,
   "id": "0f98c6ac-9afa-4c27-950c-becb23e17dcc",
   "metadata": {
    "tags": []
   },
   "outputs": [],
   "source": [
    "from sklearn.pipeline import Pipeline\n",
    "from sklearn.preprocessing import StandardScaler\n",
    "\n",
    "num_pipeline = Pipeline([\n",
    "       ('imputer', SimpleImputer(strategy=\"median\")),\n",
    "       ('std_scaler', StandardScaler()),\n",
    "   ])\n",
    "\n",
    "prules_num_tr = num_pipeline.fit_transform(prules_num)"
   ]
  },
  {
   "cell_type": "code",
   "execution_count": 766,
   "id": "de51c64b-7f33-4463-ab22-96d1be59b740",
   "metadata": {
    "tags": []
   },
   "outputs": [
    {
     "data": {
      "text/plain": [
       "array([[-0.24802201],\n",
       "       [ 3.64813179],\n",
       "       [ 0.84492065],\n",
       "       ...,\n",
       "       [-0.24175597],\n",
       "       [-0.25175754],\n",
       "       [-0.21343827]])"
      ]
     },
     "execution_count": 766,
     "metadata": {},
     "output_type": "execute_result"
    }
   ],
   "source": [
    "prules_num_tr"
   ]
  },
  {
   "cell_type": "code",
   "execution_count": 767,
   "id": "6161a606-162e-4de8-8e4a-d2d11d730ee1",
   "metadata": {},
   "outputs": [],
   "source": [
    "try:\n",
    "    from sklearn.compose import ColumnTransformer\n",
    "except ImportError:\n",
    "    from future_encoders import ColumnTransformer # Scikit-Learn < 0.20"
   ]
  },
  {
   "cell_type": "code",
   "execution_count": 768,
   "id": "8256b3c1-868e-4b2a-b49b-4c029dbe5ab5",
   "metadata": {},
   "outputs": [],
   "source": [
    "num_attribs = list(prules_num)\n",
    "cat_attribs = ['weekday', 'site', 'creative_size', 'device', 'country']\n",
    "\n",
    "full_pipeline = ColumnTransformer([\n",
    "        (\"num\", num_pipeline, num_attribs),\n",
    "        (\"cat\", OneHotEncoder(), cat_attribs),\n",
    "    ])\n",
    "\n",
    "prules_prepared = full_pipeline.fit_transform(prules)\n"
   ]
  },
  {
   "cell_type": "code",
   "execution_count": 769,
   "id": "0b7e0a71-2df2-4075-89b9-3fcc22ae985d",
   "metadata": {},
   "outputs": [
    {
     "data": {
      "text/plain": [
       "scipy.sparse.csr.csr_matrix"
      ]
     },
     "execution_count": 769,
     "metadata": {},
     "output_type": "execute_result"
    }
   ],
   "source": [
    "type(prules_prepared)"
   ]
  },
  {
   "cell_type": "code",
   "execution_count": 770,
   "id": "77563167-f9c2-4c4b-9a8f-fff467ddb6c0",
   "metadata": {},
   "outputs": [
    {
     "data": {
      "text/plain": [
       "(43046, 22)"
      ]
     },
     "execution_count": 770,
     "metadata": {},
     "output_type": "execute_result"
    }
   ],
   "source": [
    "prules_prepared.shape"
   ]
  },
  {
   "cell_type": "code",
   "execution_count": 771,
   "id": "2e2e55a9-e892-4633-afde-1009125587d4",
   "metadata": {},
   "outputs": [],
   "source": [
    "from sklearn.base import BaseEstimator, TransformerMixin\n",
    "\n",
    "# Create a class to select numerical or categorical columns \n",
    "class OldDataFrameSelector(BaseEstimator, TransformerMixin):\n",
    "    def __init__(self, attribute_names):\n",
    "        self.attribute_names = attribute_names\n",
    "    def fit(self, X, y=None):\n",
    "        return self\n",
    "    def transform(self, X):\n",
    "        return X[self.attribute_names].values"
   ]
  },
  {
   "cell_type": "code",
   "execution_count": 772,
   "id": "62dcaef0-0fcc-4275-9148-d8f6582581d6",
   "metadata": {},
   "outputs": [],
   "source": [
    "num_attribs = list(prules_num)\n",
    "cat_attribs = ['weekday', 'site', 'creative_size', 'device', 'country']\n",
    "\n",
    "old_num_pipeline = Pipeline([\n",
    "       ('selector', OldDataFrameSelector(num_attribs)),\n",
    "       ('imputer', SimpleImputer(strategy=\"median\")),\n",
    "       ('std_scaler', StandardScaler()),\n",
    "   ])\n",
    "\n",
    "old_cat_pipeline = Pipeline([\n",
    "        ('selector', OldDataFrameSelector(cat_attribs)),\n",
    "        ('cat_encoder', OneHotEncoder(sparse=False)),\n",
    "    ])"
   ]
  },
  {
   "cell_type": "code",
   "execution_count": 773,
   "id": "c6eb293d-db5f-4e46-9563-aede3099c80d",
   "metadata": {},
   "outputs": [],
   "source": [
    "from sklearn.pipeline import FeatureUnion\n",
    "\n",
    "old_full_pipeline = FeatureUnion(transformer_list=[\n",
    "       (\"num_pipeline\", old_num_pipeline),\n",
    "        (\"cat_pipeline\", old_cat_pipeline),\n",
    "    ])"
   ]
  },
  {
   "cell_type": "code",
   "execution_count": 774,
   "id": "ba1e00b2-1c5e-4b09-9e14-c2598c6a53ea",
   "metadata": {},
   "outputs": [
    {
     "data": {
      "text/html": [
       "<div>\n",
       "<style scoped>\n",
       "    .dataframe tbody tr th:only-of-type {\n",
       "        vertical-align: middle;\n",
       "    }\n",
       "\n",
       "    .dataframe tbody tr th {\n",
       "        vertical-align: top;\n",
       "    }\n",
       "\n",
       "    .dataframe thead th {\n",
       "        text-align: right;\n",
       "    }\n",
       "</style>\n",
       "<table border=\"1\" class=\"dataframe\">\n",
       "  <thead>\n",
       "    <tr style=\"text-align: right;\">\n",
       "      <th></th>\n",
       "      <th>day</th>\n",
       "      <th>weekday</th>\n",
       "      <th>site</th>\n",
       "      <th>creative_size</th>\n",
       "      <th>device</th>\n",
       "      <th>country</th>\n",
       "      <th>pricing_rules_name</th>\n",
       "      <th>ad_requests</th>\n",
       "    </tr>\n",
       "  </thead>\n",
       "  <tbody>\n",
       "    <tr>\n",
       "      <th>40875</th>\n",
       "      <td>28/06/2021</td>\n",
       "      <td>lun</td>\n",
       "      <td>DineroenImagen</td>\n",
       "      <td>300x250</td>\n",
       "      <td>Desktop</td>\n",
       "      <td>Mexico</td>\n",
       "      <td>Dinero en Imagen</td>\n",
       "      <td>63</td>\n",
       "    </tr>\n",
       "    <tr>\n",
       "      <th>8542</th>\n",
       "      <td>01/08/2021</td>\n",
       "      <td>dom</td>\n",
       "      <td>DineroenImagen</td>\n",
       "      <td>gen_amp</td>\n",
       "      <td>High-end mobile devices</td>\n",
       "      <td>Mexico</td>\n",
       "      <td>Intowow_1622188298451_1</td>\n",
       "      <td>64729</td>\n",
       "    </tr>\n",
       "    <tr>\n",
       "      <th>17858</th>\n",
       "      <td>07/12/2021</td>\n",
       "      <td>mar</td>\n",
       "      <td>DineroenImagen</td>\n",
       "      <td>Tags</td>\n",
       "      <td>Desktop</td>\n",
       "      <td>Mexico</td>\n",
       "      <td>Dinero en Imagen</td>\n",
       "      <td>18203</td>\n",
       "    </tr>\n",
       "    <tr>\n",
       "      <th>18542</th>\n",
       "      <td>20/01/2022</td>\n",
       "      <td>jue</td>\n",
       "      <td>DineroenImagen</td>\n",
       "      <td>Sin Posicion</td>\n",
       "      <td>High-end mobile devices</td>\n",
       "      <td>Mexico</td>\n",
       "      <td>Default All Sites UPR</td>\n",
       "      <td>10288</td>\n",
       "    </tr>\n",
       "    <tr>\n",
       "      <th>20339</th>\n",
       "      <td>17/02/2022</td>\n",
       "      <td>jue</td>\n",
       "      <td>DineroenImagen</td>\n",
       "      <td>300x250</td>\n",
       "      <td>Desktop</td>\n",
       "      <td>Mexico</td>\n",
       "      <td>Dinero en Imagen</td>\n",
       "      <td>2575</td>\n",
       "    </tr>\n",
       "  </tbody>\n",
       "</table>\n",
       "</div>"
      ],
      "text/plain": [
       "              day weekday            site creative_size  \\\n",
       "40875  28/06/2021     lun  DineroenImagen       300x250   \n",
       "8542   01/08/2021     dom  DineroenImagen       gen_amp   \n",
       "17858  07/12/2021     mar  DineroenImagen          Tags   \n",
       "18542  20/01/2022     jue  DineroenImagen  Sin Posicion   \n",
       "20339  17/02/2022     jue  DineroenImagen       300x250   \n",
       "\n",
       "                        device country       pricing_rules_name  ad_requests  \n",
       "40875                  Desktop  Mexico         Dinero en Imagen           63  \n",
       "8542   High-end mobile devices  Mexico  Intowow_1622188298451_1        64729  \n",
       "17858                  Desktop  Mexico         Dinero en Imagen        18203  \n",
       "18542  High-end mobile devices  Mexico    Default All Sites UPR        10288  \n",
       "20339                  Desktop  Mexico         Dinero en Imagen         2575  "
      ]
     },
     "execution_count": 774,
     "metadata": {},
     "output_type": "execute_result"
    }
   ],
   "source": [
    "prules.head()"
   ]
  },
  {
   "cell_type": "code",
   "execution_count": 775,
   "id": "a7788129-8c32-41fa-9163-d5f38384c74c",
   "metadata": {},
   "outputs": [
    {
     "data": {
      "text/plain": [
       "array([[-0.24802201,  0.        ,  0.        , ...,  0.        ,\n",
       "         1.        ,  0.        ],\n",
       "       [ 3.64813179,  1.        ,  0.        , ...,  1.        ,\n",
       "         1.        ,  0.        ],\n",
       "       [ 0.84492065,  0.        ,  0.        , ...,  0.        ,\n",
       "         1.        ,  0.        ],\n",
       "       ...,\n",
       "       [-0.24175597,  0.        ,  0.        , ...,  0.        ,\n",
       "         0.        ,  1.        ],\n",
       "       [-0.25175754,  1.        ,  0.        , ...,  1.        ,\n",
       "         1.        ,  0.        ],\n",
       "       [-0.21343827,  0.        ,  0.        , ...,  1.        ,\n",
       "         0.        ,  1.        ]])"
      ]
     },
     "execution_count": 775,
     "metadata": {},
     "output_type": "execute_result"
    }
   ],
   "source": [
    "old_prules_prepared = old_full_pipeline.fit_transform(prules)\n",
    "old_prules_prepared"
   ]
  },
  {
   "cell_type": "code",
   "execution_count": 776,
   "id": "670f705b-d69b-479d-8df9-c2d5d0c12b8c",
   "metadata": {},
   "outputs": [
    {
     "data": {
      "text/plain": [
       "array([[-0.24802201,  0.        ,  0.        , ...,  0.        ,\n",
       "         1.        ,  0.        ],\n",
       "       [ 3.64813179,  1.        ,  0.        , ...,  1.        ,\n",
       "         1.        ,  0.        ],\n",
       "       [ 0.84492065,  0.        ,  0.        , ...,  0.        ,\n",
       "         1.        ,  0.        ],\n",
       "       ...,\n",
       "       [-0.24175597,  0.        ,  0.        , ...,  0.        ,\n",
       "         0.        ,  1.        ],\n",
       "       [-0.25175754,  1.        ,  0.        , ...,  1.        ,\n",
       "         1.        ,  0.        ],\n",
       "       [-0.21343827,  0.        ,  0.        , ...,  1.        ,\n",
       "         0.        ,  1.        ]])"
      ]
     },
     "execution_count": 776,
     "metadata": {},
     "output_type": "execute_result"
    }
   ],
   "source": [
    "old_prules_prepared"
   ]
  },
  {
   "cell_type": "code",
   "execution_count": 777,
   "id": "7c340f6d-e2a1-46c8-8e42-0b96074b8072",
   "metadata": {},
   "outputs": [
    {
     "data": {
      "text/plain": [
       "(43046, 22)"
      ]
     },
     "execution_count": 777,
     "metadata": {},
     "output_type": "execute_result"
    }
   ],
   "source": [
    "old_prules_prepared.shape"
   ]
  },
  {
   "cell_type": "code",
   "execution_count": 634,
   "id": "96ab57d4-6066-4979-a58b-a1d7fe1ec384",
   "metadata": {
    "collapsed": true,
    "jupyter": {
     "outputs_hidden": true
    },
    "tags": []
   },
   "outputs": [
    {
     "ename": "TypeError",
     "evalue": "ufunc 'isfinite' not supported for the input types, and the inputs could not be safely coerced to any supported types according to the casting rule ''safe''",
     "output_type": "error",
     "traceback": [
      "\u001b[1;31m---------------------------------------------------------------------------\u001b[0m",
      "\u001b[1;31mTypeError\u001b[0m                                 Traceback (most recent call last)",
      "Input \u001b[1;32mIn [634]\u001b[0m, in \u001b[0;36m<cell line: 2>\u001b[1;34m()\u001b[0m\n\u001b[0;32m      1\u001b[0m \u001b[38;5;66;03m# Esto hace comparación de la manera manual y al llevarlo a un pipeline, el cual no nos deja comparar por formato de arreglos.\u001b[39;00m\n\u001b[1;32m----> 2\u001b[0m \u001b[43mnp\u001b[49m\u001b[38;5;241;43m.\u001b[39;49m\u001b[43mallclose\u001b[49m\u001b[43m(\u001b[49m\u001b[43mprules_prepared\u001b[49m\u001b[43m,\u001b[49m\u001b[43m \u001b[49m\u001b[43mold_prules_prepared\u001b[49m\u001b[43m)\u001b[49m\n",
      "File \u001b[1;32m<__array_function__ internals>:5\u001b[0m, in \u001b[0;36mallclose\u001b[1;34m(*args, **kwargs)\u001b[0m\n",
      "File \u001b[1;32m~\\anaconda3\\lib\\site-packages\\numpy\\core\\numeric.py:2249\u001b[0m, in \u001b[0;36mallclose\u001b[1;34m(a, b, rtol, atol, equal_nan)\u001b[0m\n\u001b[0;32m   2179\u001b[0m \u001b[38;5;129m@array_function_dispatch\u001b[39m(_allclose_dispatcher)\n\u001b[0;32m   2180\u001b[0m \u001b[38;5;28;01mdef\u001b[39;00m \u001b[38;5;21mallclose\u001b[39m(a, b, rtol\u001b[38;5;241m=\u001b[39m\u001b[38;5;241m1.e-5\u001b[39m, atol\u001b[38;5;241m=\u001b[39m\u001b[38;5;241m1.e-8\u001b[39m, equal_nan\u001b[38;5;241m=\u001b[39m\u001b[38;5;28;01mFalse\u001b[39;00m):\n\u001b[0;32m   2181\u001b[0m     \u001b[38;5;124;03m\"\"\"\u001b[39;00m\n\u001b[0;32m   2182\u001b[0m \u001b[38;5;124;03m    Returns True if two arrays are element-wise equal within a tolerance.\u001b[39;00m\n\u001b[0;32m   2183\u001b[0m \n\u001b[1;32m   (...)\u001b[0m\n\u001b[0;32m   2247\u001b[0m \n\u001b[0;32m   2248\u001b[0m \u001b[38;5;124;03m    \"\"\"\u001b[39;00m\n\u001b[1;32m-> 2249\u001b[0m     res \u001b[38;5;241m=\u001b[39m \u001b[38;5;28mall\u001b[39m(\u001b[43misclose\u001b[49m\u001b[43m(\u001b[49m\u001b[43ma\u001b[49m\u001b[43m,\u001b[49m\u001b[43m \u001b[49m\u001b[43mb\u001b[49m\u001b[43m,\u001b[49m\u001b[43m \u001b[49m\u001b[43mrtol\u001b[49m\u001b[38;5;241;43m=\u001b[39;49m\u001b[43mrtol\u001b[49m\u001b[43m,\u001b[49m\u001b[43m \u001b[49m\u001b[43matol\u001b[49m\u001b[38;5;241;43m=\u001b[39;49m\u001b[43matol\u001b[49m\u001b[43m,\u001b[49m\u001b[43m \u001b[49m\u001b[43mequal_nan\u001b[49m\u001b[38;5;241;43m=\u001b[39;49m\u001b[43mequal_nan\u001b[49m\u001b[43m)\u001b[49m)\n\u001b[0;32m   2250\u001b[0m     \u001b[38;5;28;01mreturn\u001b[39;00m \u001b[38;5;28mbool\u001b[39m(res)\n",
      "File \u001b[1;32m<__array_function__ internals>:5\u001b[0m, in \u001b[0;36misclose\u001b[1;34m(*args, **kwargs)\u001b[0m\n",
      "File \u001b[1;32m~\\anaconda3\\lib\\site-packages\\numpy\\core\\numeric.py:2355\u001b[0m, in \u001b[0;36misclose\u001b[1;34m(a, b, rtol, atol, equal_nan)\u001b[0m\n\u001b[0;32m   2352\u001b[0m     dt \u001b[38;5;241m=\u001b[39m multiarray\u001b[38;5;241m.\u001b[39mresult_type(y, \u001b[38;5;241m1.\u001b[39m)\n\u001b[0;32m   2353\u001b[0m     y \u001b[38;5;241m=\u001b[39m asanyarray(y, dtype\u001b[38;5;241m=\u001b[39mdt)\n\u001b[1;32m-> 2355\u001b[0m xfin \u001b[38;5;241m=\u001b[39m \u001b[43misfinite\u001b[49m\u001b[43m(\u001b[49m\u001b[43mx\u001b[49m\u001b[43m)\u001b[49m\n\u001b[0;32m   2356\u001b[0m yfin \u001b[38;5;241m=\u001b[39m isfinite(y)\n\u001b[0;32m   2357\u001b[0m \u001b[38;5;28;01mif\u001b[39;00m \u001b[38;5;28mall\u001b[39m(xfin) \u001b[38;5;129;01mand\u001b[39;00m \u001b[38;5;28mall\u001b[39m(yfin):\n",
      "\u001b[1;31mTypeError\u001b[0m: ufunc 'isfinite' not supported for the input types, and the inputs could not be safely coerced to any supported types according to the casting rule ''safe''"
     ]
    }
   ],
   "source": [
    "# Esto hace comparación de la manera manual y al llevarlo a un pipeline, el cual no nos deja comparar por formato de arreglos.\n",
    "np.allclose(prules_prepared, old_prules_prepared)"
   ]
  },
  {
   "cell_type": "markdown",
   "id": "24fe35bb-6af2-4b03-9c74-d93742c9a732",
   "metadata": {},
   "source": [
    "# Select and train model"
   ]
  },
  {
   "cell_type": "code",
   "execution_count": 778,
   "id": "b33f1f9f-9d46-428c-8a01-28273e7be5be",
   "metadata": {},
   "outputs": [
    {
     "data": {
      "text/plain": [
       "LinearRegression()"
      ]
     },
     "execution_count": 778,
     "metadata": {},
     "output_type": "execute_result"
    }
   ],
   "source": [
    "from sklearn.linear_model import LinearRegression\n",
    "\n",
    "lin_reg = LinearRegression()\n",
    "lin_reg.fit(prules_prepared, prules_labels)"
   ]
  },
  {
   "cell_type": "code",
   "execution_count": 779,
   "id": "ee177d49-0624-4b8d-9a67-2bab5df0b1b9",
   "metadata": {},
   "outputs": [
    {
     "name": "stdout",
     "output_type": "stream",
     "text": [
      "Predictions: [1.87954996 4.88551653 1.74733418 1.27609983 1.87777428]\n"
     ]
    }
   ],
   "source": [
    "# let's try the full preprocessing pipeline on a few training instances\n",
    "some_data = prules.iloc[:5]\n",
    "some_labels = prules_labels.iloc[:5]\n",
    "some_data_prepared = old_full_pipeline.transform(some_data)\n",
    "\n",
    "print(\"Predictions:\", lin_reg.predict(some_data_prepared))\n",
    "\n",
    "#Predictions: [2.66796875 3.90234375 6.05273438 2.62695312 4.44921875]"
   ]
  },
  {
   "cell_type": "code",
   "execution_count": 780,
   "id": "cb298e72-6cc7-40b1-b3b9-fd5000494b04",
   "metadata": {},
   "outputs": [
    {
     "name": "stdout",
     "output_type": "stream",
     "text": [
      "Labels: [2.7, 0.0, 2.15, 1.0, 4.2]\n"
     ]
    }
   ],
   "source": [
    "print(\"Labels:\", list(some_labels))"
   ]
  },
  {
   "cell_type": "code",
   "execution_count": 781,
   "id": "c6406cba-d070-4c2a-a6bb-c9ef0dda50bb",
   "metadata": {},
   "outputs": [
    {
     "data": {
      "text/plain": [
       "1.3517876423824444"
      ]
     },
     "execution_count": 781,
     "metadata": {},
     "output_type": "execute_result"
    }
   ],
   "source": [
    "from sklearn.metrics import mean_squared_error\n",
    "\n",
    "prules_predictions = lin_reg.predict(prules_prepared)\n",
    "lin_mse = mean_squared_error(prules_labels, prules_predictions)\n",
    "lin_rmse = np.sqrt(lin_mse)\n",
    "lin_rmse\n",
    "\n",
    "# 4.164669841419033 con old_housing_prepared"
   ]
  },
  {
   "cell_type": "code",
   "execution_count": 782,
   "id": "83028319-eb5b-4f57-a885-156599a1be11",
   "metadata": {},
   "outputs": [
    {
     "data": {
      "text/plain": [
       "0.9221352975703092"
      ]
     },
     "execution_count": 782,
     "metadata": {},
     "output_type": "execute_result"
    }
   ],
   "source": [
    "from sklearn.metrics import mean_absolute_error\n",
    "\n",
    "lin_mae = mean_absolute_error(prules_labels, prules_predictions)\n",
    "lin_mae\n",
    "\n",
    "#2.2368766406313103"
   ]
  },
  {
   "cell_type": "code",
   "execution_count": 783,
   "id": "84ba28ff-1826-4f09-9012-c784d8f983ca",
   "metadata": {},
   "outputs": [
    {
     "data": {
      "text/plain": [
       "DecisionTreeRegressor(random_state=42)"
      ]
     },
     "execution_count": 783,
     "metadata": {},
     "output_type": "execute_result"
    }
   ],
   "source": [
    "## Arbol de decisiones\n",
    "from sklearn.tree import DecisionTreeRegressor\n",
    "\n",
    "tree_reg = DecisionTreeRegressor(random_state=42)\n",
    "tree_reg.fit(prules_prepared, prules_labels)"
   ]
  },
  {
   "cell_type": "code",
   "execution_count": 784,
   "id": "5a24bc4f-877a-4ee4-ba27-36e0f9190b86",
   "metadata": {},
   "outputs": [
    {
     "data": {
      "text/plain": [
       "0.6882906016744177"
      ]
     },
     "execution_count": 784,
     "metadata": {},
     "output_type": "execute_result"
    }
   ],
   "source": [
    "prules_predictions = tree_reg.predict(prules_prepared)\n",
    "tree_mse = mean_squared_error(prules_labels, prules_predictions)\n",
    "tree_rmse = np.sqrt(tree_mse)\n",
    "tree_rmse\n",
    "\n",
    "# 2.1507443228766537e-18 con old_housing_prepared"
   ]
  },
  {
   "cell_type": "markdown",
   "id": "d79edf77-fd42-4281-97a2-679ed26d6916",
   "metadata": {},
   "source": [
    "# Crossvalidation"
   ]
  },
  {
   "cell_type": "code",
   "execution_count": 785,
   "id": "4fca69c2-2982-4137-b3b3-0d00569d1a0e",
   "metadata": {},
   "outputs": [],
   "source": [
    "from sklearn.model_selection import cross_val_score\n",
    "\n",
    "scores = cross_val_score(tree_reg, prules_prepared, prules_labels,\n",
    "                         scoring=\"neg_mean_squared_error\", cv=10)\n",
    "tree_rmse_scores = np.sqrt(-scores)"
   ]
  },
  {
   "cell_type": "code",
   "execution_count": 786,
   "id": "7f981a09-6372-40eb-82d0-a6005bb84bd8",
   "metadata": {},
   "outputs": [
    {
     "name": "stdout",
     "output_type": "stream",
     "text": [
      "Scores: [1.71037872 1.80753529 1.74108378 1.66146225 1.72958049 1.74874572\n",
      " 1.76930075 1.78614718 1.68814711 1.8090773 ]\n",
      "Mean: 1.745145858507606\n",
      "Standard deviation: 0.04687913693817042\n"
     ]
    }
   ],
   "source": [
    "def display_scores(scores):\n",
    "    print(\"Scores:\", scores)\n",
    "    print(\"Mean:\", scores.mean())\n",
    "    print(\"Standard deviation:\", scores.std())\n",
    "\n",
    "display_scores(tree_rmse_scores)\n",
    "\n",
    "# Scores: [2.53063224 1.65313644 1.92524027 1.77622569 1.67485054 3.42446451 1.26491669 2.39963266 3.30065268 2.33640075]\n",
    "#Mean: 2.228615247535616\n",
    "#Standard deviation: 0.6763606615134431"
   ]
  },
  {
   "cell_type": "code",
   "execution_count": 789,
   "id": "d78efeae-aafe-4d5c-8a18-c2950b0d965e",
   "metadata": {},
   "outputs": [
    {
     "name": "stdout",
     "output_type": "stream",
     "text": [
      "Scores: [1.32953596 1.36467453 1.35953576 1.32155283 1.36217398 1.36384814\n",
      " 1.31355073 1.37225485 1.34233862 1.394311  ]\n",
      "Mean: 1.352377638993409\n",
      "Standard deviation: 0.023798581759532592\n"
     ]
    }
   ],
   "source": [
    "lin_scores = cross_val_score(lin_reg, prules_prepared, prules_labels,\n",
    "                             scoring=\"neg_mean_squared_error\", cv=10)\n",
    "lin_rmse_scores = np.sqrt(-lin_scores)\n",
    "display_scores(lin_rmse_scores)\n",
    "# Scores: [4.86020258 3.50517806 4.10335816 4.06575035 3.40217691 3.77936185 3.6603779  3.91574004 6.10113525 4.05323212]\n",
    "# Mean: 4.144651321967734\n",
    "# Standard deviation: 0.7574089219540697"
   ]
  },
  {
   "cell_type": "code",
   "execution_count": 788,
   "id": "d6be9555-5a14-423e-8a5f-8eb8ca9961ce",
   "metadata": {},
   "outputs": [
    {
     "data": {
      "text/plain": [
       "4.610738194900622"
      ]
     },
     "execution_count": 788,
     "metadata": {},
     "output_type": "execute_result"
    }
   ],
   "source": [
    "from sklearn.svm import SVR\n",
    "\n",
    "svm_reg = SVR(kernel=\"linear\")\n",
    "svm_reg.fit(prules_prepared, prules_labels)\n",
    "prules_predictions = svm_reg.predict(prules_prepared)\n",
    "svm_mse = mean_squared_error(prules_labels, prules_predictions)\n",
    "svm_rmse = np.sqrt(svm_mse)\n",
    "svm_rmse"
   ]
  },
  {
   "cell_type": "code",
   "execution_count": 396,
   "id": "dcf01e91-ecb4-44dd-bef3-07f6df023470",
   "metadata": {},
   "outputs": [
    {
     "data": {
      "text/plain": [
       "GridSearchCV(cv=5, estimator=RandomForestRegressor(random_state=42),\n",
       "             param_grid=[{'max_features': [2, 4, 6, 8],\n",
       "                          'n_estimators': [3, 10, 30]},\n",
       "                         {'bootstrap': [False], 'max_features': [2, 3, 4],\n",
       "                          'n_estimators': [3, 10]}],\n",
       "             return_train_score=True, scoring='neg_mean_squared_error')"
      ]
     },
     "execution_count": 396,
     "metadata": {},
     "output_type": "execute_result"
    }
   ],
   "source": [
    "from sklearn.ensemble import RandomForestRegressor\n",
    "from sklearn.model_selection import GridSearchCV\n",
    "\n",
    "param_grid = [\n",
    "    # try 12 (3×4) combinations of hyperparameters\n",
    "    {'n_estimators': [3, 10, 30], 'max_features': [2, 4, 6, 8]},\n",
    "    # then try 6 (2×3) combinations with bootstrap set as False\n",
    "    {'bootstrap': [False], 'n_estimators': [3, 10], 'max_features': [2, 3, 4]},\n",
    "  ]\n",
    "\n",
    "forest_reg = RandomForestRegressor(random_state=42)\n",
    "# train across 5 folds, that's a total of (12+6)*5=90 rounds of training \n",
    "grid_search = GridSearchCV(forest_reg, param_grid, cv=5,\n",
    "                           scoring='neg_mean_squared_error', return_train_score=True)\n",
    "grid_search.fit(housing_prepared, housing_labels)"
   ]
  },
  {
   "cell_type": "code",
   "execution_count": 397,
   "id": "66446bd9-a825-4a05-a744-d258138f9afc",
   "metadata": {},
   "outputs": [
    {
     "data": {
      "text/plain": [
       "{'max_features': 6, 'n_estimators': 30}"
      ]
     },
     "execution_count": 397,
     "metadata": {},
     "output_type": "execute_result"
    }
   ],
   "source": [
    "grid_search.best_params_"
   ]
  },
  {
   "cell_type": "code",
   "execution_count": 398,
   "id": "569cc757-90ef-4a1a-bee0-fd6a9954bbe3",
   "metadata": {},
   "outputs": [
    {
     "data": {
      "text/plain": [
       "RandomForestRegressor(max_features=6, n_estimators=30, random_state=42)"
      ]
     },
     "execution_count": 398,
     "metadata": {},
     "output_type": "execute_result"
    }
   ],
   "source": [
    "grid_search.best_estimator_"
   ]
  },
  {
   "cell_type": "code",
   "execution_count": 399,
   "id": "8e5d4a7d-2f1d-44cd-92c7-85cecb154798",
   "metadata": {},
   "outputs": [
    {
     "name": "stdout",
     "output_type": "stream",
     "text": [
      "4.433864344361121 {'max_features': 2, 'n_estimators': 3}\n",
      "3.900383701779921 {'max_features': 2, 'n_estimators': 10}\n",
      "3.767768535852919 {'max_features': 2, 'n_estimators': 30}\n",
      "4.27491403610016 {'max_features': 4, 'n_estimators': 3}\n",
      "3.857924077735108 {'max_features': 4, 'n_estimators': 10}\n",
      "3.685504344553014 {'max_features': 4, 'n_estimators': 30}\n",
      "4.087741145251072 {'max_features': 6, 'n_estimators': 3}\n",
      "3.709990365731229 {'max_features': 6, 'n_estimators': 10}\n",
      "3.5884419816764854 {'max_features': 6, 'n_estimators': 30}\n",
      "4.4417264168722355 {'max_features': 8, 'n_estimators': 3}\n",
      "3.76841009203452 {'max_features': 8, 'n_estimators': 10}\n",
      "3.588450130218963 {'max_features': 8, 'n_estimators': 30}\n",
      "4.519452858020348 {'bootstrap': False, 'max_features': 2, 'n_estimators': 3}\n",
      "3.9255945892782216 {'bootstrap': False, 'max_features': 2, 'n_estimators': 10}\n",
      "4.432765495667687 {'bootstrap': False, 'max_features': 3, 'n_estimators': 3}\n",
      "3.8638563630557634 {'bootstrap': False, 'max_features': 3, 'n_estimators': 10}\n",
      "4.184590622044896 {'bootstrap': False, 'max_features': 4, 'n_estimators': 3}\n",
      "3.753342596622255 {'bootstrap': False, 'max_features': 4, 'n_estimators': 10}\n"
     ]
    }
   ],
   "source": [
    "cvres = grid_search.cv_results_\n",
    "for mean_score, params in zip(cvres[\"mean_test_score\"], cvres[\"params\"]):\n",
    "    print(np.sqrt(-mean_score), params)"
   ]
  },
  {
   "cell_type": "code",
   "execution_count": 400,
   "id": "be76aa6a-5ccc-4630-b469-0c15726bd66e",
   "metadata": {
    "collapsed": true,
    "jupyter": {
     "outputs_hidden": true
    },
    "tags": []
   },
   "outputs": [
    {
     "data": {
      "text/html": [
       "<div>\n",
       "<style scoped>\n",
       "    .dataframe tbody tr th:only-of-type {\n",
       "        vertical-align: middle;\n",
       "    }\n",
       "\n",
       "    .dataframe tbody tr th {\n",
       "        vertical-align: top;\n",
       "    }\n",
       "\n",
       "    .dataframe thead th {\n",
       "        text-align: right;\n",
       "    }\n",
       "</style>\n",
       "<table border=\"1\" class=\"dataframe\">\n",
       "  <thead>\n",
       "    <tr style=\"text-align: right;\">\n",
       "      <th></th>\n",
       "      <th>mean_fit_time</th>\n",
       "      <th>std_fit_time</th>\n",
       "      <th>mean_score_time</th>\n",
       "      <th>std_score_time</th>\n",
       "      <th>param_max_features</th>\n",
       "      <th>param_n_estimators</th>\n",
       "      <th>param_bootstrap</th>\n",
       "      <th>params</th>\n",
       "      <th>split0_test_score</th>\n",
       "      <th>split1_test_score</th>\n",
       "      <th>...</th>\n",
       "      <th>mean_test_score</th>\n",
       "      <th>std_test_score</th>\n",
       "      <th>rank_test_score</th>\n",
       "      <th>split0_train_score</th>\n",
       "      <th>split1_train_score</th>\n",
       "      <th>split2_train_score</th>\n",
       "      <th>split3_train_score</th>\n",
       "      <th>split4_train_score</th>\n",
       "      <th>mean_train_score</th>\n",
       "      <th>std_train_score</th>\n",
       "    </tr>\n",
       "  </thead>\n",
       "  <tbody>\n",
       "    <tr>\n",
       "      <th>0</th>\n",
       "      <td>0.081254</td>\n",
       "      <td>0.010356</td>\n",
       "      <td>0.000798</td>\n",
       "      <td>0.000978</td>\n",
       "      <td>2</td>\n",
       "      <td>3</td>\n",
       "      <td>NaN</td>\n",
       "      <td>{'max_features': 2, 'n_estimators': 3}</td>\n",
       "      <td>-20.794252</td>\n",
       "      <td>-17.941718</td>\n",
       "      <td>...</td>\n",
       "      <td>-19.659153</td>\n",
       "      <td>4.878129</td>\n",
       "      <td>16</td>\n",
       "      <td>-4.965007e+00</td>\n",
       "      <td>-5.133800e+00</td>\n",
       "      <td>-6.085451e+00</td>\n",
       "      <td>-5.764934e+00</td>\n",
       "      <td>-5.267909e+00</td>\n",
       "      <td>-5.443420e+00</td>\n",
       "      <td>4.174021e-01</td>\n",
       "    </tr>\n",
       "    <tr>\n",
       "      <th>1</th>\n",
       "      <td>0.280848</td>\n",
       "      <td>0.008190</td>\n",
       "      <td>0.003790</td>\n",
       "      <td>0.002034</td>\n",
       "      <td>2</td>\n",
       "      <td>10</td>\n",
       "      <td>NaN</td>\n",
       "      <td>{'max_features': 2, 'n_estimators': 10}</td>\n",
       "      <td>-15.311212</td>\n",
       "      <td>-14.617938</td>\n",
       "      <td>...</td>\n",
       "      <td>-15.212993</td>\n",
       "      <td>4.399096</td>\n",
       "      <td>10</td>\n",
       "      <td>-2.465269e+00</td>\n",
       "      <td>-2.654259e+00</td>\n",
       "      <td>-2.779991e+00</td>\n",
       "      <td>-2.868114e+00</td>\n",
       "      <td>-2.353860e+00</td>\n",
       "      <td>-2.624299e+00</td>\n",
       "      <td>1.913169e-01</td>\n",
       "    </tr>\n",
       "    <tr>\n",
       "      <th>2</th>\n",
       "      <td>0.805590</td>\n",
       "      <td>0.007268</td>\n",
       "      <td>0.015610</td>\n",
       "      <td>0.000018</td>\n",
       "      <td>2</td>\n",
       "      <td>30</td>\n",
       "      <td>NaN</td>\n",
       "      <td>{'max_features': 2, 'n_estimators': 30}</td>\n",
       "      <td>-14.376563</td>\n",
       "      <td>-12.426112</td>\n",
       "      <td>...</td>\n",
       "      <td>-14.196080</td>\n",
       "      <td>4.929418</td>\n",
       "      <td>6</td>\n",
       "      <td>-2.183978e+00</td>\n",
       "      <td>-2.188633e+00</td>\n",
       "      <td>-2.198333e+00</td>\n",
       "      <td>-2.375605e+00</td>\n",
       "      <td>-1.673028e+00</td>\n",
       "      <td>-2.123915e+00</td>\n",
       "      <td>2.366351e-01</td>\n",
       "    </tr>\n",
       "    <tr>\n",
       "      <th>3</th>\n",
       "      <td>0.084354</td>\n",
       "      <td>0.007656</td>\n",
       "      <td>0.000000</td>\n",
       "      <td>0.000000</td>\n",
       "      <td>4</td>\n",
       "      <td>3</td>\n",
       "      <td>NaN</td>\n",
       "      <td>{'max_features': 4, 'n_estimators': 3}</td>\n",
       "      <td>-21.758449</td>\n",
       "      <td>-16.976160</td>\n",
       "      <td>...</td>\n",
       "      <td>-18.274890</td>\n",
       "      <td>4.383783</td>\n",
       "      <td>14</td>\n",
       "      <td>-4.985384e+00</td>\n",
       "      <td>-6.095893e+00</td>\n",
       "      <td>-5.847541e+00</td>\n",
       "      <td>-5.717519e+00</td>\n",
       "      <td>-4.663830e+00</td>\n",
       "      <td>-5.462033e+00</td>\n",
       "      <td>5.440570e-01</td>\n",
       "    </tr>\n",
       "    <tr>\n",
       "      <th>4</th>\n",
       "      <td>0.273591</td>\n",
       "      <td>0.008279</td>\n",
       "      <td>0.007047</td>\n",
       "      <td>0.007152</td>\n",
       "      <td>4</td>\n",
       "      <td>10</td>\n",
       "      <td>NaN</td>\n",
       "      <td>{'max_features': 4, 'n_estimators': 10}</td>\n",
       "      <td>-16.619827</td>\n",
       "      <td>-13.799087</td>\n",
       "      <td>...</td>\n",
       "      <td>-14.883578</td>\n",
       "      <td>4.790821</td>\n",
       "      <td>8</td>\n",
       "      <td>-2.356043e+00</td>\n",
       "      <td>-2.430728e+00</td>\n",
       "      <td>-2.708629e+00</td>\n",
       "      <td>-2.628783e+00</td>\n",
       "      <td>-2.215422e+00</td>\n",
       "      <td>-2.467921e+00</td>\n",
       "      <td>1.797068e-01</td>\n",
       "    </tr>\n",
       "    <tr>\n",
       "      <th>5</th>\n",
       "      <td>0.827905</td>\n",
       "      <td>0.031313</td>\n",
       "      <td>0.012500</td>\n",
       "      <td>0.006250</td>\n",
       "      <td>4</td>\n",
       "      <td>30</td>\n",
       "      <td>NaN</td>\n",
       "      <td>{'max_features': 4, 'n_estimators': 30}</td>\n",
       "      <td>-14.622085</td>\n",
       "      <td>-12.698417</td>\n",
       "      <td>...</td>\n",
       "      <td>-13.582942</td>\n",
       "      <td>4.681464</td>\n",
       "      <td>3</td>\n",
       "      <td>-2.049610e+00</td>\n",
       "      <td>-2.024178e+00</td>\n",
       "      <td>-2.134868e+00</td>\n",
       "      <td>-2.111962e+00</td>\n",
       "      <td>-1.592888e+00</td>\n",
       "      <td>-1.982701e+00</td>\n",
       "      <td>1.990049e-01</td>\n",
       "    </tr>\n",
       "    <tr>\n",
       "      <th>6</th>\n",
       "      <td>0.096851</td>\n",
       "      <td>0.011688</td>\n",
       "      <td>0.003125</td>\n",
       "      <td>0.006249</td>\n",
       "      <td>6</td>\n",
       "      <td>3</td>\n",
       "      <td>NaN</td>\n",
       "      <td>{'max_features': 6, 'n_estimators': 3}</td>\n",
       "      <td>-19.366277</td>\n",
       "      <td>-16.265997</td>\n",
       "      <td>...</td>\n",
       "      <td>-16.709628</td>\n",
       "      <td>4.294091</td>\n",
       "      <td>12</td>\n",
       "      <td>-4.341497e+00</td>\n",
       "      <td>-4.425395e+00</td>\n",
       "      <td>-4.981083e+00</td>\n",
       "      <td>-4.392763e+00</td>\n",
       "      <td>-4.716759e+00</td>\n",
       "      <td>-4.571500e+00</td>\n",
       "      <td>2.429211e-01</td>\n",
       "    </tr>\n",
       "    <tr>\n",
       "      <th>7</th>\n",
       "      <td>0.290548</td>\n",
       "      <td>0.014253</td>\n",
       "      <td>0.003125</td>\n",
       "      <td>0.006250</td>\n",
       "      <td>6</td>\n",
       "      <td>10</td>\n",
       "      <td>NaN</td>\n",
       "      <td>{'max_features': 6, 'n_estimators': 10}</td>\n",
       "      <td>-15.359468</td>\n",
       "      <td>-11.758132</td>\n",
       "      <td>...</td>\n",
       "      <td>-13.764029</td>\n",
       "      <td>4.626621</td>\n",
       "      <td>4</td>\n",
       "      <td>-2.261110e+00</td>\n",
       "      <td>-2.282761e+00</td>\n",
       "      <td>-2.585678e+00</td>\n",
       "      <td>-2.281637e+00</td>\n",
       "      <td>-2.085661e+00</td>\n",
       "      <td>-2.299369e+00</td>\n",
       "      <td>1.610575e-01</td>\n",
       "    </tr>\n",
       "    <tr>\n",
       "      <th>8</th>\n",
       "      <td>0.835233</td>\n",
       "      <td>0.014600</td>\n",
       "      <td>0.012493</td>\n",
       "      <td>0.006247</td>\n",
       "      <td>6</td>\n",
       "      <td>30</td>\n",
       "      <td>NaN</td>\n",
       "      <td>{'max_features': 6, 'n_estimators': 30}</td>\n",
       "      <td>-13.522844</td>\n",
       "      <td>-11.229923</td>\n",
       "      <td>...</td>\n",
       "      <td>-12.876916</td>\n",
       "      <td>4.975776</td>\n",
       "      <td>1</td>\n",
       "      <td>-2.010944e+00</td>\n",
       "      <td>-2.057740e+00</td>\n",
       "      <td>-2.136919e+00</td>\n",
       "      <td>-2.030357e+00</td>\n",
       "      <td>-1.533723e+00</td>\n",
       "      <td>-1.953937e+00</td>\n",
       "      <td>2.144422e-01</td>\n",
       "    </tr>\n",
       "    <tr>\n",
       "      <th>9</th>\n",
       "      <td>0.093716</td>\n",
       "      <td>0.000035</td>\n",
       "      <td>0.000000</td>\n",
       "      <td>0.000000</td>\n",
       "      <td>8</td>\n",
       "      <td>3</td>\n",
       "      <td>NaN</td>\n",
       "      <td>{'max_features': 8, 'n_estimators': 3}</td>\n",
       "      <td>-25.555151</td>\n",
       "      <td>-15.287710</td>\n",
       "      <td>...</td>\n",
       "      <td>-19.728934</td>\n",
       "      <td>5.349866</td>\n",
       "      <td>17</td>\n",
       "      <td>-4.454174e+00</td>\n",
       "      <td>-4.749681e+00</td>\n",
       "      <td>-4.261238e+00</td>\n",
       "      <td>-5.825538e+00</td>\n",
       "      <td>-4.330017e+00</td>\n",
       "      <td>-4.724129e+00</td>\n",
       "      <td>5.755385e-01</td>\n",
       "    </tr>\n",
       "    <tr>\n",
       "      <th>10</th>\n",
       "      <td>0.291367</td>\n",
       "      <td>0.006777</td>\n",
       "      <td>0.006250</td>\n",
       "      <td>0.007654</td>\n",
       "      <td>8</td>\n",
       "      <td>10</td>\n",
       "      <td>NaN</td>\n",
       "      <td>{'max_features': 8, 'n_estimators': 10}</td>\n",
       "      <td>-16.529537</td>\n",
       "      <td>-11.344821</td>\n",
       "      <td>...</td>\n",
       "      <td>-14.200915</td>\n",
       "      <td>4.867359</td>\n",
       "      <td>7</td>\n",
       "      <td>-2.261057e+00</td>\n",
       "      <td>-2.230974e+00</td>\n",
       "      <td>-2.299552e+00</td>\n",
       "      <td>-2.583265e+00</td>\n",
       "      <td>-1.940587e+00</td>\n",
       "      <td>-2.263087e+00</td>\n",
       "      <td>2.043945e-01</td>\n",
       "    </tr>\n",
       "    <tr>\n",
       "      <th>11</th>\n",
       "      <td>0.877091</td>\n",
       "      <td>0.012385</td>\n",
       "      <td>0.006249</td>\n",
       "      <td>0.007653</td>\n",
       "      <td>8</td>\n",
       "      <td>30</td>\n",
       "      <td>NaN</td>\n",
       "      <td>{'max_features': 8, 'n_estimators': 30}</td>\n",
       "      <td>-13.681676</td>\n",
       "      <td>-11.118782</td>\n",
       "      <td>...</td>\n",
       "      <td>-12.876974</td>\n",
       "      <td>4.536579</td>\n",
       "      <td>2</td>\n",
       "      <td>-2.041483e+00</td>\n",
       "      <td>-1.938599e+00</td>\n",
       "      <td>-2.058090e+00</td>\n",
       "      <td>-2.061127e+00</td>\n",
       "      <td>-1.432904e+00</td>\n",
       "      <td>-1.906441e+00</td>\n",
       "      <td>2.410117e-01</td>\n",
       "    </tr>\n",
       "    <tr>\n",
       "      <th>12</th>\n",
       "      <td>0.121838</td>\n",
       "      <td>0.006244</td>\n",
       "      <td>0.003125</td>\n",
       "      <td>0.006249</td>\n",
       "      <td>2</td>\n",
       "      <td>3</td>\n",
       "      <td>False</td>\n",
       "      <td>{'bootstrap': False, 'max_features': 2, 'n_est...</td>\n",
       "      <td>-21.087338</td>\n",
       "      <td>-19.425330</td>\n",
       "      <td>...</td>\n",
       "      <td>-20.425454</td>\n",
       "      <td>4.495403</td>\n",
       "      <td>18</td>\n",
       "      <td>-7.727539e-32</td>\n",
       "      <td>-7.965211e-32</td>\n",
       "      <td>-7.531610e-32</td>\n",
       "      <td>-7.074782e-32</td>\n",
       "      <td>-8.069103e-32</td>\n",
       "      <td>-7.673649e-32</td>\n",
       "      <td>3.530192e-33</td>\n",
       "    </tr>\n",
       "    <tr>\n",
       "      <th>13</th>\n",
       "      <td>0.396978</td>\n",
       "      <td>0.007896</td>\n",
       "      <td>0.000000</td>\n",
       "      <td>0.000000</td>\n",
       "      <td>2</td>\n",
       "      <td>10</td>\n",
       "      <td>False</td>\n",
       "      <td>{'bootstrap': False, 'max_features': 2, 'n_est...</td>\n",
       "      <td>-16.082718</td>\n",
       "      <td>-14.301445</td>\n",
       "      <td>...</td>\n",
       "      <td>-15.410293</td>\n",
       "      <td>4.912214</td>\n",
       "      <td>11</td>\n",
       "      <td>-5.336609e-31</td>\n",
       "      <td>-5.425573e-31</td>\n",
       "      <td>-5.204823e-31</td>\n",
       "      <td>-6.277462e-15</td>\n",
       "      <td>-5.386089e-31</td>\n",
       "      <td>-1.255492e-15</td>\n",
       "      <td>2.510985e-15</td>\n",
       "    </tr>\n",
       "    <tr>\n",
       "      <th>14</th>\n",
       "      <td>0.130325</td>\n",
       "      <td>0.013059</td>\n",
       "      <td>0.003125</td>\n",
       "      <td>0.006249</td>\n",
       "      <td>3</td>\n",
       "      <td>3</td>\n",
       "      <td>False</td>\n",
       "      <td>{'bootstrap': False, 'max_features': 3, 'n_est...</td>\n",
       "      <td>-19.814654</td>\n",
       "      <td>-20.356679</td>\n",
       "      <td>...</td>\n",
       "      <td>-19.649410</td>\n",
       "      <td>4.230666</td>\n",
       "      <td>15</td>\n",
       "      <td>-7.727539e-32</td>\n",
       "      <td>-7.965211e-32</td>\n",
       "      <td>-7.531610e-32</td>\n",
       "      <td>-7.074782e-32</td>\n",
       "      <td>-8.069103e-32</td>\n",
       "      <td>-7.673649e-32</td>\n",
       "      <td>3.530192e-33</td>\n",
       "    </tr>\n",
       "    <tr>\n",
       "      <th>15</th>\n",
       "      <td>0.398261</td>\n",
       "      <td>0.016974</td>\n",
       "      <td>0.009580</td>\n",
       "      <td>0.007393</td>\n",
       "      <td>3</td>\n",
       "      <td>10</td>\n",
       "      <td>False</td>\n",
       "      <td>{'bootstrap': False, 'max_features': 3, 'n_est...</td>\n",
       "      <td>-15.224772</td>\n",
       "      <td>-14.889561</td>\n",
       "      <td>...</td>\n",
       "      <td>-14.929386</td>\n",
       "      <td>4.783851</td>\n",
       "      <td>9</td>\n",
       "      <td>-5.336609e-31</td>\n",
       "      <td>-5.425573e-31</td>\n",
       "      <td>-5.204823e-31</td>\n",
       "      <td>-5.444634e-31</td>\n",
       "      <td>-5.386089e-31</td>\n",
       "      <td>-5.359546e-31</td>\n",
       "      <td>8.575460e-33</td>\n",
       "    </tr>\n",
       "    <tr>\n",
       "      <th>16</th>\n",
       "      <td>0.117692</td>\n",
       "      <td>0.007067</td>\n",
       "      <td>0.003125</td>\n",
       "      <td>0.006249</td>\n",
       "      <td>4</td>\n",
       "      <td>3</td>\n",
       "      <td>False</td>\n",
       "      <td>{'bootstrap': False, 'max_features': 4, 'n_est...</td>\n",
       "      <td>-18.212933</td>\n",
       "      <td>-16.630823</td>\n",
       "      <td>...</td>\n",
       "      <td>-17.510799</td>\n",
       "      <td>5.069663</td>\n",
       "      <td>13</td>\n",
       "      <td>-7.727539e-32</td>\n",
       "      <td>-7.965211e-32</td>\n",
       "      <td>-7.531610e-32</td>\n",
       "      <td>-7.074782e-32</td>\n",
       "      <td>-1.027626e-16</td>\n",
       "      <td>-2.055251e-17</td>\n",
       "      <td>4.110502e-17</td>\n",
       "    </tr>\n",
       "    <tr>\n",
       "      <th>17</th>\n",
       "      <td>0.387374</td>\n",
       "      <td>0.006234</td>\n",
       "      <td>0.006258</td>\n",
       "      <td>0.007664</td>\n",
       "      <td>4</td>\n",
       "      <td>10</td>\n",
       "      <td>False</td>\n",
       "      <td>{'bootstrap': False, 'max_features': 4, 'n_est...</td>\n",
       "      <td>-14.973113</td>\n",
       "      <td>-13.135633</td>\n",
       "      <td>...</td>\n",
       "      <td>-14.087581</td>\n",
       "      <td>4.740296</td>\n",
       "      <td>5</td>\n",
       "      <td>-6.277462e-15</td>\n",
       "      <td>-6.144790e-15</td>\n",
       "      <td>-5.204823e-31</td>\n",
       "      <td>-5.444634e-31</td>\n",
       "      <td>-9.248630e-18</td>\n",
       "      <td>-2.486300e-15</td>\n",
       "      <td>3.041599e-15</td>\n",
       "    </tr>\n",
       "  </tbody>\n",
       "</table>\n",
       "<p>18 rows × 23 columns</p>\n",
       "</div>"
      ],
      "text/plain": [
       "    mean_fit_time  std_fit_time  mean_score_time  std_score_time  \\\n",
       "0        0.081254      0.010356         0.000798        0.000978   \n",
       "1        0.280848      0.008190         0.003790        0.002034   \n",
       "2        0.805590      0.007268         0.015610        0.000018   \n",
       "3        0.084354      0.007656         0.000000        0.000000   \n",
       "4        0.273591      0.008279         0.007047        0.007152   \n",
       "5        0.827905      0.031313         0.012500        0.006250   \n",
       "6        0.096851      0.011688         0.003125        0.006249   \n",
       "7        0.290548      0.014253         0.003125        0.006250   \n",
       "8        0.835233      0.014600         0.012493        0.006247   \n",
       "9        0.093716      0.000035         0.000000        0.000000   \n",
       "10       0.291367      0.006777         0.006250        0.007654   \n",
       "11       0.877091      0.012385         0.006249        0.007653   \n",
       "12       0.121838      0.006244         0.003125        0.006249   \n",
       "13       0.396978      0.007896         0.000000        0.000000   \n",
       "14       0.130325      0.013059         0.003125        0.006249   \n",
       "15       0.398261      0.016974         0.009580        0.007393   \n",
       "16       0.117692      0.007067         0.003125        0.006249   \n",
       "17       0.387374      0.006234         0.006258        0.007664   \n",
       "\n",
       "   param_max_features param_n_estimators param_bootstrap  \\\n",
       "0                   2                  3             NaN   \n",
       "1                   2                 10             NaN   \n",
       "2                   2                 30             NaN   \n",
       "3                   4                  3             NaN   \n",
       "4                   4                 10             NaN   \n",
       "5                   4                 30             NaN   \n",
       "6                   6                  3             NaN   \n",
       "7                   6                 10             NaN   \n",
       "8                   6                 30             NaN   \n",
       "9                   8                  3             NaN   \n",
       "10                  8                 10             NaN   \n",
       "11                  8                 30             NaN   \n",
       "12                  2                  3           False   \n",
       "13                  2                 10           False   \n",
       "14                  3                  3           False   \n",
       "15                  3                 10           False   \n",
       "16                  4                  3           False   \n",
       "17                  4                 10           False   \n",
       "\n",
       "                                               params  split0_test_score  \\\n",
       "0              {'max_features': 2, 'n_estimators': 3}         -20.794252   \n",
       "1             {'max_features': 2, 'n_estimators': 10}         -15.311212   \n",
       "2             {'max_features': 2, 'n_estimators': 30}         -14.376563   \n",
       "3              {'max_features': 4, 'n_estimators': 3}         -21.758449   \n",
       "4             {'max_features': 4, 'n_estimators': 10}         -16.619827   \n",
       "5             {'max_features': 4, 'n_estimators': 30}         -14.622085   \n",
       "6              {'max_features': 6, 'n_estimators': 3}         -19.366277   \n",
       "7             {'max_features': 6, 'n_estimators': 10}         -15.359468   \n",
       "8             {'max_features': 6, 'n_estimators': 30}         -13.522844   \n",
       "9              {'max_features': 8, 'n_estimators': 3}         -25.555151   \n",
       "10            {'max_features': 8, 'n_estimators': 10}         -16.529537   \n",
       "11            {'max_features': 8, 'n_estimators': 30}         -13.681676   \n",
       "12  {'bootstrap': False, 'max_features': 2, 'n_est...         -21.087338   \n",
       "13  {'bootstrap': False, 'max_features': 2, 'n_est...         -16.082718   \n",
       "14  {'bootstrap': False, 'max_features': 3, 'n_est...         -19.814654   \n",
       "15  {'bootstrap': False, 'max_features': 3, 'n_est...         -15.224772   \n",
       "16  {'bootstrap': False, 'max_features': 4, 'n_est...         -18.212933   \n",
       "17  {'bootstrap': False, 'max_features': 4, 'n_est...         -14.973113   \n",
       "\n",
       "    split1_test_score  ...  mean_test_score  std_test_score  rank_test_score  \\\n",
       "0          -17.941718  ...       -19.659153        4.878129               16   \n",
       "1          -14.617938  ...       -15.212993        4.399096               10   \n",
       "2          -12.426112  ...       -14.196080        4.929418                6   \n",
       "3          -16.976160  ...       -18.274890        4.383783               14   \n",
       "4          -13.799087  ...       -14.883578        4.790821                8   \n",
       "5          -12.698417  ...       -13.582942        4.681464                3   \n",
       "6          -16.265997  ...       -16.709628        4.294091               12   \n",
       "7          -11.758132  ...       -13.764029        4.626621                4   \n",
       "8          -11.229923  ...       -12.876916        4.975776                1   \n",
       "9          -15.287710  ...       -19.728934        5.349866               17   \n",
       "10         -11.344821  ...       -14.200915        4.867359                7   \n",
       "11         -11.118782  ...       -12.876974        4.536579                2   \n",
       "12         -19.425330  ...       -20.425454        4.495403               18   \n",
       "13         -14.301445  ...       -15.410293        4.912214               11   \n",
       "14         -20.356679  ...       -19.649410        4.230666               15   \n",
       "15         -14.889561  ...       -14.929386        4.783851                9   \n",
       "16         -16.630823  ...       -17.510799        5.069663               13   \n",
       "17         -13.135633  ...       -14.087581        4.740296                5   \n",
       "\n",
       "    split0_train_score  split1_train_score  split2_train_score  \\\n",
       "0        -4.965007e+00       -5.133800e+00       -6.085451e+00   \n",
       "1        -2.465269e+00       -2.654259e+00       -2.779991e+00   \n",
       "2        -2.183978e+00       -2.188633e+00       -2.198333e+00   \n",
       "3        -4.985384e+00       -6.095893e+00       -5.847541e+00   \n",
       "4        -2.356043e+00       -2.430728e+00       -2.708629e+00   \n",
       "5        -2.049610e+00       -2.024178e+00       -2.134868e+00   \n",
       "6        -4.341497e+00       -4.425395e+00       -4.981083e+00   \n",
       "7        -2.261110e+00       -2.282761e+00       -2.585678e+00   \n",
       "8        -2.010944e+00       -2.057740e+00       -2.136919e+00   \n",
       "9        -4.454174e+00       -4.749681e+00       -4.261238e+00   \n",
       "10       -2.261057e+00       -2.230974e+00       -2.299552e+00   \n",
       "11       -2.041483e+00       -1.938599e+00       -2.058090e+00   \n",
       "12       -7.727539e-32       -7.965211e-32       -7.531610e-32   \n",
       "13       -5.336609e-31       -5.425573e-31       -5.204823e-31   \n",
       "14       -7.727539e-32       -7.965211e-32       -7.531610e-32   \n",
       "15       -5.336609e-31       -5.425573e-31       -5.204823e-31   \n",
       "16       -7.727539e-32       -7.965211e-32       -7.531610e-32   \n",
       "17       -6.277462e-15       -6.144790e-15       -5.204823e-31   \n",
       "\n",
       "    split3_train_score  split4_train_score  mean_train_score  std_train_score  \n",
       "0        -5.764934e+00       -5.267909e+00     -5.443420e+00     4.174021e-01  \n",
       "1        -2.868114e+00       -2.353860e+00     -2.624299e+00     1.913169e-01  \n",
       "2        -2.375605e+00       -1.673028e+00     -2.123915e+00     2.366351e-01  \n",
       "3        -5.717519e+00       -4.663830e+00     -5.462033e+00     5.440570e-01  \n",
       "4        -2.628783e+00       -2.215422e+00     -2.467921e+00     1.797068e-01  \n",
       "5        -2.111962e+00       -1.592888e+00     -1.982701e+00     1.990049e-01  \n",
       "6        -4.392763e+00       -4.716759e+00     -4.571500e+00     2.429211e-01  \n",
       "7        -2.281637e+00       -2.085661e+00     -2.299369e+00     1.610575e-01  \n",
       "8        -2.030357e+00       -1.533723e+00     -1.953937e+00     2.144422e-01  \n",
       "9        -5.825538e+00       -4.330017e+00     -4.724129e+00     5.755385e-01  \n",
       "10       -2.583265e+00       -1.940587e+00     -2.263087e+00     2.043945e-01  \n",
       "11       -2.061127e+00       -1.432904e+00     -1.906441e+00     2.410117e-01  \n",
       "12       -7.074782e-32       -8.069103e-32     -7.673649e-32     3.530192e-33  \n",
       "13       -6.277462e-15       -5.386089e-31     -1.255492e-15     2.510985e-15  \n",
       "14       -7.074782e-32       -8.069103e-32     -7.673649e-32     3.530192e-33  \n",
       "15       -5.444634e-31       -5.386089e-31     -5.359546e-31     8.575460e-33  \n",
       "16       -7.074782e-32       -1.027626e-16     -2.055251e-17     4.110502e-17  \n",
       "17       -5.444634e-31       -9.248630e-18     -2.486300e-15     3.041599e-15  \n",
       "\n",
       "[18 rows x 23 columns]"
      ]
     },
     "execution_count": 400,
     "metadata": {},
     "output_type": "execute_result"
    }
   ],
   "source": [
    "pd.DataFrame(grid_search.cv_results_)"
   ]
  },
  {
   "cell_type": "code",
   "execution_count": 401,
   "id": "16091240-f3bd-4e8d-8085-e7ac2e50755e",
   "metadata": {},
   "outputs": [
    {
     "data": {
      "text/plain": [
       "RandomizedSearchCV(cv=5, estimator=RandomForestRegressor(random_state=42),\n",
       "                   param_distributions={'max_features': <scipy.stats._distn_infrastructure.rv_frozen object at 0x000001A5C55C8A60>,\n",
       "                                        'n_estimators': <scipy.stats._distn_infrastructure.rv_frozen object at 0x000001A5D73253A0>},\n",
       "                   random_state=42, scoring='neg_mean_squared_error')"
      ]
     },
     "execution_count": 401,
     "metadata": {},
     "output_type": "execute_result"
    }
   ],
   "source": [
    "from sklearn.model_selection import RandomizedSearchCV\n",
    "from scipy.stats import randint\n",
    "\n",
    "param_distribs = {\n",
    "        'n_estimators': randint(low=1, high=200),\n",
    "        'max_features': randint(low=1, high=8),\n",
    "    }\n",
    "\n",
    "forest_reg = RandomForestRegressor(random_state=42)\n",
    "rnd_search = RandomizedSearchCV(forest_reg, param_distributions=param_distribs,\n",
    "                                n_iter=10, cv=5, scoring='neg_mean_squared_error', random_state=42)\n",
    "rnd_search.fit(housing_prepared, housing_labels)"
   ]
  },
  {
   "cell_type": "code",
   "execution_count": 402,
   "id": "76b174a2-e909-4227-b853-30080c25943b",
   "metadata": {},
   "outputs": [
    {
     "name": "stdout",
     "output_type": "stream",
     "text": [
      "3.5189419142933973 {'max_features': 7, 'n_estimators': 180}\n",
      "3.753960982039677 {'max_features': 5, 'n_estimators': 15}\n",
      "3.638079856583578 {'max_features': 3, 'n_estimators': 72}\n",
      "3.7139360756376756 {'max_features': 5, 'n_estimators': 21}\n",
      "3.5216554851532296 {'max_features': 7, 'n_estimators': 122}\n",
      "3.6328372016886576 {'max_features': 3, 'n_estimators': 75}\n",
      "3.63417027926586 {'max_features': 3, 'n_estimators': 88}\n",
      "3.5684677711895563 {'max_features': 5, 'n_estimators': 100}\n",
      "3.615831235513285 {'max_features': 3, 'n_estimators': 150}\n",
      "4.514047623625084 {'max_features': 5, 'n_estimators': 2}\n"
     ]
    }
   ],
   "source": [
    "cvres = rnd_search.cv_results_\n",
    "for mean_score, params in zip(cvres[\"mean_test_score\"], cvres[\"params\"]):\n",
    "    print(np.sqrt(-mean_score), params)"
   ]
  },
  {
   "cell_type": "code",
   "execution_count": 403,
   "id": "737f4bf9-86de-4c77-a7fd-978883c7ddb2",
   "metadata": {},
   "outputs": [
    {
     "data": {
      "text/plain": [
       "array([0.00789751, 0.00589601, 0.00857604, 0.00571572, 0.0050521 ,\n",
       "       0.00557862, 0.00494119, 0.00738304, 0.02281952, 0.01132711,\n",
       "       0.02626624, 0.00887418, 0.00823298, 0.00876928, 0.02104204,\n",
       "       0.01409712, 0.00755523, 0.00981245, 0.00990463, 0.0098575 ,\n",
       "       0.01308132, 0.00585989, 0.02788361, 0.01207511, 0.01371357,\n",
       "       0.02122312, 0.01891848, 0.00711404, 0.00992204, 0.03632383,\n",
       "       0.01286996, 0.00774965, 0.00988809, 0.00547753, 0.00157135,\n",
       "       0.0170971 , 0.00986706, 0.00244527, 0.00805235, 0.00285159,\n",
       "       0.00314288, 0.05300709, 0.00454786, 0.01514459, 0.05687594,\n",
       "       0.01762843, 0.00082213, 0.00251404, 0.00247905, 0.01259953,\n",
       "       0.01011428, 0.00168469, 0.00442186, 0.01028279, 0.02772831,\n",
       "       0.00328577, 0.00206294, 0.00143628, 0.00290801, 0.06002329,\n",
       "       0.00557329, 0.0423393 , 0.03384746, 0.03428353, 0.02582054,\n",
       "       0.11184265])"
      ]
     },
     "execution_count": 403,
     "metadata": {},
     "output_type": "execute_result"
    }
   ],
   "source": [
    "feature_importances = grid_search.best_estimator_.feature_importances_\n",
    "feature_importances"
   ]
  },
  {
   "cell_type": "code",
   "execution_count": 412,
   "id": "0ac502fe-7c69-4957-a31b-50d2c1a9b858",
   "metadata": {},
   "outputs": [
    {
     "data": {
      "text/plain": [
       "[(0.027883611556500272, '01/11/2021'),\n",
       " (0.026266239783451772, '01/06/2021'),\n",
       " (0.02281952385169872, '01/05/2021'),\n",
       " (0.02104204477500611, '01/08/2020'),\n",
       " (0.014097121597771673, '01/08/2021'),\n",
       " (0.013713570872409073, '01/12/2021'),\n",
       " (0.013081315818803192, '01/10/2021'),\n",
       " (0.01207510861312632, '01/12/2020'),\n",
       " (0.011327105657672249, '01/05/2022'),\n",
       " (0.009904625233976543, '01/09/2021'),\n",
       " (0.009857504910584106, '01/10/2020'),\n",
       " (0.009812448145176778, '01/09/2020'),\n",
       " (0.00887417576682825, '01/06/2022'),\n",
       " (0.008769281746419132, '01/07/2022'),\n",
       " (0.00857603709580473, '01/02/2021'),\n",
       " (0.008232978478201534, '01/07/2021'),\n",
       " (0.007897514374067733, '01/01/2021'),\n",
       " (0.007555231788847258, '01/08/2022'),\n",
       " (0.0073830389026125045, '01/04/2022'),\n",
       " (0.005896011129708379, '01/01/2022'),\n",
       " (0.005859887783075438, '01/11/2020'),\n",
       " (0.005715715733352334, '01/02/2022'),\n",
       " (0.005578615090693512, '01/03/2022'),\n",
       " (0.00505210414446329, '01/03/2021'),\n",
       " (0.004941193651227905, '01/04/2021')]"
      ]
     },
     "execution_count": 412,
     "metadata": {},
     "output_type": "execute_result"
    }
   ],
   "source": [
    "#extra_attribs = [\"rooms_per_hhold\", \"pop_per_hhold\", \"bedrooms_per_room\"]\n",
    "#cat_encoder = cat_pipeline.named_steps[\"cat_encoder\"] # old solution\n",
    "cat_encoder = full_pipeline.named_transformers_[\"cat\"]\n",
    "cat_one_hot_attribs = list(cat_encoder.categories_[0])\n",
    "#attributes = num_attribs + cat_one_hot_attribs\n",
    "attributes = cat_one_hot_attribs\n",
    "#attributes = num_attribs + extra_attribs + cat_one_hot_attribs\n",
    "sorted(zip(feature_importances, attributes), reverse=True)"
   ]
  },
  {
   "cell_type": "code",
   "execution_count": 413,
   "id": "2f22d7df-a607-426f-be26-9b4a7bb726ae",
   "metadata": {
    "tags": []
   },
   "outputs": [],
   "source": [
    "final_model = grid_search.best_estimator_\n",
    "\n",
    "strat_test_set = strat_test_set[strat_test_set['Position Ad Unit'] != '180 » s180']\n",
    "X_test = strat_test_set.drop(\"rCPM\", axis=1)\n",
    "y_test = strat_test_set[\"rCPM\"].copy()"
   ]
  },
  {
   "cell_type": "code",
   "execution_count": 414,
   "id": "b5a98924-9a4a-4ee1-88cf-711efb203c2c",
   "metadata": {},
   "outputs": [],
   "source": [
    "X_test_prepared = full_pipeline.transform(X_test)\n",
    "final_predictions = final_model.predict(X_test_prepared)"
   ]
  },
  {
   "cell_type": "code",
   "execution_count": 415,
   "id": "07e24b5d-7d09-4e4b-8a4e-77d1c314083e",
   "metadata": {},
   "outputs": [],
   "source": [
    "final_mse = mean_squared_error(y_test, final_predictions)\n",
    "final_rmse = np.sqrt(final_mse)"
   ]
  },
  {
   "cell_type": "code",
   "execution_count": 416,
   "id": "51fcc695-51cc-4642-b379-8ed41b9ee9e8",
   "metadata": {},
   "outputs": [
    {
     "data": {
      "text/plain": [
       "4.9041717173941155"
      ]
     },
     "execution_count": 416,
     "metadata": {},
     "output_type": "execute_result"
    }
   ],
   "source": [
    "final_rmse"
   ]
  },
  {
   "cell_type": "code",
   "execution_count": 417,
   "id": "a655a403-5f30-4ba9-a12a-f95cc2120df2",
   "metadata": {},
   "outputs": [],
   "source": [
    "from scipy import stats"
   ]
  },
  {
   "cell_type": "code",
   "execution_count": 418,
   "id": "1205c8bb-d5ac-48d0-becc-bbc5e16d160f",
   "metadata": {},
   "outputs": [
    {
     "name": "stderr",
     "output_type": "stream",
     "text": [
      "C:\\Users\\Aaron\\AppData\\Local\\Temp\\ipykernel_17656\\2583762534.py:6: RuntimeWarning: invalid value encountered in sqrt\n",
      "  np.sqrt(stats.t.interval(confidence, m - 1,\n"
     ]
    },
    {
     "data": {
      "text/plain": [
       "array([      nan, 7.3161068])"
      ]
     },
     "execution_count": 418,
     "metadata": {},
     "output_type": "execute_result"
    }
   ],
   "source": [
    "confidence = 0.95\n",
    "squared_errors = (final_predictions - y_test) ** 2\n",
    "mean = squared_errors.mean()\n",
    "m = len(squared_errors)\n",
    "\n",
    "np.sqrt(stats.t.interval(confidence, m - 1,\n",
    "                         loc=np.mean(squared_errors),\n",
    "                         scale=stats.sem(squared_errors)))"
   ]
  },
  {
   "cell_type": "code",
   "execution_count": 419,
   "id": "fecf4405-e302-49cf-8597-afbd89021bdd",
   "metadata": {},
   "outputs": [
    {
     "data": {
      "text/plain": [
       "(-5.423618189059223, 53.52541865643592)"
      ]
     },
     "execution_count": 419,
     "metadata": {},
     "output_type": "execute_result"
    }
   ],
   "source": [
    "stats.t.interval(confidence, m - 1,\n",
    "                         loc=np.mean(squared_errors),\n",
    "                         scale=stats.sem(squared_errors))"
   ]
  },
  {
   "cell_type": "markdown",
   "id": "b5736846-fe77-4dd6-a94a-2b09ff5f1dc0",
   "metadata": {},
   "source": [
    "# Polinomial Regression"
   ]
  },
  {
   "cell_type": "code",
   "execution_count": 431,
   "id": "b7c6c19b-cdc3-4d9f-90df-37a1849e8552",
   "metadata": {},
   "outputs": [],
   "source": [
    "X = housing_prepared\n",
    "y = housing_labels"
   ]
  },
  {
   "cell_type": "code",
   "execution_count": 428,
   "id": "8710da34-4648-4e24-b5bb-9ba1f2908ae9",
   "metadata": {},
   "outputs": [
    {
     "data": {
      "text/plain": [
       "<1x66 sparse matrix of type '<class 'numpy.float64'>'\n",
       "\twith 5 stored elements in Compressed Sparse Row format>"
      ]
     },
     "execution_count": 428,
     "metadata": {},
     "output_type": "execute_result"
    }
   ],
   "source": [
    "from sklearn.preprocessing import PolynomialFeatures\n",
    "poly_features = PolynomialFeatures(degree=2, include_bias=False)\n",
    "X_poly = poly_features.fit_transform(X)\n",
    "X[0]"
   ]
  },
  {
   "cell_type": "code",
   "execution_count": 429,
   "id": "7a072dfd-6889-4ec4-9836-884e32e81aa3",
   "metadata": {},
   "outputs": [
    {
     "data": {
      "text/plain": [
       "<1x2277 sparse matrix of type '<class 'numpy.float64'>'\n",
       "\twith 20 stored elements in Compressed Sparse Row format>"
      ]
     },
     "execution_count": 429,
     "metadata": {},
     "output_type": "execute_result"
    }
   ],
   "source": [
    "X_poly[0]"
   ]
  },
  {
   "cell_type": "code",
   "execution_count": 432,
   "id": "b40ce279-e90b-44e6-a8a0-306c10313833",
   "metadata": {},
   "outputs": [
    {
     "data": {
      "text/plain": [
       "(3.443614936697516,\n",
       " array([-0.59676448,  0.01480428, -0.30920945, ..., -0.43971829,\n",
       "         0.        ,  1.09619754]))"
      ]
     },
     "execution_count": 432,
     "metadata": {},
     "output_type": "execute_result"
    }
   ],
   "source": [
    "lin_reg = LinearRegression()\n",
    "lin_reg.fit(X_poly, y)\n",
    "lin_reg.intercept_, lin_reg.coef_"
   ]
  },
  {
   "cell_type": "code",
   "execution_count": 434,
   "id": "750e5837-54b5-48f6-a7f7-ce70759020aa",
   "metadata": {},
   "outputs": [
    {
     "ename": "KeyboardInterrupt",
     "evalue": "",
     "output_type": "error",
     "traceback": [
      "\u001b[1;31m---------------------------------------------------------------------------\u001b[0m",
      "\u001b[1;31mKeyboardInterrupt\u001b[0m                         Traceback (most recent call last)",
      "Input \u001b[1;32mIn [434]\u001b[0m, in \u001b[0;36m<cell line: 4>\u001b[1;34m()\u001b[0m\n\u001b[0;32m      7\u001b[0m lin_reg \u001b[38;5;241m=\u001b[39m LinearRegression()\n\u001b[0;32m      8\u001b[0m polynomial_regression \u001b[38;5;241m=\u001b[39m Pipeline([\n\u001b[0;32m      9\u001b[0m         (\u001b[38;5;124m\"\u001b[39m\u001b[38;5;124mpoly_features\u001b[39m\u001b[38;5;124m\"\u001b[39m, polybig_features),\n\u001b[0;32m     10\u001b[0m         (\u001b[38;5;124m\"\u001b[39m\u001b[38;5;124mstd_scaler\u001b[39m\u001b[38;5;124m\"\u001b[39m, std_scaler),\n\u001b[0;32m     11\u001b[0m         (\u001b[38;5;124m\"\u001b[39m\u001b[38;5;124mlin_reg\u001b[39m\u001b[38;5;124m\"\u001b[39m, lin_reg),\n\u001b[0;32m     12\u001b[0m     ])\n\u001b[1;32m---> 13\u001b[0m \u001b[43mpolynomial_regression\u001b[49m\u001b[38;5;241;43m.\u001b[39;49m\u001b[43mfit\u001b[49m\u001b[43m(\u001b[49m\u001b[43mX\u001b[49m\u001b[43m,\u001b[49m\u001b[43m \u001b[49m\u001b[43my\u001b[49m\u001b[43m)\u001b[49m\n\u001b[0;32m     14\u001b[0m y_newbig \u001b[38;5;241m=\u001b[39m polynomial_regression\u001b[38;5;241m.\u001b[39mpredict(X_new)\n\u001b[0;32m     15\u001b[0m plt\u001b[38;5;241m.\u001b[39mplot(X_new, y_newbig, style, label\u001b[38;5;241m=\u001b[39m\u001b[38;5;28mstr\u001b[39m(degree), linewidth\u001b[38;5;241m=\u001b[39mwidth)\n",
      "File \u001b[1;32m~\\anaconda3\\lib\\site-packages\\sklearn\\pipeline.py:390\u001b[0m, in \u001b[0;36mPipeline.fit\u001b[1;34m(self, X, y, **fit_params)\u001b[0m\n\u001b[0;32m    364\u001b[0m \u001b[38;5;124;03m\"\"\"Fit the model.\u001b[39;00m\n\u001b[0;32m    365\u001b[0m \n\u001b[0;32m    366\u001b[0m \u001b[38;5;124;03mFit all the transformers one after the other and transform the\u001b[39;00m\n\u001b[1;32m   (...)\u001b[0m\n\u001b[0;32m    387\u001b[0m \u001b[38;5;124;03m    Pipeline with fitted steps.\u001b[39;00m\n\u001b[0;32m    388\u001b[0m \u001b[38;5;124;03m\"\"\"\u001b[39;00m\n\u001b[0;32m    389\u001b[0m fit_params_steps \u001b[38;5;241m=\u001b[39m \u001b[38;5;28mself\u001b[39m\u001b[38;5;241m.\u001b[39m_check_fit_params(\u001b[38;5;241m*\u001b[39m\u001b[38;5;241m*\u001b[39mfit_params)\n\u001b[1;32m--> 390\u001b[0m Xt \u001b[38;5;241m=\u001b[39m \u001b[38;5;28mself\u001b[39m\u001b[38;5;241m.\u001b[39m_fit(X, y, \u001b[38;5;241m*\u001b[39m\u001b[38;5;241m*\u001b[39mfit_params_steps)\n\u001b[0;32m    391\u001b[0m \u001b[38;5;28;01mwith\u001b[39;00m _print_elapsed_time(\u001b[38;5;124m\"\u001b[39m\u001b[38;5;124mPipeline\u001b[39m\u001b[38;5;124m\"\u001b[39m, \u001b[38;5;28mself\u001b[39m\u001b[38;5;241m.\u001b[39m_log_message(\u001b[38;5;28mlen\u001b[39m(\u001b[38;5;28mself\u001b[39m\u001b[38;5;241m.\u001b[39msteps) \u001b[38;5;241m-\u001b[39m \u001b[38;5;241m1\u001b[39m)):\n\u001b[0;32m    392\u001b[0m     \u001b[38;5;28;01mif\u001b[39;00m \u001b[38;5;28mself\u001b[39m\u001b[38;5;241m.\u001b[39m_final_estimator \u001b[38;5;241m!=\u001b[39m \u001b[38;5;124m\"\u001b[39m\u001b[38;5;124mpassthrough\u001b[39m\u001b[38;5;124m\"\u001b[39m:\n",
      "File \u001b[1;32m~\\anaconda3\\lib\\site-packages\\sklearn\\pipeline.py:348\u001b[0m, in \u001b[0;36mPipeline._fit\u001b[1;34m(self, X, y, **fit_params_steps)\u001b[0m\n\u001b[0;32m    346\u001b[0m     cloned_transformer \u001b[38;5;241m=\u001b[39m clone(transformer)\n\u001b[0;32m    347\u001b[0m \u001b[38;5;66;03m# Fit or load from cache the current transformer\u001b[39;00m\n\u001b[1;32m--> 348\u001b[0m X, fitted_transformer \u001b[38;5;241m=\u001b[39m fit_transform_one_cached(\n\u001b[0;32m    349\u001b[0m     cloned_transformer,\n\u001b[0;32m    350\u001b[0m     X,\n\u001b[0;32m    351\u001b[0m     y,\n\u001b[0;32m    352\u001b[0m     \u001b[38;5;28;01mNone\u001b[39;00m,\n\u001b[0;32m    353\u001b[0m     message_clsname\u001b[38;5;241m=\u001b[39m\u001b[38;5;124m\"\u001b[39m\u001b[38;5;124mPipeline\u001b[39m\u001b[38;5;124m\"\u001b[39m,\n\u001b[0;32m    354\u001b[0m     message\u001b[38;5;241m=\u001b[39m\u001b[38;5;28mself\u001b[39m\u001b[38;5;241m.\u001b[39m_log_message(step_idx),\n\u001b[0;32m    355\u001b[0m     \u001b[38;5;241m*\u001b[39m\u001b[38;5;241m*\u001b[39mfit_params_steps[name],\n\u001b[0;32m    356\u001b[0m )\n\u001b[0;32m    357\u001b[0m \u001b[38;5;66;03m# Replace the transformer of the step with the fitted\u001b[39;00m\n\u001b[0;32m    358\u001b[0m \u001b[38;5;66;03m# transformer. This is necessary when loading the transformer\u001b[39;00m\n\u001b[0;32m    359\u001b[0m \u001b[38;5;66;03m# from the cache.\u001b[39;00m\n\u001b[0;32m    360\u001b[0m \u001b[38;5;28mself\u001b[39m\u001b[38;5;241m.\u001b[39msteps[step_idx] \u001b[38;5;241m=\u001b[39m (name, fitted_transformer)\n",
      "File \u001b[1;32m~\\anaconda3\\lib\\site-packages\\joblib\\memory.py:349\u001b[0m, in \u001b[0;36mNotMemorizedFunc.__call__\u001b[1;34m(self, *args, **kwargs)\u001b[0m\n\u001b[0;32m    348\u001b[0m \u001b[38;5;28;01mdef\u001b[39;00m \u001b[38;5;21m__call__\u001b[39m(\u001b[38;5;28mself\u001b[39m, \u001b[38;5;241m*\u001b[39margs, \u001b[38;5;241m*\u001b[39m\u001b[38;5;241m*\u001b[39mkwargs):\n\u001b[1;32m--> 349\u001b[0m     \u001b[38;5;28;01mreturn\u001b[39;00m \u001b[38;5;28mself\u001b[39m\u001b[38;5;241m.\u001b[39mfunc(\u001b[38;5;241m*\u001b[39margs, \u001b[38;5;241m*\u001b[39m\u001b[38;5;241m*\u001b[39mkwargs)\n",
      "File \u001b[1;32m~\\anaconda3\\lib\\site-packages\\sklearn\\pipeline.py:893\u001b[0m, in \u001b[0;36m_fit_transform_one\u001b[1;34m(transformer, X, y, weight, message_clsname, message, **fit_params)\u001b[0m\n\u001b[0;32m    891\u001b[0m \u001b[38;5;28;01mwith\u001b[39;00m _print_elapsed_time(message_clsname, message):\n\u001b[0;32m    892\u001b[0m     \u001b[38;5;28;01mif\u001b[39;00m \u001b[38;5;28mhasattr\u001b[39m(transformer, \u001b[38;5;124m\"\u001b[39m\u001b[38;5;124mfit_transform\u001b[39m\u001b[38;5;124m\"\u001b[39m):\n\u001b[1;32m--> 893\u001b[0m         res \u001b[38;5;241m=\u001b[39m transformer\u001b[38;5;241m.\u001b[39mfit_transform(X, y, \u001b[38;5;241m*\u001b[39m\u001b[38;5;241m*\u001b[39mfit_params)\n\u001b[0;32m    894\u001b[0m     \u001b[38;5;28;01melse\u001b[39;00m:\n\u001b[0;32m    895\u001b[0m         res \u001b[38;5;241m=\u001b[39m transformer\u001b[38;5;241m.\u001b[39mfit(X, y, \u001b[38;5;241m*\u001b[39m\u001b[38;5;241m*\u001b[39mfit_params)\u001b[38;5;241m.\u001b[39mtransform(X)\n",
      "File \u001b[1;32m~\\anaconda3\\lib\\site-packages\\sklearn\\base.py:855\u001b[0m, in \u001b[0;36mTransformerMixin.fit_transform\u001b[1;34m(self, X, y, **fit_params)\u001b[0m\n\u001b[0;32m    852\u001b[0m     \u001b[38;5;28;01mreturn\u001b[39;00m \u001b[38;5;28mself\u001b[39m\u001b[38;5;241m.\u001b[39mfit(X, \u001b[38;5;241m*\u001b[39m\u001b[38;5;241m*\u001b[39mfit_params)\u001b[38;5;241m.\u001b[39mtransform(X)\n\u001b[0;32m    853\u001b[0m \u001b[38;5;28;01melse\u001b[39;00m:\n\u001b[0;32m    854\u001b[0m     \u001b[38;5;66;03m# fit method of arity 2 (supervised transformation)\u001b[39;00m\n\u001b[1;32m--> 855\u001b[0m     \u001b[38;5;28;01mreturn\u001b[39;00m \u001b[38;5;28;43mself\u001b[39;49m\u001b[38;5;241;43m.\u001b[39;49m\u001b[43mfit\u001b[49m\u001b[43m(\u001b[49m\u001b[43mX\u001b[49m\u001b[43m,\u001b[49m\u001b[43m \u001b[49m\u001b[43my\u001b[49m\u001b[43m,\u001b[49m\u001b[43m \u001b[49m\u001b[38;5;241;43m*\u001b[39;49m\u001b[38;5;241;43m*\u001b[39;49m\u001b[43mfit_params\u001b[49m\u001b[43m)\u001b[49m\u001b[38;5;241;43m.\u001b[39;49m\u001b[43mtransform\u001b[49m\u001b[43m(\u001b[49m\u001b[43mX\u001b[49m\u001b[43m)\u001b[49m\n",
      "File \u001b[1;32m~\\anaconda3\\lib\\site-packages\\sklearn\\preprocessing\\_polynomial.py:377\u001b[0m, in \u001b[0;36mPolynomialFeatures.transform\u001b[1;34m(self, X)\u001b[0m\n\u001b[0;32m    375\u001b[0m \u001b[38;5;28;01mif\u001b[39;00m sparse\u001b[38;5;241m.\u001b[39misspmatrix_csr(X):\n\u001b[0;32m    376\u001b[0m     \u001b[38;5;28;01mif\u001b[39;00m \u001b[38;5;28mself\u001b[39m\u001b[38;5;241m.\u001b[39m_max_degree \u001b[38;5;241m>\u001b[39m \u001b[38;5;241m3\u001b[39m:\n\u001b[1;32m--> 377\u001b[0m         \u001b[38;5;28;01mreturn\u001b[39;00m \u001b[38;5;28;43mself\u001b[39;49m\u001b[38;5;241;43m.\u001b[39;49m\u001b[43mtransform\u001b[49m\u001b[43m(\u001b[49m\u001b[43mX\u001b[49m\u001b[38;5;241;43m.\u001b[39;49m\u001b[43mtocsc\u001b[49m\u001b[43m(\u001b[49m\u001b[43m)\u001b[49m\u001b[43m)\u001b[49m\u001b[38;5;241m.\u001b[39mtocsr()\n\u001b[0;32m    378\u001b[0m     to_stack \u001b[38;5;241m=\u001b[39m []\n\u001b[0;32m    379\u001b[0m     \u001b[38;5;28;01mif\u001b[39;00m \u001b[38;5;28mself\u001b[39m\u001b[38;5;241m.\u001b[39minclude_bias:\n",
      "File \u001b[1;32m~\\anaconda3\\lib\\site-packages\\sklearn\\preprocessing\\_polynomial.py:412\u001b[0m, in \u001b[0;36mPolynomialFeatures.transform\u001b[1;34m(self, X)\u001b[0m\n\u001b[0;32m    410\u001b[0m     out_col \u001b[38;5;241m=\u001b[39m \u001b[38;5;241m1\u001b[39m\n\u001b[0;32m    411\u001b[0m     \u001b[38;5;28;01mfor\u001b[39;00m col_idx \u001b[38;5;129;01min\u001b[39;00m combi:\n\u001b[1;32m--> 412\u001b[0m         out_col \u001b[38;5;241m=\u001b[39m \u001b[43mX\u001b[49m\u001b[43m[\u001b[49m\u001b[43m:\u001b[49m\u001b[43m,\u001b[49m\u001b[43m \u001b[49m\u001b[43mcol_idx\u001b[49m\u001b[43m]\u001b[49m\u001b[38;5;241;43m.\u001b[39;49m\u001b[43mmultiply\u001b[49m\u001b[43m(\u001b[49m\u001b[43mout_col\u001b[49m\u001b[43m)\u001b[49m\n\u001b[0;32m    413\u001b[0m     columns\u001b[38;5;241m.\u001b[39mappend(out_col)\n\u001b[0;32m    414\u001b[0m \u001b[38;5;28;01melse\u001b[39;00m:\n",
      "File \u001b[1;32m~\\anaconda3\\lib\\site-packages\\scipy\\sparse\\compressed.py:371\u001b[0m, in \u001b[0;36m_cs_matrix.multiply\u001b[1;34m(self, other)\u001b[0m\n\u001b[0;32m    369\u001b[0m \u001b[38;5;66;03m# Scalar multiplication.\u001b[39;00m\n\u001b[0;32m    370\u001b[0m \u001b[38;5;28;01mif\u001b[39;00m isscalarlike(other):\n\u001b[1;32m--> 371\u001b[0m     \u001b[38;5;28;01mreturn\u001b[39;00m \u001b[38;5;28;43mself\u001b[39;49m\u001b[38;5;241;43m.\u001b[39;49m\u001b[43m_mul_scalar\u001b[49m\u001b[43m(\u001b[49m\u001b[43mother\u001b[49m\u001b[43m)\u001b[49m\n\u001b[0;32m    372\u001b[0m \u001b[38;5;66;03m# Sparse matrix or vector.\u001b[39;00m\n\u001b[0;32m    373\u001b[0m \u001b[38;5;28;01mif\u001b[39;00m isspmatrix(other):\n",
      "File \u001b[1;32m~\\anaconda3\\lib\\site-packages\\scipy\\sparse\\data.py:124\u001b[0m, in \u001b[0;36m_data_matrix._mul_scalar\u001b[1;34m(self, other)\u001b[0m\n\u001b[0;32m    123\u001b[0m \u001b[38;5;28;01mdef\u001b[39;00m \u001b[38;5;21m_mul_scalar\u001b[39m(\u001b[38;5;28mself\u001b[39m, other):\n\u001b[1;32m--> 124\u001b[0m     \u001b[38;5;28;01mreturn\u001b[39;00m \u001b[38;5;28;43mself\u001b[39;49m\u001b[38;5;241;43m.\u001b[39;49m\u001b[43m_with_data\u001b[49m\u001b[43m(\u001b[49m\u001b[38;5;28;43mself\u001b[39;49m\u001b[38;5;241;43m.\u001b[39;49m\u001b[43mdata\u001b[49m\u001b[43m \u001b[49m\u001b[38;5;241;43m*\u001b[39;49m\u001b[43m \u001b[49m\u001b[43mother\u001b[49m\u001b[43m)\u001b[49m\n",
      "File \u001b[1;32m~\\anaconda3\\lib\\site-packages\\scipy\\sparse\\compressed.py:1218\u001b[0m, in \u001b[0;36m_cs_matrix._with_data\u001b[1;34m(self, data, copy)\u001b[0m\n\u001b[0;32m   1213\u001b[0m \u001b[38;5;124;03m\"\"\"Returns a matrix with the same sparsity structure as self,\u001b[39;00m\n\u001b[0;32m   1214\u001b[0m \u001b[38;5;124;03mbut with different data.  By default the structure arrays\u001b[39;00m\n\u001b[0;32m   1215\u001b[0m \u001b[38;5;124;03m(i.e. .indptr and .indices) are copied.\u001b[39;00m\n\u001b[0;32m   1216\u001b[0m \u001b[38;5;124;03m\"\"\"\u001b[39;00m\n\u001b[0;32m   1217\u001b[0m \u001b[38;5;28;01mif\u001b[39;00m copy:\n\u001b[1;32m-> 1218\u001b[0m     \u001b[38;5;28;01mreturn\u001b[39;00m \u001b[38;5;28mself\u001b[39m\u001b[38;5;241m.\u001b[39m\u001b[38;5;18m__class__\u001b[39m((data, \u001b[38;5;28;43mself\u001b[39;49m\u001b[38;5;241;43m.\u001b[39;49m\u001b[43mindices\u001b[49m\u001b[38;5;241;43m.\u001b[39;49m\u001b[43mcopy\u001b[49m\u001b[43m(\u001b[49m\u001b[43m)\u001b[49m,\n\u001b[0;32m   1219\u001b[0m                            \u001b[38;5;28mself\u001b[39m\u001b[38;5;241m.\u001b[39mindptr\u001b[38;5;241m.\u001b[39mcopy()),\n\u001b[0;32m   1220\u001b[0m                           shape\u001b[38;5;241m=\u001b[39m\u001b[38;5;28mself\u001b[39m\u001b[38;5;241m.\u001b[39mshape,\n\u001b[0;32m   1221\u001b[0m                           dtype\u001b[38;5;241m=\u001b[39mdata\u001b[38;5;241m.\u001b[39mdtype)\n\u001b[0;32m   1222\u001b[0m \u001b[38;5;28;01melse\u001b[39;00m:\n\u001b[0;32m   1223\u001b[0m     \u001b[38;5;28;01mreturn\u001b[39;00m \u001b[38;5;28mself\u001b[39m\u001b[38;5;241m.\u001b[39m\u001b[38;5;18m__class__\u001b[39m((data, \u001b[38;5;28mself\u001b[39m\u001b[38;5;241m.\u001b[39mindices, \u001b[38;5;28mself\u001b[39m\u001b[38;5;241m.\u001b[39mindptr),\n\u001b[0;32m   1224\u001b[0m                           shape\u001b[38;5;241m=\u001b[39m\u001b[38;5;28mself\u001b[39m\u001b[38;5;241m.\u001b[39mshape, dtype\u001b[38;5;241m=\u001b[39mdata\u001b[38;5;241m.\u001b[39mdtype)\n",
      "\u001b[1;31mKeyboardInterrupt\u001b[0m: "
     ]
    }
   ],
   "source": [
    "from sklearn.preprocessing import StandardScaler\n",
    "from sklearn.pipeline import Pipeline\n",
    "\n",
    "for style, width, degree in ((\"g-\", 1, 300), (\"b--\", 2, 2), (\"r-+\", 2, 1)):\n",
    "    polybig_features = PolynomialFeatures(degree=degree, include_bias=False)\n",
    "    std_scaler = StandardScaler()\n",
    "    lin_reg = LinearRegression()\n",
    "    polynomial_regression = Pipeline([\n",
    "            (\"poly_features\", polybig_features),\n",
    "            (\"std_scaler\", std_scaler),\n",
    "            (\"lin_reg\", lin_reg),\n",
    "        ])\n",
    "    polynomial_regression.fit(X, y)\n",
    "    y_newbig = polynomial_regression.predict(X_new)\n",
    "    plt.plot(X_new, y_newbig, style, label=str(degree), linewidth=width)\n",
    "\n",
    "plt.plot(X, y, \"b.\", linewidth=3)\n",
    "plt.legend(loc=\"upper left\")\n",
    "plt.xlabel(\"$x_1$\", fontsize=18)\n",
    "plt.ylabel(\"$y$\", rotation=0, fontsize=18)\n",
    "plt.axis([-3, 3, 0, 10])\n",
    "save_fig(\"high_degree_polynomials_plot\")\n",
    "plt.show()"
   ]
  },
  {
   "cell_type": "code",
   "execution_count": null,
   "id": "e5c20947-41fb-4bf0-b4d6-7fa63a578dbf",
   "metadata": {},
   "outputs": [],
   "source": [
    "from sklearn.metrics import mean_squared_error\n",
    "from sklearn.model_selection import train_test_split\n",
    "\n",
    "def plot_learning_curves(model, X, y):\n",
    "    X_train, X_val, y_train, y_val = train_test_split(X, y, test_size=0.2, random_state=10)\n",
    "    train_errors, val_errors = [], []\n",
    "    for m in range(1, len(X_train)):\n",
    "        model.fit(X_train[:m], y_train[:m])\n",
    "        y_train_predict = model.predict(X_train[:m])\n",
    "        y_val_predict = model.predict(X_val)\n",
    "        train_errors.append(mean_squared_error(y_train[:m], y_train_predict))\n",
    "        val_errors.append(mean_squared_error(y_val, y_val_predict))\n",
    "\n",
    "    plt.plot(np.sqrt(train_errors), \"r-+\", linewidth=2, label=\"train\")\n",
    "    plt.plot(np.sqrt(val_errors), \"b-\", linewidth=3, label=\"val\")\n",
    "    plt.legend(loc=\"upper right\", fontsize=14)   # not shown in the book\n",
    "    plt.xlabel(\"Training set size\", fontsize=14) # not shown\n",
    "    plt.ylabel(\"RMSE\", fontsize=14)              # not shown"
   ]
  },
  {
   "cell_type": "code",
   "execution_count": null,
   "id": "6de1dd07-807b-4d4c-bee6-5dc224290bc7",
   "metadata": {},
   "outputs": [],
   "source": []
  }
 ],
 "metadata": {
  "kernelspec": {
   "display_name": "Python 3 (ipykernel)",
   "language": "python",
   "name": "python3"
  },
  "language_info": {
   "codemirror_mode": {
    "name": "ipython",
    "version": 3
   },
   "file_extension": ".py",
   "mimetype": "text/x-python",
   "name": "python",
   "nbconvert_exporter": "python",
   "pygments_lexer": "ipython3",
   "version": "3.9.12"
  }
 },
 "nbformat": 4,
 "nbformat_minor": 5
}
