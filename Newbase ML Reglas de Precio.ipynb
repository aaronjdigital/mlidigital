{
 "cells": [
  {
   "cell_type": "markdown",
   "id": "21f3c937-ebb8-4b34-bbdb-2aab9144e18e",
   "metadata": {},
   "source": [
    "# ML Reglas de Precio"
   ]
  },
  {
   "cell_type": "markdown",
   "id": "b7d46673-566e-4bf5-b036-438a08981f3e",
   "metadata": {},
   "source": [
    "Objetivo: Identificar características importantes para asignación de reglas de precio e incremento de Ingresos (Estimated Revenue)\n",
    "\n",
    "Variables disponibles cualitativas:  \n",
    "    - Día (Day)CONFIGURABLE  \n",
    "    - Día de la semana (Weekday)  \n",
    "    - Sitio (Site) CONFIGURABLE  \n",
    "    - Tamaño de creativo (Creative Size) CONFIGURABLE  \n",
    "    - Dispositivo (Device category) CONFIGURABLE  \n",
    "    - País (Country) CONFIGURABLE  \n",
    "    - Nombre Regla de Precio (pricing rule name)\n",
    "\n",
    "Variables disponibles cuantitativas:  \n",
    "    - Regla de Precio\n",
    "    - Ad Requests.  \n",
    "    - Matched Requests.  \n",
    "    - Clicks.  \n",
    "    - Estimated Revenue  \n",
    "    - Ad Impressions  \n",
    "    - Active View Enabled Impressions  \n",
    "    - Active View measured Impressions  \n",
    "    \n",
    "$$eCPM = \\frac{Ingresos}{Impresiones Vendidas} * 1000$$  \n",
    "$$Fill Rate = \\frac{Impresiones Vendidas}{Oportunidades}$$  \n",
    "$$rCPM = \\frac{Ingresos}{Oportunidades} * 1000 = eCPM * Fill Rate$$  \n",
    "$$Viewability = \\frac{Impresiones Vistas}{Impresiones Disponibles} * 1000$$\n",
    "\n",
    "Target: Maximizar ingresos (revenue)  \n",
    "Inputs: weekday, site, creative_size, device_category, country.  \n",
    "Output: Regla de Precio."
   ]
  },
  {
   "cell_type": "code",
   "execution_count": 700,
   "id": "7d70447c-9bd4-41b9-a471-481592254839",
   "metadata": {},
   "outputs": [],
   "source": [
    "# To support both python 2 and python 3\n",
    "from __future__ import division, print_function, unicode_literals\n",
    "\n",
    "# Common imports\n",
    "import numpy as np\n",
    "import os\n",
    "from collections import Counter\n",
    "from sklearn.pipeline import Pipeline\n",
    "from sklearn.preprocessing import StandardScaler\n",
    "from sklearn.model_selection import StratifiedShuffleSplit\n",
    "from sklearn.preprocessing import PolynomialFeatures\n",
    "from sklearn.metrics import mean_squared_error\n",
    "from sklearn.model_selection import train_test_split\n",
    "from sklearn.base import BaseEstimator, TransformerMixin\n",
    "import warnings\n",
    "warnings.simplefilter(action='ignore', category=FutureWarning)\n",
    "\n",
    "import pandas\n",
    "\n",
    "# to make this notebook's output stable across runs\n",
    "np.random.seed(42)\n",
    "\n",
    "# To plot pretty figures\n",
    "%matplotlib inline\n",
    "import matplotlib as mpl\n",
    "import matplotlib.pyplot as plt\n",
    "mpl.rc('axes', labelsize=14)\n",
    "mpl.rc('xtick', labelsize=12)\n",
    "mpl.rc('ytick', labelsize=12)\n",
    "\n",
    "# Where to save the figures\n",
    "PROJECT_ROOT_DIR = \".\"\n",
    "CHAPTER_ID = \"end_to_end_project\"\n",
    "IMAGES_PATH = os.path.join(PROJECT_ROOT_DIR, \"images\", CHAPTER_ID)\n",
    "os.makedirs(IMAGES_PATH, exist_ok=True)\n",
    "\n",
    "def save_fig(fig_id, tight_layout=True, fig_extension=\"png\", resolution=300):\n",
    "    path = os.path.join(IMAGES_PATH, fig_id + \".\" + fig_extension)\n",
    "    print(\"Saving figure\", fig_id)\n",
    "    if tight_layout:\n",
    "        plt.tight_layout()\n",
    "    plt.savefig(path, format=fig_extension, dpi=resolution)"
   ]
  },
  {
   "cell_type": "code",
   "execution_count": 701,
   "id": "65772025-dd1f-418d-a94e-1ac03c73b4fc",
   "metadata": {},
   "outputs": [],
   "source": [
    "try:\n",
    "    from sklearn.compose import ColumnTransformer\n",
    "except ImportError:\n",
    "    from future_encoders import ColumnTransformer # Scikit-Learn < 0.20\n",
    "    \n",
    "try:\n",
    "    from sklearn.preprocessing import OrdinalEncoder # just to raise an ImportError if Scikit-Learn < 0.20\n",
    "    from sklearn.preprocessing import OneHotEncoder\n",
    "except ImportError:\n",
    "    from future_encoders import OneHotEncoder # Scikit-Learn < 0.20"
   ]
  },
  {
   "cell_type": "code",
   "execution_count": 702,
   "id": "6fa20edf-b126-49f8-b4fb-4c8c2d2bc018",
   "metadata": {},
   "outputs": [],
   "source": [
    "try:\n",
    "    from sklearn.impute import SimpleImputer # Scikit-Learn 0.20+\n",
    "except ImportError:\n",
    "    from sklearn.preprocessing import Imputer as SimpleImputer"
   ]
  },
  {
   "cell_type": "code",
   "execution_count": 703,
   "id": "0143d99a-89ee-45fc-8324-8f3abe6ee133",
   "metadata": {},
   "outputs": [],
   "source": [
    "# Función para carga de archivo\n",
    "import os\n",
    "import tarfile\n",
    "import urllib.request\n",
    "import pandas as pd\n",
    "\n",
    "PRULES_PATH = os.path.join(\"datasets\")\n",
    "\n",
    "def load_prules_data(prules_path=PRULES_PATH,filename=\"newbase_pricing_rules_open.csv\"):\n",
    "    csv_path = os.path.join(prules_path, filename)\n",
    "    return pd.read_csv(csv_path)"
   ]
  },
  {
   "cell_type": "markdown",
   "id": "5910c02e-1bc2-4291-9e80-300544c811b0",
   "metadata": {},
   "source": [
    "# Definición de funciones"
   ]
  },
  {
   "cell_type": "code",
   "execution_count": 704,
   "id": "bb173d08-8483-453f-88cc-711ddfb92595",
   "metadata": {},
   "outputs": [],
   "source": [
    "\n",
    "# Función para asignar a cada instancia el valor promedio\n",
    "\n",
    "def MeanAsign(row,dfgb,metric,bycat):\n",
    "    auxlist = []\n",
    "    for i in bycat:\n",
    "        auxlist.append(row[bycat])\n",
    "    auxtuple = tuple(auxlist)\n",
    "    auxmetric = dfgb.loc[auxtuple][metric]\n",
    "    return auxmetric"
   ]
  },
  {
   "cell_type": "code",
   "execution_count": 651,
   "id": "7110d4fb-4d0c-4995-92bd-f7e2b2402d97",
   "metadata": {
    "collapsed": true,
    "jupyter": {
     "outputs_hidden": true
    },
    "tags": []
   },
   "outputs": [
    {
     "name": "stderr",
     "output_type": "stream",
     "text": [
      "C:\\Users\\Aaron\\AppData\\Local\\Temp\\ipykernel_14288\\3118502956.py:5: SettingWithCopyWarning: \n",
      "A value is trying to be set on a copy of a slice from a DataFrame.\n",
      "Try using .loc[row_indexer,col_indexer] = value instead\n",
      "\n",
      "See the caveats in the documentation: https://pandas.pydata.org/pandas-docs/stable/user_guide/indexing.html#returning-a-view-versus-a-copy\n",
      "  prules['aux'] = prules['weekday']+prules['creative_size']+prules['device']+prules['country']\n",
      "C:\\Users\\Aaron\\AppData\\Local\\Temp\\ipykernel_14288\\3118502956.py:6: SettingWithCopyWarning: \n",
      "A value is trying to be set on a copy of a slice from a DataFrame.\n",
      "Try using .loc[row_indexer,col_indexer] = value instead\n",
      "\n",
      "See the caveats in the documentation: https://pandas.pydata.org/pandas-docs/stable/user_guide/indexing.html#returning-a-view-versus-a-copy\n",
      "  prules['avg_ad_requests'] = 0\n",
      "C:\\Users\\Aaron\\AppData\\Local\\Temp\\ipykernel_14288\\3118502956.py:9: SettingWithCopyWarning: \n",
      "A value is trying to be set on a copy of a slice from a DataFrame.\n",
      "Try using .loc[row_indexer,col_indexer] = value instead\n",
      "\n",
      "See the caveats in the documentation: https://pandas.pydata.org/pandas-docs/stable/user_guide/indexing.html#returning-a-view-versus-a-copy\n",
      "  prules.loc[prules['aux'] == ''.join(i), 'avg_ad_requests'] = v\n"
     ]
    },
    {
     "data": {
      "text/html": [
       "<div>\n",
       "<style scoped>\n",
       "    .dataframe tbody tr th:only-of-type {\n",
       "        vertical-align: middle;\n",
       "    }\n",
       "\n",
       "    .dataframe tbody tr th {\n",
       "        vertical-align: top;\n",
       "    }\n",
       "\n",
       "    .dataframe thead th {\n",
       "        text-align: right;\n",
       "    }\n",
       "</style>\n",
       "<table border=\"1\" class=\"dataframe\">\n",
       "  <thead>\n",
       "    <tr style=\"text-align: right;\">\n",
       "      <th></th>\n",
       "      <th>day</th>\n",
       "      <th>weekday</th>\n",
       "      <th>site</th>\n",
       "      <th>creative_size</th>\n",
       "      <th>device</th>\n",
       "      <th>country</th>\n",
       "      <th>pricing_rules_name</th>\n",
       "      <th>pricing_rules</th>\n",
       "      <th>ad_requests</th>\n",
       "      <th>matched_ad_requests</th>\n",
       "      <th>clicks</th>\n",
       "      <th>revenue</th>\n",
       "      <th>ad_impressions</th>\n",
       "      <th>active_view_enabled_impressions</th>\n",
       "      <th>active_view_measured_impressions</th>\n",
       "      <th>aux</th>\n",
       "      <th>avg_ad_requests</th>\n",
       "    </tr>\n",
       "  </thead>\n",
       "  <tbody>\n",
       "    <tr>\n",
       "      <th>0</th>\n",
       "      <td>28/04/2022</td>\n",
       "      <td>jue</td>\n",
       "      <td>Excelsior</td>\n",
       "      <td>300x250</td>\n",
       "      <td>Desktop</td>\n",
       "      <td>United States</td>\n",
       "      <td>1 UPR Desktop USA</td>\n",
       "      <td>2.0</td>\n",
       "      <td>16</td>\n",
       "      <td>1</td>\n",
       "      <td>0</td>\n",
       "      <td>0.05</td>\n",
       "      <td>1</td>\n",
       "      <td>1</td>\n",
       "      <td>1</td>\n",
       "      <td>jue300x250DesktopUnited States</td>\n",
       "      <td>1212.714632</td>\n",
       "    </tr>\n",
       "    <tr>\n",
       "      <th>1</th>\n",
       "      <td>29/04/2022</td>\n",
       "      <td>vie</td>\n",
       "      <td>Excelsior</td>\n",
       "      <td>300x250</td>\n",
       "      <td>Desktop</td>\n",
       "      <td>United States</td>\n",
       "      <td>1 UPR Desktop USA</td>\n",
       "      <td>2.0</td>\n",
       "      <td>20</td>\n",
       "      <td>1</td>\n",
       "      <td>0</td>\n",
       "      <td>0.00</td>\n",
       "      <td>0</td>\n",
       "      <td>0</td>\n",
       "      <td>0</td>\n",
       "      <td>vie300x250DesktopUnited States</td>\n",
       "      <td>1143.018993</td>\n",
       "    </tr>\n",
       "    <tr>\n",
       "      <th>2</th>\n",
       "      <td>30/04/2022</td>\n",
       "      <td>sáb</td>\n",
       "      <td>Excelsior</td>\n",
       "      <td>300x250</td>\n",
       "      <td>Desktop</td>\n",
       "      <td>United States</td>\n",
       "      <td>1 UPR Desktop USA</td>\n",
       "      <td>2.0</td>\n",
       "      <td>13</td>\n",
       "      <td>1</td>\n",
       "      <td>0</td>\n",
       "      <td>0.00</td>\n",
       "      <td>0</td>\n",
       "      <td>0</td>\n",
       "      <td>0</td>\n",
       "      <td>sáb300x250DesktopUnited States</td>\n",
       "      <td>653.998219</td>\n",
       "    </tr>\n",
       "    <tr>\n",
       "      <th>3</th>\n",
       "      <td>01/05/2022</td>\n",
       "      <td>dom</td>\n",
       "      <td>Excelsior</td>\n",
       "      <td>300x250</td>\n",
       "      <td>Desktop</td>\n",
       "      <td>United States</td>\n",
       "      <td>1 UPR Desktop USA</td>\n",
       "      <td>2.0</td>\n",
       "      <td>25</td>\n",
       "      <td>2</td>\n",
       "      <td>0</td>\n",
       "      <td>0.12</td>\n",
       "      <td>2</td>\n",
       "      <td>2</td>\n",
       "      <td>2</td>\n",
       "      <td>dom300x250DesktopUnited States</td>\n",
       "      <td>649.324181</td>\n",
       "    </tr>\n",
       "    <tr>\n",
       "      <th>4</th>\n",
       "      <td>03/05/2022</td>\n",
       "      <td>mar</td>\n",
       "      <td>Excelsior</td>\n",
       "      <td>300x250</td>\n",
       "      <td>Desktop</td>\n",
       "      <td>United States</td>\n",
       "      <td>1 UPR Desktop USA</td>\n",
       "      <td>2.0</td>\n",
       "      <td>21</td>\n",
       "      <td>2</td>\n",
       "      <td>0</td>\n",
       "      <td>0.03</td>\n",
       "      <td>2</td>\n",
       "      <td>2</td>\n",
       "      <td>2</td>\n",
       "      <td>mar300x250DesktopUnited States</td>\n",
       "      <td>1286.459592</td>\n",
       "    </tr>\n",
       "    <tr>\n",
       "      <th>5</th>\n",
       "      <td>05/05/2022</td>\n",
       "      <td>jue</td>\n",
       "      <td>Excelsior</td>\n",
       "      <td>300x250</td>\n",
       "      <td>Desktop</td>\n",
       "      <td>United States</td>\n",
       "      <td>1 UPR Desktop USA</td>\n",
       "      <td>2.0</td>\n",
       "      <td>17</td>\n",
       "      <td>4</td>\n",
       "      <td>0</td>\n",
       "      <td>0.29</td>\n",
       "      <td>3</td>\n",
       "      <td>3</td>\n",
       "      <td>3</td>\n",
       "      <td>jue300x250DesktopUnited States</td>\n",
       "      <td>1212.714632</td>\n",
       "    </tr>\n",
       "    <tr>\n",
       "      <th>6</th>\n",
       "      <td>06/05/2022</td>\n",
       "      <td>vie</td>\n",
       "      <td>Excelsior</td>\n",
       "      <td>300x250</td>\n",
       "      <td>Desktop</td>\n",
       "      <td>United States</td>\n",
       "      <td>1 UPR Desktop USA</td>\n",
       "      <td>1.8</td>\n",
       "      <td>28</td>\n",
       "      <td>4</td>\n",
       "      <td>0</td>\n",
       "      <td>0.16</td>\n",
       "      <td>4</td>\n",
       "      <td>4</td>\n",
       "      <td>4</td>\n",
       "      <td>vie300x250DesktopUnited States</td>\n",
       "      <td>1143.018993</td>\n",
       "    </tr>\n",
       "    <tr>\n",
       "      <th>7</th>\n",
       "      <td>07/05/2022</td>\n",
       "      <td>sáb</td>\n",
       "      <td>Excelsior</td>\n",
       "      <td>300x250</td>\n",
       "      <td>Desktop</td>\n",
       "      <td>United States</td>\n",
       "      <td>1 UPR Desktop USA</td>\n",
       "      <td>1.8</td>\n",
       "      <td>18</td>\n",
       "      <td>2</td>\n",
       "      <td>0</td>\n",
       "      <td>0.15</td>\n",
       "      <td>2</td>\n",
       "      <td>2</td>\n",
       "      <td>2</td>\n",
       "      <td>sáb300x250DesktopUnited States</td>\n",
       "      <td>653.998219</td>\n",
       "    </tr>\n",
       "    <tr>\n",
       "      <th>8</th>\n",
       "      <td>10/05/2022</td>\n",
       "      <td>mar</td>\n",
       "      <td>Excelsior</td>\n",
       "      <td>300x250</td>\n",
       "      <td>Desktop</td>\n",
       "      <td>United States</td>\n",
       "      <td>1 UPR Desktop USA</td>\n",
       "      <td>1.8</td>\n",
       "      <td>9</td>\n",
       "      <td>1</td>\n",
       "      <td>0</td>\n",
       "      <td>0.03</td>\n",
       "      <td>1</td>\n",
       "      <td>1</td>\n",
       "      <td>1</td>\n",
       "      <td>mar300x250DesktopUnited States</td>\n",
       "      <td>1286.459592</td>\n",
       "    </tr>\n",
       "    <tr>\n",
       "      <th>9</th>\n",
       "      <td>12/05/2022</td>\n",
       "      <td>jue</td>\n",
       "      <td>Excelsior</td>\n",
       "      <td>300x250</td>\n",
       "      <td>Desktop</td>\n",
       "      <td>United States</td>\n",
       "      <td>1 UPR Desktop USA</td>\n",
       "      <td>1.8</td>\n",
       "      <td>19</td>\n",
       "      <td>1</td>\n",
       "      <td>0</td>\n",
       "      <td>0.00</td>\n",
       "      <td>0</td>\n",
       "      <td>0</td>\n",
       "      <td>0</td>\n",
       "      <td>jue300x250DesktopUnited States</td>\n",
       "      <td>1212.714632</td>\n",
       "    </tr>\n",
       "  </tbody>\n",
       "</table>\n",
       "</div>"
      ],
      "text/plain": [
       "          day weekday       site creative_size   device        country  \\\n",
       "0  28/04/2022     jue  Excelsior       300x250  Desktop  United States   \n",
       "1  29/04/2022     vie  Excelsior       300x250  Desktop  United States   \n",
       "2  30/04/2022     sáb  Excelsior       300x250  Desktop  United States   \n",
       "3  01/05/2022     dom  Excelsior       300x250  Desktop  United States   \n",
       "4  03/05/2022     mar  Excelsior       300x250  Desktop  United States   \n",
       "5  05/05/2022     jue  Excelsior       300x250  Desktop  United States   \n",
       "6  06/05/2022     vie  Excelsior       300x250  Desktop  United States   \n",
       "7  07/05/2022     sáb  Excelsior       300x250  Desktop  United States   \n",
       "8  10/05/2022     mar  Excelsior       300x250  Desktop  United States   \n",
       "9  12/05/2022     jue  Excelsior       300x250  Desktop  United States   \n",
       "\n",
       "  pricing_rules_name  pricing_rules  ad_requests  matched_ad_requests  clicks  \\\n",
       "0  1 UPR Desktop USA            2.0           16                    1       0   \n",
       "1  1 UPR Desktop USA            2.0           20                    1       0   \n",
       "2  1 UPR Desktop USA            2.0           13                    1       0   \n",
       "3  1 UPR Desktop USA            2.0           25                    2       0   \n",
       "4  1 UPR Desktop USA            2.0           21                    2       0   \n",
       "5  1 UPR Desktop USA            2.0           17                    4       0   \n",
       "6  1 UPR Desktop USA            1.8           28                    4       0   \n",
       "7  1 UPR Desktop USA            1.8           18                    2       0   \n",
       "8  1 UPR Desktop USA            1.8            9                    1       0   \n",
       "9  1 UPR Desktop USA            1.8           19                    1       0   \n",
       "\n",
       "   revenue  ad_impressions  active_view_enabled_impressions  \\\n",
       "0     0.05               1                                1   \n",
       "1     0.00               0                                0   \n",
       "2     0.00               0                                0   \n",
       "3     0.12               2                                2   \n",
       "4     0.03               2                                2   \n",
       "5     0.29               3                                3   \n",
       "6     0.16               4                                4   \n",
       "7     0.15               2                                2   \n",
       "8     0.03               1                                1   \n",
       "9     0.00               0                                0   \n",
       "\n",
       "   active_view_measured_impressions                             aux  \\\n",
       "0                                 1  jue300x250DesktopUnited States   \n",
       "1                                 0  vie300x250DesktopUnited States   \n",
       "2                                 0  sáb300x250DesktopUnited States   \n",
       "3                                 2  dom300x250DesktopUnited States   \n",
       "4                                 2  mar300x250DesktopUnited States   \n",
       "5                                 3  jue300x250DesktopUnited States   \n",
       "6                                 4  vie300x250DesktopUnited States   \n",
       "7                                 2  sáb300x250DesktopUnited States   \n",
       "8                                 1  mar300x250DesktopUnited States   \n",
       "9                                 0  jue300x250DesktopUnited States   \n",
       "\n",
       "   avg_ad_requests  \n",
       "0      1212.714632  \n",
       "1      1143.018993  \n",
       "2       653.998219  \n",
       "3       649.324181  \n",
       "4      1286.459592  \n",
       "5      1212.714632  \n",
       "6      1143.018993  \n",
       "7       653.998219  \n",
       "8      1286.459592  \n",
       "9      1212.714632  "
      ]
     },
     "execution_count": 651,
     "metadata": {},
     "output_type": "execute_result"
    }
   ],
   "source": [
    "bycat = ['weekday', 'creative_size', 'device', 'country']\n",
    "prgb = prules.groupby(by=bycat,group_keys=True).mean()\n",
    "meanbycats = prgb['ad_requests']\n",
    "\n",
    "prules['aux'] = prules['weekday']+prules['creative_size']+prules['device']+prules['country']\n",
    "prules['avg_ad_requests'] = 0\n",
    "\n",
    "for i, v in meanbycats.items():\n",
    "    prules.loc[prules['aux'] == ''.join(i), 'avg_ad_requests'] = v\n",
    "\n",
    "prules.head(10)"
   ]
  },
  {
   "cell_type": "code",
   "execution_count": 721,
   "id": "4d0e999c-67ae-4ff7-bb0a-b4bbc2622c80",
   "metadata": {},
   "outputs": [],
   "source": [
    "\n",
    "# Clase para añadir atributos combinados al set\n",
    "\n",
    "class CombinedAttributesAdder(BaseEstimator, TransformerMixin):\n",
    "    def __init__(self, y=None): # no *args or **kwargs\n",
    "        self # nothing else to do\n",
    "    def fit(self, X, y=None):\n",
    "        return self  # nothing else to do\n",
    "    # def transform(self, X, bycat=['creative_size', 'weekday', 'site', 'device', 'country'], metric='ad_requests', y=None):\n",
    "    def transform(self, X, y=None):\n",
    "        X = X[(X['active_view_measured_impressions']>0) & (X['ad_requests']>0)]\n",
    "        X['rCPM'] = X['revenue']/X['ad_requests']*1000 # Añade rCPM al set\n",
    "        X['FillRate'] = X['ad_impressions']/X['ad_requests'] # Añade FillRate al Set\n",
    "        X['eCPM'] = X['revenue']/X['ad_impressions']*1000 # Añade eCPM al set\n",
    "        #X['Viewability'] = X['active_view_viewed_impressions']/X['active_view_enabled_impressions'] # Añade Viewability al set IGUAL HACERLO EN PROMEDIO.\n",
    "        \n",
    "        # Para añadir promedio de Ad Requests\n",
    "        Xgb = X.groupby(by=['weekday', 'creative_size', 'device', 'country'],group_keys=True).mean()\n",
    "        meanbycats = Xgb['ad_requests']\n",
    "        X['aux'] = X['weekday']+X['creative_size']+X['device']+X['country']\n",
    "        X['avg_ad_requests'] = 0\n",
    "        X['avg_viewed_impressions'] = 0\n",
    "        X['avg_enabled_impressions'] = 0\n",
    "        # Agrega Ad Requests Promedio\n",
    "        for i, v in meanbycats.items():\n",
    "            X.loc[X['aux'] == ''.join(i), 'avg_ad_requests'] = v\n",
    "        \n",
    "        # Para cálculo de Viewability ponderado\n",
    "        \n",
    "        # Agrega Viewed Impressions\n",
    "        meanbycats = Xgb['active_view_viewed_impressions']    \n",
    "        for i, v in meanbycats.items():\n",
    "            X.loc[X['aux'] == ''.join(i), 'avg_viewed_impressions'] = v   \n",
    "        # Agrega Enabled Impressions\n",
    "        meanbycats = Xgb['active_view_enabled_impressions']    \n",
    "        for i, v in meanbycats.items():\n",
    "            X.loc[X['aux'] == ''.join(i), 'avg_enabled_impressions'] = v    \n",
    "            \n",
    "        X['Viewability_pond'] = X['avg_viewed_impressions']/X['avg_enabled_impressions'] # División Viewability pond\n",
    "        \n",
    "        # Eliminar campos auxiliares\n",
    "        X = X.drop(['aux','avg_viewed_impressions','avg_enabled_impressions'], axis=1)\n",
    "        return X"
   ]
  },
  {
   "cell_type": "code",
   "execution_count": 697,
   "id": "4d6fc436-2092-4ab6-8cbd-608950d5e1d1",
   "metadata": {
    "collapsed": true,
    "jupyter": {
     "outputs_hidden": true
    },
    "tags": []
   },
   "outputs": [
    {
     "data": {
      "text/plain": [
       "weekday  creative_size  device                   country      \n",
       "dom      300x100        Desktop                  Mexico           42457.585714\n",
       "                                                 United States     3357.742424\n",
       "                        High-end mobile devices  Mexico           76194.236025\n",
       "                                                 United States     4108.426471\n",
       "         300x250        Desktop                  Mexico           13422.812395\n",
       "                                                                      ...     \n",
       "vie      Sin Posicion   High-end mobile devices  United States       87.695935\n",
       "         Tags           Desktop                  Mexico           14596.119205\n",
       "                                                 United States      947.848485\n",
       "                        High-end mobile devices  Mexico           79930.369369\n",
       "                                                 United States     7603.171717\n",
       "Name: ad_requests, Length: 232, dtype: float64"
      ]
     },
     "execution_count": 697,
     "metadata": {},
     "output_type": "execute_result"
    }
   ],
   "source": [
    "Xgb = prules.groupby(by=['weekday', 'creative_size', 'device', 'country'],group_keys=True).mean()\n",
    "Xgb['ad_requests']"
   ]
  },
  {
   "cell_type": "code",
   "execution_count": 653,
   "id": "4bfd79a6-9260-4fd6-a94a-de3336f8a744",
   "metadata": {},
   "outputs": [],
   "source": [
    "\n",
    "# (Estrategia 1) Función para definir si la instancia entrada tiene eCPM superior al eCPM general \n",
    "\n",
    "def categorise(row,dfgb,porc):\n",
    "    cpm_inst = row['eCPM'] # Se obtiene el CPM de la instancia\n",
    "    c_size = row['creative_size'] # Se obtiene el creative_size de la instancia\n",
    "    cpm_pond = (dfgb.loc[c_size]['revenue']/dfgb.loc[c_size]['ad_impressions']*1000) # Se obtiene el CPM general del creative size\n",
    "    \n",
    "    if cpm_inst > cpm_pond*(1+porc): # Se compara cpm de la instancia vs cpm general del creative size\n",
    "        return 1\n",
    "    else:\n",
    "        return 0 "
   ]
  },
  {
   "cell_type": "code",
   "execution_count": 654,
   "id": "d650bd77-3114-44ac-8ac6-ee4ccde56143",
   "metadata": {},
   "outputs": [],
   "source": [
    "\n",
    "# Clase para filtrar instancias que cumplan con CPM superior a la media y fill rate\n",
    "\n",
    "class StrategyCPMSuperior(BaseEstimator, TransformerMixin):\n",
    "    def __init__(self, porc=0, fill_rate=.60, limit_cpm=150): # no *args or **kwargs\n",
    "        self # nothing else to do\n",
    "    def fit(self, X, y=None):\n",
    "        return self  # nothing else to do\n",
    "    def transform(self, X, porc=0, fill_rate=.60, limit_cpm=150):\n",
    "        Xgb = X.groupby('creative_size').sum() # Se crea matriz para cálculo de eCPM general\n",
    "        X['flag_cpm_sup'] = X.apply(lambda row: categorise(row,Xgb,porc), axis=1) # Se añade columna con flag 0-1 para determinar si cumple con criterio\n",
    "        X = X[(X['FillRate']>fill_rate) & ((X['flag_cpm_sup']==1) & (X['eCPM']<limit_cpm))] # Se filtran instancias que cumplan con criterios.\n",
    "        X = X.reset_index(drop = True) # Resetea index para evitar errores posteriormente\n",
    "        return X"
   ]
  },
  {
   "cell_type": "code",
   "execution_count": 655,
   "id": "f4923b59-af05-4982-ab49-5aa7ff2165d1",
   "metadata": {
    "tags": []
   },
   "outputs": [
    {
     "data": {
      "text/plain": [
       "creative_size\n",
       "300x100          157\n",
       "300x250         2559\n",
       "300x600          692\n",
       "320x100          306\n",
       "320x50           226\n",
       "728x90          2998\n",
       "Native            11\n",
       "Sin Posicion    2355\n",
       "Name: pricing_rules, dtype: int64"
      ]
     },
     "execution_count": 655,
     "metadata": {},
     "output_type": "execute_result"
    }
   ],
   "source": [
    "prulesgbcpm = prulescpm.groupby('creative_size').count()\n",
    "prulesgbcpm['pricing_rules'].head(20)"
   ]
  },
  {
   "cell_type": "code",
   "execution_count": 656,
   "id": "058485c1-20e3-453c-bc26-94469ae48812",
   "metadata": {},
   "outputs": [],
   "source": [
    "\n",
    "# (Estrategia 2) Función para definir si la instancia entrada es real_pricing > floor_pricing\n",
    "\n",
    "def categorise_pricing(row,porc):\n",
    "    if row['ad_impressions'] > 0: # Condicional para evitar indeterminación en división de métrica real_pricing\n",
    "        real_pricing = row['revenue']/row['ad_impressions'] # Se obtiene métrica real_pricing\n",
    "        floor_pricing = row['pricing_rules']*row['ad_impressions']/1000000 # Se obtiene métrica real_pricing\n",
    "    else:\n",
    "        real_pricing = 0\n",
    "        floor_pricing = 0\n",
    "    \n",
    "    if real_pricing > floor_pricing*(1+porc): # Se compara real pricing con floor pricing, con un % mínimo\n",
    "        return 1\n",
    "    else:\n",
    "        return 0 "
   ]
  },
  {
   "cell_type": "code",
   "execution_count": 657,
   "id": "167075e3-7da7-4141-916c-099d0f5588c2",
   "metadata": {},
   "outputs": [],
   "source": [
    "\n",
    "# Clase para filtrar instancias que cumplan con real_pricing > floor_pricing y fill rate\n",
    "\n",
    "class StrategyRealvsFloorPricing(BaseEstimator, TransformerMixin):\n",
    "    def __init__(self, porc=0, fill_rate=.60, limit_cpm=150): # no *args or **kwargs\n",
    "        self # nothing else to do\n",
    "    def fit(self, X, y=None):\n",
    "        return self  # nothing else to do\n",
    "    def transform(self, X, porc=0, fill_rate=.60, limit_cpm=150):\n",
    "        X['flag_pricing_sup'] = X.apply(lambda row: categorise_pricing(row,porc), axis=1) # Se añade columna con flag 0-1 para determinar si cumple con criterio\n",
    "        X = X[(X['FillRate']>fill_rate) & ((X['flag_pricing_sup']==1) & (X['eCPM']<limit_cpm))] # Se filtran instancias que cumplan con criterios.\n",
    "        X = X.reset_index(drop = True) # Resetea index para evitar errores posteriormente\n",
    "        return X"
   ]
  },
  {
   "cell_type": "code",
   "execution_count": 658,
   "id": "e03aac85-339a-48cc-a7a3-7223237fc494",
   "metadata": {},
   "outputs": [],
   "source": [
    "\n",
    "# Clase para estratificar por regla de precio y dividir en set de entrenamiento y set de validación\n",
    "\n",
    "class Strat_sets(BaseEstimator, TransformerMixin):\n",
    "    def __init__(self): # no *args or **kwargs\n",
    "        self # nothing else to do\n",
    "    def fit(self, X, y=None):\n",
    "        return self  # nothing else to do\n",
    "    def transform(self, X):\n",
    "        #X[\"pr_cat\"] = pd.cut(X[\"weekday\"],\n",
    "        #                       bins=['jue', 'vie', 'sáb', 'dom', 'mar', 'lun', 'mié'],\n",
    "        #                       labels=[1, 2, 3, 4, 5])\n",
    "        split = StratifiedShuffleSplit(n_splits=1, test_size=0.2, random_state=42) \n",
    "        for train_index, test_index in split.split(X, X[\"weekday\"]): # Estratificado de set.\n",
    "            X_train_set = X.loc[train_index]\n",
    "            X_test_set = X.loc[test_index]\n",
    "        return X_train_set, X_test_set"
   ]
  },
  {
   "cell_type": "code",
   "execution_count": 659,
   "id": "15e7e390-7bfb-4c90-b3bb-3aa1e194e658",
   "metadata": {},
   "outputs": [],
   "source": [
    "class OldDataFrameSelector(BaseEstimator, TransformerMixin):\n",
    "    def __init__(self, attribute_names):\n",
    "        self.attribute_names = attribute_names\n",
    "    def fit(self, X, y=None):\n",
    "        return self\n",
    "    def transform(self, X):\n",
    "        return X[self.attribute_names].values\n",
    "# REVISAR SI EXISTE OTRO DATAFRAMESELECTOR NUEVO Y PONERLO ARRIBA PARA USARLO EN ERRORES DE VISUALIZACIÓN DE .HEAD()."
   ]
  },
  {
   "cell_type": "code",
   "execution_count": 668,
   "id": "d3061417-2955-4fcb-99e0-1c57881f6d92",
   "metadata": {},
   "outputs": [],
   "source": [
    "num_attribs = ['Viewability', 'avg_ad_requests']\n",
    "cat_attribs = ['weekday', 'creative_size', 'device', 'country']\n",
    "\n",
    "\n",
    "\n",
    "old_num_pipeline = Pipeline([\n",
    "        ('selector', OldDataFrameSelector(num_attribs)),\n",
    "        ('imputer', SimpleImputer(strategy=\"median\")),# REVISAR DOCUMENTACIÓN DE SIMPLEIMPUTER\n",
    "        ('std_scaler', StandardScaler()),# DIFERENTES MEDIAS\n",
    "    ])\n",
    "\n",
    "old_cat_pipeline = Pipeline([\n",
    "        ('selector', OldDataFrameSelector(cat_attribs)),\n",
    "        ('cat_encoder', OneHotEncoder(sparse=False)),\n",
    "    ])"
   ]
  },
  {
   "cell_type": "code",
   "execution_count": 669,
   "id": "ce90e19a-3c4a-47c2-ac9b-c0cb037ee0e7",
   "metadata": {},
   "outputs": [],
   "source": [
    "from sklearn.pipeline import FeatureUnion\n",
    "\n",
    "full_pipeline = FeatureUnion(transformer_list=[\n",
    "        (\"num_pipeline\", old_num_pipeline),\n",
    "        (\"cat_pipeline\", old_cat_pipeline),\n",
    "    ])"
   ]
  },
  {
   "cell_type": "code",
   "execution_count": 662,
   "id": "d2a5afae-a422-48d0-8631-2f03bdfc5ba4",
   "metadata": {},
   "outputs": [],
   "source": [
    "from sklearn.preprocessing import PolynomialFeatures"
   ]
  },
  {
   "cell_type": "code",
   "execution_count": 663,
   "id": "d84bdf0a-4daa-4a7e-9a57-11be8939099f",
   "metadata": {},
   "outputs": [],
   "source": [
    "def plot_learning_curves(model, X, y, XTest, yTest): # Entradas sean los sets que ya se aplicó shuffle\n",
    "    X_train = X\n",
    "    X_val = XTest\n",
    "    y_train = y\n",
    "    y_val = yTest\n",
    "    train_errors, val_errors = [], []\n",
    "    #for m in range(1, len(X_train)):\n",
    "    for m in range(1, 1800):\n",
    "        model.fit(X_train[:m], y_train[:m])\n",
    "        y_train_predict = model.predict(X_train[:m])\n",
    "        y_val_predict = model.predict(X_val)\n",
    "        train_errors.append(mean_squared_error(y_train[:m], y_train_predict)) # \n",
    "        val_errors.append(mean_squared_error(y_val, y_val_predict))\n",
    "    print(\"Last train error: \"+ str(np.sqrt(train_errors[-1])))\n",
    "    print(\"Last valid error: \"+ str(np.sqrt(val_errors[-1])))\n",
    "    plt.plot(np.sqrt(train_errors), \"r-+\", linewidth=2, label=\"train\")\n",
    "    plt.plot(np.sqrt(val_errors), \"b-\", linewidth=3, label=\"val\")\n",
    "    plt.legend(loc=\"upper right\", fontsize=14)   # not shown in the book\n",
    "    plt.xlabel(\"Training set size\", fontsize=14) # not shown\n",
    "    plt.ylabel(\"RMSE\", fontsize=14)              # not shown"
   ]
  },
  {
   "cell_type": "markdown",
   "id": "0ddfa7a1-0b36-4bf7-a026-ffa7b36f3d10",
   "metadata": {},
   "source": [
    "# Pipelines"
   ]
  },
  {
   "cell_type": "markdown",
   "id": "bef3e383-f4ab-438a-8219-1f8ac85f9196",
   "metadata": {},
   "source": [
    "### Pipeline estrategia 1"
   ]
  },
  {
   "cell_type": "code",
   "execution_count": 722,
   "id": "27eec895-f56b-4f06-bb40-646a57d2f3b6",
   "metadata": {},
   "outputs": [],
   "source": [
    "# PARA PRIMERAS PRUEBAS Y ANÁLISIS DE COMPORTAMIENTO, TOMAMOS SOLAMENTE INFORMACIÓN DE EXCÉLSIOR.\n",
    "# Visualización de la carga\n",
    "target_site = 'Excelsior'\n",
    "\n",
    "carga_prules = pd.concat([load_prules_data(filename=\"pt1_newbase_pricing_rules_open.csv\"),load_prules_data(filename=\"pt2_newbase_pricing_rules_open.csv\")])\n",
    "\n",
    "prules = carga_prules[carga_prules['site'] == target_site]\n",
    "prulesorg = carga_prules[carga_prules['site'] == target_site]"
   ]
  },
  {
   "cell_type": "code",
   "execution_count": 723,
   "id": "c427a299-fac6-4dd8-8075-24f2cb53b394",
   "metadata": {
    "tags": []
   },
   "outputs": [
    {
     "name": "stderr",
     "output_type": "stream",
     "text": [
      "C:\\Users\\Aaron\\AppData\\Local\\Temp\\ipykernel_14288\\395035628.py:11: SettingWithCopyWarning: \n",
      "A value is trying to be set on a copy of a slice from a DataFrame.\n",
      "Try using .loc[row_indexer,col_indexer] = value instead\n",
      "\n",
      "See the caveats in the documentation: https://pandas.pydata.org/pandas-docs/stable/user_guide/indexing.html#returning-a-view-versus-a-copy\n",
      "  X['rCPM'] = X['revenue']/X['ad_requests']*1000 # Añade rCPM al set\n",
      "C:\\Users\\Aaron\\AppData\\Local\\Temp\\ipykernel_14288\\395035628.py:12: SettingWithCopyWarning: \n",
      "A value is trying to be set on a copy of a slice from a DataFrame.\n",
      "Try using .loc[row_indexer,col_indexer] = value instead\n",
      "\n",
      "See the caveats in the documentation: https://pandas.pydata.org/pandas-docs/stable/user_guide/indexing.html#returning-a-view-versus-a-copy\n",
      "  X['FillRate'] = X['ad_impressions']/X['ad_requests'] # Añade FillRate al Set\n",
      "C:\\Users\\Aaron\\AppData\\Local\\Temp\\ipykernel_14288\\395035628.py:13: SettingWithCopyWarning: \n",
      "A value is trying to be set on a copy of a slice from a DataFrame.\n",
      "Try using .loc[row_indexer,col_indexer] = value instead\n",
      "\n",
      "See the caveats in the documentation: https://pandas.pydata.org/pandas-docs/stable/user_guide/indexing.html#returning-a-view-versus-a-copy\n",
      "  X['eCPM'] = X['revenue']/X['ad_impressions']*1000 # Añade eCPM al set\n",
      "C:\\Users\\Aaron\\AppData\\Local\\Temp\\ipykernel_14288\\395035628.py:19: SettingWithCopyWarning: \n",
      "A value is trying to be set on a copy of a slice from a DataFrame.\n",
      "Try using .loc[row_indexer,col_indexer] = value instead\n",
      "\n",
      "See the caveats in the documentation: https://pandas.pydata.org/pandas-docs/stable/user_guide/indexing.html#returning-a-view-versus-a-copy\n",
      "  X['aux'] = X['weekday']+X['creative_size']+X['device']+X['country']\n",
      "C:\\Users\\Aaron\\AppData\\Local\\Temp\\ipykernel_14288\\395035628.py:20: SettingWithCopyWarning: \n",
      "A value is trying to be set on a copy of a slice from a DataFrame.\n",
      "Try using .loc[row_indexer,col_indexer] = value instead\n",
      "\n",
      "See the caveats in the documentation: https://pandas.pydata.org/pandas-docs/stable/user_guide/indexing.html#returning-a-view-versus-a-copy\n",
      "  X['avg_ad_requests'] = 0\n",
      "C:\\Users\\Aaron\\AppData\\Local\\Temp\\ipykernel_14288\\395035628.py:21: SettingWithCopyWarning: \n",
      "A value is trying to be set on a copy of a slice from a DataFrame.\n",
      "Try using .loc[row_indexer,col_indexer] = value instead\n",
      "\n",
      "See the caveats in the documentation: https://pandas.pydata.org/pandas-docs/stable/user_guide/indexing.html#returning-a-view-versus-a-copy\n",
      "  X['avg_viewed_impressions'] = 0\n",
      "C:\\Users\\Aaron\\AppData\\Local\\Temp\\ipykernel_14288\\395035628.py:22: SettingWithCopyWarning: \n",
      "A value is trying to be set on a copy of a slice from a DataFrame.\n",
      "Try using .loc[row_indexer,col_indexer] = value instead\n",
      "\n",
      "See the caveats in the documentation: https://pandas.pydata.org/pandas-docs/stable/user_guide/indexing.html#returning-a-view-versus-a-copy\n",
      "  X['avg_enabled_impressions'] = 0\n",
      "C:\\Users\\Aaron\\AppData\\Local\\Temp\\ipykernel_14288\\395035628.py:25: SettingWithCopyWarning: \n",
      "A value is trying to be set on a copy of a slice from a DataFrame.\n",
      "Try using .loc[row_indexer,col_indexer] = value instead\n",
      "\n",
      "See the caveats in the documentation: https://pandas.pydata.org/pandas-docs/stable/user_guide/indexing.html#returning-a-view-versus-a-copy\n",
      "  X.loc[X['aux'] == ''.join(i), 'avg_ad_requests'] = v\n",
      "C:\\Users\\Aaron\\AppData\\Local\\Temp\\ipykernel_14288\\395035628.py:32: SettingWithCopyWarning: \n",
      "A value is trying to be set on a copy of a slice from a DataFrame.\n",
      "Try using .loc[row_indexer,col_indexer] = value instead\n",
      "\n",
      "See the caveats in the documentation: https://pandas.pydata.org/pandas-docs/stable/user_guide/indexing.html#returning-a-view-versus-a-copy\n",
      "  X.loc[X['aux'] == ''.join(i), 'avg_viewed_impressions'] = v\n",
      "C:\\Users\\Aaron\\AppData\\Local\\Temp\\ipykernel_14288\\395035628.py:36: SettingWithCopyWarning: \n",
      "A value is trying to be set on a copy of a slice from a DataFrame.\n",
      "Try using .loc[row_indexer,col_indexer] = value instead\n",
      "\n",
      "See the caveats in the documentation: https://pandas.pydata.org/pandas-docs/stable/user_guide/indexing.html#returning-a-view-versus-a-copy\n",
      "  X.loc[X['aux'] == ''.join(i), 'avg_enabled_impressions'] = v\n",
      "C:\\Users\\Aaron\\AppData\\Local\\Temp\\ipykernel_14288\\395035628.py:38: SettingWithCopyWarning: \n",
      "A value is trying to be set on a copy of a slice from a DataFrame.\n",
      "Try using .loc[row_indexer,col_indexer] = value instead\n",
      "\n",
      "See the caveats in the documentation: https://pandas.pydata.org/pandas-docs/stable/user_guide/indexing.html#returning-a-view-versus-a-copy\n",
      "  X['Viewability_pond'] = X['avg_viewed_impressions']/X['avg_enabled_impressions'] # División Viewability pond\n"
     ]
    }
   ],
   "source": [
    "# Pipeline para limpieza de los datos de estrategia CPM\n",
    "\n",
    "bycatl = ['creative_size', 'weekday', 'site', 'device', 'country']\n",
    "\n",
    "clean_cpm_pipeline = clean_realp_pipeline = Pipeline([\n",
    "        ('attribs_adder', CombinedAttributesAdder()),\n",
    "        ('strategy_cpm', StrategyCPMSuperior(porc=-.10,fill_rate=.60,limit_cpm=150)),\n",
    "        ('stratified',Strat_sets()),\n",
    "])\n",
    "\n",
    "cpm_train, cpm_test = clean_cpm_pipeline.transform(prulesorg)\n",
    "# Se asignan etiquetas para set de training\n",
    "cpm_labels = cpm_train[\"pricing_rules\"].copy()\n",
    "cpm_train = cpm_train.drop(\"pricing_rules\", axis=1) # drop labels for training set\n",
    "\n",
    "\n",
    "# Se asignan etiquetas para set de testing\n",
    "cpm_test_labels = cpm_test[\"pricing_rules\"].copy()\n",
    "cpm_test = cpm_test.drop(\"pricing_rules\", axis=1)\n",
    "\n",
    "# GENERAR ETIQUETAS DE TESTING"
   ]
  },
  {
   "cell_type": "code",
   "execution_count": 724,
   "id": "2a758e8d-53d5-4b07-acc4-3b0bb7a60401",
   "metadata": {},
   "outputs": [
    {
     "data": {
      "text/html": [
       "<div>\n",
       "<style scoped>\n",
       "    .dataframe tbody tr th:only-of-type {\n",
       "        vertical-align: middle;\n",
       "    }\n",
       "\n",
       "    .dataframe tbody tr th {\n",
       "        vertical-align: top;\n",
       "    }\n",
       "\n",
       "    .dataframe thead th {\n",
       "        text-align: right;\n",
       "    }\n",
       "</style>\n",
       "<table border=\"1\" class=\"dataframe\">\n",
       "  <thead>\n",
       "    <tr style=\"text-align: right;\">\n",
       "      <th></th>\n",
       "      <th>day</th>\n",
       "      <th>weekday</th>\n",
       "      <th>site</th>\n",
       "      <th>creative_size</th>\n",
       "      <th>device</th>\n",
       "      <th>country</th>\n",
       "      <th>pricing_rules_name</th>\n",
       "      <th>ad_requests</th>\n",
       "      <th>matched_ad_requests</th>\n",
       "      <th>clicks</th>\n",
       "      <th>...</th>\n",
       "      <th>ad_impressions</th>\n",
       "      <th>active_view_enabled_impressions</th>\n",
       "      <th>active_view_measured_impressions</th>\n",
       "      <th>active_view_viewed_impressions</th>\n",
       "      <th>rCPM</th>\n",
       "      <th>FillRate</th>\n",
       "      <th>eCPM</th>\n",
       "      <th>avg_ad_requests</th>\n",
       "      <th>Viewability_pond</th>\n",
       "      <th>flag_cpm_sup</th>\n",
       "    </tr>\n",
       "  </thead>\n",
       "  <tbody>\n",
       "    <tr>\n",
       "      <th>5177</th>\n",
       "      <td>21/09/2021</td>\n",
       "      <td>mar</td>\n",
       "      <td>Excelsior</td>\n",
       "      <td>728x90</td>\n",
       "      <td>Desktop</td>\n",
       "      <td>United States</td>\n",
       "      <td>DEFAULT USA - UPR</td>\n",
       "      <td>1</td>\n",
       "      <td>1</td>\n",
       "      <td>0</td>\n",
       "      <td>...</td>\n",
       "      <td>1</td>\n",
       "      <td>1</td>\n",
       "      <td>1</td>\n",
       "      <td>0</td>\n",
       "      <td>10.000000</td>\n",
       "      <td>1.000000</td>\n",
       "      <td>10.000000</td>\n",
       "      <td>733.053299</td>\n",
       "      <td>0.806088</td>\n",
       "      <td>1</td>\n",
       "    </tr>\n",
       "    <tr>\n",
       "      <th>4912</th>\n",
       "      <td>25/08/2021</td>\n",
       "      <td>mié</td>\n",
       "      <td>Excelsior</td>\n",
       "      <td>728x90</td>\n",
       "      <td>Desktop</td>\n",
       "      <td>United States</td>\n",
       "      <td>DEFAULT USA - UPR</td>\n",
       "      <td>22</td>\n",
       "      <td>17</td>\n",
       "      <td>0</td>\n",
       "      <td>...</td>\n",
       "      <td>16</td>\n",
       "      <td>16</td>\n",
       "      <td>16</td>\n",
       "      <td>7</td>\n",
       "      <td>10.909091</td>\n",
       "      <td>0.727273</td>\n",
       "      <td>15.000000</td>\n",
       "      <td>771.770607</td>\n",
       "      <td>0.807997</td>\n",
       "      <td>1</td>\n",
       "    </tr>\n",
       "    <tr>\n",
       "      <th>7815</th>\n",
       "      <td>12/12/2021</td>\n",
       "      <td>dom</td>\n",
       "      <td>Excelsior</td>\n",
       "      <td>728x90</td>\n",
       "      <td>High-end mobile devices</td>\n",
       "      <td>United States</td>\n",
       "      <td>DEFAULT USA - UPR</td>\n",
       "      <td>103</td>\n",
       "      <td>63</td>\n",
       "      <td>0</td>\n",
       "      <td>...</td>\n",
       "      <td>63</td>\n",
       "      <td>63</td>\n",
       "      <td>63</td>\n",
       "      <td>58</td>\n",
       "      <td>16.601942</td>\n",
       "      <td>0.611650</td>\n",
       "      <td>27.142857</td>\n",
       "      <td>520.757724</td>\n",
       "      <td>0.726620</td>\n",
       "      <td>1</td>\n",
       "    </tr>\n",
       "    <tr>\n",
       "      <th>7145</th>\n",
       "      <td>25/11/2021</td>\n",
       "      <td>jue</td>\n",
       "      <td>Excelsior</td>\n",
       "      <td>728x90</td>\n",
       "      <td>Desktop</td>\n",
       "      <td>United States</td>\n",
       "      <td>DEFAULT USA - UPR</td>\n",
       "      <td>43</td>\n",
       "      <td>32</td>\n",
       "      <td>0</td>\n",
       "      <td>...</td>\n",
       "      <td>32</td>\n",
       "      <td>32</td>\n",
       "      <td>32</td>\n",
       "      <td>32</td>\n",
       "      <td>12.558140</td>\n",
       "      <td>0.744186</td>\n",
       "      <td>16.875000</td>\n",
       "      <td>752.870290</td>\n",
       "      <td>0.792696</td>\n",
       "      <td>1</td>\n",
       "    </tr>\n",
       "    <tr>\n",
       "      <th>4479</th>\n",
       "      <td>21/07/2021</td>\n",
       "      <td>mié</td>\n",
       "      <td>Excelsior</td>\n",
       "      <td>Sin Posicion</td>\n",
       "      <td>Desktop</td>\n",
       "      <td>United States</td>\n",
       "      <td>DEFAULT USA - UPR</td>\n",
       "      <td>3</td>\n",
       "      <td>2</td>\n",
       "      <td>0</td>\n",
       "      <td>...</td>\n",
       "      <td>2</td>\n",
       "      <td>2</td>\n",
       "      <td>2</td>\n",
       "      <td>0</td>\n",
       "      <td>20.000000</td>\n",
       "      <td>0.666667</td>\n",
       "      <td>30.000000</td>\n",
       "      <td>38.688312</td>\n",
       "      <td>0.669678</td>\n",
       "      <td>1</td>\n",
       "    </tr>\n",
       "  </tbody>\n",
       "</table>\n",
       "<p>5 rows × 21 columns</p>\n",
       "</div>"
      ],
      "text/plain": [
       "             day weekday       site creative_size                   device  \\\n",
       "5177  21/09/2021     mar  Excelsior        728x90                  Desktop   \n",
       "4912  25/08/2021     mié  Excelsior        728x90                  Desktop   \n",
       "7815  12/12/2021     dom  Excelsior        728x90  High-end mobile devices   \n",
       "7145  25/11/2021     jue  Excelsior        728x90                  Desktop   \n",
       "4479  21/07/2021     mié  Excelsior  Sin Posicion                  Desktop   \n",
       "\n",
       "            country pricing_rules_name  ad_requests  matched_ad_requests  \\\n",
       "5177  United States  DEFAULT USA - UPR            1                    1   \n",
       "4912  United States  DEFAULT USA - UPR           22                   17   \n",
       "7815  United States  DEFAULT USA - UPR          103                   63   \n",
       "7145  United States  DEFAULT USA - UPR           43                   32   \n",
       "4479  United States  DEFAULT USA - UPR            3                    2   \n",
       "\n",
       "      clicks  ...  ad_impressions  active_view_enabled_impressions  \\\n",
       "5177       0  ...               1                                1   \n",
       "4912       0  ...              16                               16   \n",
       "7815       0  ...              63                               63   \n",
       "7145       0  ...              32                               32   \n",
       "4479       0  ...               2                                2   \n",
       "\n",
       "      active_view_measured_impressions  active_view_viewed_impressions  \\\n",
       "5177                                 1                               0   \n",
       "4912                                16                               7   \n",
       "7815                                63                              58   \n",
       "7145                                32                              32   \n",
       "4479                                 2                               0   \n",
       "\n",
       "           rCPM  FillRate       eCPM  avg_ad_requests  Viewability_pond  \\\n",
       "5177  10.000000  1.000000  10.000000       733.053299          0.806088   \n",
       "4912  10.909091  0.727273  15.000000       771.770607          0.807997   \n",
       "7815  16.601942  0.611650  27.142857       520.757724          0.726620   \n",
       "7145  12.558140  0.744186  16.875000       752.870290          0.792696   \n",
       "4479  20.000000  0.666667  30.000000        38.688312          0.669678   \n",
       "\n",
       "      flag_cpm_sup  \n",
       "5177             1  \n",
       "4912             1  \n",
       "7815             1  \n",
       "7145             1  \n",
       "4479             1  \n",
       "\n",
       "[5 rows x 21 columns]"
      ]
     },
     "execution_count": 724,
     "metadata": {},
     "output_type": "execute_result"
    }
   ],
   "source": [
    "cpm_train.head(5)"
   ]
  },
  {
   "cell_type": "code",
   "execution_count": 671,
   "id": "ed4fce48-e189-46f5-a4de-b8e86791876f",
   "metadata": {},
   "outputs": [],
   "source": [
    "cpm_prepared = full_pipeline.fit_transform(cpm_train)\n",
    "cpmTest_prepared = full_pipeline.fit_transform(cpm_test)"
   ]
  },
  {
   "cell_type": "code",
   "execution_count": 672,
   "id": "329fa387-288b-48fd-9bf1-fbc966fde922",
   "metadata": {},
   "outputs": [
    {
     "name": "stdout",
     "output_type": "stream",
     "text": [
      "Last train error: 1.3253240689566053\n",
      "Last valid error: 1.278413613963239\n"
     ]
    },
    {
     "data": {
      "image/png": "[encoded data removed]",
      "text/plain": [
       "<Figure size 432x288 with 1 Axes>"
      ]
     },
     "metadata": {
      "needs_background": "light"
     },
     "output_type": "display_data"
    }
   ],
   "source": [
    "\n",
    "# Curvas de aprendizaje de modelo lineal\n",
    "\n",
    "from sklearn.linear_model import LinearRegression\n",
    "\n",
    "lin_reg = LinearRegression()\n",
    "lin_reg.fit(cpm_prepared, cpm_labels)\n",
    "\n",
    "plot_learning_curves(lin_reg, cpm_prepared, cpm_labels, cpmTest_prepared, cpm_test_labels)\n",
    "plt.axis([0, 1800, 0, 3])                         # not shown in the book\n",
    "plt.show()"
   ]
  },
  {
   "cell_type": "code",
   "execution_count": 634,
   "id": "c9edcf48-d5d3-4f7a-bb74-cff2e032855d",
   "metadata": {},
   "outputs": [
    {
     "data": {
      "text/plain": [
       "1.302747825420241"
      ]
     },
     "execution_count": 634,
     "metadata": {},
     "output_type": "execute_result"
    }
   ],
   "source": [
    "# Con set completo baja a \n",
    "\n",
    "from sklearn.metrics import mean_squared_error\n",
    "\n",
    "cpm_predictions = lin_reg.predict(cpm_prepared)\n",
    "lin_mse = mean_squared_error(cpm_labels, cpm_predictions)\n",
    "lin_rmse = np.sqrt(lin_mse)\n",
    "lin_rmse"
   ]
  },
  {
   "cell_type": "code",
   "execution_count": 674,
   "id": "ede528a5-acd4-44e3-910d-09b894a81cbf",
   "metadata": {},
   "outputs": [
    {
     "name": "stdout",
     "output_type": "stream",
     "text": [
      "Last train error: 0.9365134626440739\n",
      "Last valid error: 2.1137711951890723\n"
     ]
    },
    {
     "data": {
      "image/png": "[encoded data removed]",
      "text/plain": [
       "<Figure size 432x288 with 1 Axes>"
      ]
     },
     "metadata": {
      "needs_background": "light"
     },
     "output_type": "display_data"
    }
   ],
   "source": [
    "\n",
    "# Curvas de aprendizaje de modelo Arbol de Decisión\n",
    "\n",
    "## Arbol de decisiones\n",
    "from sklearn.tree import DecisionTreeRegressor\n",
    "\n",
    "tree_reg = DecisionTreeRegressor(random_state=42)\n",
    "tree_reg.fit(cpm_prepared, cpm_labels)\n",
    "\n",
    "plot_learning_curves(tree_reg, cpm_prepared, cpm_labels, cpmTest_prepared, cpm_test_labels)\n",
    "plt.axis([0, 1800, 0, 3])                         # not shown in the book\n",
    "plt.show()"
   ]
  },
  {
   "cell_type": "code",
   "execution_count": 675,
   "id": "60688924-6573-464f-875c-6ba93b0e1e00",
   "metadata": {},
   "outputs": [
    {
     "name": "stdout",
     "output_type": "stream",
     "text": [
      "Last train error: 1.3654699949750086\n",
      "Last valid error: 1.303558207051595\n"
     ]
    },
    {
     "data": {
      "image/png": "[encoded data removed]",
      "text/plain": [
       "<Figure size 432x288 with 1 Axes>"
      ]
     },
     "metadata": {
      "needs_background": "light"
     },
     "output_type": "display_data"
    }
   ],
   "source": [
    "# Curvas de aprendizaje de modelo SVM\n",
    "\n",
    "## SVM\n",
    "from sklearn.svm import SVR\n",
    "\n",
    "svm_reg = SVR(kernel=\"linear\")\n",
    "#svm_reg.fit(cpm_prepared, cpm_labels)\n",
    "\n",
    "plot_learning_curves(svm_reg, cpm_prepared, cpm_labels, cpmTest_prepared, cpm_test_labels)\n",
    "plt.axis([0, 1800, 0, 5])                         # not shown in the book\n",
    "plt.show()"
   ]
  },
  {
   "cell_type": "code",
   "execution_count": 470,
   "id": "368fd16a-3b20-4d9c-8122-6c1ca616a40a",
   "metadata": {},
   "outputs": [
    {
     "name": "stdout",
     "output_type": "stream",
     "text": [
      "Last train error: 1.2103784392479744\n",
      "Last valid error: 404410971753.87787\n"
     ]
    },
    {
     "data": {
      "image/png": "[encoded data removed]",
      "text/plain": [
       "<Figure size 432x288 with 1 Axes>"
      ]
     },
     "metadata": {
      "needs_background": "light"
     },
     "output_type": "display_data"
    }
   ],
   "source": [
    "\n",
    "# Curvas de aprendizaje de polinomial grado 2\n",
    "\n",
    "from sklearn.pipeline import Pipeline\n",
    "\n",
    "polynomial_regression = Pipeline([\n",
    "        (\"poly_features\", PolynomialFeatures(degree=2, include_bias=False)),\n",
    "        (\"lin_reg\", LinearRegression()),\n",
    "    ])\n",
    "\n",
    "plot_learning_curves(polynomial_regression, cpm_prepared, cpm_labels, cpmTest_prepared, cpm_test_labels)\n",
    "plt.axis([0, 1800, 0, 5])                         # not shown in the book\n",
    "plt.show()"
   ]
  },
  {
   "cell_type": "code",
   "execution_count": 448,
   "id": "c01d568f-9ecf-46a1-bc29-a290a24a1cab",
   "metadata": {
    "collapsed": true,
    "jupyter": {
     "outputs_hidden": true
    },
    "tags": []
   },
   "outputs": [
    {
     "ename": "ValueError",
     "evalue": "Cannot have number of splits n_splits=5 greater than the number of samples: n_samples=1.",
     "output_type": "error",
     "traceback": [
      "\u001b[1;31m---------------------------------------------------------------------------\u001b[0m",
      "\u001b[1;31mValueError\u001b[0m                                Traceback (most recent call last)",
      "Input \u001b[1;32mIn [448]\u001b[0m, in \u001b[0;36m<cell line: 17>\u001b[1;34m()\u001b[0m\n\u001b[0;32m     13\u001b[0m forest_reg \u001b[38;5;241m=\u001b[39m RandomForestRegressor(random_state\u001b[38;5;241m=\u001b[39m\u001b[38;5;241m42\u001b[39m)\n\u001b[0;32m     14\u001b[0m grid_search \u001b[38;5;241m=\u001b[39m GridSearchCV(forest_reg, param_grid, cv\u001b[38;5;241m=\u001b[39m\u001b[38;5;241m5\u001b[39m,\n\u001b[0;32m     15\u001b[0m                            scoring\u001b[38;5;241m=\u001b[39m\u001b[38;5;124m'\u001b[39m\u001b[38;5;124mneg_mean_squared_error\u001b[39m\u001b[38;5;124m'\u001b[39m, return_train_score\u001b[38;5;241m=\u001b[39m\u001b[38;5;28;01mTrue\u001b[39;00m)\n\u001b[1;32m---> 17\u001b[0m \u001b[43mplot_learning_curves\u001b[49m\u001b[43m(\u001b[49m\u001b[43mgrid_search\u001b[49m\u001b[43m,\u001b[49m\u001b[43m \u001b[49m\u001b[43mcpm_prepared\u001b[49m\u001b[43m,\u001b[49m\u001b[43m \u001b[49m\u001b[43mcpm_labels\u001b[49m\u001b[43m,\u001b[49m\u001b[43m \u001b[49m\u001b[43mcpmTest_prepared\u001b[49m\u001b[43m,\u001b[49m\u001b[43m \u001b[49m\u001b[43mcpm_test_labels\u001b[49m\u001b[43m)\u001b[49m\n\u001b[0;32m     18\u001b[0m plt\u001b[38;5;241m.\u001b[39maxis([\u001b[38;5;241m0\u001b[39m, \u001b[38;5;241m1800\u001b[39m, \u001b[38;5;241m0\u001b[39m, \u001b[38;5;241m5\u001b[39m])                         \u001b[38;5;66;03m# not shown in the book\u001b[39;00m\n\u001b[0;32m     19\u001b[0m plt\u001b[38;5;241m.\u001b[39mshow()\n",
      "Input \u001b[1;32mIn [446]\u001b[0m, in \u001b[0;36mplot_learning_curves\u001b[1;34m(model, X, y, XTest, yTest)\u001b[0m\n\u001b[0;32m      7\u001b[0m \u001b[38;5;66;03m#for m in range(1, len(X_train)):\u001b[39;00m\n\u001b[0;32m      8\u001b[0m \u001b[38;5;28;01mfor\u001b[39;00m m \u001b[38;5;129;01min\u001b[39;00m \u001b[38;5;28mrange\u001b[39m(\u001b[38;5;241m1\u001b[39m, \u001b[38;5;241m1800\u001b[39m):\n\u001b[1;32m----> 9\u001b[0m     \u001b[43mmodel\u001b[49m\u001b[38;5;241;43m.\u001b[39;49m\u001b[43mfit\u001b[49m\u001b[43m(\u001b[49m\u001b[43mX_train\u001b[49m\u001b[43m[\u001b[49m\u001b[43m:\u001b[49m\u001b[43mm\u001b[49m\u001b[43m]\u001b[49m\u001b[43m,\u001b[49m\u001b[43m \u001b[49m\u001b[43my_train\u001b[49m\u001b[43m[\u001b[49m\u001b[43m:\u001b[49m\u001b[43mm\u001b[49m\u001b[43m]\u001b[49m\u001b[43m)\u001b[49m\n\u001b[0;32m     10\u001b[0m     y_train_predict \u001b[38;5;241m=\u001b[39m model\u001b[38;5;241m.\u001b[39mpredict(X_train[:m])\n\u001b[0;32m     11\u001b[0m     y_val_predict \u001b[38;5;241m=\u001b[39m model\u001b[38;5;241m.\u001b[39mpredict(X_val)\n",
      "File \u001b[1;32m~\\anaconda3\\lib\\site-packages\\sklearn\\model_selection\\_search.py:891\u001b[0m, in \u001b[0;36mBaseSearchCV.fit\u001b[1;34m(self, X, y, groups, **fit_params)\u001b[0m\n\u001b[0;32m    885\u001b[0m     results \u001b[38;5;241m=\u001b[39m \u001b[38;5;28mself\u001b[39m\u001b[38;5;241m.\u001b[39m_format_results(\n\u001b[0;32m    886\u001b[0m         all_candidate_params, n_splits, all_out, all_more_results\n\u001b[0;32m    887\u001b[0m     )\n\u001b[0;32m    889\u001b[0m     \u001b[38;5;28;01mreturn\u001b[39;00m results\n\u001b[1;32m--> 891\u001b[0m \u001b[38;5;28;43mself\u001b[39;49m\u001b[38;5;241;43m.\u001b[39;49m\u001b[43m_run_search\u001b[49m\u001b[43m(\u001b[49m\u001b[43mevaluate_candidates\u001b[49m\u001b[43m)\u001b[49m\n\u001b[0;32m    893\u001b[0m \u001b[38;5;66;03m# multimetric is determined here because in the case of a callable\u001b[39;00m\n\u001b[0;32m    894\u001b[0m \u001b[38;5;66;03m# self.scoring the return type is only known after calling\u001b[39;00m\n\u001b[0;32m    895\u001b[0m first_test_score \u001b[38;5;241m=\u001b[39m all_out[\u001b[38;5;241m0\u001b[39m][\u001b[38;5;124m\"\u001b[39m\u001b[38;5;124mtest_scores\u001b[39m\u001b[38;5;124m\"\u001b[39m]\n",
      "File \u001b[1;32m~\\anaconda3\\lib\\site-packages\\sklearn\\model_selection\\_search.py:1392\u001b[0m, in \u001b[0;36mGridSearchCV._run_search\u001b[1;34m(self, evaluate_candidates)\u001b[0m\n\u001b[0;32m   1390\u001b[0m \u001b[38;5;28;01mdef\u001b[39;00m \u001b[38;5;21m_run_search\u001b[39m(\u001b[38;5;28mself\u001b[39m, evaluate_candidates):\n\u001b[0;32m   1391\u001b[0m     \u001b[38;5;124;03m\"\"\"Search all candidates in param_grid\"\"\"\u001b[39;00m\n\u001b[1;32m-> 1392\u001b[0m     \u001b[43mevaluate_candidates\u001b[49m\u001b[43m(\u001b[49m\u001b[43mParameterGrid\u001b[49m\u001b[43m(\u001b[49m\u001b[38;5;28;43mself\u001b[39;49m\u001b[38;5;241;43m.\u001b[39;49m\u001b[43mparam_grid\u001b[49m\u001b[43m)\u001b[49m\u001b[43m)\u001b[49m\n",
      "File \u001b[1;32m~\\anaconda3\\lib\\site-packages\\sklearn\\model_selection\\_search.py:850\u001b[0m, in \u001b[0;36mBaseSearchCV.fit.<locals>.evaluate_candidates\u001b[1;34m(candidate_params, cv, more_results)\u001b[0m\n\u001b[0;32m    830\u001b[0m \u001b[38;5;28;01mif\u001b[39;00m \u001b[38;5;28mself\u001b[39m\u001b[38;5;241m.\u001b[39mverbose \u001b[38;5;241m>\u001b[39m \u001b[38;5;241m0\u001b[39m:\n\u001b[0;32m    831\u001b[0m     \u001b[38;5;28mprint\u001b[39m(\n\u001b[0;32m    832\u001b[0m         \u001b[38;5;124m\"\u001b[39m\u001b[38;5;124mFitting \u001b[39m\u001b[38;5;132;01m{0}\u001b[39;00m\u001b[38;5;124m folds for each of \u001b[39m\u001b[38;5;132;01m{1}\u001b[39;00m\u001b[38;5;124m candidates,\u001b[39m\u001b[38;5;124m\"\u001b[39m\n\u001b[0;32m    833\u001b[0m         \u001b[38;5;124m\"\u001b[39m\u001b[38;5;124m totalling \u001b[39m\u001b[38;5;132;01m{2}\u001b[39;00m\u001b[38;5;124m fits\u001b[39m\u001b[38;5;124m\"\u001b[39m\u001b[38;5;241m.\u001b[39mformat(\n\u001b[0;32m    834\u001b[0m             n_splits, n_candidates, n_candidates \u001b[38;5;241m*\u001b[39m n_splits\n\u001b[0;32m    835\u001b[0m         )\n\u001b[0;32m    836\u001b[0m     )\n\u001b[0;32m    838\u001b[0m out \u001b[38;5;241m=\u001b[39m parallel(\n\u001b[0;32m    839\u001b[0m     delayed(_fit_and_score)(\n\u001b[0;32m    840\u001b[0m         clone(base_estimator),\n\u001b[0;32m    841\u001b[0m         X,\n\u001b[0;32m    842\u001b[0m         y,\n\u001b[0;32m    843\u001b[0m         train\u001b[38;5;241m=\u001b[39mtrain,\n\u001b[0;32m    844\u001b[0m         test\u001b[38;5;241m=\u001b[39mtest,\n\u001b[0;32m    845\u001b[0m         parameters\u001b[38;5;241m=\u001b[39mparameters,\n\u001b[0;32m    846\u001b[0m         split_progress\u001b[38;5;241m=\u001b[39m(split_idx, n_splits),\n\u001b[0;32m    847\u001b[0m         candidate_progress\u001b[38;5;241m=\u001b[39m(cand_idx, n_candidates),\n\u001b[0;32m    848\u001b[0m         \u001b[38;5;241m*\u001b[39m\u001b[38;5;241m*\u001b[39mfit_and_score_kwargs,\n\u001b[0;32m    849\u001b[0m     )\n\u001b[1;32m--> 850\u001b[0m     \u001b[38;5;28;01mfor\u001b[39;00m (cand_idx, parameters), (split_idx, (train, test)) \u001b[38;5;129;01min\u001b[39;00m \u001b[43mproduct\u001b[49m\u001b[43m(\u001b[49m\n\u001b[0;32m    851\u001b[0m \u001b[43m        \u001b[49m\u001b[38;5;28;43menumerate\u001b[39;49m\u001b[43m(\u001b[49m\u001b[43mcandidate_params\u001b[49m\u001b[43m)\u001b[49m\u001b[43m,\u001b[49m\u001b[43m \u001b[49m\u001b[38;5;28;43menumerate\u001b[39;49m\u001b[43m(\u001b[49m\u001b[43mcv\u001b[49m\u001b[38;5;241;43m.\u001b[39;49m\u001b[43msplit\u001b[49m\u001b[43m(\u001b[49m\u001b[43mX\u001b[49m\u001b[43m,\u001b[49m\u001b[43m \u001b[49m\u001b[43my\u001b[49m\u001b[43m,\u001b[49m\u001b[43m \u001b[49m\u001b[43mgroups\u001b[49m\u001b[43m)\u001b[49m\u001b[43m)\u001b[49m\n\u001b[0;32m    852\u001b[0m \u001b[43m    \u001b[49m\u001b[43m)\u001b[49m\n\u001b[0;32m    853\u001b[0m )\n\u001b[0;32m    855\u001b[0m \u001b[38;5;28;01mif\u001b[39;00m \u001b[38;5;28mlen\u001b[39m(out) \u001b[38;5;241m<\u001b[39m \u001b[38;5;241m1\u001b[39m:\n\u001b[0;32m    856\u001b[0m     \u001b[38;5;28;01mraise\u001b[39;00m \u001b[38;5;167;01mValueError\u001b[39;00m(\n\u001b[0;32m    857\u001b[0m         \u001b[38;5;124m\"\u001b[39m\u001b[38;5;124mNo fits were performed. \u001b[39m\u001b[38;5;124m\"\u001b[39m\n\u001b[0;32m    858\u001b[0m         \u001b[38;5;124m\"\u001b[39m\u001b[38;5;124mWas the CV iterator empty? \u001b[39m\u001b[38;5;124m\"\u001b[39m\n\u001b[0;32m    859\u001b[0m         \u001b[38;5;124m\"\u001b[39m\u001b[38;5;124mWere there no candidates?\u001b[39m\u001b[38;5;124m\"\u001b[39m\n\u001b[0;32m    860\u001b[0m     )\n",
      "File \u001b[1;32m~\\anaconda3\\lib\\site-packages\\sklearn\\model_selection\\_split.py:333\u001b[0m, in \u001b[0;36m_BaseKFold.split\u001b[1;34m(self, X, y, groups)\u001b[0m\n\u001b[0;32m    331\u001b[0m n_samples \u001b[38;5;241m=\u001b[39m _num_samples(X)\n\u001b[0;32m    332\u001b[0m \u001b[38;5;28;01mif\u001b[39;00m \u001b[38;5;28mself\u001b[39m\u001b[38;5;241m.\u001b[39mn_splits \u001b[38;5;241m>\u001b[39m n_samples:\n\u001b[1;32m--> 333\u001b[0m     \u001b[38;5;28;01mraise\u001b[39;00m \u001b[38;5;167;01mValueError\u001b[39;00m(\n\u001b[0;32m    334\u001b[0m         (\n\u001b[0;32m    335\u001b[0m             \u001b[38;5;124m\"\u001b[39m\u001b[38;5;124mCannot have number of splits n_splits=\u001b[39m\u001b[38;5;132;01m{0}\u001b[39;00m\u001b[38;5;124m greater\u001b[39m\u001b[38;5;124m\"\u001b[39m\n\u001b[0;32m    336\u001b[0m             \u001b[38;5;124m\"\u001b[39m\u001b[38;5;124m than the number of samples: n_samples=\u001b[39m\u001b[38;5;132;01m{1}\u001b[39;00m\u001b[38;5;124m.\u001b[39m\u001b[38;5;124m\"\u001b[39m\n\u001b[0;32m    337\u001b[0m         )\u001b[38;5;241m.\u001b[39mformat(\u001b[38;5;28mself\u001b[39m\u001b[38;5;241m.\u001b[39mn_splits, n_samples)\n\u001b[0;32m    338\u001b[0m     )\n\u001b[0;32m    340\u001b[0m \u001b[38;5;28;01mfor\u001b[39;00m train, test \u001b[38;5;129;01min\u001b[39;00m \u001b[38;5;28msuper\u001b[39m()\u001b[38;5;241m.\u001b[39msplit(X, y, groups):\n\u001b[0;32m    341\u001b[0m     \u001b[38;5;28;01myield\u001b[39;00m train, test\n",
      "\u001b[1;31mValueError\u001b[0m: Cannot have number of splits n_splits=5 greater than the number of samples: n_samples=1."
     ]
    }
   ],
   "source": [
    "\n",
    "# Curvas de aprendizaje de grid_search\n",
    "\n",
    "from sklearn.ensemble import RandomForestRegressor\n",
    "from sklearn.model_selection import GridSearchCV\n",
    "\n",
    "param_grid = [\n",
    "    # try 12 (3×4) combinations of hyperparameters\n",
    "    {'n_estimators': [3, 10, 30], 'max_features': [2, 4, 6, 8]},\n",
    "    # then try 6 (2×3) combinations with bootstrap set as False\n",
    "    {'bootstrap': [False], 'n_estimators': [3, 10], 'max_features': [2, 3, 4]},\n",
    "  ]\n",
    "\n",
    "forest_reg = RandomForestRegressor(random_state=42)\n",
    "grid_search = GridSearchCV(forest_reg, param_grid, cv=5,\n",
    "                           scoring='neg_mean_squared_error', return_train_score=True)\n",
    "\n",
    "plot_learning_curves(grid_search, cpm_prepared, cpm_labels, cpmTest_prepared, cpm_test_labels)\n",
    "plt.axis([0, 1800, 0, 5])                         # not shown in the book\n",
    "plt.show()"
   ]
  },
  {
   "cell_type": "markdown",
   "id": "544cd2a3-d598-424a-b459-09f9dfc21233",
   "metadata": {},
   "source": [
    "### Pipeline Estrategia 2"
   ]
  },
  {
   "cell_type": "code",
   "execution_count": 676,
   "id": "2d57202d-560e-40e6-b157-21cd59fd5ecd",
   "metadata": {},
   "outputs": [
    {
     "name": "stderr",
     "output_type": "stream",
     "text": [
      "C:\\Users\\Aaron\\AppData\\Local\\Temp\\ipykernel_14288\\3297767915.py:11: SettingWithCopyWarning: \n",
      "A value is trying to be set on a copy of a slice from a DataFrame.\n",
      "Try using .loc[row_indexer,col_indexer] = value instead\n",
      "\n",
      "See the caveats in the documentation: https://pandas.pydata.org/pandas-docs/stable/user_guide/indexing.html#returning-a-view-versus-a-copy\n",
      "  X['rCPM'] = X['revenue']/X['ad_requests']*1000 # Añade rCPM al set\n",
      "C:\\Users\\Aaron\\AppData\\Local\\Temp\\ipykernel_14288\\3297767915.py:12: SettingWithCopyWarning: \n",
      "A value is trying to be set on a copy of a slice from a DataFrame.\n",
      "Try using .loc[row_indexer,col_indexer] = value instead\n",
      "\n",
      "See the caveats in the documentation: https://pandas.pydata.org/pandas-docs/stable/user_guide/indexing.html#returning-a-view-versus-a-copy\n",
      "  X['FillRate'] = X['ad_impressions']/X['ad_requests'] # Añade FillRate al Set\n",
      "C:\\Users\\Aaron\\AppData\\Local\\Temp\\ipykernel_14288\\3297767915.py:13: SettingWithCopyWarning: \n",
      "A value is trying to be set on a copy of a slice from a DataFrame.\n",
      "Try using .loc[row_indexer,col_indexer] = value instead\n",
      "\n",
      "See the caveats in the documentation: https://pandas.pydata.org/pandas-docs/stable/user_guide/indexing.html#returning-a-view-versus-a-copy\n",
      "  X['eCPM'] = X['revenue']/X['ad_impressions']*1000 # Añade eCPM al set\n",
      "C:\\Users\\Aaron\\AppData\\Local\\Temp\\ipykernel_14288\\3297767915.py:14: SettingWithCopyWarning: \n",
      "A value is trying to be set on a copy of a slice from a DataFrame.\n",
      "Try using .loc[row_indexer,col_indexer] = value instead\n",
      "\n",
      "See the caveats in the documentation: https://pandas.pydata.org/pandas-docs/stable/user_guide/indexing.html#returning-a-view-versus-a-copy\n",
      "  X['Viewability'] = X['active_view_enabled_impressions']/X['active_view_measured_impressions'] # Añade Viewability al set IGUAL HACERLO EN PROMEDIO.\n",
      "C:\\Users\\Aaron\\AppData\\Local\\Temp\\ipykernel_14288\\3297767915.py:18: SettingWithCopyWarning: \n",
      "A value is trying to be set on a copy of a slice from a DataFrame.\n",
      "Try using .loc[row_indexer,col_indexer] = value instead\n",
      "\n",
      "See the caveats in the documentation: https://pandas.pydata.org/pandas-docs/stable/user_guide/indexing.html#returning-a-view-versus-a-copy\n",
      "  X['aux'] = X['weekday']+X['creative_size']+X['device']+X['country']\n",
      "C:\\Users\\Aaron\\AppData\\Local\\Temp\\ipykernel_14288\\3297767915.py:19: SettingWithCopyWarning: \n",
      "A value is trying to be set on a copy of a slice from a DataFrame.\n",
      "Try using .loc[row_indexer,col_indexer] = value instead\n",
      "\n",
      "See the caveats in the documentation: https://pandas.pydata.org/pandas-docs/stable/user_guide/indexing.html#returning-a-view-versus-a-copy\n",
      "  X['avg_ad_requests'] = 0\n",
      "C:\\Users\\Aaron\\AppData\\Local\\Temp\\ipykernel_14288\\3297767915.py:21: SettingWithCopyWarning: \n",
      "A value is trying to be set on a copy of a slice from a DataFrame.\n",
      "Try using .loc[row_indexer,col_indexer] = value instead\n",
      "\n",
      "See the caveats in the documentation: https://pandas.pydata.org/pandas-docs/stable/user_guide/indexing.html#returning-a-view-versus-a-copy\n",
      "  X.loc[X['aux'] == ''.join(i), 'avg_ad_requests'] = v\n",
      "C:\\Users\\Aaron\\AppData\\Local\\Temp\\ipykernel_14288\\3160909732.py:9: SettingWithCopyWarning: \n",
      "A value is trying to be set on a copy of a slice from a DataFrame.\n",
      "Try using .loc[row_indexer,col_indexer] = value instead\n",
      "\n",
      "See the caveats in the documentation: https://pandas.pydata.org/pandas-docs/stable/user_guide/indexing.html#returning-a-view-versus-a-copy\n",
      "  X['flag_pricing_sup'] = X.apply(lambda row: categorise_pricing(row,porc), axis=1) # Se añade columna con flag 0-1 para determinar si cumple con criterio\n"
     ]
    }
   ],
   "source": [
    "clean_realp_pipeline = Pipeline([\n",
    "        ('attribs_adder', CombinedAttributesAdder()),\n",
    "        ('strategy_realp', StrategyRealvsFloorPricing(porc=.10,fill_rate=.60,limit_cpm=150)),\n",
    "        ('stratified',Strat_sets()),\n",
    "])\n",
    "\n",
    "realp_train, realp_test = clean_realp_pipeline.transform(prulesorg)\n",
    "# Se asignan etiquetas para set de training\n",
    "realp = realp_train.drop(\"pricing_rules\", axis=1) # drop labels for training set\n",
    "realp_labels = realp_train[\"pricing_rules\"].copy()\n",
    "\n",
    "# Se asignan etiquetas para set de testing\n",
    "realp_test_labels = realp_test[\"pricing_rules\"].copy()\n",
    "realp_test = realp_test.drop(\"pricing_rules\", axis=1)\n",
    "\n",
    "# GENERAR ETIQUETAS DE TESTING"
   ]
  },
  {
   "cell_type": "code",
   "execution_count": 677,
   "id": "b77994b2-c035-42e8-8941-2e9cc27f6580",
   "metadata": {},
   "outputs": [],
   "source": [
    "realp_prepared = full_pipeline.fit_transform(realp)\n",
    "realpTest_prepared = full_pipeline.fit_transform(realp_test)"
   ]
  },
  {
   "cell_type": "code",
   "execution_count": 678,
   "id": "afaa1ed8-f432-444e-8270-3f7f7ccc1528",
   "metadata": {},
   "outputs": [
    {
     "name": "stdout",
     "output_type": "stream",
     "text": [
      "Last train error: 1.3054176724636761\n",
      "Last valid error: 1.3222598817221436\n"
     ]
    },
    {
     "data": {
      "image/png": "[encoded data removed]",
      "text/plain": [
       "<Figure size 432x288 with 1 Axes>"
      ]
     },
     "metadata": {
      "needs_background": "light"
     },
     "output_type": "display_data"
    }
   ],
   "source": [
    "\n",
    "# Curvas de aprendizaje de modelo lineal\n",
    "\n",
    "from sklearn.linear_model import LinearRegression\n",
    "\n",
    "lin_reg = LinearRegression()\n",
    "#lin_reg.fit(realp_prepared, realpTest_labels)\n",
    "\n",
    "plot_learning_curves(lin_reg, realp_prepared, realp_labels, realpTest_prepared, realp_test_labels)\n",
    "plt.axis([0, 1800, 0, 5])                         # not shown in the book\n",
    "plt.show()"
   ]
  },
  {
   "cell_type": "code",
   "execution_count": 679,
   "id": "e55b0419-b4ec-4cf3-8f80-164d7073cc14",
   "metadata": {},
   "outputs": [
    {
     "name": "stdout",
     "output_type": "stream",
     "text": [
      "Last train error: 0.9778093162370745\n",
      "Last valid error: 1.730979912573222\n"
     ]
    },
    {
     "data": {
      "image/png": "[encoded data removed]",
      "text/plain": [
       "<Figure size 432x288 with 1 Axes>"
      ]
     },
     "metadata": {
      "needs_background": "light"
     },
     "output_type": "display_data"
    }
   ],
   "source": [
    "\n",
    "# Curvas de aprendizaje de modelo Arbol de Decisión\n",
    "\n",
    "## Arbol de decisiones\n",
    "from sklearn.tree import DecisionTreeRegressor\n",
    "\n",
    "tree_reg = DecisionTreeRegressor(random_state=42)\n",
    "#tree_reg.fit(cpm_prepared, cpm_labels)\n",
    "\n",
    "plot_learning_curves(tree_reg, realp_prepared, realp_labels, realpTest_prepared, realp_test_labels)\n",
    "plt.axis([0, 1800, 0, 5])                         # not shown in the book\n",
    "plt.show()"
   ]
  },
  {
   "cell_type": "code",
   "execution_count": 680,
   "id": "176853b4-a14c-4b16-99bc-5b2c140d088c",
   "metadata": {},
   "outputs": [
    {
     "name": "stdout",
     "output_type": "stream",
     "text": [
      "Last train error: 1.3898797776613998\n",
      "Last valid error: 1.3905728296208772\n"
     ]
    },
    {
     "data": {
      "image/png": "[encoded data removed]",
      "text/plain": [
       "<Figure size 432x288 with 1 Axes>"
      ]
     },
     "metadata": {
      "needs_background": "light"
     },
     "output_type": "display_data"
    }
   ],
   "source": [
    "# Curvas de aprendizaje de modelo SVM\n",
    "\n",
    "## SVM\n",
    "from sklearn.svm import SVR\n",
    "\n",
    "svm_reg = SVR(kernel=\"linear\")\n",
    "#svm_reg.fit(cpm_prepared, cpm_labels)\n",
    "\n",
    "plot_learning_curves(svm_reg, realp_prepared, realp_labels, realpTest_prepared, realp_test_labels)\n",
    "plt.axis([0, 1800, 0, 3])                         # not shown in the book\n",
    "plt.show()"
   ]
  },
  {
   "cell_type": "code",
   "execution_count": 607,
   "id": "7ed38428-e0ea-4ab7-817a-e8e2fa5b6b45",
   "metadata": {},
   "outputs": [
    {
     "name": "stdout",
     "output_type": "stream",
     "text": [
      "Last train error: 1.1678465802630253\n",
      "Last valid error: 958542875.726994\n"
     ]
    },
    {
     "data": {
      "image/png": "[encoded data removed]",
      "text/plain": [
       "<Figure size 432x288 with 1 Axes>"
      ]
     },
     "metadata": {
      "needs_background": "light"
     },
     "output_type": "display_data"
    }
   ],
   "source": [
    "\n",
    "# Curvas de aprendizaje de polinomial grado 2\n",
    "\n",
    "from sklearn.pipeline import Pipeline\n",
    "\n",
    "polynomial_regression = Pipeline([\n",
    "        (\"poly_features\", PolynomialFeatures(degree=2, include_bias=False)),\n",
    "        (\"lin_reg\", LinearRegression()),\n",
    "    ])\n",
    "\n",
    "plot_learning_curves(polynomial_regression, realp_prepared, realp_labels, realpTest_prepared, realp_test_labels)\n",
    "plt.axis([0, 1800, 0, 3])                         # not shown in the book\n",
    "plt.show()"
   ]
  }
 ],
 "metadata": {
  "kernelspec": {
   "display_name": "Python 3 (ipykernel)",
   "language": "python",
   "name": "python3"
  },
  "language_info": {
   "codemirror_mode": {
    "name": "ipython",
    "version": 3
   },
   "file_extension": ".py",
   "mimetype": "text/x-python",
   "name": "python",
   "nbconvert_exporter": "python",
   "pygments_lexer": "ipython3",
   "version": "3.9.12"
  }
 },
 "nbformat": 4,
 "nbformat_minor": 5
}
